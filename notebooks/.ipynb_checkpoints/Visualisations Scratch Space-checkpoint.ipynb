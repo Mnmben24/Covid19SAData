{
 "cells": [
  {
   "cell_type": "markdown",
   "metadata": {},
   "source": [
    "# Visualisations Scratch Space "
   ]
  },
  {
   "cell_type": "code",
   "execution_count": 1,
   "metadata": {},
   "outputs": [],
   "source": [
    "# Enable Intellisense\n",
    "%config IPCompleter.greedy=True\n",
    "\n",
    "import pandas as pd\n",
    "import numpy as np\n",
    "import io\n",
    "import requests\n",
    "import seaborn as sns\n",
    "from matplotlib import pyplot, dates\n",
    "import plotly.express as px \n",
    "import datetime\n",
    "sns.set()"
   ]
  },
  {
   "cell_type": "markdown",
   "metadata": {},
   "source": [
    "### confirmed_data"
   ]
  },
  {
   "cell_type": "code",
   "execution_count": 18,
   "metadata": {},
   "outputs": [],
   "source": [
    "confirm_data_url = \"https://raw.githubusercontent.com/dsfsi/covid19za/master/data/covid19za_timeline_confirmed.csv\"\n",
    "\n",
    "confirm_data_req = requests.get(confirm_data_url).content\n",
    "\n",
    "confirmed_data = pd.read_csv(io.StringIO(confirm_data_req.decode('utf-8')), delimiter = ',')"
   ]
  },
  {
   "cell_type": "code",
   "execution_count": 19,
   "metadata": {},
   "outputs": [
    {
     "data": {
      "text/html": [
       "<div>\n",
       "<style scoped>\n",
       "    .dataframe tbody tr th:only-of-type {\n",
       "        vertical-align: middle;\n",
       "    }\n",
       "\n",
       "    .dataframe tbody tr th {\n",
       "        vertical-align: top;\n",
       "    }\n",
       "\n",
       "    .dataframe thead th {\n",
       "        text-align: right;\n",
       "    }\n",
       "</style>\n",
       "<table border=\"1\" class=\"dataframe\">\n",
       "  <thead>\n",
       "    <tr style=\"text-align: right;\">\n",
       "      <th></th>\n",
       "      <th>case_id</th>\n",
       "      <th>date</th>\n",
       "      <th>YYYYMMDD</th>\n",
       "      <th>country</th>\n",
       "      <th>province</th>\n",
       "      <th>geo_subdivision</th>\n",
       "      <th>age</th>\n",
       "      <th>gender</th>\n",
       "      <th>transmission_type</th>\n",
       "    </tr>\n",
       "  </thead>\n",
       "  <tbody>\n",
       "    <tr>\n",
       "      <td>0</td>\n",
       "      <td>1</td>\n",
       "      <td>05-03-2020</td>\n",
       "      <td>20200305</td>\n",
       "      <td>South Africa</td>\n",
       "      <td>KZN</td>\n",
       "      <td>ZA-KZN</td>\n",
       "      <td>38.0</td>\n",
       "      <td>male</td>\n",
       "      <td>Travelled to Italy</td>\n",
       "    </tr>\n",
       "    <tr>\n",
       "      <td>1</td>\n",
       "      <td>2</td>\n",
       "      <td>07-03-2020</td>\n",
       "      <td>20200307</td>\n",
       "      <td>South Africa</td>\n",
       "      <td>GP</td>\n",
       "      <td>ZA-GP</td>\n",
       "      <td>39.0</td>\n",
       "      <td>female</td>\n",
       "      <td>Travelled to Italy</td>\n",
       "    </tr>\n",
       "    <tr>\n",
       "      <td>2</td>\n",
       "      <td>3</td>\n",
       "      <td>08-03-2020</td>\n",
       "      <td>20200308</td>\n",
       "      <td>South Africa</td>\n",
       "      <td>KZN</td>\n",
       "      <td>ZA-KZN</td>\n",
       "      <td>38.0</td>\n",
       "      <td>female</td>\n",
       "      <td>Travelled to Italy</td>\n",
       "    </tr>\n",
       "    <tr>\n",
       "      <td>3</td>\n",
       "      <td>4</td>\n",
       "      <td>09-03-2020</td>\n",
       "      <td>20200309</td>\n",
       "      <td>South Africa</td>\n",
       "      <td>KZN</td>\n",
       "      <td>ZA-KZN</td>\n",
       "      <td>38.0</td>\n",
       "      <td>male</td>\n",
       "      <td>Travelled to Italy</td>\n",
       "    </tr>\n",
       "    <tr>\n",
       "      <td>4</td>\n",
       "      <td>5</td>\n",
       "      <td>09-03-2020</td>\n",
       "      <td>20200309</td>\n",
       "      <td>South Africa</td>\n",
       "      <td>KZN</td>\n",
       "      <td>ZA-KZN</td>\n",
       "      <td>38.0</td>\n",
       "      <td>female</td>\n",
       "      <td>Travelled to Italy</td>\n",
       "    </tr>\n",
       "  </tbody>\n",
       "</table>\n",
       "</div>"
      ],
      "text/plain": [
       "   case_id        date  YYYYMMDD       country province geo_subdivision   age  \\\n",
       "0        1  05-03-2020  20200305  South Africa      KZN          ZA-KZN  38.0   \n",
       "1        2  07-03-2020  20200307  South Africa       GP           ZA-GP  39.0   \n",
       "2        3  08-03-2020  20200308  South Africa      KZN          ZA-KZN  38.0   \n",
       "3        4  09-03-2020  20200309  South Africa      KZN          ZA-KZN  38.0   \n",
       "4        5  09-03-2020  20200309  South Africa      KZN          ZA-KZN  38.0   \n",
       "\n",
       "   gender   transmission_type  \n",
       "0    male  Travelled to Italy  \n",
       "1  female  Travelled to Italy  \n",
       "2  female  Travelled to Italy  \n",
       "3    male  Travelled to Italy  \n",
       "4  female  Travelled to Italy  "
      ]
     },
     "execution_count": 19,
     "metadata": {},
     "output_type": "execute_result"
    }
   ],
   "source": [
    "confirmed_data.head()"
   ]
  },
  {
   "cell_type": "code",
   "execution_count": 20,
   "metadata": {},
   "outputs": [],
   "source": [
    "confirmed_data.set_index('case_id', inplace = True)"
   ]
  },
  {
   "cell_type": "code",
   "execution_count": 21,
   "metadata": {},
   "outputs": [],
   "source": [
    "confirmed_data.drop(['YYYYMMDD','geo_subdivision', 'country'], axis =1, inplace = True)"
   ]
  },
  {
   "cell_type": "code",
   "execution_count": 22,
   "metadata": {},
   "outputs": [
    {
     "data": {
      "text/html": [
       "<div>\n",
       "<style scoped>\n",
       "    .dataframe tbody tr th:only-of-type {\n",
       "        vertical-align: middle;\n",
       "    }\n",
       "\n",
       "    .dataframe tbody tr th {\n",
       "        vertical-align: top;\n",
       "    }\n",
       "\n",
       "    .dataframe thead th {\n",
       "        text-align: right;\n",
       "    }\n",
       "</style>\n",
       "<table border=\"1\" class=\"dataframe\">\n",
       "  <thead>\n",
       "    <tr style=\"text-align: right;\">\n",
       "      <th></th>\n",
       "      <th>date</th>\n",
       "      <th>province</th>\n",
       "      <th>age</th>\n",
       "      <th>gender</th>\n",
       "      <th>transmission_type</th>\n",
       "    </tr>\n",
       "    <tr>\n",
       "      <th>case_id</th>\n",
       "      <th></th>\n",
       "      <th></th>\n",
       "      <th></th>\n",
       "      <th></th>\n",
       "      <th></th>\n",
       "    </tr>\n",
       "  </thead>\n",
       "  <tbody>\n",
       "    <tr>\n",
       "      <td>1</td>\n",
       "      <td>05-03-2020</td>\n",
       "      <td>KZN</td>\n",
       "      <td>38.0</td>\n",
       "      <td>male</td>\n",
       "      <td>Travelled to Italy</td>\n",
       "    </tr>\n",
       "    <tr>\n",
       "      <td>2</td>\n",
       "      <td>07-03-2020</td>\n",
       "      <td>GP</td>\n",
       "      <td>39.0</td>\n",
       "      <td>female</td>\n",
       "      <td>Travelled to Italy</td>\n",
       "    </tr>\n",
       "    <tr>\n",
       "      <td>3</td>\n",
       "      <td>08-03-2020</td>\n",
       "      <td>KZN</td>\n",
       "      <td>38.0</td>\n",
       "      <td>female</td>\n",
       "      <td>Travelled to Italy</td>\n",
       "    </tr>\n",
       "    <tr>\n",
       "      <td>4</td>\n",
       "      <td>09-03-2020</td>\n",
       "      <td>KZN</td>\n",
       "      <td>38.0</td>\n",
       "      <td>male</td>\n",
       "      <td>Travelled to Italy</td>\n",
       "    </tr>\n",
       "    <tr>\n",
       "      <td>5</td>\n",
       "      <td>09-03-2020</td>\n",
       "      <td>KZN</td>\n",
       "      <td>38.0</td>\n",
       "      <td>female</td>\n",
       "      <td>Travelled to Italy</td>\n",
       "    </tr>\n",
       "  </tbody>\n",
       "</table>\n",
       "</div>"
      ],
      "text/plain": [
       "               date province   age  gender   transmission_type\n",
       "case_id                                                       \n",
       "1        05-03-2020      KZN  38.0    male  Travelled to Italy\n",
       "2        07-03-2020       GP  39.0  female  Travelled to Italy\n",
       "3        08-03-2020      KZN  38.0  female  Travelled to Italy\n",
       "4        09-03-2020      KZN  38.0    male  Travelled to Italy\n",
       "5        09-03-2020      KZN  38.0  female  Travelled to Italy"
      ]
     },
     "execution_count": 22,
     "metadata": {},
     "output_type": "execute_result"
    }
   ],
   "source": [
    "confirmed_data.head()"
   ]
  },
  {
   "cell_type": "code",
   "execution_count": 23,
   "metadata": {},
   "outputs": [],
   "source": [
    "confirmed_data['date'] = pd.to_datetime(confirmed_data['date'], format='%d-%m-%Y')"
   ]
  },
  {
   "cell_type": "code",
   "execution_count": 24,
   "metadata": {
    "scrolled": true
   },
   "outputs": [
    {
     "name": "stdout",
     "output_type": "stream",
     "text": [
      "<class 'pandas.core.frame.DataFrame'>\n",
      "Int64Index: 240 entries, 1 to 240\n",
      "Data columns (total 5 columns):\n",
      "date                 240 non-null datetime64[ns]\n",
      "province             240 non-null object\n",
      "age                  239 non-null float64\n",
      "gender               240 non-null object\n",
      "transmission_type    240 non-null object\n",
      "dtypes: datetime64[ns](1), float64(1), object(3)\n",
      "memory usage: 11.2+ KB\n"
     ]
    }
   ],
   "source": [
    "confirmed_data.info()"
   ]
  },
  {
   "cell_type": "markdown",
   "metadata": {},
   "source": [
    "**Save data for ease of use later**"
   ]
  },
  {
   "cell_type": "code",
   "execution_count": 25,
   "metadata": {},
   "outputs": [],
   "source": [
    "confirmed_data.to_csv('confirmed_cases.csv')"
   ]
  },
  {
   "cell_type": "code",
   "execution_count": null,
   "metadata": {},
   "outputs": [],
   "source": []
  }
 ],
 "metadata": {
  "kernelspec": {
   "display_name": "Python 3",
   "language": "python",
   "name": "python3"
  },
  "language_info": {
   "codemirror_mode": {
    "name": "ipython",
    "version": 3
   },
   "file_extension": ".py",
   "mimetype": "text/x-python",
   "name": "python",
   "nbconvert_exporter": "python",
   "pygments_lexer": "ipython3",
   "version": "3.7.4"
  }
 },
 "nbformat": 4,
 "nbformat_minor": 2
}
