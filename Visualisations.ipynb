{
 "cells": [
  {
   "cell_type": "markdown",
   "metadata": {},
   "source": [
    "___\n",
    "# Visualisations\n",
    "___"
   ]
  },
  {
   "cell_type": "code",
   "execution_count": 108,
   "metadata": {},
   "outputs": [],
   "source": [
    "# Enable Intellisense\n",
    "%config IPCompleter.greedy=True\n",
    "\n",
    "import pandas as pd\n",
    "import numpy as np\n",
    "import io\n",
    "import requests\n",
    "import seaborn as sns\n",
    "from matplotlib import pyplot, dates\n",
    "import plotly.express as px \n",
    "import datetime\n",
    "import plotly.graph_objects as go\n",
    "import plotly.io as pio\n",
    "import plotly.offline\n",
    "sns.set()"
   ]
  },
  {
   "cell_type": "code",
   "execution_count": 109,
   "metadata": {},
   "outputs": [],
   "source": [
    "empty_margin_dict = dict(\n",
    "    t=0,\n",
    "    b=0,\n",
    "    l=0,\n",
    "    r=0,\n",
    ")"
   ]
  },
  {
   "cell_type": "markdown",
   "metadata": {},
   "source": [
    "# Totals"
   ]
  },
  {
   "cell_type": "code",
   "execution_count": 110,
   "metadata": {},
   "outputs": [],
   "source": [
    "def create_pie_chart(df, values, names, save_file_name=\"\", color_discrete_sequence=[]):\n",
    "    if (color_discrete_sequence==[]):\n",
    "        fig = px.pie(df, values=values, names=names)\n",
    "    else:\n",
    "        fig = px.pie(df, values=values, names=names, color_discrete_sequence=color_discrete_sequence)\n",
    "    fig.update_layout(\n",
    "        legend=dict(x=0, y=1), \n",
    "        showlegend=False,\n",
    "        margin=dict(\n",
    "            t=0, # 50\n",
    "            b=20,\n",
    "            l=0,\n",
    "            r=0,\n",
    "        ),\n",
    "    )\n",
    "    fig.update_traces(hoverinfo= 'label+percent', \n",
    "                      hovertemplate = '%{label}<br>%{value}',\n",
    "                      textinfo='value+label',\n",
    "                      textposition='inside')\n",
    "        \n",
    "    if save_file_name != \"\":\n",
    "        plotly.offline.plot(fig, filename = save_file_name, auto_open=True, \n",
    "                            config = dict(displayModeBar=False))\n",
    "        \n",
    "    return fig"
   ]
  },
  {
   "cell_type": "markdown",
   "metadata": {},
   "source": [
    "### Recoveries Per Province"
   ]
  },
  {
   "cell_type": "code",
   "execution_count": 111,
   "metadata": {},
   "outputs": [
    {
     "data": {
      "text/html": [
       "<div>\n",
       "<style scoped>\n",
       "    .dataframe tbody tr th:only-of-type {\n",
       "        vertical-align: middle;\n",
       "    }\n",
       "\n",
       "    .dataframe tbody tr th {\n",
       "        vertical-align: top;\n",
       "    }\n",
       "\n",
       "    .dataframe thead th {\n",
       "        text-align: right;\n",
       "    }\n",
       "</style>\n",
       "<table border=\"1\" class=\"dataframe\">\n",
       "  <thead>\n",
       "    <tr style=\"text-align: right;\">\n",
       "      <th></th>\n",
       "      <th>province</th>\n",
       "      <th>recovered</th>\n",
       "    </tr>\n",
       "  </thead>\n",
       "  <tbody>\n",
       "    <tr>\n",
       "      <th>0</th>\n",
       "      <td>Eastern Cape</td>\n",
       "      <td>19</td>\n",
       "    </tr>\n",
       "    <tr>\n",
       "      <th>1</th>\n",
       "      <td>Free State</td>\n",
       "      <td>76</td>\n",
       "    </tr>\n",
       "    <tr>\n",
       "      <th>2</th>\n",
       "      <td>Gauteng</td>\n",
       "      <td>843</td>\n",
       "    </tr>\n",
       "    <tr>\n",
       "      <th>3</th>\n",
       "      <td>KwaZula-Natal</td>\n",
       "      <td>241</td>\n",
       "    </tr>\n",
       "    <tr>\n",
       "      <th>4</th>\n",
       "      <td>Limpopo</td>\n",
       "      <td>24</td>\n",
       "    </tr>\n",
       "    <tr>\n",
       "      <th>5</th>\n",
       "      <td>Mpumalanga</td>\n",
       "      <td>15</td>\n",
       "    </tr>\n",
       "    <tr>\n",
       "      <th>6</th>\n",
       "      <td>North West</td>\n",
       "      <td>13</td>\n",
       "    </tr>\n",
       "    <tr>\n",
       "      <th>7</th>\n",
       "      <td>Northern Cape</td>\n",
       "      <td>6</td>\n",
       "    </tr>\n",
       "    <tr>\n",
       "      <th>8</th>\n",
       "      <td>Western Cape</td>\n",
       "      <td>236</td>\n",
       "    </tr>\n",
       "  </tbody>\n",
       "</table>\n",
       "</div>"
      ],
      "text/plain": [
       "        province  recovered\n",
       "0   Eastern Cape         19\n",
       "1     Free State         76\n",
       "2        Gauteng        843\n",
       "3  KwaZula-Natal        241\n",
       "4        Limpopo         24\n",
       "5     Mpumalanga         15\n",
       "6     North West         13\n",
       "7  Northern Cape          6\n",
       "8   Western Cape        236"
      ]
     },
     "execution_count": 111,
     "metadata": {},
     "output_type": "execute_result"
    }
   ],
   "source": [
    "prov_recov_totals = pd.read_csv('data/tot_recovered_provinces.csv').drop(['date'], axis =1)\n",
    "prov_recov_totals"
   ]
  },
  {
   "cell_type": "code",
   "execution_count": 112,
   "metadata": {},
   "outputs": [
    {
     "data": {
      "application/vnd.plotly.v1+json": {
       "config": {
        "plotlyServerURL": "https://plot.ly"
       },
       "data": [
        {
         "domain": {
          "x": [
           0,
           1
          ],
          "y": [
           0,
           1
          ]
         },
         "hoverinfo": "label+percent",
         "hovertemplate": "%{label}<br>%{value}",
         "labels": [
          "Eastern Cape",
          "Free State",
          "Gauteng",
          "KwaZula-Natal",
          "Limpopo",
          "Mpumalanga",
          "North West",
          "Northern Cape",
          "Western Cape"
         ],
         "legendgroup": "",
         "name": "",
         "showlegend": true,
         "textinfo": "value+label",
         "textposition": "inside",
         "type": "pie",
         "values": [
          19,
          76,
          843,
          241,
          24,
          15,
          13,
          6,
          236
         ]
        }
       ],
       "layout": {
        "legend": {
         "tracegroupgap": 0,
         "x": 0,
         "y": 1
        },
        "margin": {
         "b": 20,
         "l": 0,
         "r": 0,
         "t": 0
        },
        "showlegend": false,
        "template": {
         "data": {
          "bar": [
           {
            "error_x": {
             "color": "#2a3f5f"
            },
            "error_y": {
             "color": "#2a3f5f"
            },
            "marker": {
             "line": {
              "color": "#E5ECF6",
              "width": 0.5
             }
            },
            "type": "bar"
           }
          ],
          "barpolar": [
           {
            "marker": {
             "line": {
              "color": "#E5ECF6",
              "width": 0.5
             }
            },
            "type": "barpolar"
           }
          ],
          "carpet": [
           {
            "aaxis": {
             "endlinecolor": "#2a3f5f",
             "gridcolor": "white",
             "linecolor": "white",
             "minorgridcolor": "white",
             "startlinecolor": "#2a3f5f"
            },
            "baxis": {
             "endlinecolor": "#2a3f5f",
             "gridcolor": "white",
             "linecolor": "white",
             "minorgridcolor": "white",
             "startlinecolor": "#2a3f5f"
            },
            "type": "carpet"
           }
          ],
          "choropleth": [
           {
            "colorbar": {
             "outlinewidth": 0,
             "ticks": ""
            },
            "type": "choropleth"
           }
          ],
          "contour": [
           {
            "colorbar": {
             "outlinewidth": 0,
             "ticks": ""
            },
            "colorscale": [
             [
              0,
              "#0d0887"
             ],
             [
              0.1111111111111111,
              "#46039f"
             ],
             [
              0.2222222222222222,
              "#7201a8"
             ],
             [
              0.3333333333333333,
              "#9c179e"
             ],
             [
              0.4444444444444444,
              "#bd3786"
             ],
             [
              0.5555555555555556,
              "#d8576b"
             ],
             [
              0.6666666666666666,
              "#ed7953"
             ],
             [
              0.7777777777777778,
              "#fb9f3a"
             ],
             [
              0.8888888888888888,
              "#fdca26"
             ],
             [
              1,
              "#f0f921"
             ]
            ],
            "type": "contour"
           }
          ],
          "contourcarpet": [
           {
            "colorbar": {
             "outlinewidth": 0,
             "ticks": ""
            },
            "type": "contourcarpet"
           }
          ],
          "heatmap": [
           {
            "colorbar": {
             "outlinewidth": 0,
             "ticks": ""
            },
            "colorscale": [
             [
              0,
              "#0d0887"
             ],
             [
              0.1111111111111111,
              "#46039f"
             ],
             [
              0.2222222222222222,
              "#7201a8"
             ],
             [
              0.3333333333333333,
              "#9c179e"
             ],
             [
              0.4444444444444444,
              "#bd3786"
             ],
             [
              0.5555555555555556,
              "#d8576b"
             ],
             [
              0.6666666666666666,
              "#ed7953"
             ],
             [
              0.7777777777777778,
              "#fb9f3a"
             ],
             [
              0.8888888888888888,
              "#fdca26"
             ],
             [
              1,
              "#f0f921"
             ]
            ],
            "type": "heatmap"
           }
          ],
          "heatmapgl": [
           {
            "colorbar": {
             "outlinewidth": 0,
             "ticks": ""
            },
            "colorscale": [
             [
              0,
              "#0d0887"
             ],
             [
              0.1111111111111111,
              "#46039f"
             ],
             [
              0.2222222222222222,
              "#7201a8"
             ],
             [
              0.3333333333333333,
              "#9c179e"
             ],
             [
              0.4444444444444444,
              "#bd3786"
             ],
             [
              0.5555555555555556,
              "#d8576b"
             ],
             [
              0.6666666666666666,
              "#ed7953"
             ],
             [
              0.7777777777777778,
              "#fb9f3a"
             ],
             [
              0.8888888888888888,
              "#fdca26"
             ],
             [
              1,
              "#f0f921"
             ]
            ],
            "type": "heatmapgl"
           }
          ],
          "histogram": [
           {
            "marker": {
             "colorbar": {
              "outlinewidth": 0,
              "ticks": ""
             }
            },
            "type": "histogram"
           }
          ],
          "histogram2d": [
           {
            "colorbar": {
             "outlinewidth": 0,
             "ticks": ""
            },
            "colorscale": [
             [
              0,
              "#0d0887"
             ],
             [
              0.1111111111111111,
              "#46039f"
             ],
             [
              0.2222222222222222,
              "#7201a8"
             ],
             [
              0.3333333333333333,
              "#9c179e"
             ],
             [
              0.4444444444444444,
              "#bd3786"
             ],
             [
              0.5555555555555556,
              "#d8576b"
             ],
             [
              0.6666666666666666,
              "#ed7953"
             ],
             [
              0.7777777777777778,
              "#fb9f3a"
             ],
             [
              0.8888888888888888,
              "#fdca26"
             ],
             [
              1,
              "#f0f921"
             ]
            ],
            "type": "histogram2d"
           }
          ],
          "histogram2dcontour": [
           {
            "colorbar": {
             "outlinewidth": 0,
             "ticks": ""
            },
            "colorscale": [
             [
              0,
              "#0d0887"
             ],
             [
              0.1111111111111111,
              "#46039f"
             ],
             [
              0.2222222222222222,
              "#7201a8"
             ],
             [
              0.3333333333333333,
              "#9c179e"
             ],
             [
              0.4444444444444444,
              "#bd3786"
             ],
             [
              0.5555555555555556,
              "#d8576b"
             ],
             [
              0.6666666666666666,
              "#ed7953"
             ],
             [
              0.7777777777777778,
              "#fb9f3a"
             ],
             [
              0.8888888888888888,
              "#fdca26"
             ],
             [
              1,
              "#f0f921"
             ]
            ],
            "type": "histogram2dcontour"
           }
          ],
          "mesh3d": [
           {
            "colorbar": {
             "outlinewidth": 0,
             "ticks": ""
            },
            "type": "mesh3d"
           }
          ],
          "parcoords": [
           {
            "line": {
             "colorbar": {
              "outlinewidth": 0,
              "ticks": ""
             }
            },
            "type": "parcoords"
           }
          ],
          "pie": [
           {
            "automargin": true,
            "type": "pie"
           }
          ],
          "scatter": [
           {
            "marker": {
             "colorbar": {
              "outlinewidth": 0,
              "ticks": ""
             }
            },
            "type": "scatter"
           }
          ],
          "scatter3d": [
           {
            "line": {
             "colorbar": {
              "outlinewidth": 0,
              "ticks": ""
             }
            },
            "marker": {
             "colorbar": {
              "outlinewidth": 0,
              "ticks": ""
             }
            },
            "type": "scatter3d"
           }
          ],
          "scattercarpet": [
           {
            "marker": {
             "colorbar": {
              "outlinewidth": 0,
              "ticks": ""
             }
            },
            "type": "scattercarpet"
           }
          ],
          "scattergeo": [
           {
            "marker": {
             "colorbar": {
              "outlinewidth": 0,
              "ticks": ""
             }
            },
            "type": "scattergeo"
           }
          ],
          "scattergl": [
           {
            "marker": {
             "colorbar": {
              "outlinewidth": 0,
              "ticks": ""
             }
            },
            "type": "scattergl"
           }
          ],
          "scattermapbox": [
           {
            "marker": {
             "colorbar": {
              "outlinewidth": 0,
              "ticks": ""
             }
            },
            "type": "scattermapbox"
           }
          ],
          "scatterpolar": [
           {
            "marker": {
             "colorbar": {
              "outlinewidth": 0,
              "ticks": ""
             }
            },
            "type": "scatterpolar"
           }
          ],
          "scatterpolargl": [
           {
            "marker": {
             "colorbar": {
              "outlinewidth": 0,
              "ticks": ""
             }
            },
            "type": "scatterpolargl"
           }
          ],
          "scatterternary": [
           {
            "marker": {
             "colorbar": {
              "outlinewidth": 0,
              "ticks": ""
             }
            },
            "type": "scatterternary"
           }
          ],
          "surface": [
           {
            "colorbar": {
             "outlinewidth": 0,
             "ticks": ""
            },
            "colorscale": [
             [
              0,
              "#0d0887"
             ],
             [
              0.1111111111111111,
              "#46039f"
             ],
             [
              0.2222222222222222,
              "#7201a8"
             ],
             [
              0.3333333333333333,
              "#9c179e"
             ],
             [
              0.4444444444444444,
              "#bd3786"
             ],
             [
              0.5555555555555556,
              "#d8576b"
             ],
             [
              0.6666666666666666,
              "#ed7953"
             ],
             [
              0.7777777777777778,
              "#fb9f3a"
             ],
             [
              0.8888888888888888,
              "#fdca26"
             ],
             [
              1,
              "#f0f921"
             ]
            ],
            "type": "surface"
           }
          ],
          "table": [
           {
            "cells": {
             "fill": {
              "color": "#EBF0F8"
             },
             "line": {
              "color": "white"
             }
            },
            "header": {
             "fill": {
              "color": "#C8D4E3"
             },
             "line": {
              "color": "white"
             }
            },
            "type": "table"
           }
          ]
         },
         "layout": {
          "annotationdefaults": {
           "arrowcolor": "#2a3f5f",
           "arrowhead": 0,
           "arrowwidth": 1
          },
          "coloraxis": {
           "colorbar": {
            "outlinewidth": 0,
            "ticks": ""
           }
          },
          "colorscale": {
           "diverging": [
            [
             0,
             "#8e0152"
            ],
            [
             0.1,
             "#c51b7d"
            ],
            [
             0.2,
             "#de77ae"
            ],
            [
             0.3,
             "#f1b6da"
            ],
            [
             0.4,
             "#fde0ef"
            ],
            [
             0.5,
             "#f7f7f7"
            ],
            [
             0.6,
             "#e6f5d0"
            ],
            [
             0.7,
             "#b8e186"
            ],
            [
             0.8,
             "#7fbc41"
            ],
            [
             0.9,
             "#4d9221"
            ],
            [
             1,
             "#276419"
            ]
           ],
           "sequential": [
            [
             0,
             "#0d0887"
            ],
            [
             0.1111111111111111,
             "#46039f"
            ],
            [
             0.2222222222222222,
             "#7201a8"
            ],
            [
             0.3333333333333333,
             "#9c179e"
            ],
            [
             0.4444444444444444,
             "#bd3786"
            ],
            [
             0.5555555555555556,
             "#d8576b"
            ],
            [
             0.6666666666666666,
             "#ed7953"
            ],
            [
             0.7777777777777778,
             "#fb9f3a"
            ],
            [
             0.8888888888888888,
             "#fdca26"
            ],
            [
             1,
             "#f0f921"
            ]
           ],
           "sequentialminus": [
            [
             0,
             "#0d0887"
            ],
            [
             0.1111111111111111,
             "#46039f"
            ],
            [
             0.2222222222222222,
             "#7201a8"
            ],
            [
             0.3333333333333333,
             "#9c179e"
            ],
            [
             0.4444444444444444,
             "#bd3786"
            ],
            [
             0.5555555555555556,
             "#d8576b"
            ],
            [
             0.6666666666666666,
             "#ed7953"
            ],
            [
             0.7777777777777778,
             "#fb9f3a"
            ],
            [
             0.8888888888888888,
             "#fdca26"
            ],
            [
             1,
             "#f0f921"
            ]
           ]
          },
          "colorway": [
           "#636efa",
           "#EF553B",
           "#00cc96",
           "#ab63fa",
           "#FFA15A",
           "#19d3f3",
           "#FF6692",
           "#B6E880",
           "#FF97FF",
           "#FECB52"
          ],
          "font": {
           "color": "#2a3f5f"
          },
          "geo": {
           "bgcolor": "white",
           "lakecolor": "white",
           "landcolor": "#E5ECF6",
           "showlakes": true,
           "showland": true,
           "subunitcolor": "white"
          },
          "hoverlabel": {
           "align": "left"
          },
          "hovermode": "closest",
          "mapbox": {
           "style": "light"
          },
          "paper_bgcolor": "white",
          "plot_bgcolor": "#E5ECF6",
          "polar": {
           "angularaxis": {
            "gridcolor": "white",
            "linecolor": "white",
            "ticks": ""
           },
           "bgcolor": "#E5ECF6",
           "radialaxis": {
            "gridcolor": "white",
            "linecolor": "white",
            "ticks": ""
           }
          },
          "scene": {
           "xaxis": {
            "backgroundcolor": "#E5ECF6",
            "gridcolor": "white",
            "gridwidth": 2,
            "linecolor": "white",
            "showbackground": true,
            "ticks": "",
            "zerolinecolor": "white"
           },
           "yaxis": {
            "backgroundcolor": "#E5ECF6",
            "gridcolor": "white",
            "gridwidth": 2,
            "linecolor": "white",
            "showbackground": true,
            "ticks": "",
            "zerolinecolor": "white"
           },
           "zaxis": {
            "backgroundcolor": "#E5ECF6",
            "gridcolor": "white",
            "gridwidth": 2,
            "linecolor": "white",
            "showbackground": true,
            "ticks": "",
            "zerolinecolor": "white"
           }
          },
          "shapedefaults": {
           "line": {
            "color": "#2a3f5f"
           }
          },
          "ternary": {
           "aaxis": {
            "gridcolor": "white",
            "linecolor": "white",
            "ticks": ""
           },
           "baxis": {
            "gridcolor": "white",
            "linecolor": "white",
            "ticks": ""
           },
           "bgcolor": "#E5ECF6",
           "caxis": {
            "gridcolor": "white",
            "linecolor": "white",
            "ticks": ""
           }
          },
          "title": {
           "x": 0.05
          },
          "xaxis": {
           "automargin": true,
           "gridcolor": "white",
           "linecolor": "white",
           "ticks": "",
           "title": {
            "standoff": 15
           },
           "zerolinecolor": "white",
           "zerolinewidth": 2
          },
          "yaxis": {
           "automargin": true,
           "gridcolor": "white",
           "linecolor": "white",
           "ticks": "",
           "title": {
            "standoff": 15
           },
           "zerolinecolor": "white",
           "zerolinewidth": 2
          }
         }
        }
       }
      },
      "text/html": [
       "<div>\n",
       "        \n",
       "        \n",
       "            <div id=\"a2c6dae3-825d-4c0f-9edd-69c206fe1557\" class=\"plotly-graph-div\" style=\"height:525px; width:100%;\"></div>\n",
       "            <script type=\"text/javascript\">\n",
       "                require([\"plotly\"], function(Plotly) {\n",
       "                    window.PLOTLYENV=window.PLOTLYENV || {};\n",
       "                    \n",
       "                if (document.getElementById(\"a2c6dae3-825d-4c0f-9edd-69c206fe1557\")) {\n",
       "                    Plotly.newPlot(\n",
       "                        'a2c6dae3-825d-4c0f-9edd-69c206fe1557',\n",
       "                        [{\"domain\": {\"x\": [0.0, 1.0], \"y\": [0.0, 1.0]}, \"hoverinfo\": \"label+percent\", \"hovertemplate\": \"%{label}<br>%{value}\", \"labels\": [\"Eastern Cape\", \"Free State\", \"Gauteng\", \"KwaZula-Natal\", \"Limpopo\", \"Mpumalanga\", \"North West\", \"Northern Cape\", \"Western Cape\"], \"legendgroup\": \"\", \"name\": \"\", \"showlegend\": true, \"textinfo\": \"value+label\", \"textposition\": \"inside\", \"type\": \"pie\", \"values\": [19, 76, 843, 241, 24, 15, 13, 6, 236]}],\n",
       "                        {\"legend\": {\"tracegroupgap\": 0, \"x\": 0, \"y\": 1}, \"margin\": {\"b\": 20, \"l\": 0, \"r\": 0, \"t\": 0}, \"showlegend\": false, \"template\": {\"data\": {\"bar\": [{\"error_x\": {\"color\": \"#2a3f5f\"}, \"error_y\": {\"color\": \"#2a3f5f\"}, \"marker\": {\"line\": {\"color\": \"#E5ECF6\", \"width\": 0.5}}, \"type\": \"bar\"}], \"barpolar\": [{\"marker\": {\"line\": {\"color\": \"#E5ECF6\", \"width\": 0.5}}, \"type\": \"barpolar\"}], \"carpet\": [{\"aaxis\": {\"endlinecolor\": \"#2a3f5f\", \"gridcolor\": \"white\", \"linecolor\": \"white\", \"minorgridcolor\": \"white\", \"startlinecolor\": \"#2a3f5f\"}, \"baxis\": {\"endlinecolor\": \"#2a3f5f\", \"gridcolor\": \"white\", \"linecolor\": \"white\", \"minorgridcolor\": \"white\", \"startlinecolor\": \"#2a3f5f\"}, \"type\": \"carpet\"}], \"choropleth\": [{\"colorbar\": {\"outlinewidth\": 0, \"ticks\": \"\"}, \"type\": \"choropleth\"}], \"contour\": [{\"colorbar\": {\"outlinewidth\": 0, \"ticks\": \"\"}, \"colorscale\": [[0.0, \"#0d0887\"], [0.1111111111111111, \"#46039f\"], [0.2222222222222222, \"#7201a8\"], [0.3333333333333333, \"#9c179e\"], [0.4444444444444444, \"#bd3786\"], [0.5555555555555556, \"#d8576b\"], [0.6666666666666666, \"#ed7953\"], [0.7777777777777778, \"#fb9f3a\"], [0.8888888888888888, \"#fdca26\"], [1.0, \"#f0f921\"]], \"type\": \"contour\"}], \"contourcarpet\": [{\"colorbar\": {\"outlinewidth\": 0, \"ticks\": \"\"}, \"type\": \"contourcarpet\"}], \"heatmap\": [{\"colorbar\": {\"outlinewidth\": 0, \"ticks\": \"\"}, \"colorscale\": [[0.0, \"#0d0887\"], [0.1111111111111111, \"#46039f\"], [0.2222222222222222, \"#7201a8\"], [0.3333333333333333, \"#9c179e\"], [0.4444444444444444, \"#bd3786\"], [0.5555555555555556, \"#d8576b\"], [0.6666666666666666, \"#ed7953\"], [0.7777777777777778, \"#fb9f3a\"], [0.8888888888888888, \"#fdca26\"], [1.0, \"#f0f921\"]], \"type\": \"heatmap\"}], \"heatmapgl\": [{\"colorbar\": {\"outlinewidth\": 0, \"ticks\": \"\"}, \"colorscale\": [[0.0, \"#0d0887\"], [0.1111111111111111, \"#46039f\"], [0.2222222222222222, \"#7201a8\"], [0.3333333333333333, \"#9c179e\"], [0.4444444444444444, \"#bd3786\"], [0.5555555555555556, \"#d8576b\"], [0.6666666666666666, \"#ed7953\"], [0.7777777777777778, \"#fb9f3a\"], [0.8888888888888888, \"#fdca26\"], [1.0, \"#f0f921\"]], \"type\": \"heatmapgl\"}], \"histogram\": [{\"marker\": {\"colorbar\": {\"outlinewidth\": 0, \"ticks\": \"\"}}, \"type\": \"histogram\"}], \"histogram2d\": [{\"colorbar\": {\"outlinewidth\": 0, \"ticks\": \"\"}, \"colorscale\": [[0.0, \"#0d0887\"], [0.1111111111111111, \"#46039f\"], [0.2222222222222222, \"#7201a8\"], [0.3333333333333333, \"#9c179e\"], [0.4444444444444444, \"#bd3786\"], [0.5555555555555556, \"#d8576b\"], [0.6666666666666666, \"#ed7953\"], [0.7777777777777778, \"#fb9f3a\"], [0.8888888888888888, \"#fdca26\"], [1.0, \"#f0f921\"]], \"type\": \"histogram2d\"}], \"histogram2dcontour\": [{\"colorbar\": {\"outlinewidth\": 0, \"ticks\": \"\"}, \"colorscale\": [[0.0, \"#0d0887\"], [0.1111111111111111, \"#46039f\"], [0.2222222222222222, \"#7201a8\"], [0.3333333333333333, \"#9c179e\"], [0.4444444444444444, \"#bd3786\"], [0.5555555555555556, \"#d8576b\"], [0.6666666666666666, \"#ed7953\"], [0.7777777777777778, \"#fb9f3a\"], [0.8888888888888888, \"#fdca26\"], [1.0, \"#f0f921\"]], \"type\": \"histogram2dcontour\"}], \"mesh3d\": [{\"colorbar\": {\"outlinewidth\": 0, \"ticks\": \"\"}, \"type\": \"mesh3d\"}], \"parcoords\": [{\"line\": {\"colorbar\": {\"outlinewidth\": 0, \"ticks\": \"\"}}, \"type\": \"parcoords\"}], \"pie\": [{\"automargin\": true, \"type\": \"pie\"}], \"scatter\": [{\"marker\": {\"colorbar\": {\"outlinewidth\": 0, \"ticks\": \"\"}}, \"type\": \"scatter\"}], \"scatter3d\": [{\"line\": {\"colorbar\": {\"outlinewidth\": 0, \"ticks\": \"\"}}, \"marker\": {\"colorbar\": {\"outlinewidth\": 0, \"ticks\": \"\"}}, \"type\": \"scatter3d\"}], \"scattercarpet\": [{\"marker\": {\"colorbar\": {\"outlinewidth\": 0, \"ticks\": \"\"}}, \"type\": \"scattercarpet\"}], \"scattergeo\": [{\"marker\": {\"colorbar\": {\"outlinewidth\": 0, \"ticks\": \"\"}}, \"type\": \"scattergeo\"}], \"scattergl\": [{\"marker\": {\"colorbar\": {\"outlinewidth\": 0, \"ticks\": \"\"}}, \"type\": \"scattergl\"}], \"scattermapbox\": [{\"marker\": {\"colorbar\": {\"outlinewidth\": 0, \"ticks\": \"\"}}, \"type\": \"scattermapbox\"}], \"scatterpolar\": [{\"marker\": {\"colorbar\": {\"outlinewidth\": 0, \"ticks\": \"\"}}, \"type\": \"scatterpolar\"}], \"scatterpolargl\": [{\"marker\": {\"colorbar\": {\"outlinewidth\": 0, \"ticks\": \"\"}}, \"type\": \"scatterpolargl\"}], \"scatterternary\": [{\"marker\": {\"colorbar\": {\"outlinewidth\": 0, \"ticks\": \"\"}}, \"type\": \"scatterternary\"}], \"surface\": [{\"colorbar\": {\"outlinewidth\": 0, \"ticks\": \"\"}, \"colorscale\": [[0.0, \"#0d0887\"], [0.1111111111111111, \"#46039f\"], [0.2222222222222222, \"#7201a8\"], [0.3333333333333333, \"#9c179e\"], [0.4444444444444444, \"#bd3786\"], [0.5555555555555556, \"#d8576b\"], [0.6666666666666666, \"#ed7953\"], [0.7777777777777778, \"#fb9f3a\"], [0.8888888888888888, \"#fdca26\"], [1.0, \"#f0f921\"]], \"type\": \"surface\"}], \"table\": [{\"cells\": {\"fill\": {\"color\": \"#EBF0F8\"}, \"line\": {\"color\": \"white\"}}, \"header\": {\"fill\": {\"color\": \"#C8D4E3\"}, \"line\": {\"color\": \"white\"}}, \"type\": \"table\"}]}, \"layout\": {\"annotationdefaults\": {\"arrowcolor\": \"#2a3f5f\", \"arrowhead\": 0, \"arrowwidth\": 1}, \"coloraxis\": {\"colorbar\": {\"outlinewidth\": 0, \"ticks\": \"\"}}, \"colorscale\": {\"diverging\": [[0, \"#8e0152\"], [0.1, \"#c51b7d\"], [0.2, \"#de77ae\"], [0.3, \"#f1b6da\"], [0.4, \"#fde0ef\"], [0.5, \"#f7f7f7\"], [0.6, \"#e6f5d0\"], [0.7, \"#b8e186\"], [0.8, \"#7fbc41\"], [0.9, \"#4d9221\"], [1, \"#276419\"]], \"sequential\": [[0.0, \"#0d0887\"], [0.1111111111111111, \"#46039f\"], [0.2222222222222222, \"#7201a8\"], [0.3333333333333333, \"#9c179e\"], [0.4444444444444444, \"#bd3786\"], [0.5555555555555556, \"#d8576b\"], [0.6666666666666666, \"#ed7953\"], [0.7777777777777778, \"#fb9f3a\"], [0.8888888888888888, \"#fdca26\"], [1.0, \"#f0f921\"]], \"sequentialminus\": [[0.0, \"#0d0887\"], [0.1111111111111111, \"#46039f\"], [0.2222222222222222, \"#7201a8\"], [0.3333333333333333, \"#9c179e\"], [0.4444444444444444, \"#bd3786\"], [0.5555555555555556, \"#d8576b\"], [0.6666666666666666, \"#ed7953\"], [0.7777777777777778, \"#fb9f3a\"], [0.8888888888888888, \"#fdca26\"], [1.0, \"#f0f921\"]]}, \"colorway\": [\"#636efa\", \"#EF553B\", \"#00cc96\", \"#ab63fa\", \"#FFA15A\", \"#19d3f3\", \"#FF6692\", \"#B6E880\", \"#FF97FF\", \"#FECB52\"], \"font\": {\"color\": \"#2a3f5f\"}, \"geo\": {\"bgcolor\": \"white\", \"lakecolor\": \"white\", \"landcolor\": \"#E5ECF6\", \"showlakes\": true, \"showland\": true, \"subunitcolor\": \"white\"}, \"hoverlabel\": {\"align\": \"left\"}, \"hovermode\": \"closest\", \"mapbox\": {\"style\": \"light\"}, \"paper_bgcolor\": \"white\", \"plot_bgcolor\": \"#E5ECF6\", \"polar\": {\"angularaxis\": {\"gridcolor\": \"white\", \"linecolor\": \"white\", \"ticks\": \"\"}, \"bgcolor\": \"#E5ECF6\", \"radialaxis\": {\"gridcolor\": \"white\", \"linecolor\": \"white\", \"ticks\": \"\"}}, \"scene\": {\"xaxis\": {\"backgroundcolor\": \"#E5ECF6\", \"gridcolor\": \"white\", \"gridwidth\": 2, \"linecolor\": \"white\", \"showbackground\": true, \"ticks\": \"\", \"zerolinecolor\": \"white\"}, \"yaxis\": {\"backgroundcolor\": \"#E5ECF6\", \"gridcolor\": \"white\", \"gridwidth\": 2, \"linecolor\": \"white\", \"showbackground\": true, \"ticks\": \"\", \"zerolinecolor\": \"white\"}, \"zaxis\": {\"backgroundcolor\": \"#E5ECF6\", \"gridcolor\": \"white\", \"gridwidth\": 2, \"linecolor\": \"white\", \"showbackground\": true, \"ticks\": \"\", \"zerolinecolor\": \"white\"}}, \"shapedefaults\": {\"line\": {\"color\": \"#2a3f5f\"}}, \"ternary\": {\"aaxis\": {\"gridcolor\": \"white\", \"linecolor\": \"white\", \"ticks\": \"\"}, \"baxis\": {\"gridcolor\": \"white\", \"linecolor\": \"white\", \"ticks\": \"\"}, \"bgcolor\": \"#E5ECF6\", \"caxis\": {\"gridcolor\": \"white\", \"linecolor\": \"white\", \"ticks\": \"\"}}, \"title\": {\"x\": 0.05}, \"xaxis\": {\"automargin\": true, \"gridcolor\": \"white\", \"linecolor\": \"white\", \"ticks\": \"\", \"title\": {\"standoff\": 15}, \"zerolinecolor\": \"white\", \"zerolinewidth\": 2}, \"yaxis\": {\"automargin\": true, \"gridcolor\": \"white\", \"linecolor\": \"white\", \"ticks\": \"\", \"title\": {\"standoff\": 15}, \"zerolinecolor\": \"white\", \"zerolinewidth\": 2}}}},\n",
       "                        {\"responsive\": true}\n",
       "                    ).then(function(){\n",
       "                            \n",
       "var gd = document.getElementById('a2c6dae3-825d-4c0f-9edd-69c206fe1557');\n",
       "var x = new MutationObserver(function (mutations, observer) {{\n",
       "        var display = window.getComputedStyle(gd).display;\n",
       "        if (!display || display === 'none') {{\n",
       "            console.log([gd, 'removed!']);\n",
       "            Plotly.purge(gd);\n",
       "            observer.disconnect();\n",
       "        }}\n",
       "}});\n",
       "\n",
       "// Listen for the removal of the full notebook cells\n",
       "var notebookContainer = gd.closest('#notebook-container');\n",
       "if (notebookContainer) {{\n",
       "    x.observe(notebookContainer, {childList: true});\n",
       "}}\n",
       "\n",
       "// Listen for the clearing of the current output cell\n",
       "var outputEl = gd.closest('.output');\n",
       "if (outputEl) {{\n",
       "    x.observe(outputEl, {childList: true});\n",
       "}}\n",
       "\n",
       "                        })\n",
       "                };\n",
       "                });\n",
       "            </script>\n",
       "        </div>"
      ]
     },
     "metadata": {},
     "output_type": "display_data"
    }
   ],
   "source": [
    "create_pie_chart(prov_recov_totals, 'recovered', 'province', 'tot_recovered_per_province.html')"
   ]
  },
  {
   "cell_type": "markdown",
   "metadata": {},
   "source": [
    "### Confirmed Per Province"
   ]
  },
  {
   "cell_type": "code",
   "execution_count": 113,
   "metadata": {},
   "outputs": [
    {
     "data": {
      "text/html": [
       "<div>\n",
       "<style scoped>\n",
       "    .dataframe tbody tr th:only-of-type {\n",
       "        vertical-align: middle;\n",
       "    }\n",
       "\n",
       "    .dataframe tbody tr th {\n",
       "        vertical-align: top;\n",
       "    }\n",
       "\n",
       "    .dataframe thead th {\n",
       "        text-align: right;\n",
       "    }\n",
       "</style>\n",
       "<table border=\"1\" class=\"dataframe\">\n",
       "  <thead>\n",
       "    <tr style=\"text-align: right;\">\n",
       "      <th></th>\n",
       "      <th>province</th>\n",
       "      <th>total</th>\n",
       "    </tr>\n",
       "  </thead>\n",
       "  <tbody>\n",
       "    <tr>\n",
       "      <th>0</th>\n",
       "      <td>Eastern Cape</td>\n",
       "      <td>647.0</td>\n",
       "    </tr>\n",
       "    <tr>\n",
       "      <th>1</th>\n",
       "      <td>Free State</td>\n",
       "      <td>116.0</td>\n",
       "    </tr>\n",
       "    <tr>\n",
       "      <th>2</th>\n",
       "      <td>Gauteng</td>\n",
       "      <td>1446.0</td>\n",
       "    </tr>\n",
       "    <tr>\n",
       "      <th>3</th>\n",
       "      <td>KwaZulu-Natal</td>\n",
       "      <td>980.0</td>\n",
       "    </tr>\n",
       "    <tr>\n",
       "      <th>4</th>\n",
       "      <td>Limpopo</td>\n",
       "      <td>32.0</td>\n",
       "    </tr>\n",
       "    <tr>\n",
       "      <th>5</th>\n",
       "      <td>Mpumalanga</td>\n",
       "      <td>36.0</td>\n",
       "    </tr>\n",
       "    <tr>\n",
       "      <th>6</th>\n",
       "      <td>Northern Cape</td>\n",
       "      <td>17.0</td>\n",
       "    </tr>\n",
       "    <tr>\n",
       "      <th>7</th>\n",
       "      <td>North West</td>\n",
       "      <td>31.0</td>\n",
       "    </tr>\n",
       "    <tr>\n",
       "      <th>8</th>\n",
       "      <td>Western Cape</td>\n",
       "      <td>2342.0</td>\n",
       "    </tr>\n",
       "    <tr>\n",
       "      <th>9</th>\n",
       "      <td>Unknown</td>\n",
       "      <td>0.0</td>\n",
       "    </tr>\n",
       "  </tbody>\n",
       "</table>\n",
       "</div>"
      ],
      "text/plain": [
       "        province   total\n",
       "0   Eastern Cape   647.0\n",
       "1     Free State   116.0\n",
       "2        Gauteng  1446.0\n",
       "3  KwaZulu-Natal   980.0\n",
       "4        Limpopo    32.0\n",
       "5     Mpumalanga    36.0\n",
       "6  Northern Cape    17.0\n",
       "7     North West    31.0\n",
       "8   Western Cape  2342.0\n",
       "9        Unknown     0.0"
      ]
     },
     "execution_count": 113,
     "metadata": {},
     "output_type": "execute_result"
    }
   ],
   "source": [
    "prov_totals_data = pd.read_csv('data/tot_provinces.csv')\n",
    "prov_totals_data"
   ]
  },
  {
   "cell_type": "code",
   "execution_count": 114,
   "metadata": {},
   "outputs": [
    {
     "data": {
      "application/vnd.plotly.v1+json": {
       "config": {
        "plotlyServerURL": "https://plot.ly"
       },
       "data": [
        {
         "domain": {
          "x": [
           0,
           1
          ],
          "y": [
           0,
           1
          ]
         },
         "hoverinfo": "label+percent",
         "hovertemplate": "%{label}<br>%{value}",
         "labels": [
          "Eastern Cape",
          "Free State",
          "Gauteng",
          "KwaZulu-Natal",
          "Limpopo",
          "Mpumalanga",
          "Northern Cape",
          "North West",
          "Western Cape",
          "Unknown"
         ],
         "legendgroup": "",
         "name": "",
         "showlegend": true,
         "textinfo": "value+label",
         "textposition": "inside",
         "type": "pie",
         "values": [
          647,
          116,
          1446,
          980,
          32,
          36,
          17,
          31,
          2342,
          0
         ]
        }
       ],
       "layout": {
        "legend": {
         "tracegroupgap": 0,
         "x": 0,
         "y": 1
        },
        "margin": {
         "b": 20,
         "l": 0,
         "r": 0,
         "t": 0
        },
        "showlegend": false,
        "template": {
         "data": {
          "bar": [
           {
            "error_x": {
             "color": "#2a3f5f"
            },
            "error_y": {
             "color": "#2a3f5f"
            },
            "marker": {
             "line": {
              "color": "#E5ECF6",
              "width": 0.5
             }
            },
            "type": "bar"
           }
          ],
          "barpolar": [
           {
            "marker": {
             "line": {
              "color": "#E5ECF6",
              "width": 0.5
             }
            },
            "type": "barpolar"
           }
          ],
          "carpet": [
           {
            "aaxis": {
             "endlinecolor": "#2a3f5f",
             "gridcolor": "white",
             "linecolor": "white",
             "minorgridcolor": "white",
             "startlinecolor": "#2a3f5f"
            },
            "baxis": {
             "endlinecolor": "#2a3f5f",
             "gridcolor": "white",
             "linecolor": "white",
             "minorgridcolor": "white",
             "startlinecolor": "#2a3f5f"
            },
            "type": "carpet"
           }
          ],
          "choropleth": [
           {
            "colorbar": {
             "outlinewidth": 0,
             "ticks": ""
            },
            "type": "choropleth"
           }
          ],
          "contour": [
           {
            "colorbar": {
             "outlinewidth": 0,
             "ticks": ""
            },
            "colorscale": [
             [
              0,
              "#0d0887"
             ],
             [
              0.1111111111111111,
              "#46039f"
             ],
             [
              0.2222222222222222,
              "#7201a8"
             ],
             [
              0.3333333333333333,
              "#9c179e"
             ],
             [
              0.4444444444444444,
              "#bd3786"
             ],
             [
              0.5555555555555556,
              "#d8576b"
             ],
             [
              0.6666666666666666,
              "#ed7953"
             ],
             [
              0.7777777777777778,
              "#fb9f3a"
             ],
             [
              0.8888888888888888,
              "#fdca26"
             ],
             [
              1,
              "#f0f921"
             ]
            ],
            "type": "contour"
           }
          ],
          "contourcarpet": [
           {
            "colorbar": {
             "outlinewidth": 0,
             "ticks": ""
            },
            "type": "contourcarpet"
           }
          ],
          "heatmap": [
           {
            "colorbar": {
             "outlinewidth": 0,
             "ticks": ""
            },
            "colorscale": [
             [
              0,
              "#0d0887"
             ],
             [
              0.1111111111111111,
              "#46039f"
             ],
             [
              0.2222222222222222,
              "#7201a8"
             ],
             [
              0.3333333333333333,
              "#9c179e"
             ],
             [
              0.4444444444444444,
              "#bd3786"
             ],
             [
              0.5555555555555556,
              "#d8576b"
             ],
             [
              0.6666666666666666,
              "#ed7953"
             ],
             [
              0.7777777777777778,
              "#fb9f3a"
             ],
             [
              0.8888888888888888,
              "#fdca26"
             ],
             [
              1,
              "#f0f921"
             ]
            ],
            "type": "heatmap"
           }
          ],
          "heatmapgl": [
           {
            "colorbar": {
             "outlinewidth": 0,
             "ticks": ""
            },
            "colorscale": [
             [
              0,
              "#0d0887"
             ],
             [
              0.1111111111111111,
              "#46039f"
             ],
             [
              0.2222222222222222,
              "#7201a8"
             ],
             [
              0.3333333333333333,
              "#9c179e"
             ],
             [
              0.4444444444444444,
              "#bd3786"
             ],
             [
              0.5555555555555556,
              "#d8576b"
             ],
             [
              0.6666666666666666,
              "#ed7953"
             ],
             [
              0.7777777777777778,
              "#fb9f3a"
             ],
             [
              0.8888888888888888,
              "#fdca26"
             ],
             [
              1,
              "#f0f921"
             ]
            ],
            "type": "heatmapgl"
           }
          ],
          "histogram": [
           {
            "marker": {
             "colorbar": {
              "outlinewidth": 0,
              "ticks": ""
             }
            },
            "type": "histogram"
           }
          ],
          "histogram2d": [
           {
            "colorbar": {
             "outlinewidth": 0,
             "ticks": ""
            },
            "colorscale": [
             [
              0,
              "#0d0887"
             ],
             [
              0.1111111111111111,
              "#46039f"
             ],
             [
              0.2222222222222222,
              "#7201a8"
             ],
             [
              0.3333333333333333,
              "#9c179e"
             ],
             [
              0.4444444444444444,
              "#bd3786"
             ],
             [
              0.5555555555555556,
              "#d8576b"
             ],
             [
              0.6666666666666666,
              "#ed7953"
             ],
             [
              0.7777777777777778,
              "#fb9f3a"
             ],
             [
              0.8888888888888888,
              "#fdca26"
             ],
             [
              1,
              "#f0f921"
             ]
            ],
            "type": "histogram2d"
           }
          ],
          "histogram2dcontour": [
           {
            "colorbar": {
             "outlinewidth": 0,
             "ticks": ""
            },
            "colorscale": [
             [
              0,
              "#0d0887"
             ],
             [
              0.1111111111111111,
              "#46039f"
             ],
             [
              0.2222222222222222,
              "#7201a8"
             ],
             [
              0.3333333333333333,
              "#9c179e"
             ],
             [
              0.4444444444444444,
              "#bd3786"
             ],
             [
              0.5555555555555556,
              "#d8576b"
             ],
             [
              0.6666666666666666,
              "#ed7953"
             ],
             [
              0.7777777777777778,
              "#fb9f3a"
             ],
             [
              0.8888888888888888,
              "#fdca26"
             ],
             [
              1,
              "#f0f921"
             ]
            ],
            "type": "histogram2dcontour"
           }
          ],
          "mesh3d": [
           {
            "colorbar": {
             "outlinewidth": 0,
             "ticks": ""
            },
            "type": "mesh3d"
           }
          ],
          "parcoords": [
           {
            "line": {
             "colorbar": {
              "outlinewidth": 0,
              "ticks": ""
             }
            },
            "type": "parcoords"
           }
          ],
          "pie": [
           {
            "automargin": true,
            "type": "pie"
           }
          ],
          "scatter": [
           {
            "marker": {
             "colorbar": {
              "outlinewidth": 0,
              "ticks": ""
             }
            },
            "type": "scatter"
           }
          ],
          "scatter3d": [
           {
            "line": {
             "colorbar": {
              "outlinewidth": 0,
              "ticks": ""
             }
            },
            "marker": {
             "colorbar": {
              "outlinewidth": 0,
              "ticks": ""
             }
            },
            "type": "scatter3d"
           }
          ],
          "scattercarpet": [
           {
            "marker": {
             "colorbar": {
              "outlinewidth": 0,
              "ticks": ""
             }
            },
            "type": "scattercarpet"
           }
          ],
          "scattergeo": [
           {
            "marker": {
             "colorbar": {
              "outlinewidth": 0,
              "ticks": ""
             }
            },
            "type": "scattergeo"
           }
          ],
          "scattergl": [
           {
            "marker": {
             "colorbar": {
              "outlinewidth": 0,
              "ticks": ""
             }
            },
            "type": "scattergl"
           }
          ],
          "scattermapbox": [
           {
            "marker": {
             "colorbar": {
              "outlinewidth": 0,
              "ticks": ""
             }
            },
            "type": "scattermapbox"
           }
          ],
          "scatterpolar": [
           {
            "marker": {
             "colorbar": {
              "outlinewidth": 0,
              "ticks": ""
             }
            },
            "type": "scatterpolar"
           }
          ],
          "scatterpolargl": [
           {
            "marker": {
             "colorbar": {
              "outlinewidth": 0,
              "ticks": ""
             }
            },
            "type": "scatterpolargl"
           }
          ],
          "scatterternary": [
           {
            "marker": {
             "colorbar": {
              "outlinewidth": 0,
              "ticks": ""
             }
            },
            "type": "scatterternary"
           }
          ],
          "surface": [
           {
            "colorbar": {
             "outlinewidth": 0,
             "ticks": ""
            },
            "colorscale": [
             [
              0,
              "#0d0887"
             ],
             [
              0.1111111111111111,
              "#46039f"
             ],
             [
              0.2222222222222222,
              "#7201a8"
             ],
             [
              0.3333333333333333,
              "#9c179e"
             ],
             [
              0.4444444444444444,
              "#bd3786"
             ],
             [
              0.5555555555555556,
              "#d8576b"
             ],
             [
              0.6666666666666666,
              "#ed7953"
             ],
             [
              0.7777777777777778,
              "#fb9f3a"
             ],
             [
              0.8888888888888888,
              "#fdca26"
             ],
             [
              1,
              "#f0f921"
             ]
            ],
            "type": "surface"
           }
          ],
          "table": [
           {
            "cells": {
             "fill": {
              "color": "#EBF0F8"
             },
             "line": {
              "color": "white"
             }
            },
            "header": {
             "fill": {
              "color": "#C8D4E3"
             },
             "line": {
              "color": "white"
             }
            },
            "type": "table"
           }
          ]
         },
         "layout": {
          "annotationdefaults": {
           "arrowcolor": "#2a3f5f",
           "arrowhead": 0,
           "arrowwidth": 1
          },
          "coloraxis": {
           "colorbar": {
            "outlinewidth": 0,
            "ticks": ""
           }
          },
          "colorscale": {
           "diverging": [
            [
             0,
             "#8e0152"
            ],
            [
             0.1,
             "#c51b7d"
            ],
            [
             0.2,
             "#de77ae"
            ],
            [
             0.3,
             "#f1b6da"
            ],
            [
             0.4,
             "#fde0ef"
            ],
            [
             0.5,
             "#f7f7f7"
            ],
            [
             0.6,
             "#e6f5d0"
            ],
            [
             0.7,
             "#b8e186"
            ],
            [
             0.8,
             "#7fbc41"
            ],
            [
             0.9,
             "#4d9221"
            ],
            [
             1,
             "#276419"
            ]
           ],
           "sequential": [
            [
             0,
             "#0d0887"
            ],
            [
             0.1111111111111111,
             "#46039f"
            ],
            [
             0.2222222222222222,
             "#7201a8"
            ],
            [
             0.3333333333333333,
             "#9c179e"
            ],
            [
             0.4444444444444444,
             "#bd3786"
            ],
            [
             0.5555555555555556,
             "#d8576b"
            ],
            [
             0.6666666666666666,
             "#ed7953"
            ],
            [
             0.7777777777777778,
             "#fb9f3a"
            ],
            [
             0.8888888888888888,
             "#fdca26"
            ],
            [
             1,
             "#f0f921"
            ]
           ],
           "sequentialminus": [
            [
             0,
             "#0d0887"
            ],
            [
             0.1111111111111111,
             "#46039f"
            ],
            [
             0.2222222222222222,
             "#7201a8"
            ],
            [
             0.3333333333333333,
             "#9c179e"
            ],
            [
             0.4444444444444444,
             "#bd3786"
            ],
            [
             0.5555555555555556,
             "#d8576b"
            ],
            [
             0.6666666666666666,
             "#ed7953"
            ],
            [
             0.7777777777777778,
             "#fb9f3a"
            ],
            [
             0.8888888888888888,
             "#fdca26"
            ],
            [
             1,
             "#f0f921"
            ]
           ]
          },
          "colorway": [
           "#636efa",
           "#EF553B",
           "#00cc96",
           "#ab63fa",
           "#FFA15A",
           "#19d3f3",
           "#FF6692",
           "#B6E880",
           "#FF97FF",
           "#FECB52"
          ],
          "font": {
           "color": "#2a3f5f"
          },
          "geo": {
           "bgcolor": "white",
           "lakecolor": "white",
           "landcolor": "#E5ECF6",
           "showlakes": true,
           "showland": true,
           "subunitcolor": "white"
          },
          "hoverlabel": {
           "align": "left"
          },
          "hovermode": "closest",
          "mapbox": {
           "style": "light"
          },
          "paper_bgcolor": "white",
          "plot_bgcolor": "#E5ECF6",
          "polar": {
           "angularaxis": {
            "gridcolor": "white",
            "linecolor": "white",
            "ticks": ""
           },
           "bgcolor": "#E5ECF6",
           "radialaxis": {
            "gridcolor": "white",
            "linecolor": "white",
            "ticks": ""
           }
          },
          "scene": {
           "xaxis": {
            "backgroundcolor": "#E5ECF6",
            "gridcolor": "white",
            "gridwidth": 2,
            "linecolor": "white",
            "showbackground": true,
            "ticks": "",
            "zerolinecolor": "white"
           },
           "yaxis": {
            "backgroundcolor": "#E5ECF6",
            "gridcolor": "white",
            "gridwidth": 2,
            "linecolor": "white",
            "showbackground": true,
            "ticks": "",
            "zerolinecolor": "white"
           },
           "zaxis": {
            "backgroundcolor": "#E5ECF6",
            "gridcolor": "white",
            "gridwidth": 2,
            "linecolor": "white",
            "showbackground": true,
            "ticks": "",
            "zerolinecolor": "white"
           }
          },
          "shapedefaults": {
           "line": {
            "color": "#2a3f5f"
           }
          },
          "ternary": {
           "aaxis": {
            "gridcolor": "white",
            "linecolor": "white",
            "ticks": ""
           },
           "baxis": {
            "gridcolor": "white",
            "linecolor": "white",
            "ticks": ""
           },
           "bgcolor": "#E5ECF6",
           "caxis": {
            "gridcolor": "white",
            "linecolor": "white",
            "ticks": ""
           }
          },
          "title": {
           "x": 0.05
          },
          "xaxis": {
           "automargin": true,
           "gridcolor": "white",
           "linecolor": "white",
           "ticks": "",
           "title": {
            "standoff": 15
           },
           "zerolinecolor": "white",
           "zerolinewidth": 2
          },
          "yaxis": {
           "automargin": true,
           "gridcolor": "white",
           "linecolor": "white",
           "ticks": "",
           "title": {
            "standoff": 15
           },
           "zerolinecolor": "white",
           "zerolinewidth": 2
          }
         }
        }
       }
      },
      "text/html": [
       "<div>\n",
       "        \n",
       "        \n",
       "            <div id=\"ce6858ed-3c7f-4ae8-914f-7f6d498ca46c\" class=\"plotly-graph-div\" style=\"height:525px; width:100%;\"></div>\n",
       "            <script type=\"text/javascript\">\n",
       "                require([\"plotly\"], function(Plotly) {\n",
       "                    window.PLOTLYENV=window.PLOTLYENV || {};\n",
       "                    \n",
       "                if (document.getElementById(\"ce6858ed-3c7f-4ae8-914f-7f6d498ca46c\")) {\n",
       "                    Plotly.newPlot(\n",
       "                        'ce6858ed-3c7f-4ae8-914f-7f6d498ca46c',\n",
       "                        [{\"domain\": {\"x\": [0.0, 1.0], \"y\": [0.0, 1.0]}, \"hoverinfo\": \"label+percent\", \"hovertemplate\": \"%{label}<br>%{value}\", \"labels\": [\"Eastern Cape\", \"Free State\", \"Gauteng\", \"KwaZulu-Natal\", \"Limpopo\", \"Mpumalanga\", \"Northern Cape\", \"North West\", \"Western Cape\", \"Unknown\"], \"legendgroup\": \"\", \"name\": \"\", \"showlegend\": true, \"textinfo\": \"value+label\", \"textposition\": \"inside\", \"type\": \"pie\", \"values\": [647.0, 116.0, 1446.0, 980.0, 32.0, 36.0, 17.0, 31.0, 2342.0, 0.0]}],\n",
       "                        {\"legend\": {\"tracegroupgap\": 0, \"x\": 0, \"y\": 1}, \"margin\": {\"b\": 20, \"l\": 0, \"r\": 0, \"t\": 0}, \"showlegend\": false, \"template\": {\"data\": {\"bar\": [{\"error_x\": {\"color\": \"#2a3f5f\"}, \"error_y\": {\"color\": \"#2a3f5f\"}, \"marker\": {\"line\": {\"color\": \"#E5ECF6\", \"width\": 0.5}}, \"type\": \"bar\"}], \"barpolar\": [{\"marker\": {\"line\": {\"color\": \"#E5ECF6\", \"width\": 0.5}}, \"type\": \"barpolar\"}], \"carpet\": [{\"aaxis\": {\"endlinecolor\": \"#2a3f5f\", \"gridcolor\": \"white\", \"linecolor\": \"white\", \"minorgridcolor\": \"white\", \"startlinecolor\": \"#2a3f5f\"}, \"baxis\": {\"endlinecolor\": \"#2a3f5f\", \"gridcolor\": \"white\", \"linecolor\": \"white\", \"minorgridcolor\": \"white\", \"startlinecolor\": \"#2a3f5f\"}, \"type\": \"carpet\"}], \"choropleth\": [{\"colorbar\": {\"outlinewidth\": 0, \"ticks\": \"\"}, \"type\": \"choropleth\"}], \"contour\": [{\"colorbar\": {\"outlinewidth\": 0, \"ticks\": \"\"}, \"colorscale\": [[0.0, \"#0d0887\"], [0.1111111111111111, \"#46039f\"], [0.2222222222222222, \"#7201a8\"], [0.3333333333333333, \"#9c179e\"], [0.4444444444444444, \"#bd3786\"], [0.5555555555555556, \"#d8576b\"], [0.6666666666666666, \"#ed7953\"], [0.7777777777777778, \"#fb9f3a\"], [0.8888888888888888, \"#fdca26\"], [1.0, \"#f0f921\"]], \"type\": \"contour\"}], \"contourcarpet\": [{\"colorbar\": {\"outlinewidth\": 0, \"ticks\": \"\"}, \"type\": \"contourcarpet\"}], \"heatmap\": [{\"colorbar\": {\"outlinewidth\": 0, \"ticks\": \"\"}, \"colorscale\": [[0.0, \"#0d0887\"], [0.1111111111111111, \"#46039f\"], [0.2222222222222222, \"#7201a8\"], [0.3333333333333333, \"#9c179e\"], [0.4444444444444444, \"#bd3786\"], [0.5555555555555556, \"#d8576b\"], [0.6666666666666666, \"#ed7953\"], [0.7777777777777778, \"#fb9f3a\"], [0.8888888888888888, \"#fdca26\"], [1.0, \"#f0f921\"]], \"type\": \"heatmap\"}], \"heatmapgl\": [{\"colorbar\": {\"outlinewidth\": 0, \"ticks\": \"\"}, \"colorscale\": [[0.0, \"#0d0887\"], [0.1111111111111111, \"#46039f\"], [0.2222222222222222, \"#7201a8\"], [0.3333333333333333, \"#9c179e\"], [0.4444444444444444, \"#bd3786\"], [0.5555555555555556, \"#d8576b\"], [0.6666666666666666, \"#ed7953\"], [0.7777777777777778, \"#fb9f3a\"], [0.8888888888888888, \"#fdca26\"], [1.0, \"#f0f921\"]], \"type\": \"heatmapgl\"}], \"histogram\": [{\"marker\": {\"colorbar\": {\"outlinewidth\": 0, \"ticks\": \"\"}}, \"type\": \"histogram\"}], \"histogram2d\": [{\"colorbar\": {\"outlinewidth\": 0, \"ticks\": \"\"}, \"colorscale\": [[0.0, \"#0d0887\"], [0.1111111111111111, \"#46039f\"], [0.2222222222222222, \"#7201a8\"], [0.3333333333333333, \"#9c179e\"], [0.4444444444444444, \"#bd3786\"], [0.5555555555555556, \"#d8576b\"], [0.6666666666666666, \"#ed7953\"], [0.7777777777777778, \"#fb9f3a\"], [0.8888888888888888, \"#fdca26\"], [1.0, \"#f0f921\"]], \"type\": \"histogram2d\"}], \"histogram2dcontour\": [{\"colorbar\": {\"outlinewidth\": 0, \"ticks\": \"\"}, \"colorscale\": [[0.0, \"#0d0887\"], [0.1111111111111111, \"#46039f\"], [0.2222222222222222, \"#7201a8\"], [0.3333333333333333, \"#9c179e\"], [0.4444444444444444, \"#bd3786\"], [0.5555555555555556, \"#d8576b\"], [0.6666666666666666, \"#ed7953\"], [0.7777777777777778, \"#fb9f3a\"], [0.8888888888888888, \"#fdca26\"], [1.0, \"#f0f921\"]], \"type\": \"histogram2dcontour\"}], \"mesh3d\": [{\"colorbar\": {\"outlinewidth\": 0, \"ticks\": \"\"}, \"type\": \"mesh3d\"}], \"parcoords\": [{\"line\": {\"colorbar\": {\"outlinewidth\": 0, \"ticks\": \"\"}}, \"type\": \"parcoords\"}], \"pie\": [{\"automargin\": true, \"type\": \"pie\"}], \"scatter\": [{\"marker\": {\"colorbar\": {\"outlinewidth\": 0, \"ticks\": \"\"}}, \"type\": \"scatter\"}], \"scatter3d\": [{\"line\": {\"colorbar\": {\"outlinewidth\": 0, \"ticks\": \"\"}}, \"marker\": {\"colorbar\": {\"outlinewidth\": 0, \"ticks\": \"\"}}, \"type\": \"scatter3d\"}], \"scattercarpet\": [{\"marker\": {\"colorbar\": {\"outlinewidth\": 0, \"ticks\": \"\"}}, \"type\": \"scattercarpet\"}], \"scattergeo\": [{\"marker\": {\"colorbar\": {\"outlinewidth\": 0, \"ticks\": \"\"}}, \"type\": \"scattergeo\"}], \"scattergl\": [{\"marker\": {\"colorbar\": {\"outlinewidth\": 0, \"ticks\": \"\"}}, \"type\": \"scattergl\"}], \"scattermapbox\": [{\"marker\": {\"colorbar\": {\"outlinewidth\": 0, \"ticks\": \"\"}}, \"type\": \"scattermapbox\"}], \"scatterpolar\": [{\"marker\": {\"colorbar\": {\"outlinewidth\": 0, \"ticks\": \"\"}}, \"type\": \"scatterpolar\"}], \"scatterpolargl\": [{\"marker\": {\"colorbar\": {\"outlinewidth\": 0, \"ticks\": \"\"}}, \"type\": \"scatterpolargl\"}], \"scatterternary\": [{\"marker\": {\"colorbar\": {\"outlinewidth\": 0, \"ticks\": \"\"}}, \"type\": \"scatterternary\"}], \"surface\": [{\"colorbar\": {\"outlinewidth\": 0, \"ticks\": \"\"}, \"colorscale\": [[0.0, \"#0d0887\"], [0.1111111111111111, \"#46039f\"], [0.2222222222222222, \"#7201a8\"], [0.3333333333333333, \"#9c179e\"], [0.4444444444444444, \"#bd3786\"], [0.5555555555555556, \"#d8576b\"], [0.6666666666666666, \"#ed7953\"], [0.7777777777777778, \"#fb9f3a\"], [0.8888888888888888, \"#fdca26\"], [1.0, \"#f0f921\"]], \"type\": \"surface\"}], \"table\": [{\"cells\": {\"fill\": {\"color\": \"#EBF0F8\"}, \"line\": {\"color\": \"white\"}}, \"header\": {\"fill\": {\"color\": \"#C8D4E3\"}, \"line\": {\"color\": \"white\"}}, \"type\": \"table\"}]}, \"layout\": {\"annotationdefaults\": {\"arrowcolor\": \"#2a3f5f\", \"arrowhead\": 0, \"arrowwidth\": 1}, \"coloraxis\": {\"colorbar\": {\"outlinewidth\": 0, \"ticks\": \"\"}}, \"colorscale\": {\"diverging\": [[0, \"#8e0152\"], [0.1, \"#c51b7d\"], [0.2, \"#de77ae\"], [0.3, \"#f1b6da\"], [0.4, \"#fde0ef\"], [0.5, \"#f7f7f7\"], [0.6, \"#e6f5d0\"], [0.7, \"#b8e186\"], [0.8, \"#7fbc41\"], [0.9, \"#4d9221\"], [1, \"#276419\"]], \"sequential\": [[0.0, \"#0d0887\"], [0.1111111111111111, \"#46039f\"], [0.2222222222222222, \"#7201a8\"], [0.3333333333333333, \"#9c179e\"], [0.4444444444444444, \"#bd3786\"], [0.5555555555555556, \"#d8576b\"], [0.6666666666666666, \"#ed7953\"], [0.7777777777777778, \"#fb9f3a\"], [0.8888888888888888, \"#fdca26\"], [1.0, \"#f0f921\"]], \"sequentialminus\": [[0.0, \"#0d0887\"], [0.1111111111111111, \"#46039f\"], [0.2222222222222222, \"#7201a8\"], [0.3333333333333333, \"#9c179e\"], [0.4444444444444444, \"#bd3786\"], [0.5555555555555556, \"#d8576b\"], [0.6666666666666666, \"#ed7953\"], [0.7777777777777778, \"#fb9f3a\"], [0.8888888888888888, \"#fdca26\"], [1.0, \"#f0f921\"]]}, \"colorway\": [\"#636efa\", \"#EF553B\", \"#00cc96\", \"#ab63fa\", \"#FFA15A\", \"#19d3f3\", \"#FF6692\", \"#B6E880\", \"#FF97FF\", \"#FECB52\"], \"font\": {\"color\": \"#2a3f5f\"}, \"geo\": {\"bgcolor\": \"white\", \"lakecolor\": \"white\", \"landcolor\": \"#E5ECF6\", \"showlakes\": true, \"showland\": true, \"subunitcolor\": \"white\"}, \"hoverlabel\": {\"align\": \"left\"}, \"hovermode\": \"closest\", \"mapbox\": {\"style\": \"light\"}, \"paper_bgcolor\": \"white\", \"plot_bgcolor\": \"#E5ECF6\", \"polar\": {\"angularaxis\": {\"gridcolor\": \"white\", \"linecolor\": \"white\", \"ticks\": \"\"}, \"bgcolor\": \"#E5ECF6\", \"radialaxis\": {\"gridcolor\": \"white\", \"linecolor\": \"white\", \"ticks\": \"\"}}, \"scene\": {\"xaxis\": {\"backgroundcolor\": \"#E5ECF6\", \"gridcolor\": \"white\", \"gridwidth\": 2, \"linecolor\": \"white\", \"showbackground\": true, \"ticks\": \"\", \"zerolinecolor\": \"white\"}, \"yaxis\": {\"backgroundcolor\": \"#E5ECF6\", \"gridcolor\": \"white\", \"gridwidth\": 2, \"linecolor\": \"white\", \"showbackground\": true, \"ticks\": \"\", \"zerolinecolor\": \"white\"}, \"zaxis\": {\"backgroundcolor\": \"#E5ECF6\", \"gridcolor\": \"white\", \"gridwidth\": 2, \"linecolor\": \"white\", \"showbackground\": true, \"ticks\": \"\", \"zerolinecolor\": \"white\"}}, \"shapedefaults\": {\"line\": {\"color\": \"#2a3f5f\"}}, \"ternary\": {\"aaxis\": {\"gridcolor\": \"white\", \"linecolor\": \"white\", \"ticks\": \"\"}, \"baxis\": {\"gridcolor\": \"white\", \"linecolor\": \"white\", \"ticks\": \"\"}, \"bgcolor\": \"#E5ECF6\", \"caxis\": {\"gridcolor\": \"white\", \"linecolor\": \"white\", \"ticks\": \"\"}}, \"title\": {\"x\": 0.05}, \"xaxis\": {\"automargin\": true, \"gridcolor\": \"white\", \"linecolor\": \"white\", \"ticks\": \"\", \"title\": {\"standoff\": 15}, \"zerolinecolor\": \"white\", \"zerolinewidth\": 2}, \"yaxis\": {\"automargin\": true, \"gridcolor\": \"white\", \"linecolor\": \"white\", \"ticks\": \"\", \"title\": {\"standoff\": 15}, \"zerolinecolor\": \"white\", \"zerolinewidth\": 2}}}},\n",
       "                        {\"responsive\": true}\n",
       "                    ).then(function(){\n",
       "                            \n",
       "var gd = document.getElementById('ce6858ed-3c7f-4ae8-914f-7f6d498ca46c');\n",
       "var x = new MutationObserver(function (mutations, observer) {{\n",
       "        var display = window.getComputedStyle(gd).display;\n",
       "        if (!display || display === 'none') {{\n",
       "            console.log([gd, 'removed!']);\n",
       "            Plotly.purge(gd);\n",
       "            observer.disconnect();\n",
       "        }}\n",
       "}});\n",
       "\n",
       "// Listen for the removal of the full notebook cells\n",
       "var notebookContainer = gd.closest('#notebook-container');\n",
       "if (notebookContainer) {{\n",
       "    x.observe(notebookContainer, {childList: true});\n",
       "}}\n",
       "\n",
       "// Listen for the clearing of the current output cell\n",
       "var outputEl = gd.closest('.output');\n",
       "if (outputEl) {{\n",
       "    x.observe(outputEl, {childList: true});\n",
       "}}\n",
       "\n",
       "                        })\n",
       "                };\n",
       "                });\n",
       "            </script>\n",
       "        </div>"
      ]
     },
     "metadata": {},
     "output_type": "display_data"
    }
   ],
   "source": [
    "create_pie_chart(prov_totals_data, 'total', 'province', 'tot_cases_per_province.html')"
   ]
  },
  {
   "cell_type": "markdown",
   "metadata": {},
   "source": [
    "### Deaths Per Province"
   ]
  },
  {
   "cell_type": "code",
   "execution_count": 115,
   "metadata": {},
   "outputs": [
    {
     "data": {
      "text/html": [
       "<div>\n",
       "<style scoped>\n",
       "    .dataframe tbody tr th:only-of-type {\n",
       "        vertical-align: middle;\n",
       "    }\n",
       "\n",
       "    .dataframe tbody tr th {\n",
       "        vertical-align: top;\n",
       "    }\n",
       "\n",
       "    .dataframe thead th {\n",
       "        text-align: right;\n",
       "    }\n",
       "</style>\n",
       "<table border=\"1\" class=\"dataframe\">\n",
       "  <thead>\n",
       "    <tr style=\"text-align: right;\">\n",
       "      <th></th>\n",
       "      <th>province</th>\n",
       "      <th>tot_deaths</th>\n",
       "    </tr>\n",
       "  </thead>\n",
       "  <tbody>\n",
       "    <tr>\n",
       "      <th>0</th>\n",
       "      <td>Eastern Cape</td>\n",
       "      <td>11</td>\n",
       "    </tr>\n",
       "    <tr>\n",
       "      <th>1</th>\n",
       "      <td>Free State</td>\n",
       "      <td>5</td>\n",
       "    </tr>\n",
       "    <tr>\n",
       "      <th>2</th>\n",
       "      <td>Gauteng</td>\n",
       "      <td>11</td>\n",
       "    </tr>\n",
       "    <tr>\n",
       "      <th>3</th>\n",
       "      <td>KwaZulu-Natal</td>\n",
       "      <td>32</td>\n",
       "    </tr>\n",
       "    <tr>\n",
       "      <th>4</th>\n",
       "      <td>Limpopo</td>\n",
       "      <td>2</td>\n",
       "    </tr>\n",
       "    <tr>\n",
       "      <th>5</th>\n",
       "      <td>Mpumalanga</td>\n",
       "      <td>0</td>\n",
       "    </tr>\n",
       "    <tr>\n",
       "      <th>6</th>\n",
       "      <td>Northern Cape</td>\n",
       "      <td>0</td>\n",
       "    </tr>\n",
       "    <tr>\n",
       "      <th>7</th>\n",
       "      <td>North West</td>\n",
       "      <td>0</td>\n",
       "    </tr>\n",
       "    <tr>\n",
       "      <th>8</th>\n",
       "      <td>Western Cape</td>\n",
       "      <td>42</td>\n",
       "    </tr>\n",
       "    <tr>\n",
       "      <th>9</th>\n",
       "      <td>Unknown</td>\n",
       "      <td>0</td>\n",
       "    </tr>\n",
       "  </tbody>\n",
       "</table>\n",
       "</div>"
      ],
      "text/plain": [
       "        province  tot_deaths\n",
       "0   Eastern Cape          11\n",
       "1     Free State           5\n",
       "2        Gauteng          11\n",
       "3  KwaZulu-Natal          32\n",
       "4        Limpopo           2\n",
       "5     Mpumalanga           0\n",
       "6  Northern Cape           0\n",
       "7     North West           0\n",
       "8   Western Cape          42\n",
       "9        Unknown           0"
      ]
     },
     "execution_count": 115,
     "metadata": {},
     "output_type": "execute_result"
    }
   ],
   "source": [
    "prov_deaths_totals_data = pd.read_csv('data/tot_deaths_provinces.csv')\n",
    "prov_deaths_totals_data"
   ]
  },
  {
   "cell_type": "code",
   "execution_count": 116,
   "metadata": {},
   "outputs": [
    {
     "data": {
      "application/vnd.plotly.v1+json": {
       "config": {
        "plotlyServerURL": "https://plot.ly"
       },
       "data": [
        {
         "domain": {
          "x": [
           0,
           1
          ],
          "y": [
           0,
           1
          ]
         },
         "hoverinfo": "label+percent",
         "hovertemplate": "%{label}<br>%{value}",
         "labels": [
          "Eastern Cape",
          "Free State",
          "Gauteng",
          "KwaZulu-Natal",
          "Limpopo",
          "Mpumalanga",
          "Northern Cape",
          "North West",
          "Western Cape",
          "Unknown"
         ],
         "legendgroup": "",
         "name": "",
         "showlegend": true,
         "textinfo": "value+label",
         "textposition": "inside",
         "type": "pie",
         "values": [
          11,
          5,
          11,
          32,
          2,
          0,
          0,
          0,
          42,
          0
         ]
        }
       ],
       "layout": {
        "legend": {
         "tracegroupgap": 0,
         "x": 0,
         "y": 1
        },
        "margin": {
         "b": 20,
         "l": 0,
         "r": 0,
         "t": 0
        },
        "showlegend": false,
        "template": {
         "data": {
          "bar": [
           {
            "error_x": {
             "color": "#2a3f5f"
            },
            "error_y": {
             "color": "#2a3f5f"
            },
            "marker": {
             "line": {
              "color": "#E5ECF6",
              "width": 0.5
             }
            },
            "type": "bar"
           }
          ],
          "barpolar": [
           {
            "marker": {
             "line": {
              "color": "#E5ECF6",
              "width": 0.5
             }
            },
            "type": "barpolar"
           }
          ],
          "carpet": [
           {
            "aaxis": {
             "endlinecolor": "#2a3f5f",
             "gridcolor": "white",
             "linecolor": "white",
             "minorgridcolor": "white",
             "startlinecolor": "#2a3f5f"
            },
            "baxis": {
             "endlinecolor": "#2a3f5f",
             "gridcolor": "white",
             "linecolor": "white",
             "minorgridcolor": "white",
             "startlinecolor": "#2a3f5f"
            },
            "type": "carpet"
           }
          ],
          "choropleth": [
           {
            "colorbar": {
             "outlinewidth": 0,
             "ticks": ""
            },
            "type": "choropleth"
           }
          ],
          "contour": [
           {
            "colorbar": {
             "outlinewidth": 0,
             "ticks": ""
            },
            "colorscale": [
             [
              0,
              "#0d0887"
             ],
             [
              0.1111111111111111,
              "#46039f"
             ],
             [
              0.2222222222222222,
              "#7201a8"
             ],
             [
              0.3333333333333333,
              "#9c179e"
             ],
             [
              0.4444444444444444,
              "#bd3786"
             ],
             [
              0.5555555555555556,
              "#d8576b"
             ],
             [
              0.6666666666666666,
              "#ed7953"
             ],
             [
              0.7777777777777778,
              "#fb9f3a"
             ],
             [
              0.8888888888888888,
              "#fdca26"
             ],
             [
              1,
              "#f0f921"
             ]
            ],
            "type": "contour"
           }
          ],
          "contourcarpet": [
           {
            "colorbar": {
             "outlinewidth": 0,
             "ticks": ""
            },
            "type": "contourcarpet"
           }
          ],
          "heatmap": [
           {
            "colorbar": {
             "outlinewidth": 0,
             "ticks": ""
            },
            "colorscale": [
             [
              0,
              "#0d0887"
             ],
             [
              0.1111111111111111,
              "#46039f"
             ],
             [
              0.2222222222222222,
              "#7201a8"
             ],
             [
              0.3333333333333333,
              "#9c179e"
             ],
             [
              0.4444444444444444,
              "#bd3786"
             ],
             [
              0.5555555555555556,
              "#d8576b"
             ],
             [
              0.6666666666666666,
              "#ed7953"
             ],
             [
              0.7777777777777778,
              "#fb9f3a"
             ],
             [
              0.8888888888888888,
              "#fdca26"
             ],
             [
              1,
              "#f0f921"
             ]
            ],
            "type": "heatmap"
           }
          ],
          "heatmapgl": [
           {
            "colorbar": {
             "outlinewidth": 0,
             "ticks": ""
            },
            "colorscale": [
             [
              0,
              "#0d0887"
             ],
             [
              0.1111111111111111,
              "#46039f"
             ],
             [
              0.2222222222222222,
              "#7201a8"
             ],
             [
              0.3333333333333333,
              "#9c179e"
             ],
             [
              0.4444444444444444,
              "#bd3786"
             ],
             [
              0.5555555555555556,
              "#d8576b"
             ],
             [
              0.6666666666666666,
              "#ed7953"
             ],
             [
              0.7777777777777778,
              "#fb9f3a"
             ],
             [
              0.8888888888888888,
              "#fdca26"
             ],
             [
              1,
              "#f0f921"
             ]
            ],
            "type": "heatmapgl"
           }
          ],
          "histogram": [
           {
            "marker": {
             "colorbar": {
              "outlinewidth": 0,
              "ticks": ""
             }
            },
            "type": "histogram"
           }
          ],
          "histogram2d": [
           {
            "colorbar": {
             "outlinewidth": 0,
             "ticks": ""
            },
            "colorscale": [
             [
              0,
              "#0d0887"
             ],
             [
              0.1111111111111111,
              "#46039f"
             ],
             [
              0.2222222222222222,
              "#7201a8"
             ],
             [
              0.3333333333333333,
              "#9c179e"
             ],
             [
              0.4444444444444444,
              "#bd3786"
             ],
             [
              0.5555555555555556,
              "#d8576b"
             ],
             [
              0.6666666666666666,
              "#ed7953"
             ],
             [
              0.7777777777777778,
              "#fb9f3a"
             ],
             [
              0.8888888888888888,
              "#fdca26"
             ],
             [
              1,
              "#f0f921"
             ]
            ],
            "type": "histogram2d"
           }
          ],
          "histogram2dcontour": [
           {
            "colorbar": {
             "outlinewidth": 0,
             "ticks": ""
            },
            "colorscale": [
             [
              0,
              "#0d0887"
             ],
             [
              0.1111111111111111,
              "#46039f"
             ],
             [
              0.2222222222222222,
              "#7201a8"
             ],
             [
              0.3333333333333333,
              "#9c179e"
             ],
             [
              0.4444444444444444,
              "#bd3786"
             ],
             [
              0.5555555555555556,
              "#d8576b"
             ],
             [
              0.6666666666666666,
              "#ed7953"
             ],
             [
              0.7777777777777778,
              "#fb9f3a"
             ],
             [
              0.8888888888888888,
              "#fdca26"
             ],
             [
              1,
              "#f0f921"
             ]
            ],
            "type": "histogram2dcontour"
           }
          ],
          "mesh3d": [
           {
            "colorbar": {
             "outlinewidth": 0,
             "ticks": ""
            },
            "type": "mesh3d"
           }
          ],
          "parcoords": [
           {
            "line": {
             "colorbar": {
              "outlinewidth": 0,
              "ticks": ""
             }
            },
            "type": "parcoords"
           }
          ],
          "pie": [
           {
            "automargin": true,
            "type": "pie"
           }
          ],
          "scatter": [
           {
            "marker": {
             "colorbar": {
              "outlinewidth": 0,
              "ticks": ""
             }
            },
            "type": "scatter"
           }
          ],
          "scatter3d": [
           {
            "line": {
             "colorbar": {
              "outlinewidth": 0,
              "ticks": ""
             }
            },
            "marker": {
             "colorbar": {
              "outlinewidth": 0,
              "ticks": ""
             }
            },
            "type": "scatter3d"
           }
          ],
          "scattercarpet": [
           {
            "marker": {
             "colorbar": {
              "outlinewidth": 0,
              "ticks": ""
             }
            },
            "type": "scattercarpet"
           }
          ],
          "scattergeo": [
           {
            "marker": {
             "colorbar": {
              "outlinewidth": 0,
              "ticks": ""
             }
            },
            "type": "scattergeo"
           }
          ],
          "scattergl": [
           {
            "marker": {
             "colorbar": {
              "outlinewidth": 0,
              "ticks": ""
             }
            },
            "type": "scattergl"
           }
          ],
          "scattermapbox": [
           {
            "marker": {
             "colorbar": {
              "outlinewidth": 0,
              "ticks": ""
             }
            },
            "type": "scattermapbox"
           }
          ],
          "scatterpolar": [
           {
            "marker": {
             "colorbar": {
              "outlinewidth": 0,
              "ticks": ""
             }
            },
            "type": "scatterpolar"
           }
          ],
          "scatterpolargl": [
           {
            "marker": {
             "colorbar": {
              "outlinewidth": 0,
              "ticks": ""
             }
            },
            "type": "scatterpolargl"
           }
          ],
          "scatterternary": [
           {
            "marker": {
             "colorbar": {
              "outlinewidth": 0,
              "ticks": ""
             }
            },
            "type": "scatterternary"
           }
          ],
          "surface": [
           {
            "colorbar": {
             "outlinewidth": 0,
             "ticks": ""
            },
            "colorscale": [
             [
              0,
              "#0d0887"
             ],
             [
              0.1111111111111111,
              "#46039f"
             ],
             [
              0.2222222222222222,
              "#7201a8"
             ],
             [
              0.3333333333333333,
              "#9c179e"
             ],
             [
              0.4444444444444444,
              "#bd3786"
             ],
             [
              0.5555555555555556,
              "#d8576b"
             ],
             [
              0.6666666666666666,
              "#ed7953"
             ],
             [
              0.7777777777777778,
              "#fb9f3a"
             ],
             [
              0.8888888888888888,
              "#fdca26"
             ],
             [
              1,
              "#f0f921"
             ]
            ],
            "type": "surface"
           }
          ],
          "table": [
           {
            "cells": {
             "fill": {
              "color": "#EBF0F8"
             },
             "line": {
              "color": "white"
             }
            },
            "header": {
             "fill": {
              "color": "#C8D4E3"
             },
             "line": {
              "color": "white"
             }
            },
            "type": "table"
           }
          ]
         },
         "layout": {
          "annotationdefaults": {
           "arrowcolor": "#2a3f5f",
           "arrowhead": 0,
           "arrowwidth": 1
          },
          "coloraxis": {
           "colorbar": {
            "outlinewidth": 0,
            "ticks": ""
           }
          },
          "colorscale": {
           "diverging": [
            [
             0,
             "#8e0152"
            ],
            [
             0.1,
             "#c51b7d"
            ],
            [
             0.2,
             "#de77ae"
            ],
            [
             0.3,
             "#f1b6da"
            ],
            [
             0.4,
             "#fde0ef"
            ],
            [
             0.5,
             "#f7f7f7"
            ],
            [
             0.6,
             "#e6f5d0"
            ],
            [
             0.7,
             "#b8e186"
            ],
            [
             0.8,
             "#7fbc41"
            ],
            [
             0.9,
             "#4d9221"
            ],
            [
             1,
             "#276419"
            ]
           ],
           "sequential": [
            [
             0,
             "#0d0887"
            ],
            [
             0.1111111111111111,
             "#46039f"
            ],
            [
             0.2222222222222222,
             "#7201a8"
            ],
            [
             0.3333333333333333,
             "#9c179e"
            ],
            [
             0.4444444444444444,
             "#bd3786"
            ],
            [
             0.5555555555555556,
             "#d8576b"
            ],
            [
             0.6666666666666666,
             "#ed7953"
            ],
            [
             0.7777777777777778,
             "#fb9f3a"
            ],
            [
             0.8888888888888888,
             "#fdca26"
            ],
            [
             1,
             "#f0f921"
            ]
           ],
           "sequentialminus": [
            [
             0,
             "#0d0887"
            ],
            [
             0.1111111111111111,
             "#46039f"
            ],
            [
             0.2222222222222222,
             "#7201a8"
            ],
            [
             0.3333333333333333,
             "#9c179e"
            ],
            [
             0.4444444444444444,
             "#bd3786"
            ],
            [
             0.5555555555555556,
             "#d8576b"
            ],
            [
             0.6666666666666666,
             "#ed7953"
            ],
            [
             0.7777777777777778,
             "#fb9f3a"
            ],
            [
             0.8888888888888888,
             "#fdca26"
            ],
            [
             1,
             "#f0f921"
            ]
           ]
          },
          "colorway": [
           "#636efa",
           "#EF553B",
           "#00cc96",
           "#ab63fa",
           "#FFA15A",
           "#19d3f3",
           "#FF6692",
           "#B6E880",
           "#FF97FF",
           "#FECB52"
          ],
          "font": {
           "color": "#2a3f5f"
          },
          "geo": {
           "bgcolor": "white",
           "lakecolor": "white",
           "landcolor": "#E5ECF6",
           "showlakes": true,
           "showland": true,
           "subunitcolor": "white"
          },
          "hoverlabel": {
           "align": "left"
          },
          "hovermode": "closest",
          "mapbox": {
           "style": "light"
          },
          "paper_bgcolor": "white",
          "plot_bgcolor": "#E5ECF6",
          "polar": {
           "angularaxis": {
            "gridcolor": "white",
            "linecolor": "white",
            "ticks": ""
           },
           "bgcolor": "#E5ECF6",
           "radialaxis": {
            "gridcolor": "white",
            "linecolor": "white",
            "ticks": ""
           }
          },
          "scene": {
           "xaxis": {
            "backgroundcolor": "#E5ECF6",
            "gridcolor": "white",
            "gridwidth": 2,
            "linecolor": "white",
            "showbackground": true,
            "ticks": "",
            "zerolinecolor": "white"
           },
           "yaxis": {
            "backgroundcolor": "#E5ECF6",
            "gridcolor": "white",
            "gridwidth": 2,
            "linecolor": "white",
            "showbackground": true,
            "ticks": "",
            "zerolinecolor": "white"
           },
           "zaxis": {
            "backgroundcolor": "#E5ECF6",
            "gridcolor": "white",
            "gridwidth": 2,
            "linecolor": "white",
            "showbackground": true,
            "ticks": "",
            "zerolinecolor": "white"
           }
          },
          "shapedefaults": {
           "line": {
            "color": "#2a3f5f"
           }
          },
          "ternary": {
           "aaxis": {
            "gridcolor": "white",
            "linecolor": "white",
            "ticks": ""
           },
           "baxis": {
            "gridcolor": "white",
            "linecolor": "white",
            "ticks": ""
           },
           "bgcolor": "#E5ECF6",
           "caxis": {
            "gridcolor": "white",
            "linecolor": "white",
            "ticks": ""
           }
          },
          "title": {
           "x": 0.05
          },
          "xaxis": {
           "automargin": true,
           "gridcolor": "white",
           "linecolor": "white",
           "ticks": "",
           "title": {
            "standoff": 15
           },
           "zerolinecolor": "white",
           "zerolinewidth": 2
          },
          "yaxis": {
           "automargin": true,
           "gridcolor": "white",
           "linecolor": "white",
           "ticks": "",
           "title": {
            "standoff": 15
           },
           "zerolinecolor": "white",
           "zerolinewidth": 2
          }
         }
        }
       }
      },
      "text/html": [
       "<div>\n",
       "        \n",
       "        \n",
       "            <div id=\"e11370e4-631d-4c27-b04a-3c580b685d05\" class=\"plotly-graph-div\" style=\"height:525px; width:100%;\"></div>\n",
       "            <script type=\"text/javascript\">\n",
       "                require([\"plotly\"], function(Plotly) {\n",
       "                    window.PLOTLYENV=window.PLOTLYENV || {};\n",
       "                    \n",
       "                if (document.getElementById(\"e11370e4-631d-4c27-b04a-3c580b685d05\")) {\n",
       "                    Plotly.newPlot(\n",
       "                        'e11370e4-631d-4c27-b04a-3c580b685d05',\n",
       "                        [{\"domain\": {\"x\": [0.0, 1.0], \"y\": [0.0, 1.0]}, \"hoverinfo\": \"label+percent\", \"hovertemplate\": \"%{label}<br>%{value}\", \"labels\": [\"Eastern Cape\", \"Free State\", \"Gauteng\", \"KwaZulu-Natal\", \"Limpopo\", \"Mpumalanga\", \"Northern Cape\", \"North West\", \"Western Cape\", \"Unknown\"], \"legendgroup\": \"\", \"name\": \"\", \"showlegend\": true, \"textinfo\": \"value+label\", \"textposition\": \"inside\", \"type\": \"pie\", \"values\": [11, 5, 11, 32, 2, 0, 0, 0, 42, 0]}],\n",
       "                        {\"legend\": {\"tracegroupgap\": 0, \"x\": 0, \"y\": 1}, \"margin\": {\"b\": 20, \"l\": 0, \"r\": 0, \"t\": 0}, \"showlegend\": false, \"template\": {\"data\": {\"bar\": [{\"error_x\": {\"color\": \"#2a3f5f\"}, \"error_y\": {\"color\": \"#2a3f5f\"}, \"marker\": {\"line\": {\"color\": \"#E5ECF6\", \"width\": 0.5}}, \"type\": \"bar\"}], \"barpolar\": [{\"marker\": {\"line\": {\"color\": \"#E5ECF6\", \"width\": 0.5}}, \"type\": \"barpolar\"}], \"carpet\": [{\"aaxis\": {\"endlinecolor\": \"#2a3f5f\", \"gridcolor\": \"white\", \"linecolor\": \"white\", \"minorgridcolor\": \"white\", \"startlinecolor\": \"#2a3f5f\"}, \"baxis\": {\"endlinecolor\": \"#2a3f5f\", \"gridcolor\": \"white\", \"linecolor\": \"white\", \"minorgridcolor\": \"white\", \"startlinecolor\": \"#2a3f5f\"}, \"type\": \"carpet\"}], \"choropleth\": [{\"colorbar\": {\"outlinewidth\": 0, \"ticks\": \"\"}, \"type\": \"choropleth\"}], \"contour\": [{\"colorbar\": {\"outlinewidth\": 0, \"ticks\": \"\"}, \"colorscale\": [[0.0, \"#0d0887\"], [0.1111111111111111, \"#46039f\"], [0.2222222222222222, \"#7201a8\"], [0.3333333333333333, \"#9c179e\"], [0.4444444444444444, \"#bd3786\"], [0.5555555555555556, \"#d8576b\"], [0.6666666666666666, \"#ed7953\"], [0.7777777777777778, \"#fb9f3a\"], [0.8888888888888888, \"#fdca26\"], [1.0, \"#f0f921\"]], \"type\": \"contour\"}], \"contourcarpet\": [{\"colorbar\": {\"outlinewidth\": 0, \"ticks\": \"\"}, \"type\": \"contourcarpet\"}], \"heatmap\": [{\"colorbar\": {\"outlinewidth\": 0, \"ticks\": \"\"}, \"colorscale\": [[0.0, \"#0d0887\"], [0.1111111111111111, \"#46039f\"], [0.2222222222222222, \"#7201a8\"], [0.3333333333333333, \"#9c179e\"], [0.4444444444444444, \"#bd3786\"], [0.5555555555555556, \"#d8576b\"], [0.6666666666666666, \"#ed7953\"], [0.7777777777777778, \"#fb9f3a\"], [0.8888888888888888, \"#fdca26\"], [1.0, \"#f0f921\"]], \"type\": \"heatmap\"}], \"heatmapgl\": [{\"colorbar\": {\"outlinewidth\": 0, \"ticks\": \"\"}, \"colorscale\": [[0.0, \"#0d0887\"], [0.1111111111111111, \"#46039f\"], [0.2222222222222222, \"#7201a8\"], [0.3333333333333333, \"#9c179e\"], [0.4444444444444444, \"#bd3786\"], [0.5555555555555556, \"#d8576b\"], [0.6666666666666666, \"#ed7953\"], [0.7777777777777778, \"#fb9f3a\"], [0.8888888888888888, \"#fdca26\"], [1.0, \"#f0f921\"]], \"type\": \"heatmapgl\"}], \"histogram\": [{\"marker\": {\"colorbar\": {\"outlinewidth\": 0, \"ticks\": \"\"}}, \"type\": \"histogram\"}], \"histogram2d\": [{\"colorbar\": {\"outlinewidth\": 0, \"ticks\": \"\"}, \"colorscale\": [[0.0, \"#0d0887\"], [0.1111111111111111, \"#46039f\"], [0.2222222222222222, \"#7201a8\"], [0.3333333333333333, \"#9c179e\"], [0.4444444444444444, \"#bd3786\"], [0.5555555555555556, \"#d8576b\"], [0.6666666666666666, \"#ed7953\"], [0.7777777777777778, \"#fb9f3a\"], [0.8888888888888888, \"#fdca26\"], [1.0, \"#f0f921\"]], \"type\": \"histogram2d\"}], \"histogram2dcontour\": [{\"colorbar\": {\"outlinewidth\": 0, \"ticks\": \"\"}, \"colorscale\": [[0.0, \"#0d0887\"], [0.1111111111111111, \"#46039f\"], [0.2222222222222222, \"#7201a8\"], [0.3333333333333333, \"#9c179e\"], [0.4444444444444444, \"#bd3786\"], [0.5555555555555556, \"#d8576b\"], [0.6666666666666666, \"#ed7953\"], [0.7777777777777778, \"#fb9f3a\"], [0.8888888888888888, \"#fdca26\"], [1.0, \"#f0f921\"]], \"type\": \"histogram2dcontour\"}], \"mesh3d\": [{\"colorbar\": {\"outlinewidth\": 0, \"ticks\": \"\"}, \"type\": \"mesh3d\"}], \"parcoords\": [{\"line\": {\"colorbar\": {\"outlinewidth\": 0, \"ticks\": \"\"}}, \"type\": \"parcoords\"}], \"pie\": [{\"automargin\": true, \"type\": \"pie\"}], \"scatter\": [{\"marker\": {\"colorbar\": {\"outlinewidth\": 0, \"ticks\": \"\"}}, \"type\": \"scatter\"}], \"scatter3d\": [{\"line\": {\"colorbar\": {\"outlinewidth\": 0, \"ticks\": \"\"}}, \"marker\": {\"colorbar\": {\"outlinewidth\": 0, \"ticks\": \"\"}}, \"type\": \"scatter3d\"}], \"scattercarpet\": [{\"marker\": {\"colorbar\": {\"outlinewidth\": 0, \"ticks\": \"\"}}, \"type\": \"scattercarpet\"}], \"scattergeo\": [{\"marker\": {\"colorbar\": {\"outlinewidth\": 0, \"ticks\": \"\"}}, \"type\": \"scattergeo\"}], \"scattergl\": [{\"marker\": {\"colorbar\": {\"outlinewidth\": 0, \"ticks\": \"\"}}, \"type\": \"scattergl\"}], \"scattermapbox\": [{\"marker\": {\"colorbar\": {\"outlinewidth\": 0, \"ticks\": \"\"}}, \"type\": \"scattermapbox\"}], \"scatterpolar\": [{\"marker\": {\"colorbar\": {\"outlinewidth\": 0, \"ticks\": \"\"}}, \"type\": \"scatterpolar\"}], \"scatterpolargl\": [{\"marker\": {\"colorbar\": {\"outlinewidth\": 0, \"ticks\": \"\"}}, \"type\": \"scatterpolargl\"}], \"scatterternary\": [{\"marker\": {\"colorbar\": {\"outlinewidth\": 0, \"ticks\": \"\"}}, \"type\": \"scatterternary\"}], \"surface\": [{\"colorbar\": {\"outlinewidth\": 0, \"ticks\": \"\"}, \"colorscale\": [[0.0, \"#0d0887\"], [0.1111111111111111, \"#46039f\"], [0.2222222222222222, \"#7201a8\"], [0.3333333333333333, \"#9c179e\"], [0.4444444444444444, \"#bd3786\"], [0.5555555555555556, \"#d8576b\"], [0.6666666666666666, \"#ed7953\"], [0.7777777777777778, \"#fb9f3a\"], [0.8888888888888888, \"#fdca26\"], [1.0, \"#f0f921\"]], \"type\": \"surface\"}], \"table\": [{\"cells\": {\"fill\": {\"color\": \"#EBF0F8\"}, \"line\": {\"color\": \"white\"}}, \"header\": {\"fill\": {\"color\": \"#C8D4E3\"}, \"line\": {\"color\": \"white\"}}, \"type\": \"table\"}]}, \"layout\": {\"annotationdefaults\": {\"arrowcolor\": \"#2a3f5f\", \"arrowhead\": 0, \"arrowwidth\": 1}, \"coloraxis\": {\"colorbar\": {\"outlinewidth\": 0, \"ticks\": \"\"}}, \"colorscale\": {\"diverging\": [[0, \"#8e0152\"], [0.1, \"#c51b7d\"], [0.2, \"#de77ae\"], [0.3, \"#f1b6da\"], [0.4, \"#fde0ef\"], [0.5, \"#f7f7f7\"], [0.6, \"#e6f5d0\"], [0.7, \"#b8e186\"], [0.8, \"#7fbc41\"], [0.9, \"#4d9221\"], [1, \"#276419\"]], \"sequential\": [[0.0, \"#0d0887\"], [0.1111111111111111, \"#46039f\"], [0.2222222222222222, \"#7201a8\"], [0.3333333333333333, \"#9c179e\"], [0.4444444444444444, \"#bd3786\"], [0.5555555555555556, \"#d8576b\"], [0.6666666666666666, \"#ed7953\"], [0.7777777777777778, \"#fb9f3a\"], [0.8888888888888888, \"#fdca26\"], [1.0, \"#f0f921\"]], \"sequentialminus\": [[0.0, \"#0d0887\"], [0.1111111111111111, \"#46039f\"], [0.2222222222222222, \"#7201a8\"], [0.3333333333333333, \"#9c179e\"], [0.4444444444444444, \"#bd3786\"], [0.5555555555555556, \"#d8576b\"], [0.6666666666666666, \"#ed7953\"], [0.7777777777777778, \"#fb9f3a\"], [0.8888888888888888, \"#fdca26\"], [1.0, \"#f0f921\"]]}, \"colorway\": [\"#636efa\", \"#EF553B\", \"#00cc96\", \"#ab63fa\", \"#FFA15A\", \"#19d3f3\", \"#FF6692\", \"#B6E880\", \"#FF97FF\", \"#FECB52\"], \"font\": {\"color\": \"#2a3f5f\"}, \"geo\": {\"bgcolor\": \"white\", \"lakecolor\": \"white\", \"landcolor\": \"#E5ECF6\", \"showlakes\": true, \"showland\": true, \"subunitcolor\": \"white\"}, \"hoverlabel\": {\"align\": \"left\"}, \"hovermode\": \"closest\", \"mapbox\": {\"style\": \"light\"}, \"paper_bgcolor\": \"white\", \"plot_bgcolor\": \"#E5ECF6\", \"polar\": {\"angularaxis\": {\"gridcolor\": \"white\", \"linecolor\": \"white\", \"ticks\": \"\"}, \"bgcolor\": \"#E5ECF6\", \"radialaxis\": {\"gridcolor\": \"white\", \"linecolor\": \"white\", \"ticks\": \"\"}}, \"scene\": {\"xaxis\": {\"backgroundcolor\": \"#E5ECF6\", \"gridcolor\": \"white\", \"gridwidth\": 2, \"linecolor\": \"white\", \"showbackground\": true, \"ticks\": \"\", \"zerolinecolor\": \"white\"}, \"yaxis\": {\"backgroundcolor\": \"#E5ECF6\", \"gridcolor\": \"white\", \"gridwidth\": 2, \"linecolor\": \"white\", \"showbackground\": true, \"ticks\": \"\", \"zerolinecolor\": \"white\"}, \"zaxis\": {\"backgroundcolor\": \"#E5ECF6\", \"gridcolor\": \"white\", \"gridwidth\": 2, \"linecolor\": \"white\", \"showbackground\": true, \"ticks\": \"\", \"zerolinecolor\": \"white\"}}, \"shapedefaults\": {\"line\": {\"color\": \"#2a3f5f\"}}, \"ternary\": {\"aaxis\": {\"gridcolor\": \"white\", \"linecolor\": \"white\", \"ticks\": \"\"}, \"baxis\": {\"gridcolor\": \"white\", \"linecolor\": \"white\", \"ticks\": \"\"}, \"bgcolor\": \"#E5ECF6\", \"caxis\": {\"gridcolor\": \"white\", \"linecolor\": \"white\", \"ticks\": \"\"}}, \"title\": {\"x\": 0.05}, \"xaxis\": {\"automargin\": true, \"gridcolor\": \"white\", \"linecolor\": \"white\", \"ticks\": \"\", \"title\": {\"standoff\": 15}, \"zerolinecolor\": \"white\", \"zerolinewidth\": 2}, \"yaxis\": {\"automargin\": true, \"gridcolor\": \"white\", \"linecolor\": \"white\", \"ticks\": \"\", \"title\": {\"standoff\": 15}, \"zerolinecolor\": \"white\", \"zerolinewidth\": 2}}}},\n",
       "                        {\"responsive\": true}\n",
       "                    ).then(function(){\n",
       "                            \n",
       "var gd = document.getElementById('e11370e4-631d-4c27-b04a-3c580b685d05');\n",
       "var x = new MutationObserver(function (mutations, observer) {{\n",
       "        var display = window.getComputedStyle(gd).display;\n",
       "        if (!display || display === 'none') {{\n",
       "            console.log([gd, 'removed!']);\n",
       "            Plotly.purge(gd);\n",
       "            observer.disconnect();\n",
       "        }}\n",
       "}});\n",
       "\n",
       "// Listen for the removal of the full notebook cells\n",
       "var notebookContainer = gd.closest('#notebook-container');\n",
       "if (notebookContainer) {{\n",
       "    x.observe(notebookContainer, {childList: true});\n",
       "}}\n",
       "\n",
       "// Listen for the clearing of the current output cell\n",
       "var outputEl = gd.closest('.output');\n",
       "if (outputEl) {{\n",
       "    x.observe(outputEl, {childList: true});\n",
       "}}\n",
       "\n",
       "                        })\n",
       "                };\n",
       "                });\n",
       "            </script>\n",
       "        </div>"
      ]
     },
     "metadata": {},
     "output_type": "display_data"
    }
   ],
   "source": [
    "create_pie_chart(prov_deaths_totals_data, 'tot_deaths', 'province', 'tot_deaths_per_province.html')"
   ]
  },
  {
   "cell_type": "markdown",
   "metadata": {},
   "source": [
    "### Deaths Vs Recoveries"
   ]
  },
  {
   "cell_type": "code",
   "execution_count": 117,
   "metadata": {},
   "outputs": [
    {
     "data": {
      "text/html": [
       "<div>\n",
       "<style scoped>\n",
       "    .dataframe tbody tr th:only-of-type {\n",
       "        vertical-align: middle;\n",
       "    }\n",
       "\n",
       "    .dataframe tbody tr th {\n",
       "        vertical-align: top;\n",
       "    }\n",
       "\n",
       "    .dataframe thead th {\n",
       "        text-align: right;\n",
       "    }\n",
       "</style>\n",
       "<table border=\"1\" class=\"dataframe\">\n",
       "  <thead>\n",
       "    <tr style=\"text-align: right;\">\n",
       "      <th></th>\n",
       "      <th>variable</th>\n",
       "      <th>total</th>\n",
       "    </tr>\n",
       "  </thead>\n",
       "  <tbody>\n",
       "    <tr>\n",
       "      <th>0</th>\n",
       "      <td>Deaths</td>\n",
       "      <td>103.0</td>\n",
       "    </tr>\n",
       "    <tr>\n",
       "      <th>1</th>\n",
       "      <td>Recoveries</td>\n",
       "      <td>2073.0</td>\n",
       "    </tr>\n",
       "  </tbody>\n",
       "</table>\n",
       "</div>"
      ],
      "text/plain": [
       "     variable   total\n",
       "0      Deaths   103.0\n",
       "1  Recoveries  2073.0"
      ]
     },
     "execution_count": 117,
     "metadata": {},
     "output_type": "execute_result"
    }
   ],
   "source": [
    "recovered_deaths_totals = pd.read_csv('data/gen_data.csv', \n",
    "                                      usecols=['tot_recoveries','tot_deaths']).reset_index()\n",
    "recovered_deaths_totals.rename({\"tot_recoveries\":\"Recoveries\", \"tot_deaths\":\"Deaths\"}, axis=1, inplace=True)\n",
    "recovered_deaths_totals = recovered_deaths_totals.melt(id_vars=['index'], var_name='variable', \n",
    "                                                    value_name='total')\n",
    "\n",
    "# Below is needed due to integers losing accuracy in division\n",
    "recovered_deaths_totals.drop('index', axis=1, inplace=True)\n",
    "recovered_deaths_totals['total'] = recovered_deaths_totals['total'].apply(lambda x: str(x).replace(\" \", \"\"))\n",
    "recovered_deaths_totals['total'] = pd.to_numeric(recovered_deaths_totals['total'], downcast='float')\n",
    "recovered_deaths_totals"
   ]
  },
  {
   "cell_type": "code",
   "execution_count": 118,
   "metadata": {},
   "outputs": [
    {
     "data": {
      "application/vnd.plotly.v1+json": {
       "config": {
        "plotlyServerURL": "https://plot.ly"
       },
       "data": [
        {
         "domain": {
          "x": [
           0,
           1
          ],
          "y": [
           0,
           1
          ]
         },
         "hoverinfo": "label+percent",
         "hovertemplate": "%{label}<br>%{value}",
         "labels": [
          "Deaths",
          "Recoveries"
         ],
         "legendgroup": "",
         "name": "",
         "showlegend": true,
         "textinfo": "value+label",
         "textposition": "inside",
         "type": "pie",
         "values": [
          103,
          2073
         ]
        }
       ],
       "layout": {
        "legend": {
         "tracegroupgap": 0,
         "x": 0,
         "y": 1
        },
        "margin": {
         "b": 20,
         "l": 0,
         "r": 0,
         "t": 0
        },
        "piecolorway": [
         "green",
         "black"
        ],
        "showlegend": false,
        "template": {
         "data": {
          "bar": [
           {
            "error_x": {
             "color": "#2a3f5f"
            },
            "error_y": {
             "color": "#2a3f5f"
            },
            "marker": {
             "line": {
              "color": "#E5ECF6",
              "width": 0.5
             }
            },
            "type": "bar"
           }
          ],
          "barpolar": [
           {
            "marker": {
             "line": {
              "color": "#E5ECF6",
              "width": 0.5
             }
            },
            "type": "barpolar"
           }
          ],
          "carpet": [
           {
            "aaxis": {
             "endlinecolor": "#2a3f5f",
             "gridcolor": "white",
             "linecolor": "white",
             "minorgridcolor": "white",
             "startlinecolor": "#2a3f5f"
            },
            "baxis": {
             "endlinecolor": "#2a3f5f",
             "gridcolor": "white",
             "linecolor": "white",
             "minorgridcolor": "white",
             "startlinecolor": "#2a3f5f"
            },
            "type": "carpet"
           }
          ],
          "choropleth": [
           {
            "colorbar": {
             "outlinewidth": 0,
             "ticks": ""
            },
            "type": "choropleth"
           }
          ],
          "contour": [
           {
            "colorbar": {
             "outlinewidth": 0,
             "ticks": ""
            },
            "colorscale": [
             [
              0,
              "#0d0887"
             ],
             [
              0.1111111111111111,
              "#46039f"
             ],
             [
              0.2222222222222222,
              "#7201a8"
             ],
             [
              0.3333333333333333,
              "#9c179e"
             ],
             [
              0.4444444444444444,
              "#bd3786"
             ],
             [
              0.5555555555555556,
              "#d8576b"
             ],
             [
              0.6666666666666666,
              "#ed7953"
             ],
             [
              0.7777777777777778,
              "#fb9f3a"
             ],
             [
              0.8888888888888888,
              "#fdca26"
             ],
             [
              1,
              "#f0f921"
             ]
            ],
            "type": "contour"
           }
          ],
          "contourcarpet": [
           {
            "colorbar": {
             "outlinewidth": 0,
             "ticks": ""
            },
            "type": "contourcarpet"
           }
          ],
          "heatmap": [
           {
            "colorbar": {
             "outlinewidth": 0,
             "ticks": ""
            },
            "colorscale": [
             [
              0,
              "#0d0887"
             ],
             [
              0.1111111111111111,
              "#46039f"
             ],
             [
              0.2222222222222222,
              "#7201a8"
             ],
             [
              0.3333333333333333,
              "#9c179e"
             ],
             [
              0.4444444444444444,
              "#bd3786"
             ],
             [
              0.5555555555555556,
              "#d8576b"
             ],
             [
              0.6666666666666666,
              "#ed7953"
             ],
             [
              0.7777777777777778,
              "#fb9f3a"
             ],
             [
              0.8888888888888888,
              "#fdca26"
             ],
             [
              1,
              "#f0f921"
             ]
            ],
            "type": "heatmap"
           }
          ],
          "heatmapgl": [
           {
            "colorbar": {
             "outlinewidth": 0,
             "ticks": ""
            },
            "colorscale": [
             [
              0,
              "#0d0887"
             ],
             [
              0.1111111111111111,
              "#46039f"
             ],
             [
              0.2222222222222222,
              "#7201a8"
             ],
             [
              0.3333333333333333,
              "#9c179e"
             ],
             [
              0.4444444444444444,
              "#bd3786"
             ],
             [
              0.5555555555555556,
              "#d8576b"
             ],
             [
              0.6666666666666666,
              "#ed7953"
             ],
             [
              0.7777777777777778,
              "#fb9f3a"
             ],
             [
              0.8888888888888888,
              "#fdca26"
             ],
             [
              1,
              "#f0f921"
             ]
            ],
            "type": "heatmapgl"
           }
          ],
          "histogram": [
           {
            "marker": {
             "colorbar": {
              "outlinewidth": 0,
              "ticks": ""
             }
            },
            "type": "histogram"
           }
          ],
          "histogram2d": [
           {
            "colorbar": {
             "outlinewidth": 0,
             "ticks": ""
            },
            "colorscale": [
             [
              0,
              "#0d0887"
             ],
             [
              0.1111111111111111,
              "#46039f"
             ],
             [
              0.2222222222222222,
              "#7201a8"
             ],
             [
              0.3333333333333333,
              "#9c179e"
             ],
             [
              0.4444444444444444,
              "#bd3786"
             ],
             [
              0.5555555555555556,
              "#d8576b"
             ],
             [
              0.6666666666666666,
              "#ed7953"
             ],
             [
              0.7777777777777778,
              "#fb9f3a"
             ],
             [
              0.8888888888888888,
              "#fdca26"
             ],
             [
              1,
              "#f0f921"
             ]
            ],
            "type": "histogram2d"
           }
          ],
          "histogram2dcontour": [
           {
            "colorbar": {
             "outlinewidth": 0,
             "ticks": ""
            },
            "colorscale": [
             [
              0,
              "#0d0887"
             ],
             [
              0.1111111111111111,
              "#46039f"
             ],
             [
              0.2222222222222222,
              "#7201a8"
             ],
             [
              0.3333333333333333,
              "#9c179e"
             ],
             [
              0.4444444444444444,
              "#bd3786"
             ],
             [
              0.5555555555555556,
              "#d8576b"
             ],
             [
              0.6666666666666666,
              "#ed7953"
             ],
             [
              0.7777777777777778,
              "#fb9f3a"
             ],
             [
              0.8888888888888888,
              "#fdca26"
             ],
             [
              1,
              "#f0f921"
             ]
            ],
            "type": "histogram2dcontour"
           }
          ],
          "mesh3d": [
           {
            "colorbar": {
             "outlinewidth": 0,
             "ticks": ""
            },
            "type": "mesh3d"
           }
          ],
          "parcoords": [
           {
            "line": {
             "colorbar": {
              "outlinewidth": 0,
              "ticks": ""
             }
            },
            "type": "parcoords"
           }
          ],
          "pie": [
           {
            "automargin": true,
            "type": "pie"
           }
          ],
          "scatter": [
           {
            "marker": {
             "colorbar": {
              "outlinewidth": 0,
              "ticks": ""
             }
            },
            "type": "scatter"
           }
          ],
          "scatter3d": [
           {
            "line": {
             "colorbar": {
              "outlinewidth": 0,
              "ticks": ""
             }
            },
            "marker": {
             "colorbar": {
              "outlinewidth": 0,
              "ticks": ""
             }
            },
            "type": "scatter3d"
           }
          ],
          "scattercarpet": [
           {
            "marker": {
             "colorbar": {
              "outlinewidth": 0,
              "ticks": ""
             }
            },
            "type": "scattercarpet"
           }
          ],
          "scattergeo": [
           {
            "marker": {
             "colorbar": {
              "outlinewidth": 0,
              "ticks": ""
             }
            },
            "type": "scattergeo"
           }
          ],
          "scattergl": [
           {
            "marker": {
             "colorbar": {
              "outlinewidth": 0,
              "ticks": ""
             }
            },
            "type": "scattergl"
           }
          ],
          "scattermapbox": [
           {
            "marker": {
             "colorbar": {
              "outlinewidth": 0,
              "ticks": ""
             }
            },
            "type": "scattermapbox"
           }
          ],
          "scatterpolar": [
           {
            "marker": {
             "colorbar": {
              "outlinewidth": 0,
              "ticks": ""
             }
            },
            "type": "scatterpolar"
           }
          ],
          "scatterpolargl": [
           {
            "marker": {
             "colorbar": {
              "outlinewidth": 0,
              "ticks": ""
             }
            },
            "type": "scatterpolargl"
           }
          ],
          "scatterternary": [
           {
            "marker": {
             "colorbar": {
              "outlinewidth": 0,
              "ticks": ""
             }
            },
            "type": "scatterternary"
           }
          ],
          "surface": [
           {
            "colorbar": {
             "outlinewidth": 0,
             "ticks": ""
            },
            "colorscale": [
             [
              0,
              "#0d0887"
             ],
             [
              0.1111111111111111,
              "#46039f"
             ],
             [
              0.2222222222222222,
              "#7201a8"
             ],
             [
              0.3333333333333333,
              "#9c179e"
             ],
             [
              0.4444444444444444,
              "#bd3786"
             ],
             [
              0.5555555555555556,
              "#d8576b"
             ],
             [
              0.6666666666666666,
              "#ed7953"
             ],
             [
              0.7777777777777778,
              "#fb9f3a"
             ],
             [
              0.8888888888888888,
              "#fdca26"
             ],
             [
              1,
              "#f0f921"
             ]
            ],
            "type": "surface"
           }
          ],
          "table": [
           {
            "cells": {
             "fill": {
              "color": "#EBF0F8"
             },
             "line": {
              "color": "white"
             }
            },
            "header": {
             "fill": {
              "color": "#C8D4E3"
             },
             "line": {
              "color": "white"
             }
            },
            "type": "table"
           }
          ]
         },
         "layout": {
          "annotationdefaults": {
           "arrowcolor": "#2a3f5f",
           "arrowhead": 0,
           "arrowwidth": 1
          },
          "coloraxis": {
           "colorbar": {
            "outlinewidth": 0,
            "ticks": ""
           }
          },
          "colorscale": {
           "diverging": [
            [
             0,
             "#8e0152"
            ],
            [
             0.1,
             "#c51b7d"
            ],
            [
             0.2,
             "#de77ae"
            ],
            [
             0.3,
             "#f1b6da"
            ],
            [
             0.4,
             "#fde0ef"
            ],
            [
             0.5,
             "#f7f7f7"
            ],
            [
             0.6,
             "#e6f5d0"
            ],
            [
             0.7,
             "#b8e186"
            ],
            [
             0.8,
             "#7fbc41"
            ],
            [
             0.9,
             "#4d9221"
            ],
            [
             1,
             "#276419"
            ]
           ],
           "sequential": [
            [
             0,
             "#0d0887"
            ],
            [
             0.1111111111111111,
             "#46039f"
            ],
            [
             0.2222222222222222,
             "#7201a8"
            ],
            [
             0.3333333333333333,
             "#9c179e"
            ],
            [
             0.4444444444444444,
             "#bd3786"
            ],
            [
             0.5555555555555556,
             "#d8576b"
            ],
            [
             0.6666666666666666,
             "#ed7953"
            ],
            [
             0.7777777777777778,
             "#fb9f3a"
            ],
            [
             0.8888888888888888,
             "#fdca26"
            ],
            [
             1,
             "#f0f921"
            ]
           ],
           "sequentialminus": [
            [
             0,
             "#0d0887"
            ],
            [
             0.1111111111111111,
             "#46039f"
            ],
            [
             0.2222222222222222,
             "#7201a8"
            ],
            [
             0.3333333333333333,
             "#9c179e"
            ],
            [
             0.4444444444444444,
             "#bd3786"
            ],
            [
             0.5555555555555556,
             "#d8576b"
            ],
            [
             0.6666666666666666,
             "#ed7953"
            ],
            [
             0.7777777777777778,
             "#fb9f3a"
            ],
            [
             0.8888888888888888,
             "#fdca26"
            ],
            [
             1,
             "#f0f921"
            ]
           ]
          },
          "colorway": [
           "#636efa",
           "#EF553B",
           "#00cc96",
           "#ab63fa",
           "#FFA15A",
           "#19d3f3",
           "#FF6692",
           "#B6E880",
           "#FF97FF",
           "#FECB52"
          ],
          "font": {
           "color": "#2a3f5f"
          },
          "geo": {
           "bgcolor": "white",
           "lakecolor": "white",
           "landcolor": "#E5ECF6",
           "showlakes": true,
           "showland": true,
           "subunitcolor": "white"
          },
          "hoverlabel": {
           "align": "left"
          },
          "hovermode": "closest",
          "mapbox": {
           "style": "light"
          },
          "paper_bgcolor": "white",
          "plot_bgcolor": "#E5ECF6",
          "polar": {
           "angularaxis": {
            "gridcolor": "white",
            "linecolor": "white",
            "ticks": ""
           },
           "bgcolor": "#E5ECF6",
           "radialaxis": {
            "gridcolor": "white",
            "linecolor": "white",
            "ticks": ""
           }
          },
          "scene": {
           "xaxis": {
            "backgroundcolor": "#E5ECF6",
            "gridcolor": "white",
            "gridwidth": 2,
            "linecolor": "white",
            "showbackground": true,
            "ticks": "",
            "zerolinecolor": "white"
           },
           "yaxis": {
            "backgroundcolor": "#E5ECF6",
            "gridcolor": "white",
            "gridwidth": 2,
            "linecolor": "white",
            "showbackground": true,
            "ticks": "",
            "zerolinecolor": "white"
           },
           "zaxis": {
            "backgroundcolor": "#E5ECF6",
            "gridcolor": "white",
            "gridwidth": 2,
            "linecolor": "white",
            "showbackground": true,
            "ticks": "",
            "zerolinecolor": "white"
           }
          },
          "shapedefaults": {
           "line": {
            "color": "#2a3f5f"
           }
          },
          "ternary": {
           "aaxis": {
            "gridcolor": "white",
            "linecolor": "white",
            "ticks": ""
           },
           "baxis": {
            "gridcolor": "white",
            "linecolor": "white",
            "ticks": ""
           },
           "bgcolor": "#E5ECF6",
           "caxis": {
            "gridcolor": "white",
            "linecolor": "white",
            "ticks": ""
           }
          },
          "title": {
           "x": 0.05
          },
          "xaxis": {
           "automargin": true,
           "gridcolor": "white",
           "linecolor": "white",
           "ticks": "",
           "title": {
            "standoff": 15
           },
           "zerolinecolor": "white",
           "zerolinewidth": 2
          },
          "yaxis": {
           "automargin": true,
           "gridcolor": "white",
           "linecolor": "white",
           "ticks": "",
           "title": {
            "standoff": 15
           },
           "zerolinecolor": "white",
           "zerolinewidth": 2
          }
         }
        }
       }
      },
      "text/html": [
       "<div>\n",
       "        \n",
       "        \n",
       "            <div id=\"57bc0fc2-0d9c-4d03-8734-69fcee1697cf\" class=\"plotly-graph-div\" style=\"height:525px; width:100%;\"></div>\n",
       "            <script type=\"text/javascript\">\n",
       "                require([\"plotly\"], function(Plotly) {\n",
       "                    window.PLOTLYENV=window.PLOTLYENV || {};\n",
       "                    \n",
       "                if (document.getElementById(\"57bc0fc2-0d9c-4d03-8734-69fcee1697cf\")) {\n",
       "                    Plotly.newPlot(\n",
       "                        '57bc0fc2-0d9c-4d03-8734-69fcee1697cf',\n",
       "                        [{\"domain\": {\"x\": [0.0, 1.0], \"y\": [0.0, 1.0]}, \"hoverinfo\": \"label+percent\", \"hovertemplate\": \"%{label}<br>%{value}\", \"labels\": [\"Deaths\", \"Recoveries\"], \"legendgroup\": \"\", \"name\": \"\", \"showlegend\": true, \"textinfo\": \"value+label\", \"textposition\": \"inside\", \"type\": \"pie\", \"values\": [103.0, 2073.0]}],\n",
       "                        {\"legend\": {\"tracegroupgap\": 0, \"x\": 0, \"y\": 1}, \"margin\": {\"b\": 20, \"l\": 0, \"r\": 0, \"t\": 0}, \"piecolorway\": [\"green\", \"black\"], \"showlegend\": false, \"template\": {\"data\": {\"bar\": [{\"error_x\": {\"color\": \"#2a3f5f\"}, \"error_y\": {\"color\": \"#2a3f5f\"}, \"marker\": {\"line\": {\"color\": \"#E5ECF6\", \"width\": 0.5}}, \"type\": \"bar\"}], \"barpolar\": [{\"marker\": {\"line\": {\"color\": \"#E5ECF6\", \"width\": 0.5}}, \"type\": \"barpolar\"}], \"carpet\": [{\"aaxis\": {\"endlinecolor\": \"#2a3f5f\", \"gridcolor\": \"white\", \"linecolor\": \"white\", \"minorgridcolor\": \"white\", \"startlinecolor\": \"#2a3f5f\"}, \"baxis\": {\"endlinecolor\": \"#2a3f5f\", \"gridcolor\": \"white\", \"linecolor\": \"white\", \"minorgridcolor\": \"white\", \"startlinecolor\": \"#2a3f5f\"}, \"type\": \"carpet\"}], \"choropleth\": [{\"colorbar\": {\"outlinewidth\": 0, \"ticks\": \"\"}, \"type\": \"choropleth\"}], \"contour\": [{\"colorbar\": {\"outlinewidth\": 0, \"ticks\": \"\"}, \"colorscale\": [[0.0, \"#0d0887\"], [0.1111111111111111, \"#46039f\"], [0.2222222222222222, \"#7201a8\"], [0.3333333333333333, \"#9c179e\"], [0.4444444444444444, \"#bd3786\"], [0.5555555555555556, \"#d8576b\"], [0.6666666666666666, \"#ed7953\"], [0.7777777777777778, \"#fb9f3a\"], [0.8888888888888888, \"#fdca26\"], [1.0, \"#f0f921\"]], \"type\": \"contour\"}], \"contourcarpet\": [{\"colorbar\": {\"outlinewidth\": 0, \"ticks\": \"\"}, \"type\": \"contourcarpet\"}], \"heatmap\": [{\"colorbar\": {\"outlinewidth\": 0, \"ticks\": \"\"}, \"colorscale\": [[0.0, \"#0d0887\"], [0.1111111111111111, \"#46039f\"], [0.2222222222222222, \"#7201a8\"], [0.3333333333333333, \"#9c179e\"], [0.4444444444444444, \"#bd3786\"], [0.5555555555555556, \"#d8576b\"], [0.6666666666666666, \"#ed7953\"], [0.7777777777777778, \"#fb9f3a\"], [0.8888888888888888, \"#fdca26\"], [1.0, \"#f0f921\"]], \"type\": \"heatmap\"}], \"heatmapgl\": [{\"colorbar\": {\"outlinewidth\": 0, \"ticks\": \"\"}, \"colorscale\": [[0.0, \"#0d0887\"], [0.1111111111111111, \"#46039f\"], [0.2222222222222222, \"#7201a8\"], [0.3333333333333333, \"#9c179e\"], [0.4444444444444444, \"#bd3786\"], [0.5555555555555556, \"#d8576b\"], [0.6666666666666666, \"#ed7953\"], [0.7777777777777778, \"#fb9f3a\"], [0.8888888888888888, \"#fdca26\"], [1.0, \"#f0f921\"]], \"type\": \"heatmapgl\"}], \"histogram\": [{\"marker\": {\"colorbar\": {\"outlinewidth\": 0, \"ticks\": \"\"}}, \"type\": \"histogram\"}], \"histogram2d\": [{\"colorbar\": {\"outlinewidth\": 0, \"ticks\": \"\"}, \"colorscale\": [[0.0, \"#0d0887\"], [0.1111111111111111, \"#46039f\"], [0.2222222222222222, \"#7201a8\"], [0.3333333333333333, \"#9c179e\"], [0.4444444444444444, \"#bd3786\"], [0.5555555555555556, \"#d8576b\"], [0.6666666666666666, \"#ed7953\"], [0.7777777777777778, \"#fb9f3a\"], [0.8888888888888888, \"#fdca26\"], [1.0, \"#f0f921\"]], \"type\": \"histogram2d\"}], \"histogram2dcontour\": [{\"colorbar\": {\"outlinewidth\": 0, \"ticks\": \"\"}, \"colorscale\": [[0.0, \"#0d0887\"], [0.1111111111111111, \"#46039f\"], [0.2222222222222222, \"#7201a8\"], [0.3333333333333333, \"#9c179e\"], [0.4444444444444444, \"#bd3786\"], [0.5555555555555556, \"#d8576b\"], [0.6666666666666666, \"#ed7953\"], [0.7777777777777778, \"#fb9f3a\"], [0.8888888888888888, \"#fdca26\"], [1.0, \"#f0f921\"]], \"type\": \"histogram2dcontour\"}], \"mesh3d\": [{\"colorbar\": {\"outlinewidth\": 0, \"ticks\": \"\"}, \"type\": \"mesh3d\"}], \"parcoords\": [{\"line\": {\"colorbar\": {\"outlinewidth\": 0, \"ticks\": \"\"}}, \"type\": \"parcoords\"}], \"pie\": [{\"automargin\": true, \"type\": \"pie\"}], \"scatter\": [{\"marker\": {\"colorbar\": {\"outlinewidth\": 0, \"ticks\": \"\"}}, \"type\": \"scatter\"}], \"scatter3d\": [{\"line\": {\"colorbar\": {\"outlinewidth\": 0, \"ticks\": \"\"}}, \"marker\": {\"colorbar\": {\"outlinewidth\": 0, \"ticks\": \"\"}}, \"type\": \"scatter3d\"}], \"scattercarpet\": [{\"marker\": {\"colorbar\": {\"outlinewidth\": 0, \"ticks\": \"\"}}, \"type\": \"scattercarpet\"}], \"scattergeo\": [{\"marker\": {\"colorbar\": {\"outlinewidth\": 0, \"ticks\": \"\"}}, \"type\": \"scattergeo\"}], \"scattergl\": [{\"marker\": {\"colorbar\": {\"outlinewidth\": 0, \"ticks\": \"\"}}, \"type\": \"scattergl\"}], \"scattermapbox\": [{\"marker\": {\"colorbar\": {\"outlinewidth\": 0, \"ticks\": \"\"}}, \"type\": \"scattermapbox\"}], \"scatterpolar\": [{\"marker\": {\"colorbar\": {\"outlinewidth\": 0, \"ticks\": \"\"}}, \"type\": \"scatterpolar\"}], \"scatterpolargl\": [{\"marker\": {\"colorbar\": {\"outlinewidth\": 0, \"ticks\": \"\"}}, \"type\": \"scatterpolargl\"}], \"scatterternary\": [{\"marker\": {\"colorbar\": {\"outlinewidth\": 0, \"ticks\": \"\"}}, \"type\": \"scatterternary\"}], \"surface\": [{\"colorbar\": {\"outlinewidth\": 0, \"ticks\": \"\"}, \"colorscale\": [[0.0, \"#0d0887\"], [0.1111111111111111, \"#46039f\"], [0.2222222222222222, \"#7201a8\"], [0.3333333333333333, \"#9c179e\"], [0.4444444444444444, \"#bd3786\"], [0.5555555555555556, \"#d8576b\"], [0.6666666666666666, \"#ed7953\"], [0.7777777777777778, \"#fb9f3a\"], [0.8888888888888888, \"#fdca26\"], [1.0, \"#f0f921\"]], \"type\": \"surface\"}], \"table\": [{\"cells\": {\"fill\": {\"color\": \"#EBF0F8\"}, \"line\": {\"color\": \"white\"}}, \"header\": {\"fill\": {\"color\": \"#C8D4E3\"}, \"line\": {\"color\": \"white\"}}, \"type\": \"table\"}]}, \"layout\": {\"annotationdefaults\": {\"arrowcolor\": \"#2a3f5f\", \"arrowhead\": 0, \"arrowwidth\": 1}, \"coloraxis\": {\"colorbar\": {\"outlinewidth\": 0, \"ticks\": \"\"}}, \"colorscale\": {\"diverging\": [[0, \"#8e0152\"], [0.1, \"#c51b7d\"], [0.2, \"#de77ae\"], [0.3, \"#f1b6da\"], [0.4, \"#fde0ef\"], [0.5, \"#f7f7f7\"], [0.6, \"#e6f5d0\"], [0.7, \"#b8e186\"], [0.8, \"#7fbc41\"], [0.9, \"#4d9221\"], [1, \"#276419\"]], \"sequential\": [[0.0, \"#0d0887\"], [0.1111111111111111, \"#46039f\"], [0.2222222222222222, \"#7201a8\"], [0.3333333333333333, \"#9c179e\"], [0.4444444444444444, \"#bd3786\"], [0.5555555555555556, \"#d8576b\"], [0.6666666666666666, \"#ed7953\"], [0.7777777777777778, \"#fb9f3a\"], [0.8888888888888888, \"#fdca26\"], [1.0, \"#f0f921\"]], \"sequentialminus\": [[0.0, \"#0d0887\"], [0.1111111111111111, \"#46039f\"], [0.2222222222222222, \"#7201a8\"], [0.3333333333333333, \"#9c179e\"], [0.4444444444444444, \"#bd3786\"], [0.5555555555555556, \"#d8576b\"], [0.6666666666666666, \"#ed7953\"], [0.7777777777777778, \"#fb9f3a\"], [0.8888888888888888, \"#fdca26\"], [1.0, \"#f0f921\"]]}, \"colorway\": [\"#636efa\", \"#EF553B\", \"#00cc96\", \"#ab63fa\", \"#FFA15A\", \"#19d3f3\", \"#FF6692\", \"#B6E880\", \"#FF97FF\", \"#FECB52\"], \"font\": {\"color\": \"#2a3f5f\"}, \"geo\": {\"bgcolor\": \"white\", \"lakecolor\": \"white\", \"landcolor\": \"#E5ECF6\", \"showlakes\": true, \"showland\": true, \"subunitcolor\": \"white\"}, \"hoverlabel\": {\"align\": \"left\"}, \"hovermode\": \"closest\", \"mapbox\": {\"style\": \"light\"}, \"paper_bgcolor\": \"white\", \"plot_bgcolor\": \"#E5ECF6\", \"polar\": {\"angularaxis\": {\"gridcolor\": \"white\", \"linecolor\": \"white\", \"ticks\": \"\"}, \"bgcolor\": \"#E5ECF6\", \"radialaxis\": {\"gridcolor\": \"white\", \"linecolor\": \"white\", \"ticks\": \"\"}}, \"scene\": {\"xaxis\": {\"backgroundcolor\": \"#E5ECF6\", \"gridcolor\": \"white\", \"gridwidth\": 2, \"linecolor\": \"white\", \"showbackground\": true, \"ticks\": \"\", \"zerolinecolor\": \"white\"}, \"yaxis\": {\"backgroundcolor\": \"#E5ECF6\", \"gridcolor\": \"white\", \"gridwidth\": 2, \"linecolor\": \"white\", \"showbackground\": true, \"ticks\": \"\", \"zerolinecolor\": \"white\"}, \"zaxis\": {\"backgroundcolor\": \"#E5ECF6\", \"gridcolor\": \"white\", \"gridwidth\": 2, \"linecolor\": \"white\", \"showbackground\": true, \"ticks\": \"\", \"zerolinecolor\": \"white\"}}, \"shapedefaults\": {\"line\": {\"color\": \"#2a3f5f\"}}, \"ternary\": {\"aaxis\": {\"gridcolor\": \"white\", \"linecolor\": \"white\", \"ticks\": \"\"}, \"baxis\": {\"gridcolor\": \"white\", \"linecolor\": \"white\", \"ticks\": \"\"}, \"bgcolor\": \"#E5ECF6\", \"caxis\": {\"gridcolor\": \"white\", \"linecolor\": \"white\", \"ticks\": \"\"}}, \"title\": {\"x\": 0.05}, \"xaxis\": {\"automargin\": true, \"gridcolor\": \"white\", \"linecolor\": \"white\", \"ticks\": \"\", \"title\": {\"standoff\": 15}, \"zerolinecolor\": \"white\", \"zerolinewidth\": 2}, \"yaxis\": {\"automargin\": true, \"gridcolor\": \"white\", \"linecolor\": \"white\", \"ticks\": \"\", \"title\": {\"standoff\": 15}, \"zerolinecolor\": \"white\", \"zerolinewidth\": 2}}}},\n",
       "                        {\"responsive\": true}\n",
       "                    ).then(function(){\n",
       "                            \n",
       "var gd = document.getElementById('57bc0fc2-0d9c-4d03-8734-69fcee1697cf');\n",
       "var x = new MutationObserver(function (mutations, observer) {{\n",
       "        var display = window.getComputedStyle(gd).display;\n",
       "        if (!display || display === 'none') {{\n",
       "            console.log([gd, 'removed!']);\n",
       "            Plotly.purge(gd);\n",
       "            observer.disconnect();\n",
       "        }}\n",
       "}});\n",
       "\n",
       "// Listen for the removal of the full notebook cells\n",
       "var notebookContainer = gd.closest('#notebook-container');\n",
       "if (notebookContainer) {{\n",
       "    x.observe(notebookContainer, {childList: true});\n",
       "}}\n",
       "\n",
       "// Listen for the clearing of the current output cell\n",
       "var outputEl = gd.closest('.output');\n",
       "if (outputEl) {{\n",
       "    x.observe(outputEl, {childList: true});\n",
       "}}\n",
       "\n",
       "                        })\n",
       "                };\n",
       "                });\n",
       "            </script>\n",
       "        </div>"
      ]
     },
     "metadata": {},
     "output_type": "display_data"
    }
   ],
   "source": [
    "create_pie_chart(recovered_deaths_totals, 'total', 'variable', 'tot_recovered_deaths.html', \n",
    "                 ['green','black'])"
   ]
  },
  {
   "cell_type": "markdown",
   "metadata": {},
   "source": [
    "### Province"
   ]
  },
  {
   "cell_type": "code",
   "execution_count": 119,
   "metadata": {},
   "outputs": [],
   "source": [
    "# prov_totals_data = pd.read_csv('data/tot_provinces.csv')\n",
    "# prov_totals_data"
   ]
  },
  {
   "cell_type": "code",
   "execution_count": 120,
   "metadata": {},
   "outputs": [],
   "source": [
    "# fig_province = px.pie(prov_totals_data, values='total', names='province')\n",
    "# fig_province.update_layout(\n",
    "#     legend=dict(x=0, y=1), \n",
    "#     showlegend=False,\n",
    "#     margin=empty_margin_dict,\n",
    "# #     margin=dict(\n",
    "# #         t=0, # 50\n",
    "# #         b=0,\n",
    "# #         l=0,\n",
    "# #         r=0,\n",
    "# #     ),\n",
    "# )\n",
    "# # hov_template = ''\n",
    "# fig_province.update_traces(hoverinfo= 'label+percent', \n",
    "#                   hovertemplate = '%{label}<br>%{value}',\n",
    "#                   textinfo='value+label',\n",
    "#                   textposition='inside')\n",
    "# fig_province.show()"
   ]
  },
  {
   "cell_type": "markdown",
   "metadata": {},
   "source": [
    "**Save to HTML**"
   ]
  },
  {
   "cell_type": "code",
   "execution_count": 121,
   "metadata": {},
   "outputs": [],
   "source": [
    "# plotly.offline.plot(fig_province, filename = 'tot_cases_per_province.html', auto_open=True, \n",
    "#                     config = dict(displayModeBar=False))"
   ]
  },
  {
   "cell_type": "markdown",
   "metadata": {},
   "source": [
    "### Recoveries Vs Deaths"
   ]
  },
  {
   "cell_type": "code",
   "execution_count": 122,
   "metadata": {},
   "outputs": [],
   "source": [
    "# recovered_deaths_totals = pd.read_csv('data/gen_data.csv', \n",
    "#                                       usecols=['tot_recoveries','tot_deaths']).reset_index()\n",
    "# recovered_deaths_totals.rename({\"tot_recoveries\":\"Recoveries\", \"tot_deaths\":\"Deaths\"}, axis=1, inplace=True)\n",
    "# recovered_deaths_totals = recovered_deaths_totals.melt(id_vars=['index'], var_name='variable', \n",
    "#                                                     value_name='total')\n",
    "\n",
    "# # Below is needed due to integers losing accuracy in division\n",
    "# recovered_deaths_totals.drop('index', axis=1, inplace=True)\n",
    "# recovered_deaths_totals['total'] = recovered_deaths_totals['total'].apply(lambda x: str(x).replace(\" \", \"\"))\n",
    "# recovered_deaths_totals['total'] = pd.to_numeric(recovered_deaths_totals['total'], downcast='float')\n",
    "# recovered_deaths_totals"
   ]
  },
  {
   "cell_type": "code",
   "execution_count": 123,
   "metadata": {},
   "outputs": [],
   "source": [
    "# figp_tot_recovered_deaths = px.pie(recovered_deaths_totals, values='total', names='variable',\n",
    "#                                   color_discrete_sequence=['green','black'])\n",
    "# figp_tot_recovered_deaths.update_layout(\n",
    "#     legend=dict(x=0, y=1),\n",
    "#     showlegend=False,\n",
    "#     margin=empty_margin_dict,\n",
    "# )\n",
    "\n",
    "# figp_tot_recovered_deaths.update_traces(hoverinfo= 'label+percent', \n",
    "#                   hovertemplate = '%{label}<br>%{value}',\n",
    "#                   textinfo='value+label',\n",
    "#                   textposition='inside')\n",
    "# # print(figp_tot_recovered_deaths)\n",
    "# figp_tot_recovered_deaths.show()"
   ]
  },
  {
   "cell_type": "markdown",
   "metadata": {},
   "source": [
    "**Save to HTML**"
   ]
  },
  {
   "cell_type": "code",
   "execution_count": 124,
   "metadata": {},
   "outputs": [],
   "source": [
    "# plotly.offline.plot(figp_tot_recovered_deaths, filename = 'tot_recovered_deaths.html', auto_open=True, \n",
    "#                     config = dict(displayModeBar=False))"
   ]
  },
  {
   "cell_type": "markdown",
   "metadata": {},
   "source": [
    "### Deaths Per Province"
   ]
  },
  {
   "cell_type": "code",
   "execution_count": 125,
   "metadata": {},
   "outputs": [],
   "source": [
    "# prov_deaths_totals_data = pd.read_csv('data/tot_deaths_provinces.csv')\n",
    "# prov_deaths_totals_data"
   ]
  },
  {
   "cell_type": "code",
   "execution_count": 126,
   "metadata": {},
   "outputs": [],
   "source": [
    "# fig_province_deaths = px.pie(prov_deaths_totals_data, values='total', names='province')\n",
    "# fig_province_deaths.update_layout(\n",
    "#     legend=dict(x=0, y=1),\n",
    "#     showlegend=False,\n",
    "#     margin=empty_margin_dict,\n",
    "# )\n",
    "# # hov_template = ''\n",
    "# fig_province_deaths.update_traces(hoverinfo= 'label+percent', \n",
    "#                   hovertemplate = '%{label}<br>%{value}',\n",
    "#                   textinfo='value+label',\n",
    "#                   textposition='inside')\n",
    "# fig_province_deaths.show()"
   ]
  },
  {
   "cell_type": "markdown",
   "metadata": {},
   "source": [
    "**Save to HTML**"
   ]
  },
  {
   "cell_type": "code",
   "execution_count": 127,
   "metadata": {},
   "outputs": [],
   "source": [
    "# plotly.offline.plot(fig_province_deaths, filename = 'tot_deaths_per_province.html', auto_open=True, \n",
    "#                     config = dict(displayModeBar=False))"
   ]
  },
  {
   "cell_type": "markdown",
   "metadata": {},
   "source": [
    "# Over Time\n",
    "## Cumulative\n",
    "### Confirmed"
   ]
  },
  {
   "cell_type": "code",
   "execution_count": 128,
   "metadata": {},
   "outputs": [
    {
     "data": {
      "text/html": [
       "<div>\n",
       "<style scoped>\n",
       "    .dataframe tbody tr th:only-of-type {\n",
       "        vertical-align: middle;\n",
       "    }\n",
       "\n",
       "    .dataframe tbody tr th {\n",
       "        vertical-align: top;\n",
       "    }\n",
       "\n",
       "    .dataframe thead th {\n",
       "        text-align: right;\n",
       "    }\n",
       "</style>\n",
       "<table border=\"1\" class=\"dataframe\">\n",
       "  <thead>\n",
       "    <tr style=\"text-align: right;\">\n",
       "      <th></th>\n",
       "      <th>date</th>\n",
       "      <th>cumulative_cases</th>\n",
       "      <th>daily_cases</th>\n",
       "    </tr>\n",
       "  </thead>\n",
       "  <tbody>\n",
       "    <tr>\n",
       "      <th>0</th>\n",
       "      <td>2020-03-05</td>\n",
       "      <td>1</td>\n",
       "      <td>1.0</td>\n",
       "    </tr>\n",
       "    <tr>\n",
       "      <th>1</th>\n",
       "      <td>2020-03-07</td>\n",
       "      <td>2</td>\n",
       "      <td>1.0</td>\n",
       "    </tr>\n",
       "    <tr>\n",
       "      <th>2</th>\n",
       "      <td>2020-03-08</td>\n",
       "      <td>3</td>\n",
       "      <td>1.0</td>\n",
       "    </tr>\n",
       "    <tr>\n",
       "      <th>3</th>\n",
       "      <td>2020-03-09</td>\n",
       "      <td>7</td>\n",
       "      <td>4.0</td>\n",
       "    </tr>\n",
       "    <tr>\n",
       "      <th>4</th>\n",
       "      <td>2020-03-11</td>\n",
       "      <td>13</td>\n",
       "      <td>6.0</td>\n",
       "    </tr>\n",
       "  </tbody>\n",
       "</table>\n",
       "</div>"
      ],
      "text/plain": [
       "        date  cumulative_cases  daily_cases\n",
       "0 2020-03-05                 1          1.0\n",
       "1 2020-03-07                 2          1.0\n",
       "2 2020-03-08                 3          1.0\n",
       "3 2020-03-09                 7          4.0\n",
       "4 2020-03-11                13          6.0"
      ]
     },
     "execution_count": 128,
     "metadata": {},
     "output_type": "execute_result"
    }
   ],
   "source": [
    "daily_cumulative_confirmed = pd.read_csv('data/daily_cumulative_confirmed.csv')\n",
    "daily_cumulative_confirmed['date'] = pd.to_datetime(daily_cumulative_confirmed['date'], format='%Y-%m-%d')\n",
    "daily_cumulative_confirmed.head()"
   ]
  },
  {
   "cell_type": "code",
   "execution_count": 129,
   "metadata": {},
   "outputs": [
    {
     "data": {
      "text/html": [
       "<div>\n",
       "<style scoped>\n",
       "    .dataframe tbody tr th:only-of-type {\n",
       "        vertical-align: middle;\n",
       "    }\n",
       "\n",
       "    .dataframe tbody tr th {\n",
       "        vertical-align: top;\n",
       "    }\n",
       "\n",
       "    .dataframe thead th {\n",
       "        text-align: right;\n",
       "    }\n",
       "</style>\n",
       "<table border=\"1\" class=\"dataframe\">\n",
       "  <thead>\n",
       "    <tr style=\"text-align: right;\">\n",
       "      <th></th>\n",
       "      <th>date</th>\n",
       "      <th>cumulative_cases</th>\n",
       "      <th>daily_cases</th>\n",
       "    </tr>\n",
       "  </thead>\n",
       "  <tbody>\n",
       "    <tr>\n",
       "      <th>0</th>\n",
       "      <td>2020-03-05</td>\n",
       "      <td>3</td>\n",
       "      <td>3.0</td>\n",
       "    </tr>\n",
       "    <tr>\n",
       "      <th>1</th>\n",
       "      <td>2020-03-07</td>\n",
       "      <td>5</td>\n",
       "      <td>2.0</td>\n",
       "    </tr>\n",
       "    <tr>\n",
       "      <th>2</th>\n",
       "      <td>2020-03-08</td>\n",
       "      <td>7</td>\n",
       "      <td>2.0</td>\n",
       "    </tr>\n",
       "    <tr>\n",
       "      <th>3</th>\n",
       "      <td>2020-03-09</td>\n",
       "      <td>9</td>\n",
       "      <td>2.0</td>\n",
       "    </tr>\n",
       "    <tr>\n",
       "      <th>4</th>\n",
       "      <td>2020-03-11</td>\n",
       "      <td>16</td>\n",
       "      <td>7.0</td>\n",
       "    </tr>\n",
       "  </tbody>\n",
       "</table>\n",
       "</div>"
      ],
      "text/plain": [
       "        date  cumulative_cases  daily_cases\n",
       "0 2020-03-05                 3          3.0\n",
       "1 2020-03-07                 5          2.0\n",
       "2 2020-03-08                 7          2.0\n",
       "3 2020-03-09                 9          2.0\n",
       "4 2020-03-11                16          7.0"
      ]
     },
     "execution_count": 129,
     "metadata": {},
     "output_type": "execute_result"
    }
   ],
   "source": [
    "daily_cumulative_predict = pd.read_csv('data/predict_confirmed.csv')\n",
    "daily_cumulative_predict['date'] = pd.to_datetime(daily_cumulative_predict['date'], format='%Y-%m-%d')\n",
    "daily_cumulative_predict.head()"
   ]
  },
  {
   "cell_type": "code",
   "execution_count": 130,
   "metadata": {},
   "outputs": [
    {
     "data": {
      "application/vnd.plotly.v1+json": {
       "config": {
        "displayModeBar": false,
        "plotlyServerURL": "https://plot.ly"
       },
       "data": [
        {
         "hoverinfo": "x+y",
         "hovertemplate": "%{y}<extra></extra>",
         "marker": {
          "color": "green"
         },
         "mode": "lines",
         "name": "Predicted Without Lockdown",
         "type": "scatter",
         "visible": "legendonly",
         "x": [
          "2020-03-05T00:00:00",
          "2020-03-07T00:00:00",
          "2020-03-08T00:00:00",
          "2020-03-09T00:00:00",
          "2020-03-11T00:00:00",
          "2020-03-12T00:00:00",
          "2020-03-13T00:00:00",
          "2020-03-14T00:00:00",
          "2020-03-15T00:00:00",
          "2020-03-16T00:00:00",
          "2020-03-17T00:00:00",
          "2020-03-18T00:00:00",
          "2020-03-19T00:00:00",
          "2020-03-20T00:00:00",
          "2020-03-21T00:00:00",
          "2020-03-22T00:00:00",
          "2020-03-23T00:00:00",
          "2020-03-24T00:00:00",
          "2020-03-25T00:00:00",
          "2020-03-26T00:00:00",
          "2020-03-27T00:00:00",
          "2020-03-28T00:00:00",
          "2020-03-29T00:00:00",
          "2020-03-30T00:00:00",
          "2020-03-31T00:00:00",
          "2020-04-01T00:00:00",
          "2020-04-02T00:00:00",
          "2020-04-03T00:00:00",
          "2020-04-04T00:00:00",
          "2020-04-05T00:00:00",
          "2020-04-06T00:00:00",
          "2020-04-07T00:00:00",
          "2020-04-08T00:00:00",
          "2020-04-09T00:00:00",
          "2020-04-10T00:00:00",
          "2020-04-11T00:00:00",
          "2020-04-12T00:00:00",
          "2020-04-13T00:00:00",
          "2020-04-14T00:00:00",
          "2020-04-15T00:00:00",
          "2020-04-16T00:00:00",
          "2020-04-17T00:00:00",
          "2020-04-18T00:00:00",
          "2020-04-19T00:00:00",
          "2020-04-20T00:00:00",
          "2020-04-21T00:00:00",
          "2020-04-22T00:00:00",
          "2020-04-23T00:00:00",
          "2020-04-24T00:00:00",
          "2020-04-25T00:00:00",
          "2020-04-26T00:00:00",
          "2020-04-27T00:00:00",
          "2020-04-28T00:00:00",
          "2020-04-29T00:00:00",
          "2020-04-30T00:00:00"
         ],
         "y": [
          3,
          5,
          7,
          9,
          16,
          21,
          27,
          36,
          47,
          62,
          81,
          106,
          139,
          182,
          239,
          314,
          411,
          539,
          707,
          927,
          1216,
          1594,
          2091,
          2742,
          3595,
          4715,
          6182,
          8107,
          10631,
          13942,
          18282,
          23974,
          31439,
          41227,
          54063,
          70896,
          92969,
          121915,
          159873,
          209649,
          274924,
          360521,
          472768,
          619964,
          812989,
          1066112,
          1398044,
          1833324,
          2404127,
          3152648,
          4134221,
          5421405,
          7109352,
          9322839,
          12225493
         ]
        },
        {
         "hoverinfo": "x+y",
         "hovertemplate": "%{y}<extra></extra>",
         "marker": {
          "color": "firebrick"
         },
         "mode": "lines",
         "name": "Actual",
         "type": "scatter",
         "x": [
          "2020-03-05T00:00:00",
          "2020-03-07T00:00:00",
          "2020-03-08T00:00:00",
          "2020-03-09T00:00:00",
          "2020-03-11T00:00:00",
          "2020-03-12T00:00:00",
          "2020-03-13T00:00:00",
          "2020-03-14T00:00:00",
          "2020-03-15T00:00:00",
          "2020-03-16T00:00:00",
          "2020-03-17T00:00:00",
          "2020-03-18T00:00:00",
          "2020-03-19T00:00:00",
          "2020-03-20T00:00:00",
          "2020-03-21T00:00:00",
          "2020-03-22T00:00:00",
          "2020-03-23T00:00:00",
          "2020-03-24T00:00:00",
          "2020-03-25T00:00:00",
          "2020-03-26T00:00:00",
          "2020-03-27T00:00:00",
          "2020-03-28T00:00:00",
          "2020-03-29T00:00:00",
          "2020-03-30T00:00:00",
          "2020-03-31T00:00:00",
          "2020-04-01T00:00:00",
          "2020-04-02T00:00:00",
          "2020-04-03T00:00:00",
          "2020-04-04T00:00:00",
          "2020-04-05T00:00:00",
          "2020-04-06T00:00:00",
          "2020-04-07T00:00:00",
          "2020-04-08T00:00:00",
          "2020-04-09T00:00:00",
          "2020-04-10T00:00:00",
          "2020-04-11T00:00:00",
          "2020-04-12T00:00:00",
          "2020-04-13T00:00:00",
          "2020-04-14T00:00:00",
          "2020-04-15T00:00:00",
          "2020-04-16T00:00:00",
          "2020-04-17T00:00:00",
          "2020-04-18T00:00:00",
          "2020-04-19T00:00:00",
          "2020-04-20T00:00:00",
          "2020-04-21T00:00:00",
          "2020-04-22T00:00:00",
          "2020-04-23T00:00:00",
          "2020-04-24T00:00:00",
          "2020-04-25T00:00:00",
          "2020-04-26T00:00:00",
          "2020-04-27T00:00:00",
          "2020-04-28T00:00:00",
          "2020-04-29T00:00:00",
          "2020-04-30T00:00:00"
         ],
         "y": [
          1,
          2,
          3,
          7,
          13,
          16,
          24,
          38,
          51,
          62,
          85,
          116,
          150,
          202,
          240,
          274,
          402,
          554,
          709,
          927,
          1170,
          1187,
          1280,
          1326,
          1353,
          1380,
          1462,
          1505,
          1585,
          1655,
          1686,
          1749,
          1845,
          1934,
          2003,
          2028,
          2173,
          2272,
          2415,
          2506,
          2605,
          2783,
          3034,
          3158,
          3300,
          3465,
          3635,
          3953,
          4220,
          4361,
          4546,
          4793,
          4996,
          5350,
          5647
         ]
        }
       ],
       "layout": {
        "annotations": [
         {
          "arrowhead": 1,
          "arrowsize": 1.5,
          "ax": 0,
          "ay": -40,
          "showarrow": true,
          "text": "First Day of Lockdown",
          "x": "2020-03-27T00:00:00",
          "xref": "x",
          "y": 1170,
          "yref": "y",
          "yshift": 4
         }
        ],
        "hovermode": "x",
        "legend": {
         "x": 0.01,
         "y": 0.98
        },
        "margin": {
         "b": 0,
         "l": 0,
         "r": 0,
         "t": 0
        },
        "template": {
         "data": {
          "bar": [
           {
            "error_x": {
             "color": "#2a3f5f"
            },
            "error_y": {
             "color": "#2a3f5f"
            },
            "marker": {
             "line": {
              "color": "#E5ECF6",
              "width": 0.5
             }
            },
            "type": "bar"
           }
          ],
          "barpolar": [
           {
            "marker": {
             "line": {
              "color": "#E5ECF6",
              "width": 0.5
             }
            },
            "type": "barpolar"
           }
          ],
          "carpet": [
           {
            "aaxis": {
             "endlinecolor": "#2a3f5f",
             "gridcolor": "white",
             "linecolor": "white",
             "minorgridcolor": "white",
             "startlinecolor": "#2a3f5f"
            },
            "baxis": {
             "endlinecolor": "#2a3f5f",
             "gridcolor": "white",
             "linecolor": "white",
             "minorgridcolor": "white",
             "startlinecolor": "#2a3f5f"
            },
            "type": "carpet"
           }
          ],
          "choropleth": [
           {
            "colorbar": {
             "outlinewidth": 0,
             "ticks": ""
            },
            "type": "choropleth"
           }
          ],
          "contour": [
           {
            "colorbar": {
             "outlinewidth": 0,
             "ticks": ""
            },
            "colorscale": [
             [
              0,
              "#0d0887"
             ],
             [
              0.1111111111111111,
              "#46039f"
             ],
             [
              0.2222222222222222,
              "#7201a8"
             ],
             [
              0.3333333333333333,
              "#9c179e"
             ],
             [
              0.4444444444444444,
              "#bd3786"
             ],
             [
              0.5555555555555556,
              "#d8576b"
             ],
             [
              0.6666666666666666,
              "#ed7953"
             ],
             [
              0.7777777777777778,
              "#fb9f3a"
             ],
             [
              0.8888888888888888,
              "#fdca26"
             ],
             [
              1,
              "#f0f921"
             ]
            ],
            "type": "contour"
           }
          ],
          "contourcarpet": [
           {
            "colorbar": {
             "outlinewidth": 0,
             "ticks": ""
            },
            "type": "contourcarpet"
           }
          ],
          "heatmap": [
           {
            "colorbar": {
             "outlinewidth": 0,
             "ticks": ""
            },
            "colorscale": [
             [
              0,
              "#0d0887"
             ],
             [
              0.1111111111111111,
              "#46039f"
             ],
             [
              0.2222222222222222,
              "#7201a8"
             ],
             [
              0.3333333333333333,
              "#9c179e"
             ],
             [
              0.4444444444444444,
              "#bd3786"
             ],
             [
              0.5555555555555556,
              "#d8576b"
             ],
             [
              0.6666666666666666,
              "#ed7953"
             ],
             [
              0.7777777777777778,
              "#fb9f3a"
             ],
             [
              0.8888888888888888,
              "#fdca26"
             ],
             [
              1,
              "#f0f921"
             ]
            ],
            "type": "heatmap"
           }
          ],
          "heatmapgl": [
           {
            "colorbar": {
             "outlinewidth": 0,
             "ticks": ""
            },
            "colorscale": [
             [
              0,
              "#0d0887"
             ],
             [
              0.1111111111111111,
              "#46039f"
             ],
             [
              0.2222222222222222,
              "#7201a8"
             ],
             [
              0.3333333333333333,
              "#9c179e"
             ],
             [
              0.4444444444444444,
              "#bd3786"
             ],
             [
              0.5555555555555556,
              "#d8576b"
             ],
             [
              0.6666666666666666,
              "#ed7953"
             ],
             [
              0.7777777777777778,
              "#fb9f3a"
             ],
             [
              0.8888888888888888,
              "#fdca26"
             ],
             [
              1,
              "#f0f921"
             ]
            ],
            "type": "heatmapgl"
           }
          ],
          "histogram": [
           {
            "marker": {
             "colorbar": {
              "outlinewidth": 0,
              "ticks": ""
             }
            },
            "type": "histogram"
           }
          ],
          "histogram2d": [
           {
            "colorbar": {
             "outlinewidth": 0,
             "ticks": ""
            },
            "colorscale": [
             [
              0,
              "#0d0887"
             ],
             [
              0.1111111111111111,
              "#46039f"
             ],
             [
              0.2222222222222222,
              "#7201a8"
             ],
             [
              0.3333333333333333,
              "#9c179e"
             ],
             [
              0.4444444444444444,
              "#bd3786"
             ],
             [
              0.5555555555555556,
              "#d8576b"
             ],
             [
              0.6666666666666666,
              "#ed7953"
             ],
             [
              0.7777777777777778,
              "#fb9f3a"
             ],
             [
              0.8888888888888888,
              "#fdca26"
             ],
             [
              1,
              "#f0f921"
             ]
            ],
            "type": "histogram2d"
           }
          ],
          "histogram2dcontour": [
           {
            "colorbar": {
             "outlinewidth": 0,
             "ticks": ""
            },
            "colorscale": [
             [
              0,
              "#0d0887"
             ],
             [
              0.1111111111111111,
              "#46039f"
             ],
             [
              0.2222222222222222,
              "#7201a8"
             ],
             [
              0.3333333333333333,
              "#9c179e"
             ],
             [
              0.4444444444444444,
              "#bd3786"
             ],
             [
              0.5555555555555556,
              "#d8576b"
             ],
             [
              0.6666666666666666,
              "#ed7953"
             ],
             [
              0.7777777777777778,
              "#fb9f3a"
             ],
             [
              0.8888888888888888,
              "#fdca26"
             ],
             [
              1,
              "#f0f921"
             ]
            ],
            "type": "histogram2dcontour"
           }
          ],
          "mesh3d": [
           {
            "colorbar": {
             "outlinewidth": 0,
             "ticks": ""
            },
            "type": "mesh3d"
           }
          ],
          "parcoords": [
           {
            "line": {
             "colorbar": {
              "outlinewidth": 0,
              "ticks": ""
             }
            },
            "type": "parcoords"
           }
          ],
          "pie": [
           {
            "automargin": true,
            "type": "pie"
           }
          ],
          "scatter": [
           {
            "marker": {
             "colorbar": {
              "outlinewidth": 0,
              "ticks": ""
             }
            },
            "type": "scatter"
           }
          ],
          "scatter3d": [
           {
            "line": {
             "colorbar": {
              "outlinewidth": 0,
              "ticks": ""
             }
            },
            "marker": {
             "colorbar": {
              "outlinewidth": 0,
              "ticks": ""
             }
            },
            "type": "scatter3d"
           }
          ],
          "scattercarpet": [
           {
            "marker": {
             "colorbar": {
              "outlinewidth": 0,
              "ticks": ""
             }
            },
            "type": "scattercarpet"
           }
          ],
          "scattergeo": [
           {
            "marker": {
             "colorbar": {
              "outlinewidth": 0,
              "ticks": ""
             }
            },
            "type": "scattergeo"
           }
          ],
          "scattergl": [
           {
            "marker": {
             "colorbar": {
              "outlinewidth": 0,
              "ticks": ""
             }
            },
            "type": "scattergl"
           }
          ],
          "scattermapbox": [
           {
            "marker": {
             "colorbar": {
              "outlinewidth": 0,
              "ticks": ""
             }
            },
            "type": "scattermapbox"
           }
          ],
          "scatterpolar": [
           {
            "marker": {
             "colorbar": {
              "outlinewidth": 0,
              "ticks": ""
             }
            },
            "type": "scatterpolar"
           }
          ],
          "scatterpolargl": [
           {
            "marker": {
             "colorbar": {
              "outlinewidth": 0,
              "ticks": ""
             }
            },
            "type": "scatterpolargl"
           }
          ],
          "scatterternary": [
           {
            "marker": {
             "colorbar": {
              "outlinewidth": 0,
              "ticks": ""
             }
            },
            "type": "scatterternary"
           }
          ],
          "surface": [
           {
            "colorbar": {
             "outlinewidth": 0,
             "ticks": ""
            },
            "colorscale": [
             [
              0,
              "#0d0887"
             ],
             [
              0.1111111111111111,
              "#46039f"
             ],
             [
              0.2222222222222222,
              "#7201a8"
             ],
             [
              0.3333333333333333,
              "#9c179e"
             ],
             [
              0.4444444444444444,
              "#bd3786"
             ],
             [
              0.5555555555555556,
              "#d8576b"
             ],
             [
              0.6666666666666666,
              "#ed7953"
             ],
             [
              0.7777777777777778,
              "#fb9f3a"
             ],
             [
              0.8888888888888888,
              "#fdca26"
             ],
             [
              1,
              "#f0f921"
             ]
            ],
            "type": "surface"
           }
          ],
          "table": [
           {
            "cells": {
             "fill": {
              "color": "#EBF0F8"
             },
             "line": {
              "color": "white"
             }
            },
            "header": {
             "fill": {
              "color": "#C8D4E3"
             },
             "line": {
              "color": "white"
             }
            },
            "type": "table"
           }
          ]
         },
         "layout": {
          "annotationdefaults": {
           "arrowcolor": "#2a3f5f",
           "arrowhead": 0,
           "arrowwidth": 1
          },
          "coloraxis": {
           "colorbar": {
            "outlinewidth": 0,
            "ticks": ""
           }
          },
          "colorscale": {
           "diverging": [
            [
             0,
             "#8e0152"
            ],
            [
             0.1,
             "#c51b7d"
            ],
            [
             0.2,
             "#de77ae"
            ],
            [
             0.3,
             "#f1b6da"
            ],
            [
             0.4,
             "#fde0ef"
            ],
            [
             0.5,
             "#f7f7f7"
            ],
            [
             0.6,
             "#e6f5d0"
            ],
            [
             0.7,
             "#b8e186"
            ],
            [
             0.8,
             "#7fbc41"
            ],
            [
             0.9,
             "#4d9221"
            ],
            [
             1,
             "#276419"
            ]
           ],
           "sequential": [
            [
             0,
             "#0d0887"
            ],
            [
             0.1111111111111111,
             "#46039f"
            ],
            [
             0.2222222222222222,
             "#7201a8"
            ],
            [
             0.3333333333333333,
             "#9c179e"
            ],
            [
             0.4444444444444444,
             "#bd3786"
            ],
            [
             0.5555555555555556,
             "#d8576b"
            ],
            [
             0.6666666666666666,
             "#ed7953"
            ],
            [
             0.7777777777777778,
             "#fb9f3a"
            ],
            [
             0.8888888888888888,
             "#fdca26"
            ],
            [
             1,
             "#f0f921"
            ]
           ],
           "sequentialminus": [
            [
             0,
             "#0d0887"
            ],
            [
             0.1111111111111111,
             "#46039f"
            ],
            [
             0.2222222222222222,
             "#7201a8"
            ],
            [
             0.3333333333333333,
             "#9c179e"
            ],
            [
             0.4444444444444444,
             "#bd3786"
            ],
            [
             0.5555555555555556,
             "#d8576b"
            ],
            [
             0.6666666666666666,
             "#ed7953"
            ],
            [
             0.7777777777777778,
             "#fb9f3a"
            ],
            [
             0.8888888888888888,
             "#fdca26"
            ],
            [
             1,
             "#f0f921"
            ]
           ]
          },
          "colorway": [
           "#636efa",
           "#EF553B",
           "#00cc96",
           "#ab63fa",
           "#FFA15A",
           "#19d3f3",
           "#FF6692",
           "#B6E880",
           "#FF97FF",
           "#FECB52"
          ],
          "font": {
           "color": "#2a3f5f"
          },
          "geo": {
           "bgcolor": "white",
           "lakecolor": "white",
           "landcolor": "#E5ECF6",
           "showlakes": true,
           "showland": true,
           "subunitcolor": "white"
          },
          "hoverlabel": {
           "align": "left"
          },
          "hovermode": "closest",
          "mapbox": {
           "style": "light"
          },
          "paper_bgcolor": "white",
          "plot_bgcolor": "#E5ECF6",
          "polar": {
           "angularaxis": {
            "gridcolor": "white",
            "linecolor": "white",
            "ticks": ""
           },
           "bgcolor": "#E5ECF6",
           "radialaxis": {
            "gridcolor": "white",
            "linecolor": "white",
            "ticks": ""
           }
          },
          "scene": {
           "xaxis": {
            "backgroundcolor": "#E5ECF6",
            "gridcolor": "white",
            "gridwidth": 2,
            "linecolor": "white",
            "showbackground": true,
            "ticks": "",
            "zerolinecolor": "white"
           },
           "yaxis": {
            "backgroundcolor": "#E5ECF6",
            "gridcolor": "white",
            "gridwidth": 2,
            "linecolor": "white",
            "showbackground": true,
            "ticks": "",
            "zerolinecolor": "white"
           },
           "zaxis": {
            "backgroundcolor": "#E5ECF6",
            "gridcolor": "white",
            "gridwidth": 2,
            "linecolor": "white",
            "showbackground": true,
            "ticks": "",
            "zerolinecolor": "white"
           }
          },
          "shapedefaults": {
           "line": {
            "color": "#2a3f5f"
           }
          },
          "ternary": {
           "aaxis": {
            "gridcolor": "white",
            "linecolor": "white",
            "ticks": ""
           },
           "baxis": {
            "gridcolor": "white",
            "linecolor": "white",
            "ticks": ""
           },
           "bgcolor": "#E5ECF6",
           "caxis": {
            "gridcolor": "white",
            "linecolor": "white",
            "ticks": ""
           }
          },
          "title": {
           "x": 0.05
          },
          "xaxis": {
           "automargin": true,
           "gridcolor": "white",
           "linecolor": "white",
           "ticks": "",
           "title": {
            "standoff": 15
           },
           "zerolinecolor": "white",
           "zerolinewidth": 2
          },
          "yaxis": {
           "automargin": true,
           "gridcolor": "white",
           "linecolor": "white",
           "ticks": "",
           "title": {
            "standoff": 15
           },
           "zerolinecolor": "white",
           "zerolinewidth": 2
          }
         }
        },
        "xaxis": {
         "fixedrange": true,
         "title": {
          "text": "Date"
         }
        },
        "yaxis": {
         "fixedrange": true,
         "title": {
          "text": "Cumulative No of Postive Cases"
         }
        }
       }
      },
      "text/html": [
       "<div>\n",
       "        \n",
       "        \n",
       "            <div id=\"dc861d55-0c0b-4962-a768-b0444c91ea07\" class=\"plotly-graph-div\" style=\"height:525px; width:100%;\"></div>\n",
       "            <script type=\"text/javascript\">\n",
       "                require([\"plotly\"], function(Plotly) {\n",
       "                    window.PLOTLYENV=window.PLOTLYENV || {};\n",
       "                    \n",
       "                if (document.getElementById(\"dc861d55-0c0b-4962-a768-b0444c91ea07\")) {\n",
       "                    Plotly.newPlot(\n",
       "                        'dc861d55-0c0b-4962-a768-b0444c91ea07',\n",
       "                        [{\"hoverinfo\": \"x+y\", \"hovertemplate\": \"%{y}<extra></extra>\", \"marker\": {\"color\": \"green\"}, \"mode\": \"lines\", \"name\": \"Predicted Without Lockdown\", \"type\": \"scatter\", \"visible\": \"legendonly\", \"x\": [\"2020-03-05T00:00:00\", \"2020-03-07T00:00:00\", \"2020-03-08T00:00:00\", \"2020-03-09T00:00:00\", \"2020-03-11T00:00:00\", \"2020-03-12T00:00:00\", \"2020-03-13T00:00:00\", \"2020-03-14T00:00:00\", \"2020-03-15T00:00:00\", \"2020-03-16T00:00:00\", \"2020-03-17T00:00:00\", \"2020-03-18T00:00:00\", \"2020-03-19T00:00:00\", \"2020-03-20T00:00:00\", \"2020-03-21T00:00:00\", \"2020-03-22T00:00:00\", \"2020-03-23T00:00:00\", \"2020-03-24T00:00:00\", \"2020-03-25T00:00:00\", \"2020-03-26T00:00:00\", \"2020-03-27T00:00:00\", \"2020-03-28T00:00:00\", \"2020-03-29T00:00:00\", \"2020-03-30T00:00:00\", \"2020-03-31T00:00:00\", \"2020-04-01T00:00:00\", \"2020-04-02T00:00:00\", \"2020-04-03T00:00:00\", \"2020-04-04T00:00:00\", \"2020-04-05T00:00:00\", \"2020-04-06T00:00:00\", \"2020-04-07T00:00:00\", \"2020-04-08T00:00:00\", \"2020-04-09T00:00:00\", \"2020-04-10T00:00:00\", \"2020-04-11T00:00:00\", \"2020-04-12T00:00:00\", \"2020-04-13T00:00:00\", \"2020-04-14T00:00:00\", \"2020-04-15T00:00:00\", \"2020-04-16T00:00:00\", \"2020-04-17T00:00:00\", \"2020-04-18T00:00:00\", \"2020-04-19T00:00:00\", \"2020-04-20T00:00:00\", \"2020-04-21T00:00:00\", \"2020-04-22T00:00:00\", \"2020-04-23T00:00:00\", \"2020-04-24T00:00:00\", \"2020-04-25T00:00:00\", \"2020-04-26T00:00:00\", \"2020-04-27T00:00:00\", \"2020-04-28T00:00:00\", \"2020-04-29T00:00:00\", \"2020-04-30T00:00:00\"], \"y\": [3, 5, 7, 9, 16, 21, 27, 36, 47, 62, 81, 106, 139, 182, 239, 314, 411, 539, 707, 927, 1216, 1594, 2091, 2742, 3595, 4715, 6182, 8107, 10631, 13942, 18282, 23974, 31439, 41227, 54063, 70896, 92969, 121915, 159873, 209649, 274924, 360521, 472768, 619964, 812989, 1066112, 1398044, 1833324, 2404127, 3152648, 4134221, 5421405, 7109352, 9322839, 12225493]}, {\"hoverinfo\": \"x+y\", \"hovertemplate\": \"%{y}<extra></extra>\", \"marker\": {\"color\": \"firebrick\"}, \"mode\": \"lines\", \"name\": \"Actual\", \"type\": \"scatter\", \"x\": [\"2020-03-05T00:00:00\", \"2020-03-07T00:00:00\", \"2020-03-08T00:00:00\", \"2020-03-09T00:00:00\", \"2020-03-11T00:00:00\", \"2020-03-12T00:00:00\", \"2020-03-13T00:00:00\", \"2020-03-14T00:00:00\", \"2020-03-15T00:00:00\", \"2020-03-16T00:00:00\", \"2020-03-17T00:00:00\", \"2020-03-18T00:00:00\", \"2020-03-19T00:00:00\", \"2020-03-20T00:00:00\", \"2020-03-21T00:00:00\", \"2020-03-22T00:00:00\", \"2020-03-23T00:00:00\", \"2020-03-24T00:00:00\", \"2020-03-25T00:00:00\", \"2020-03-26T00:00:00\", \"2020-03-27T00:00:00\", \"2020-03-28T00:00:00\", \"2020-03-29T00:00:00\", \"2020-03-30T00:00:00\", \"2020-03-31T00:00:00\", \"2020-04-01T00:00:00\", \"2020-04-02T00:00:00\", \"2020-04-03T00:00:00\", \"2020-04-04T00:00:00\", \"2020-04-05T00:00:00\", \"2020-04-06T00:00:00\", \"2020-04-07T00:00:00\", \"2020-04-08T00:00:00\", \"2020-04-09T00:00:00\", \"2020-04-10T00:00:00\", \"2020-04-11T00:00:00\", \"2020-04-12T00:00:00\", \"2020-04-13T00:00:00\", \"2020-04-14T00:00:00\", \"2020-04-15T00:00:00\", \"2020-04-16T00:00:00\", \"2020-04-17T00:00:00\", \"2020-04-18T00:00:00\", \"2020-04-19T00:00:00\", \"2020-04-20T00:00:00\", \"2020-04-21T00:00:00\", \"2020-04-22T00:00:00\", \"2020-04-23T00:00:00\", \"2020-04-24T00:00:00\", \"2020-04-25T00:00:00\", \"2020-04-26T00:00:00\", \"2020-04-27T00:00:00\", \"2020-04-28T00:00:00\", \"2020-04-29T00:00:00\", \"2020-04-30T00:00:00\"], \"y\": [1, 2, 3, 7, 13, 16, 24, 38, 51, 62, 85, 116, 150, 202, 240, 274, 402, 554, 709, 927, 1170, 1187, 1280, 1326, 1353, 1380, 1462, 1505, 1585, 1655, 1686, 1749, 1845, 1934, 2003, 2028, 2173, 2272, 2415, 2506, 2605, 2783, 3034, 3158, 3300, 3465, 3635, 3953, 4220, 4361, 4546, 4793, 4996, 5350, 5647]}],\n",
       "                        {\"annotations\": [{\"arrowhead\": 1, \"arrowsize\": 1.5, \"ax\": 0, \"ay\": -40, \"showarrow\": true, \"text\": \"First Day of Lockdown\", \"x\": \"2020-03-27T00:00:00\", \"xref\": \"x\", \"y\": 1170, \"yref\": \"y\", \"yshift\": 4}], \"hovermode\": \"x\", \"legend\": {\"x\": 0.01, \"y\": 0.98}, \"margin\": {\"b\": 0, \"l\": 0, \"r\": 0, \"t\": 0}, \"template\": {\"data\": {\"bar\": [{\"error_x\": {\"color\": \"#2a3f5f\"}, \"error_y\": {\"color\": \"#2a3f5f\"}, \"marker\": {\"line\": {\"color\": \"#E5ECF6\", \"width\": 0.5}}, \"type\": \"bar\"}], \"barpolar\": [{\"marker\": {\"line\": {\"color\": \"#E5ECF6\", \"width\": 0.5}}, \"type\": \"barpolar\"}], \"carpet\": [{\"aaxis\": {\"endlinecolor\": \"#2a3f5f\", \"gridcolor\": \"white\", \"linecolor\": \"white\", \"minorgridcolor\": \"white\", \"startlinecolor\": \"#2a3f5f\"}, \"baxis\": {\"endlinecolor\": \"#2a3f5f\", \"gridcolor\": \"white\", \"linecolor\": \"white\", \"minorgridcolor\": \"white\", \"startlinecolor\": \"#2a3f5f\"}, \"type\": \"carpet\"}], \"choropleth\": [{\"colorbar\": {\"outlinewidth\": 0, \"ticks\": \"\"}, \"type\": \"choropleth\"}], \"contour\": [{\"colorbar\": {\"outlinewidth\": 0, \"ticks\": \"\"}, \"colorscale\": [[0.0, \"#0d0887\"], [0.1111111111111111, \"#46039f\"], [0.2222222222222222, \"#7201a8\"], [0.3333333333333333, \"#9c179e\"], [0.4444444444444444, \"#bd3786\"], [0.5555555555555556, \"#d8576b\"], [0.6666666666666666, \"#ed7953\"], [0.7777777777777778, \"#fb9f3a\"], [0.8888888888888888, \"#fdca26\"], [1.0, \"#f0f921\"]], \"type\": \"contour\"}], \"contourcarpet\": [{\"colorbar\": {\"outlinewidth\": 0, \"ticks\": \"\"}, \"type\": \"contourcarpet\"}], \"heatmap\": [{\"colorbar\": {\"outlinewidth\": 0, \"ticks\": \"\"}, \"colorscale\": [[0.0, \"#0d0887\"], [0.1111111111111111, \"#46039f\"], [0.2222222222222222, \"#7201a8\"], [0.3333333333333333, \"#9c179e\"], [0.4444444444444444, \"#bd3786\"], [0.5555555555555556, \"#d8576b\"], [0.6666666666666666, \"#ed7953\"], [0.7777777777777778, \"#fb9f3a\"], [0.8888888888888888, \"#fdca26\"], [1.0, \"#f0f921\"]], \"type\": \"heatmap\"}], \"heatmapgl\": [{\"colorbar\": {\"outlinewidth\": 0, \"ticks\": \"\"}, \"colorscale\": [[0.0, \"#0d0887\"], [0.1111111111111111, \"#46039f\"], [0.2222222222222222, \"#7201a8\"], [0.3333333333333333, \"#9c179e\"], [0.4444444444444444, \"#bd3786\"], [0.5555555555555556, \"#d8576b\"], [0.6666666666666666, \"#ed7953\"], [0.7777777777777778, \"#fb9f3a\"], [0.8888888888888888, \"#fdca26\"], [1.0, \"#f0f921\"]], \"type\": \"heatmapgl\"}], \"histogram\": [{\"marker\": {\"colorbar\": {\"outlinewidth\": 0, \"ticks\": \"\"}}, \"type\": \"histogram\"}], \"histogram2d\": [{\"colorbar\": {\"outlinewidth\": 0, \"ticks\": \"\"}, \"colorscale\": [[0.0, \"#0d0887\"], [0.1111111111111111, \"#46039f\"], [0.2222222222222222, \"#7201a8\"], [0.3333333333333333, \"#9c179e\"], [0.4444444444444444, \"#bd3786\"], [0.5555555555555556, \"#d8576b\"], [0.6666666666666666, \"#ed7953\"], [0.7777777777777778, \"#fb9f3a\"], [0.8888888888888888, \"#fdca26\"], [1.0, \"#f0f921\"]], \"type\": \"histogram2d\"}], \"histogram2dcontour\": [{\"colorbar\": {\"outlinewidth\": 0, \"ticks\": \"\"}, \"colorscale\": [[0.0, \"#0d0887\"], [0.1111111111111111, \"#46039f\"], [0.2222222222222222, \"#7201a8\"], [0.3333333333333333, \"#9c179e\"], [0.4444444444444444, \"#bd3786\"], [0.5555555555555556, \"#d8576b\"], [0.6666666666666666, \"#ed7953\"], [0.7777777777777778, \"#fb9f3a\"], [0.8888888888888888, \"#fdca26\"], [1.0, \"#f0f921\"]], \"type\": \"histogram2dcontour\"}], \"mesh3d\": [{\"colorbar\": {\"outlinewidth\": 0, \"ticks\": \"\"}, \"type\": \"mesh3d\"}], \"parcoords\": [{\"line\": {\"colorbar\": {\"outlinewidth\": 0, \"ticks\": \"\"}}, \"type\": \"parcoords\"}], \"pie\": [{\"automargin\": true, \"type\": \"pie\"}], \"scatter\": [{\"marker\": {\"colorbar\": {\"outlinewidth\": 0, \"ticks\": \"\"}}, \"type\": \"scatter\"}], \"scatter3d\": [{\"line\": {\"colorbar\": {\"outlinewidth\": 0, \"ticks\": \"\"}}, \"marker\": {\"colorbar\": {\"outlinewidth\": 0, \"ticks\": \"\"}}, \"type\": \"scatter3d\"}], \"scattercarpet\": [{\"marker\": {\"colorbar\": {\"outlinewidth\": 0, \"ticks\": \"\"}}, \"type\": \"scattercarpet\"}], \"scattergeo\": [{\"marker\": {\"colorbar\": {\"outlinewidth\": 0, \"ticks\": \"\"}}, \"type\": \"scattergeo\"}], \"scattergl\": [{\"marker\": {\"colorbar\": {\"outlinewidth\": 0, \"ticks\": \"\"}}, \"type\": \"scattergl\"}], \"scattermapbox\": [{\"marker\": {\"colorbar\": {\"outlinewidth\": 0, \"ticks\": \"\"}}, \"type\": \"scattermapbox\"}], \"scatterpolar\": [{\"marker\": {\"colorbar\": {\"outlinewidth\": 0, \"ticks\": \"\"}}, \"type\": \"scatterpolar\"}], \"scatterpolargl\": [{\"marker\": {\"colorbar\": {\"outlinewidth\": 0, \"ticks\": \"\"}}, \"type\": \"scatterpolargl\"}], \"scatterternary\": [{\"marker\": {\"colorbar\": {\"outlinewidth\": 0, \"ticks\": \"\"}}, \"type\": \"scatterternary\"}], \"surface\": [{\"colorbar\": {\"outlinewidth\": 0, \"ticks\": \"\"}, \"colorscale\": [[0.0, \"#0d0887\"], [0.1111111111111111, \"#46039f\"], [0.2222222222222222, \"#7201a8\"], [0.3333333333333333, \"#9c179e\"], [0.4444444444444444, \"#bd3786\"], [0.5555555555555556, \"#d8576b\"], [0.6666666666666666, \"#ed7953\"], [0.7777777777777778, \"#fb9f3a\"], [0.8888888888888888, \"#fdca26\"], [1.0, \"#f0f921\"]], \"type\": \"surface\"}], \"table\": [{\"cells\": {\"fill\": {\"color\": \"#EBF0F8\"}, \"line\": {\"color\": \"white\"}}, \"header\": {\"fill\": {\"color\": \"#C8D4E3\"}, \"line\": {\"color\": \"white\"}}, \"type\": \"table\"}]}, \"layout\": {\"annotationdefaults\": {\"arrowcolor\": \"#2a3f5f\", \"arrowhead\": 0, \"arrowwidth\": 1}, \"coloraxis\": {\"colorbar\": {\"outlinewidth\": 0, \"ticks\": \"\"}}, \"colorscale\": {\"diverging\": [[0, \"#8e0152\"], [0.1, \"#c51b7d\"], [0.2, \"#de77ae\"], [0.3, \"#f1b6da\"], [0.4, \"#fde0ef\"], [0.5, \"#f7f7f7\"], [0.6, \"#e6f5d0\"], [0.7, \"#b8e186\"], [0.8, \"#7fbc41\"], [0.9, \"#4d9221\"], [1, \"#276419\"]], \"sequential\": [[0.0, \"#0d0887\"], [0.1111111111111111, \"#46039f\"], [0.2222222222222222, \"#7201a8\"], [0.3333333333333333, \"#9c179e\"], [0.4444444444444444, \"#bd3786\"], [0.5555555555555556, \"#d8576b\"], [0.6666666666666666, \"#ed7953\"], [0.7777777777777778, \"#fb9f3a\"], [0.8888888888888888, \"#fdca26\"], [1.0, \"#f0f921\"]], \"sequentialminus\": [[0.0, \"#0d0887\"], [0.1111111111111111, \"#46039f\"], [0.2222222222222222, \"#7201a8\"], [0.3333333333333333, \"#9c179e\"], [0.4444444444444444, \"#bd3786\"], [0.5555555555555556, \"#d8576b\"], [0.6666666666666666, \"#ed7953\"], [0.7777777777777778, \"#fb9f3a\"], [0.8888888888888888, \"#fdca26\"], [1.0, \"#f0f921\"]]}, \"colorway\": [\"#636efa\", \"#EF553B\", \"#00cc96\", \"#ab63fa\", \"#FFA15A\", \"#19d3f3\", \"#FF6692\", \"#B6E880\", \"#FF97FF\", \"#FECB52\"], \"font\": {\"color\": \"#2a3f5f\"}, \"geo\": {\"bgcolor\": \"white\", \"lakecolor\": \"white\", \"landcolor\": \"#E5ECF6\", \"showlakes\": true, \"showland\": true, \"subunitcolor\": \"white\"}, \"hoverlabel\": {\"align\": \"left\"}, \"hovermode\": \"closest\", \"mapbox\": {\"style\": \"light\"}, \"paper_bgcolor\": \"white\", \"plot_bgcolor\": \"#E5ECF6\", \"polar\": {\"angularaxis\": {\"gridcolor\": \"white\", \"linecolor\": \"white\", \"ticks\": \"\"}, \"bgcolor\": \"#E5ECF6\", \"radialaxis\": {\"gridcolor\": \"white\", \"linecolor\": \"white\", \"ticks\": \"\"}}, \"scene\": {\"xaxis\": {\"backgroundcolor\": \"#E5ECF6\", \"gridcolor\": \"white\", \"gridwidth\": 2, \"linecolor\": \"white\", \"showbackground\": true, \"ticks\": \"\", \"zerolinecolor\": \"white\"}, \"yaxis\": {\"backgroundcolor\": \"#E5ECF6\", \"gridcolor\": \"white\", \"gridwidth\": 2, \"linecolor\": \"white\", \"showbackground\": true, \"ticks\": \"\", \"zerolinecolor\": \"white\"}, \"zaxis\": {\"backgroundcolor\": \"#E5ECF6\", \"gridcolor\": \"white\", \"gridwidth\": 2, \"linecolor\": \"white\", \"showbackground\": true, \"ticks\": \"\", \"zerolinecolor\": \"white\"}}, \"shapedefaults\": {\"line\": {\"color\": \"#2a3f5f\"}}, \"ternary\": {\"aaxis\": {\"gridcolor\": \"white\", \"linecolor\": \"white\", \"ticks\": \"\"}, \"baxis\": {\"gridcolor\": \"white\", \"linecolor\": \"white\", \"ticks\": \"\"}, \"bgcolor\": \"#E5ECF6\", \"caxis\": {\"gridcolor\": \"white\", \"linecolor\": \"white\", \"ticks\": \"\"}}, \"title\": {\"x\": 0.05}, \"xaxis\": {\"automargin\": true, \"gridcolor\": \"white\", \"linecolor\": \"white\", \"ticks\": \"\", \"title\": {\"standoff\": 15}, \"zerolinecolor\": \"white\", \"zerolinewidth\": 2}, \"yaxis\": {\"automargin\": true, \"gridcolor\": \"white\", \"linecolor\": \"white\", \"ticks\": \"\", \"title\": {\"standoff\": 15}, \"zerolinecolor\": \"white\", \"zerolinewidth\": 2}}}, \"xaxis\": {\"fixedrange\": true, \"title\": {\"text\": \"Date\"}}, \"yaxis\": {\"fixedrange\": true, \"title\": {\"text\": \"Cumulative No of Postive Cases\"}}},\n",
       "                        {\"displayModeBar\": false, \"responsive\": true}\n",
       "                    ).then(function(){\n",
       "                            \n",
       "var gd = document.getElementById('dc861d55-0c0b-4962-a768-b0444c91ea07');\n",
       "var x = new MutationObserver(function (mutations, observer) {{\n",
       "        var display = window.getComputedStyle(gd).display;\n",
       "        if (!display || display === 'none') {{\n",
       "            console.log([gd, 'removed!']);\n",
       "            Plotly.purge(gd);\n",
       "            observer.disconnect();\n",
       "        }}\n",
       "}});\n",
       "\n",
       "// Listen for the removal of the full notebook cells\n",
       "var notebookContainer = gd.closest('#notebook-container');\n",
       "if (notebookContainer) {{\n",
       "    x.observe(notebookContainer, {childList: true});\n",
       "}}\n",
       "\n",
       "// Listen for the clearing of the current output cell\n",
       "var outputEl = gd.closest('.output');\n",
       "if (outputEl) {{\n",
       "    x.observe(outputEl, {childList: true});\n",
       "}}\n",
       "\n",
       "                        })\n",
       "                };\n",
       "                });\n",
       "            </script>\n",
       "        </div>"
      ]
     },
     "metadata": {},
     "output_type": "display_data"
    }
   ],
   "source": [
    "fig_daily_cum_confirm = go.Figure(layout = dict(xaxis_title=\"Date\",\n",
    "                                                yaxis_title=\"Cumulative No of Postive Cases\",\n",
    "                                                legend=dict(x=0.01, y=.98), xaxis=dict(fixedrange=True),\n",
    "                                                yaxis=dict(fixedrange=True), hovermode='x'))\n",
    "\n",
    "# Predict\n",
    "fig_daily_cum_confirm.add_trace(go.Scatter(x=daily_cumulative_predict['date'], \n",
    "                                        y=daily_cumulative_predict['cumulative_cases'], hoverinfo='x+y', \n",
    "                                        mode='lines', \n",
    "                                        marker=dict(color='green'), visible = 'legendonly')) \n",
    "                                        # , name='Predicted'\n",
    "\n",
    "# Actual\n",
    "fig_daily_cum_confirm.add_trace(go.Scatter(x=daily_cumulative_confirmed['date'], \n",
    "                                           y=daily_cumulative_confirmed['cumulative_cases'], \n",
    "                                           hoverinfo='x+y', mode='lines', \n",
    "                                           marker=dict(color='firebrick'))) \n",
    "\n",
    "fig_daily_cum_confirm.update_layout(\n",
    "    margin=empty_margin_dict,\n",
    "    annotations=[\n",
    "        dict(\n",
    "            x=pd.to_datetime('2020-03-27', format='%Y/%m/%d'),\n",
    "            y=1170,\n",
    "            xref=\"x\",\n",
    "            yref=\"y\",\n",
    "            text=\"First Day of Lockdown\",\n",
    "            showarrow=True,\n",
    "            arrowsize=1.5,\n",
    "            arrowhead=1,\n",
    "            yshift=4,\n",
    "            ax=0,\n",
    "            ay=-40\n",
    "        )\n",
    "    ],\n",
    ")\n",
    "\n",
    "fig_daily_cum_confirm.data[0].name = \"Predicted Without Lockdown\"\n",
    "fig_daily_cum_confirm.data[1].name = \"Actual\"\n",
    "\n",
    "\n",
    "fig_daily_cum_confirm.data[0].hovertemplate = '%{y}<extra></extra>'\n",
    "fig_daily_cum_confirm.data[1].hovertemplate = '%{y}<extra></extra>'\n",
    "fig_daily_cum_confirm.show(config = dict(displayModeBar=False))"
   ]
  },
  {
   "cell_type": "markdown",
   "metadata": {},
   "source": [
    "**Save to HTML**"
   ]
  },
  {
   "cell_type": "code",
   "execution_count": 131,
   "metadata": {},
   "outputs": [],
   "source": [
    "pio.write_html(fig_daily_cum_confirm, file='date_vs_cases.html',\n",
    "               config = dict(displayModeBar=False), auto_open=True)"
   ]
  },
  {
   "cell_type": "markdown",
   "metadata": {},
   "source": [
    "### Tests & Confirmed"
   ]
  },
  {
   "cell_type": "code",
   "execution_count": 132,
   "metadata": {},
   "outputs": [
    {
     "data": {
      "text/html": [
       "<div>\n",
       "<style scoped>\n",
       "    .dataframe tbody tr th:only-of-type {\n",
       "        vertical-align: middle;\n",
       "    }\n",
       "\n",
       "    .dataframe tbody tr th {\n",
       "        vertical-align: top;\n",
       "    }\n",
       "\n",
       "    .dataframe thead th {\n",
       "        text-align: right;\n",
       "    }\n",
       "</style>\n",
       "<table border=\"1\" class=\"dataframe\">\n",
       "  <thead>\n",
       "    <tr style=\"text-align: right;\">\n",
       "      <th></th>\n",
       "      <th>date</th>\n",
       "      <th>daily_cases</th>\n",
       "      <th>daily_tests</th>\n",
       "      <th>perc_positive</th>\n",
       "    </tr>\n",
       "  </thead>\n",
       "  <tbody>\n",
       "    <tr>\n",
       "      <th>0</th>\n",
       "      <td>2020-02-11</td>\n",
       "      <td>0.0</td>\n",
       "      <td>61.0</td>\n",
       "      <td>0.0</td>\n",
       "    </tr>\n",
       "    <tr>\n",
       "      <th>1</th>\n",
       "      <td>2020-02-13</td>\n",
       "      <td>0.0</td>\n",
       "      <td>67.0</td>\n",
       "      <td>0.0</td>\n",
       "    </tr>\n",
       "    <tr>\n",
       "      <th>2</th>\n",
       "      <td>2020-02-14</td>\n",
       "      <td>0.0</td>\n",
       "      <td>71.0</td>\n",
       "      <td>0.0</td>\n",
       "    </tr>\n",
       "    <tr>\n",
       "      <th>3</th>\n",
       "      <td>2020-02-19</td>\n",
       "      <td>0.0</td>\n",
       "      <td>95.0</td>\n",
       "      <td>0.0</td>\n",
       "    </tr>\n",
       "    <tr>\n",
       "      <th>4</th>\n",
       "      <td>2020-02-20</td>\n",
       "      <td>0.0</td>\n",
       "      <td>106.0</td>\n",
       "      <td>0.0</td>\n",
       "    </tr>\n",
       "  </tbody>\n",
       "</table>\n",
       "</div>"
      ],
      "text/plain": [
       "        date  daily_cases  daily_tests  perc_positive\n",
       "0 2020-02-11          0.0         61.0            0.0\n",
       "1 2020-02-13          0.0         67.0            0.0\n",
       "2 2020-02-14          0.0         71.0            0.0\n",
       "3 2020-02-19          0.0         95.0            0.0\n",
       "4 2020-02-20          0.0        106.0            0.0"
      ]
     },
     "execution_count": 132,
     "metadata": {},
     "output_type": "execute_result"
    }
   ],
   "source": [
    "cumulative_tests_confirmed = pd.read_csv('data/cumulative_tests_confirmed.csv')\n",
    "cumulative_tests_confirmed['date'] = pd.to_datetime(cumulative_tests_confirmed['date'], format='%Y/%m/%d')\n",
    "cumulative_tests_confirmed.head()"
   ]
  },
  {
   "cell_type": "code",
   "execution_count": 133,
   "metadata": {},
   "outputs": [
    {
     "data": {
      "application/vnd.plotly.v1+json": {
       "config": {
        "displayModeBar": false,
        "plotlyServerURL": "https://plot.ly"
       },
       "data": [
        {
         "hoverlabel": {
          "namelength": 0
         },
         "hovertemplate": "%{y}",
         "legendgroup": "daily_tests",
         "line": {
          "color": "#636efa",
          "dash": "solid"
         },
         "marker": {
          "color": "blue"
         },
         "mode": "lines",
         "name": "Tests",
         "showlegend": true,
         "type": "scatter",
         "x": [
          "2020-02-11T00:00:00",
          "2020-02-13T00:00:00",
          "2020-02-14T00:00:00",
          "2020-02-19T00:00:00",
          "2020-02-20T00:00:00",
          "2020-02-24T00:00:00",
          "2020-02-26T00:00:00",
          "2020-03-02T00:00:00",
          "2020-03-03T00:00:00",
          "2020-03-06T00:00:00",
          "2020-03-07T00:00:00",
          "2020-03-11T00:00:00",
          "2020-03-12T00:00:00",
          "2020-03-13T00:00:00",
          "2020-03-14T00:00:00",
          "2020-03-15T00:00:00",
          "2020-03-16T00:00:00",
          "2020-03-17T00:00:00",
          "2020-03-18T00:00:00",
          "2020-03-19T00:00:00",
          "2020-03-20T00:00:00",
          "2020-03-21T00:00:00",
          "2020-03-22T00:00:00",
          "2020-03-23T00:00:00",
          "2020-03-24T00:00:00",
          "2020-03-26T00:00:00",
          "2020-03-27T00:00:00",
          "2020-03-28T00:00:00",
          "2020-03-29T00:00:00",
          "2020-03-30T00:00:00",
          "2020-03-31T00:00:00",
          "2020-04-01T00:00:00",
          "2020-04-02T00:00:00",
          "2020-04-03T00:00:00",
          "2020-04-04T00:00:00",
          "2020-04-05T00:00:00",
          "2020-04-06T00:00:00",
          "2020-04-08T00:00:00",
          "2020-04-09T00:00:00",
          "2020-04-10T00:00:00",
          "2020-04-11T00:00:00",
          "2020-04-12T00:00:00",
          "2020-04-13T00:00:00",
          "2020-04-14T00:00:00",
          "2020-04-15T00:00:00",
          "2020-04-16T00:00:00",
          "2020-04-17T00:00:00",
          "2020-04-18T00:00:00",
          "2020-04-19T00:00:00",
          "2020-04-20T00:00:00",
          "2020-04-21T00:00:00",
          "2020-04-22T00:00:00",
          "2020-04-23T00:00:00",
          "2020-04-24T00:00:00",
          "2020-04-25T00:00:00",
          "2020-04-26T00:00:00",
          "2020-04-27T00:00:00",
          "2020-04-28T00:00:00",
          "2020-04-29T00:00:00",
          "2020-04-30T00:00:00"
         ],
         "xaxis": "x",
         "y": [
          61,
          67,
          71,
          95,
          106,
          116,
          121,
          160,
          164,
          200,
          241,
          645,
          848,
          924,
          1017,
          1476,
          2405,
          2911,
          3070,
          4832,
          6438,
          7425,
          9315,
          12815,
          15529,
          20471,
          28537,
          31963,
          35593,
          38409,
          41072,
          44292,
          47965,
          50361,
          53937,
          56873,
          58098,
          63776,
          68874,
          73028,
          75053,
          80085,
          83663,
          87022,
          90515,
          95060,
          100827,
          108201,
          114711,
          121510,
          126937,
          133774,
          143570,
          152390,
          161004,
          168643,
          178470,
          185497,
          197127,
          207530
         ],
         "yaxis": "y"
        },
        {
         "hoverlabel": {
          "namelength": 0
         },
         "hovertemplate": "%{y}",
         "legendgroup": "daily_cases",
         "line": {
          "color": "#EF553B",
          "dash": "solid"
         },
         "marker": {
          "color": "firebrick"
         },
         "mode": "lines",
         "name": "Positive Cases",
         "showlegend": true,
         "type": "scatter",
         "x": [
          "2020-02-11T00:00:00",
          "2020-02-13T00:00:00",
          "2020-02-14T00:00:00",
          "2020-02-19T00:00:00",
          "2020-02-20T00:00:00",
          "2020-02-24T00:00:00",
          "2020-02-26T00:00:00",
          "2020-03-02T00:00:00",
          "2020-03-03T00:00:00",
          "2020-03-05T00:00:00",
          "2020-03-06T00:00:00",
          "2020-03-07T00:00:00",
          "2020-03-08T00:00:00",
          "2020-03-09T00:00:00",
          "2020-03-11T00:00:00",
          "2020-03-12T00:00:00",
          "2020-03-13T00:00:00",
          "2020-03-14T00:00:00",
          "2020-03-15T00:00:00",
          "2020-03-16T00:00:00",
          "2020-03-17T00:00:00",
          "2020-03-18T00:00:00",
          "2020-03-19T00:00:00",
          "2020-03-20T00:00:00",
          "2020-03-21T00:00:00",
          "2020-03-22T00:00:00",
          "2020-03-23T00:00:00",
          "2020-03-24T00:00:00",
          "2020-03-25T00:00:00",
          "2020-03-26T00:00:00",
          "2020-03-27T00:00:00",
          "2020-03-28T00:00:00",
          "2020-03-29T00:00:00",
          "2020-03-30T00:00:00",
          "2020-03-31T00:00:00",
          "2020-04-01T00:00:00",
          "2020-04-02T00:00:00",
          "2020-04-03T00:00:00",
          "2020-04-04T00:00:00",
          "2020-04-05T00:00:00",
          "2020-04-06T00:00:00",
          "2020-04-07T00:00:00",
          "2020-04-08T00:00:00",
          "2020-04-09T00:00:00",
          "2020-04-10T00:00:00",
          "2020-04-11T00:00:00",
          "2020-04-12T00:00:00",
          "2020-04-13T00:00:00",
          "2020-04-14T00:00:00",
          "2020-04-15T00:00:00",
          "2020-04-16T00:00:00",
          "2020-04-17T00:00:00",
          "2020-04-18T00:00:00",
          "2020-04-19T00:00:00",
          "2020-04-20T00:00:00",
          "2020-04-21T00:00:00",
          "2020-04-22T00:00:00",
          "2020-04-23T00:00:00",
          "2020-04-24T00:00:00",
          "2020-04-25T00:00:00",
          "2020-04-26T00:00:00",
          "2020-04-27T00:00:00",
          "2020-04-28T00:00:00",
          "2020-04-29T00:00:00",
          "2020-04-30T00:00:00"
         ],
         "xaxis": "x",
         "y": [
          0,
          0,
          0,
          0,
          0,
          0,
          0,
          0,
          0,
          1,
          1,
          2,
          3,
          7,
          13,
          16,
          24,
          38,
          51,
          62,
          85,
          116,
          150,
          202,
          240,
          274,
          402,
          554,
          709,
          927,
          1170,
          1187,
          1280,
          1326,
          1353,
          1380,
          1462,
          1505,
          1585,
          1655,
          1686,
          1749,
          1845,
          1934,
          2003,
          2028,
          2173,
          2272,
          2415,
          2506,
          2605,
          2783,
          3034,
          3158,
          3300,
          3465,
          3635,
          3953,
          4220,
          4361,
          4546,
          4793,
          4996,
          5350,
          5647
         ],
         "yaxis": "y"
        }
       ],
       "layout": {
        "hovermode": "x",
        "legend": {
         "title": {
          "text": ""
         },
         "tracegroupgap": 0,
         "x": 0.01,
         "y": 0.98
        },
        "margin": {
         "b": 0,
         "l": 0,
         "r": 0,
         "t": 0
        },
        "template": {
         "data": {
          "bar": [
           {
            "error_x": {
             "color": "#2a3f5f"
            },
            "error_y": {
             "color": "#2a3f5f"
            },
            "marker": {
             "line": {
              "color": "#E5ECF6",
              "width": 0.5
             }
            },
            "type": "bar"
           }
          ],
          "barpolar": [
           {
            "marker": {
             "line": {
              "color": "#E5ECF6",
              "width": 0.5
             }
            },
            "type": "barpolar"
           }
          ],
          "carpet": [
           {
            "aaxis": {
             "endlinecolor": "#2a3f5f",
             "gridcolor": "white",
             "linecolor": "white",
             "minorgridcolor": "white",
             "startlinecolor": "#2a3f5f"
            },
            "baxis": {
             "endlinecolor": "#2a3f5f",
             "gridcolor": "white",
             "linecolor": "white",
             "minorgridcolor": "white",
             "startlinecolor": "#2a3f5f"
            },
            "type": "carpet"
           }
          ],
          "choropleth": [
           {
            "colorbar": {
             "outlinewidth": 0,
             "ticks": ""
            },
            "type": "choropleth"
           }
          ],
          "contour": [
           {
            "colorbar": {
             "outlinewidth": 0,
             "ticks": ""
            },
            "colorscale": [
             [
              0,
              "#0d0887"
             ],
             [
              0.1111111111111111,
              "#46039f"
             ],
             [
              0.2222222222222222,
              "#7201a8"
             ],
             [
              0.3333333333333333,
              "#9c179e"
             ],
             [
              0.4444444444444444,
              "#bd3786"
             ],
             [
              0.5555555555555556,
              "#d8576b"
             ],
             [
              0.6666666666666666,
              "#ed7953"
             ],
             [
              0.7777777777777778,
              "#fb9f3a"
             ],
             [
              0.8888888888888888,
              "#fdca26"
             ],
             [
              1,
              "#f0f921"
             ]
            ],
            "type": "contour"
           }
          ],
          "contourcarpet": [
           {
            "colorbar": {
             "outlinewidth": 0,
             "ticks": ""
            },
            "type": "contourcarpet"
           }
          ],
          "heatmap": [
           {
            "colorbar": {
             "outlinewidth": 0,
             "ticks": ""
            },
            "colorscale": [
             [
              0,
              "#0d0887"
             ],
             [
              0.1111111111111111,
              "#46039f"
             ],
             [
              0.2222222222222222,
              "#7201a8"
             ],
             [
              0.3333333333333333,
              "#9c179e"
             ],
             [
              0.4444444444444444,
              "#bd3786"
             ],
             [
              0.5555555555555556,
              "#d8576b"
             ],
             [
              0.6666666666666666,
              "#ed7953"
             ],
             [
              0.7777777777777778,
              "#fb9f3a"
             ],
             [
              0.8888888888888888,
              "#fdca26"
             ],
             [
              1,
              "#f0f921"
             ]
            ],
            "type": "heatmap"
           }
          ],
          "heatmapgl": [
           {
            "colorbar": {
             "outlinewidth": 0,
             "ticks": ""
            },
            "colorscale": [
             [
              0,
              "#0d0887"
             ],
             [
              0.1111111111111111,
              "#46039f"
             ],
             [
              0.2222222222222222,
              "#7201a8"
             ],
             [
              0.3333333333333333,
              "#9c179e"
             ],
             [
              0.4444444444444444,
              "#bd3786"
             ],
             [
              0.5555555555555556,
              "#d8576b"
             ],
             [
              0.6666666666666666,
              "#ed7953"
             ],
             [
              0.7777777777777778,
              "#fb9f3a"
             ],
             [
              0.8888888888888888,
              "#fdca26"
             ],
             [
              1,
              "#f0f921"
             ]
            ],
            "type": "heatmapgl"
           }
          ],
          "histogram": [
           {
            "marker": {
             "colorbar": {
              "outlinewidth": 0,
              "ticks": ""
             }
            },
            "type": "histogram"
           }
          ],
          "histogram2d": [
           {
            "colorbar": {
             "outlinewidth": 0,
             "ticks": ""
            },
            "colorscale": [
             [
              0,
              "#0d0887"
             ],
             [
              0.1111111111111111,
              "#46039f"
             ],
             [
              0.2222222222222222,
              "#7201a8"
             ],
             [
              0.3333333333333333,
              "#9c179e"
             ],
             [
              0.4444444444444444,
              "#bd3786"
             ],
             [
              0.5555555555555556,
              "#d8576b"
             ],
             [
              0.6666666666666666,
              "#ed7953"
             ],
             [
              0.7777777777777778,
              "#fb9f3a"
             ],
             [
              0.8888888888888888,
              "#fdca26"
             ],
             [
              1,
              "#f0f921"
             ]
            ],
            "type": "histogram2d"
           }
          ],
          "histogram2dcontour": [
           {
            "colorbar": {
             "outlinewidth": 0,
             "ticks": ""
            },
            "colorscale": [
             [
              0,
              "#0d0887"
             ],
             [
              0.1111111111111111,
              "#46039f"
             ],
             [
              0.2222222222222222,
              "#7201a8"
             ],
             [
              0.3333333333333333,
              "#9c179e"
             ],
             [
              0.4444444444444444,
              "#bd3786"
             ],
             [
              0.5555555555555556,
              "#d8576b"
             ],
             [
              0.6666666666666666,
              "#ed7953"
             ],
             [
              0.7777777777777778,
              "#fb9f3a"
             ],
             [
              0.8888888888888888,
              "#fdca26"
             ],
             [
              1,
              "#f0f921"
             ]
            ],
            "type": "histogram2dcontour"
           }
          ],
          "mesh3d": [
           {
            "colorbar": {
             "outlinewidth": 0,
             "ticks": ""
            },
            "type": "mesh3d"
           }
          ],
          "parcoords": [
           {
            "line": {
             "colorbar": {
              "outlinewidth": 0,
              "ticks": ""
             }
            },
            "type": "parcoords"
           }
          ],
          "pie": [
           {
            "automargin": true,
            "type": "pie"
           }
          ],
          "scatter": [
           {
            "marker": {
             "colorbar": {
              "outlinewidth": 0,
              "ticks": ""
             }
            },
            "type": "scatter"
           }
          ],
          "scatter3d": [
           {
            "line": {
             "colorbar": {
              "outlinewidth": 0,
              "ticks": ""
             }
            },
            "marker": {
             "colorbar": {
              "outlinewidth": 0,
              "ticks": ""
             }
            },
            "type": "scatter3d"
           }
          ],
          "scattercarpet": [
           {
            "marker": {
             "colorbar": {
              "outlinewidth": 0,
              "ticks": ""
             }
            },
            "type": "scattercarpet"
           }
          ],
          "scattergeo": [
           {
            "marker": {
             "colorbar": {
              "outlinewidth": 0,
              "ticks": ""
             }
            },
            "type": "scattergeo"
           }
          ],
          "scattergl": [
           {
            "marker": {
             "colorbar": {
              "outlinewidth": 0,
              "ticks": ""
             }
            },
            "type": "scattergl"
           }
          ],
          "scattermapbox": [
           {
            "marker": {
             "colorbar": {
              "outlinewidth": 0,
              "ticks": ""
             }
            },
            "type": "scattermapbox"
           }
          ],
          "scatterpolar": [
           {
            "marker": {
             "colorbar": {
              "outlinewidth": 0,
              "ticks": ""
             }
            },
            "type": "scatterpolar"
           }
          ],
          "scatterpolargl": [
           {
            "marker": {
             "colorbar": {
              "outlinewidth": 0,
              "ticks": ""
             }
            },
            "type": "scatterpolargl"
           }
          ],
          "scatterternary": [
           {
            "marker": {
             "colorbar": {
              "outlinewidth": 0,
              "ticks": ""
             }
            },
            "type": "scatterternary"
           }
          ],
          "surface": [
           {
            "colorbar": {
             "outlinewidth": 0,
             "ticks": ""
            },
            "colorscale": [
             [
              0,
              "#0d0887"
             ],
             [
              0.1111111111111111,
              "#46039f"
             ],
             [
              0.2222222222222222,
              "#7201a8"
             ],
             [
              0.3333333333333333,
              "#9c179e"
             ],
             [
              0.4444444444444444,
              "#bd3786"
             ],
             [
              0.5555555555555556,
              "#d8576b"
             ],
             [
              0.6666666666666666,
              "#ed7953"
             ],
             [
              0.7777777777777778,
              "#fb9f3a"
             ],
             [
              0.8888888888888888,
              "#fdca26"
             ],
             [
              1,
              "#f0f921"
             ]
            ],
            "type": "surface"
           }
          ],
          "table": [
           {
            "cells": {
             "fill": {
              "color": "#EBF0F8"
             },
             "line": {
              "color": "white"
             }
            },
            "header": {
             "fill": {
              "color": "#C8D4E3"
             },
             "line": {
              "color": "white"
             }
            },
            "type": "table"
           }
          ]
         },
         "layout": {
          "annotationdefaults": {
           "arrowcolor": "#2a3f5f",
           "arrowhead": 0,
           "arrowwidth": 1
          },
          "coloraxis": {
           "colorbar": {
            "outlinewidth": 0,
            "ticks": ""
           }
          },
          "colorscale": {
           "diverging": [
            [
             0,
             "#8e0152"
            ],
            [
             0.1,
             "#c51b7d"
            ],
            [
             0.2,
             "#de77ae"
            ],
            [
             0.3,
             "#f1b6da"
            ],
            [
             0.4,
             "#fde0ef"
            ],
            [
             0.5,
             "#f7f7f7"
            ],
            [
             0.6,
             "#e6f5d0"
            ],
            [
             0.7,
             "#b8e186"
            ],
            [
             0.8,
             "#7fbc41"
            ],
            [
             0.9,
             "#4d9221"
            ],
            [
             1,
             "#276419"
            ]
           ],
           "sequential": [
            [
             0,
             "#0d0887"
            ],
            [
             0.1111111111111111,
             "#46039f"
            ],
            [
             0.2222222222222222,
             "#7201a8"
            ],
            [
             0.3333333333333333,
             "#9c179e"
            ],
            [
             0.4444444444444444,
             "#bd3786"
            ],
            [
             0.5555555555555556,
             "#d8576b"
            ],
            [
             0.6666666666666666,
             "#ed7953"
            ],
            [
             0.7777777777777778,
             "#fb9f3a"
            ],
            [
             0.8888888888888888,
             "#fdca26"
            ],
            [
             1,
             "#f0f921"
            ]
           ],
           "sequentialminus": [
            [
             0,
             "#0d0887"
            ],
            [
             0.1111111111111111,
             "#46039f"
            ],
            [
             0.2222222222222222,
             "#7201a8"
            ],
            [
             0.3333333333333333,
             "#9c179e"
            ],
            [
             0.4444444444444444,
             "#bd3786"
            ],
            [
             0.5555555555555556,
             "#d8576b"
            ],
            [
             0.6666666666666666,
             "#ed7953"
            ],
            [
             0.7777777777777778,
             "#fb9f3a"
            ],
            [
             0.8888888888888888,
             "#fdca26"
            ],
            [
             1,
             "#f0f921"
            ]
           ]
          },
          "colorway": [
           "#636efa",
           "#EF553B",
           "#00cc96",
           "#ab63fa",
           "#FFA15A",
           "#19d3f3",
           "#FF6692",
           "#B6E880",
           "#FF97FF",
           "#FECB52"
          ],
          "font": {
           "color": "#2a3f5f"
          },
          "geo": {
           "bgcolor": "white",
           "lakecolor": "white",
           "landcolor": "#E5ECF6",
           "showlakes": true,
           "showland": true,
           "subunitcolor": "white"
          },
          "hoverlabel": {
           "align": "left"
          },
          "hovermode": "closest",
          "mapbox": {
           "style": "light"
          },
          "paper_bgcolor": "white",
          "plot_bgcolor": "#E5ECF6",
          "polar": {
           "angularaxis": {
            "gridcolor": "white",
            "linecolor": "white",
            "ticks": ""
           },
           "bgcolor": "#E5ECF6",
           "radialaxis": {
            "gridcolor": "white",
            "linecolor": "white",
            "ticks": ""
           }
          },
          "scene": {
           "xaxis": {
            "backgroundcolor": "#E5ECF6",
            "gridcolor": "white",
            "gridwidth": 2,
            "linecolor": "white",
            "showbackground": true,
            "ticks": "",
            "zerolinecolor": "white"
           },
           "yaxis": {
            "backgroundcolor": "#E5ECF6",
            "gridcolor": "white",
            "gridwidth": 2,
            "linecolor": "white",
            "showbackground": true,
            "ticks": "",
            "zerolinecolor": "white"
           },
           "zaxis": {
            "backgroundcolor": "#E5ECF6",
            "gridcolor": "white",
            "gridwidth": 2,
            "linecolor": "white",
            "showbackground": true,
            "ticks": "",
            "zerolinecolor": "white"
           }
          },
          "shapedefaults": {
           "line": {
            "color": "#2a3f5f"
           }
          },
          "ternary": {
           "aaxis": {
            "gridcolor": "white",
            "linecolor": "white",
            "ticks": ""
           },
           "baxis": {
            "gridcolor": "white",
            "linecolor": "white",
            "ticks": ""
           },
           "bgcolor": "#E5ECF6",
           "caxis": {
            "gridcolor": "white",
            "linecolor": "white",
            "ticks": ""
           }
          },
          "title": {
           "x": 0.05
          },
          "xaxis": {
           "automargin": true,
           "gridcolor": "white",
           "linecolor": "white",
           "ticks": "",
           "title": {
            "standoff": 15
           },
           "zerolinecolor": "white",
           "zerolinewidth": 2
          },
          "yaxis": {
           "automargin": true,
           "gridcolor": "white",
           "linecolor": "white",
           "ticks": "",
           "title": {
            "standoff": 15
           },
           "zerolinecolor": "white",
           "zerolinewidth": 2
          }
         }
        },
        "title": {
         "text": ""
        },
        "xaxis": {
         "anchor": "y",
         "domain": [
          0,
          1
         ],
         "fixedrange": true,
         "title": {
          "text": "Date"
         }
        },
        "yaxis": {
         "anchor": "x",
         "domain": [
          0,
          1
         ],
         "fixedrange": true,
         "title": {
          "text": "Cumulative No"
         }
        }
       }
      },
      "text/html": [
       "<div>\n",
       "        \n",
       "        \n",
       "            <div id=\"67aa78c2-6bff-4b8c-a00f-a25a5326d237\" class=\"plotly-graph-div\" style=\"height:525px; width:100%;\"></div>\n",
       "            <script type=\"text/javascript\">\n",
       "                require([\"plotly\"], function(Plotly) {\n",
       "                    window.PLOTLYENV=window.PLOTLYENV || {};\n",
       "                    \n",
       "                if (document.getElementById(\"67aa78c2-6bff-4b8c-a00f-a25a5326d237\")) {\n",
       "                    Plotly.newPlot(\n",
       "                        '67aa78c2-6bff-4b8c-a00f-a25a5326d237',\n",
       "                        [{\"hoverlabel\": {\"namelength\": 0}, \"hovertemplate\": \"%{y}\", \"legendgroup\": \"daily_tests\", \"line\": {\"color\": \"#636efa\", \"dash\": \"solid\"}, \"marker\": {\"color\": \"blue\"}, \"mode\": \"lines\", \"name\": \"Tests\", \"showlegend\": true, \"type\": \"scatter\", \"x\": [\"2020-02-11T00:00:00\", \"2020-02-13T00:00:00\", \"2020-02-14T00:00:00\", \"2020-02-19T00:00:00\", \"2020-02-20T00:00:00\", \"2020-02-24T00:00:00\", \"2020-02-26T00:00:00\", \"2020-03-02T00:00:00\", \"2020-03-03T00:00:00\", \"2020-03-06T00:00:00\", \"2020-03-07T00:00:00\", \"2020-03-11T00:00:00\", \"2020-03-12T00:00:00\", \"2020-03-13T00:00:00\", \"2020-03-14T00:00:00\", \"2020-03-15T00:00:00\", \"2020-03-16T00:00:00\", \"2020-03-17T00:00:00\", \"2020-03-18T00:00:00\", \"2020-03-19T00:00:00\", \"2020-03-20T00:00:00\", \"2020-03-21T00:00:00\", \"2020-03-22T00:00:00\", \"2020-03-23T00:00:00\", \"2020-03-24T00:00:00\", \"2020-03-26T00:00:00\", \"2020-03-27T00:00:00\", \"2020-03-28T00:00:00\", \"2020-03-29T00:00:00\", \"2020-03-30T00:00:00\", \"2020-03-31T00:00:00\", \"2020-04-01T00:00:00\", \"2020-04-02T00:00:00\", \"2020-04-03T00:00:00\", \"2020-04-04T00:00:00\", \"2020-04-05T00:00:00\", \"2020-04-06T00:00:00\", \"2020-04-08T00:00:00\", \"2020-04-09T00:00:00\", \"2020-04-10T00:00:00\", \"2020-04-11T00:00:00\", \"2020-04-12T00:00:00\", \"2020-04-13T00:00:00\", \"2020-04-14T00:00:00\", \"2020-04-15T00:00:00\", \"2020-04-16T00:00:00\", \"2020-04-17T00:00:00\", \"2020-04-18T00:00:00\", \"2020-04-19T00:00:00\", \"2020-04-20T00:00:00\", \"2020-04-21T00:00:00\", \"2020-04-22T00:00:00\", \"2020-04-23T00:00:00\", \"2020-04-24T00:00:00\", \"2020-04-25T00:00:00\", \"2020-04-26T00:00:00\", \"2020-04-27T00:00:00\", \"2020-04-28T00:00:00\", \"2020-04-29T00:00:00\", \"2020-04-30T00:00:00\"], \"xaxis\": \"x\", \"y\": [61.0, 67.0, 71.0, 95.0, 106.0, 116.0, 121.0, 160.0, 164.0, 200.0, 241.0, 645.0, 848.0, 924.0, 1017.0, 1476.0, 2405.0, 2911.0, 3070.0, 4832.0, 6438.0, 7425.0, 9315.0, 12815.0, 15529.0, 20471.0, 28537.0, 31963.0, 35593.0, 38409.0, 41072.0, 44292.0, 47965.0, 50361.0, 53937.0, 56873.0, 58098.0, 63776.0, 68874.0, 73028.0, 75053.0, 80085.0, 83663.0, 87022.0, 90515.0, 95060.0, 100827.0, 108201.0, 114711.0, 121510.0, 126937.0, 133774.0, 143570.0, 152390.0, 161004.0, 168643.0, 178470.0, 185497.0, 197127.0, 207530.0], \"yaxis\": \"y\"}, {\"hoverlabel\": {\"namelength\": 0}, \"hovertemplate\": \"%{y}\", \"legendgroup\": \"daily_cases\", \"line\": {\"color\": \"#EF553B\", \"dash\": \"solid\"}, \"marker\": {\"color\": \"firebrick\"}, \"mode\": \"lines\", \"name\": \"Positive Cases\", \"showlegend\": true, \"type\": \"scatter\", \"x\": [\"2020-02-11T00:00:00\", \"2020-02-13T00:00:00\", \"2020-02-14T00:00:00\", \"2020-02-19T00:00:00\", \"2020-02-20T00:00:00\", \"2020-02-24T00:00:00\", \"2020-02-26T00:00:00\", \"2020-03-02T00:00:00\", \"2020-03-03T00:00:00\", \"2020-03-05T00:00:00\", \"2020-03-06T00:00:00\", \"2020-03-07T00:00:00\", \"2020-03-08T00:00:00\", \"2020-03-09T00:00:00\", \"2020-03-11T00:00:00\", \"2020-03-12T00:00:00\", \"2020-03-13T00:00:00\", \"2020-03-14T00:00:00\", \"2020-03-15T00:00:00\", \"2020-03-16T00:00:00\", \"2020-03-17T00:00:00\", \"2020-03-18T00:00:00\", \"2020-03-19T00:00:00\", \"2020-03-20T00:00:00\", \"2020-03-21T00:00:00\", \"2020-03-22T00:00:00\", \"2020-03-23T00:00:00\", \"2020-03-24T00:00:00\", \"2020-03-25T00:00:00\", \"2020-03-26T00:00:00\", \"2020-03-27T00:00:00\", \"2020-03-28T00:00:00\", \"2020-03-29T00:00:00\", \"2020-03-30T00:00:00\", \"2020-03-31T00:00:00\", \"2020-04-01T00:00:00\", \"2020-04-02T00:00:00\", \"2020-04-03T00:00:00\", \"2020-04-04T00:00:00\", \"2020-04-05T00:00:00\", \"2020-04-06T00:00:00\", \"2020-04-07T00:00:00\", \"2020-04-08T00:00:00\", \"2020-04-09T00:00:00\", \"2020-04-10T00:00:00\", \"2020-04-11T00:00:00\", \"2020-04-12T00:00:00\", \"2020-04-13T00:00:00\", \"2020-04-14T00:00:00\", \"2020-04-15T00:00:00\", \"2020-04-16T00:00:00\", \"2020-04-17T00:00:00\", \"2020-04-18T00:00:00\", \"2020-04-19T00:00:00\", \"2020-04-20T00:00:00\", \"2020-04-21T00:00:00\", \"2020-04-22T00:00:00\", \"2020-04-23T00:00:00\", \"2020-04-24T00:00:00\", \"2020-04-25T00:00:00\", \"2020-04-26T00:00:00\", \"2020-04-27T00:00:00\", \"2020-04-28T00:00:00\", \"2020-04-29T00:00:00\", \"2020-04-30T00:00:00\"], \"xaxis\": \"x\", \"y\": [0.0, 0.0, 0.0, 0.0, 0.0, 0.0, 0.0, 0.0, 0.0, 1.0, 1.0, 2.0, 3.0, 7.0, 13.0, 16.0, 24.0, 38.0, 51.0, 62.0, 85.0, 116.0, 150.0, 202.0, 240.0, 274.0, 402.0, 554.0, 709.0, 927.0, 1170.0, 1187.0, 1280.0, 1326.0, 1353.0, 1380.0, 1462.0, 1505.0, 1585.0, 1655.0, 1686.0, 1749.0, 1845.0, 1934.0, 2003.0, 2028.0, 2173.0, 2272.0, 2415.0, 2506.0, 2605.0, 2783.0, 3034.0, 3158.0, 3300.0, 3465.0, 3635.0, 3953.0, 4220.0, 4361.0, 4546.0, 4793.0, 4996.0, 5350.0, 5647.0], \"yaxis\": \"y\"}],\n",
       "                        {\"hovermode\": \"x\", \"legend\": {\"title\": {\"text\": \"\"}, \"tracegroupgap\": 0, \"x\": 0.01, \"y\": 0.98}, \"margin\": {\"b\": 0, \"l\": 0, \"r\": 0, \"t\": 0}, \"template\": {\"data\": {\"bar\": [{\"error_x\": {\"color\": \"#2a3f5f\"}, \"error_y\": {\"color\": \"#2a3f5f\"}, \"marker\": {\"line\": {\"color\": \"#E5ECF6\", \"width\": 0.5}}, \"type\": \"bar\"}], \"barpolar\": [{\"marker\": {\"line\": {\"color\": \"#E5ECF6\", \"width\": 0.5}}, \"type\": \"barpolar\"}], \"carpet\": [{\"aaxis\": {\"endlinecolor\": \"#2a3f5f\", \"gridcolor\": \"white\", \"linecolor\": \"white\", \"minorgridcolor\": \"white\", \"startlinecolor\": \"#2a3f5f\"}, \"baxis\": {\"endlinecolor\": \"#2a3f5f\", \"gridcolor\": \"white\", \"linecolor\": \"white\", \"minorgridcolor\": \"white\", \"startlinecolor\": \"#2a3f5f\"}, \"type\": \"carpet\"}], \"choropleth\": [{\"colorbar\": {\"outlinewidth\": 0, \"ticks\": \"\"}, \"type\": \"choropleth\"}], \"contour\": [{\"colorbar\": {\"outlinewidth\": 0, \"ticks\": \"\"}, \"colorscale\": [[0.0, \"#0d0887\"], [0.1111111111111111, \"#46039f\"], [0.2222222222222222, \"#7201a8\"], [0.3333333333333333, \"#9c179e\"], [0.4444444444444444, \"#bd3786\"], [0.5555555555555556, \"#d8576b\"], [0.6666666666666666, \"#ed7953\"], [0.7777777777777778, \"#fb9f3a\"], [0.8888888888888888, \"#fdca26\"], [1.0, \"#f0f921\"]], \"type\": \"contour\"}], \"contourcarpet\": [{\"colorbar\": {\"outlinewidth\": 0, \"ticks\": \"\"}, \"type\": \"contourcarpet\"}], \"heatmap\": [{\"colorbar\": {\"outlinewidth\": 0, \"ticks\": \"\"}, \"colorscale\": [[0.0, \"#0d0887\"], [0.1111111111111111, \"#46039f\"], [0.2222222222222222, \"#7201a8\"], [0.3333333333333333, \"#9c179e\"], [0.4444444444444444, \"#bd3786\"], [0.5555555555555556, \"#d8576b\"], [0.6666666666666666, \"#ed7953\"], [0.7777777777777778, \"#fb9f3a\"], [0.8888888888888888, \"#fdca26\"], [1.0, \"#f0f921\"]], \"type\": \"heatmap\"}], \"heatmapgl\": [{\"colorbar\": {\"outlinewidth\": 0, \"ticks\": \"\"}, \"colorscale\": [[0.0, \"#0d0887\"], [0.1111111111111111, \"#46039f\"], [0.2222222222222222, \"#7201a8\"], [0.3333333333333333, \"#9c179e\"], [0.4444444444444444, \"#bd3786\"], [0.5555555555555556, \"#d8576b\"], [0.6666666666666666, \"#ed7953\"], [0.7777777777777778, \"#fb9f3a\"], [0.8888888888888888, \"#fdca26\"], [1.0, \"#f0f921\"]], \"type\": \"heatmapgl\"}], \"histogram\": [{\"marker\": {\"colorbar\": {\"outlinewidth\": 0, \"ticks\": \"\"}}, \"type\": \"histogram\"}], \"histogram2d\": [{\"colorbar\": {\"outlinewidth\": 0, \"ticks\": \"\"}, \"colorscale\": [[0.0, \"#0d0887\"], [0.1111111111111111, \"#46039f\"], [0.2222222222222222, \"#7201a8\"], [0.3333333333333333, \"#9c179e\"], [0.4444444444444444, \"#bd3786\"], [0.5555555555555556, \"#d8576b\"], [0.6666666666666666, \"#ed7953\"], [0.7777777777777778, \"#fb9f3a\"], [0.8888888888888888, \"#fdca26\"], [1.0, \"#f0f921\"]], \"type\": \"histogram2d\"}], \"histogram2dcontour\": [{\"colorbar\": {\"outlinewidth\": 0, \"ticks\": \"\"}, \"colorscale\": [[0.0, \"#0d0887\"], [0.1111111111111111, \"#46039f\"], [0.2222222222222222, \"#7201a8\"], [0.3333333333333333, \"#9c179e\"], [0.4444444444444444, \"#bd3786\"], [0.5555555555555556, \"#d8576b\"], [0.6666666666666666, \"#ed7953\"], [0.7777777777777778, \"#fb9f3a\"], [0.8888888888888888, \"#fdca26\"], [1.0, \"#f0f921\"]], \"type\": \"histogram2dcontour\"}], \"mesh3d\": [{\"colorbar\": {\"outlinewidth\": 0, \"ticks\": \"\"}, \"type\": \"mesh3d\"}], \"parcoords\": [{\"line\": {\"colorbar\": {\"outlinewidth\": 0, \"ticks\": \"\"}}, \"type\": \"parcoords\"}], \"pie\": [{\"automargin\": true, \"type\": \"pie\"}], \"scatter\": [{\"marker\": {\"colorbar\": {\"outlinewidth\": 0, \"ticks\": \"\"}}, \"type\": \"scatter\"}], \"scatter3d\": [{\"line\": {\"colorbar\": {\"outlinewidth\": 0, \"ticks\": \"\"}}, \"marker\": {\"colorbar\": {\"outlinewidth\": 0, \"ticks\": \"\"}}, \"type\": \"scatter3d\"}], \"scattercarpet\": [{\"marker\": {\"colorbar\": {\"outlinewidth\": 0, \"ticks\": \"\"}}, \"type\": \"scattercarpet\"}], \"scattergeo\": [{\"marker\": {\"colorbar\": {\"outlinewidth\": 0, \"ticks\": \"\"}}, \"type\": \"scattergeo\"}], \"scattergl\": [{\"marker\": {\"colorbar\": {\"outlinewidth\": 0, \"ticks\": \"\"}}, \"type\": \"scattergl\"}], \"scattermapbox\": [{\"marker\": {\"colorbar\": {\"outlinewidth\": 0, \"ticks\": \"\"}}, \"type\": \"scattermapbox\"}], \"scatterpolar\": [{\"marker\": {\"colorbar\": {\"outlinewidth\": 0, \"ticks\": \"\"}}, \"type\": \"scatterpolar\"}], \"scatterpolargl\": [{\"marker\": {\"colorbar\": {\"outlinewidth\": 0, \"ticks\": \"\"}}, \"type\": \"scatterpolargl\"}], \"scatterternary\": [{\"marker\": {\"colorbar\": {\"outlinewidth\": 0, \"ticks\": \"\"}}, \"type\": \"scatterternary\"}], \"surface\": [{\"colorbar\": {\"outlinewidth\": 0, \"ticks\": \"\"}, \"colorscale\": [[0.0, \"#0d0887\"], [0.1111111111111111, \"#46039f\"], [0.2222222222222222, \"#7201a8\"], [0.3333333333333333, \"#9c179e\"], [0.4444444444444444, \"#bd3786\"], [0.5555555555555556, \"#d8576b\"], [0.6666666666666666, \"#ed7953\"], [0.7777777777777778, \"#fb9f3a\"], [0.8888888888888888, \"#fdca26\"], [1.0, \"#f0f921\"]], \"type\": \"surface\"}], \"table\": [{\"cells\": {\"fill\": {\"color\": \"#EBF0F8\"}, \"line\": {\"color\": \"white\"}}, \"header\": {\"fill\": {\"color\": \"#C8D4E3\"}, \"line\": {\"color\": \"white\"}}, \"type\": \"table\"}]}, \"layout\": {\"annotationdefaults\": {\"arrowcolor\": \"#2a3f5f\", \"arrowhead\": 0, \"arrowwidth\": 1}, \"coloraxis\": {\"colorbar\": {\"outlinewidth\": 0, \"ticks\": \"\"}}, \"colorscale\": {\"diverging\": [[0, \"#8e0152\"], [0.1, \"#c51b7d\"], [0.2, \"#de77ae\"], [0.3, \"#f1b6da\"], [0.4, \"#fde0ef\"], [0.5, \"#f7f7f7\"], [0.6, \"#e6f5d0\"], [0.7, \"#b8e186\"], [0.8, \"#7fbc41\"], [0.9, \"#4d9221\"], [1, \"#276419\"]], \"sequential\": [[0.0, \"#0d0887\"], [0.1111111111111111, \"#46039f\"], [0.2222222222222222, \"#7201a8\"], [0.3333333333333333, \"#9c179e\"], [0.4444444444444444, \"#bd3786\"], [0.5555555555555556, \"#d8576b\"], [0.6666666666666666, \"#ed7953\"], [0.7777777777777778, \"#fb9f3a\"], [0.8888888888888888, \"#fdca26\"], [1.0, \"#f0f921\"]], \"sequentialminus\": [[0.0, \"#0d0887\"], [0.1111111111111111, \"#46039f\"], [0.2222222222222222, \"#7201a8\"], [0.3333333333333333, \"#9c179e\"], [0.4444444444444444, \"#bd3786\"], [0.5555555555555556, \"#d8576b\"], [0.6666666666666666, \"#ed7953\"], [0.7777777777777778, \"#fb9f3a\"], [0.8888888888888888, \"#fdca26\"], [1.0, \"#f0f921\"]]}, \"colorway\": [\"#636efa\", \"#EF553B\", \"#00cc96\", \"#ab63fa\", \"#FFA15A\", \"#19d3f3\", \"#FF6692\", \"#B6E880\", \"#FF97FF\", \"#FECB52\"], \"font\": {\"color\": \"#2a3f5f\"}, \"geo\": {\"bgcolor\": \"white\", \"lakecolor\": \"white\", \"landcolor\": \"#E5ECF6\", \"showlakes\": true, \"showland\": true, \"subunitcolor\": \"white\"}, \"hoverlabel\": {\"align\": \"left\"}, \"hovermode\": \"closest\", \"mapbox\": {\"style\": \"light\"}, \"paper_bgcolor\": \"white\", \"plot_bgcolor\": \"#E5ECF6\", \"polar\": {\"angularaxis\": {\"gridcolor\": \"white\", \"linecolor\": \"white\", \"ticks\": \"\"}, \"bgcolor\": \"#E5ECF6\", \"radialaxis\": {\"gridcolor\": \"white\", \"linecolor\": \"white\", \"ticks\": \"\"}}, \"scene\": {\"xaxis\": {\"backgroundcolor\": \"#E5ECF6\", \"gridcolor\": \"white\", \"gridwidth\": 2, \"linecolor\": \"white\", \"showbackground\": true, \"ticks\": \"\", \"zerolinecolor\": \"white\"}, \"yaxis\": {\"backgroundcolor\": \"#E5ECF6\", \"gridcolor\": \"white\", \"gridwidth\": 2, \"linecolor\": \"white\", \"showbackground\": true, \"ticks\": \"\", \"zerolinecolor\": \"white\"}, \"zaxis\": {\"backgroundcolor\": \"#E5ECF6\", \"gridcolor\": \"white\", \"gridwidth\": 2, \"linecolor\": \"white\", \"showbackground\": true, \"ticks\": \"\", \"zerolinecolor\": \"white\"}}, \"shapedefaults\": {\"line\": {\"color\": \"#2a3f5f\"}}, \"ternary\": {\"aaxis\": {\"gridcolor\": \"white\", \"linecolor\": \"white\", \"ticks\": \"\"}, \"baxis\": {\"gridcolor\": \"white\", \"linecolor\": \"white\", \"ticks\": \"\"}, \"bgcolor\": \"#E5ECF6\", \"caxis\": {\"gridcolor\": \"white\", \"linecolor\": \"white\", \"ticks\": \"\"}}, \"title\": {\"x\": 0.05}, \"xaxis\": {\"automargin\": true, \"gridcolor\": \"white\", \"linecolor\": \"white\", \"ticks\": \"\", \"title\": {\"standoff\": 15}, \"zerolinecolor\": \"white\", \"zerolinewidth\": 2}, \"yaxis\": {\"automargin\": true, \"gridcolor\": \"white\", \"linecolor\": \"white\", \"ticks\": \"\", \"title\": {\"standoff\": 15}, \"zerolinecolor\": \"white\", \"zerolinewidth\": 2}}}, \"title\": {\"text\": \"\"}, \"xaxis\": {\"anchor\": \"y\", \"domain\": [0.0, 1.0], \"fixedrange\": true, \"title\": {\"text\": \"Date\"}}, \"yaxis\": {\"anchor\": \"x\", \"domain\": [0.0, 1.0], \"fixedrange\": true, \"title\": {\"text\": \"Cumulative No\"}}},\n",
       "                        {\"displayModeBar\": false, \"responsive\": true}\n",
       "                    ).then(function(){\n",
       "                            \n",
       "var gd = document.getElementById('67aa78c2-6bff-4b8c-a00f-a25a5326d237');\n",
       "var x = new MutationObserver(function (mutations, observer) {{\n",
       "        var display = window.getComputedStyle(gd).display;\n",
       "        if (!display || display === 'none') {{\n",
       "            console.log([gd, 'removed!']);\n",
       "            Plotly.purge(gd);\n",
       "            observer.disconnect();\n",
       "        }}\n",
       "}});\n",
       "\n",
       "// Listen for the removal of the full notebook cells\n",
       "var notebookContainer = gd.closest('#notebook-container');\n",
       "if (notebookContainer) {{\n",
       "    x.observe(notebookContainer, {childList: true});\n",
       "}}\n",
       "\n",
       "// Listen for the clearing of the current output cell\n",
       "var outputEl = gd.closest('.output');\n",
       "if (outputEl) {{\n",
       "    x.observe(outputEl, {childList: true});\n",
       "}}\n",
       "\n",
       "                        })\n",
       "                };\n",
       "                });\n",
       "            </script>\n",
       "        </div>"
      ]
     },
     "metadata": {},
     "output_type": "display_data"
    }
   ],
   "source": [
    "cumulative_tests_confirmed_long = pd.melt(cumulative_tests_confirmed, id_vars=['date'], \n",
    "                                          value_vars=['daily_tests','daily_cases'])\n",
    "cumulative_tests_confirmed_long.dropna(inplace=True)\n",
    "fig_cumulative_tests_confirmed = px.line(cumulative_tests_confirmed_long, x='date', y='value', \n",
    "                                         color='variable')\n",
    "\n",
    "fig_cumulative_tests_confirmed.update_layout(\n",
    "    title=\"\",\n",
    "    xaxis_title=\"Date\",\n",
    "    yaxis_title=\"Cumulative No\",\n",
    "    hovermode= 'x',\n",
    "    legend=dict(x=0.01, y=.98, title=dict(text=\"\")),\n",
    "    xaxis=dict(fixedrange=True),\n",
    "    yaxis=dict(fixedrange=True),\n",
    "    margin=empty_margin_dict,\n",
    ")\n",
    "\n",
    "fig_cumulative_tests_confirmed.update_traces(mode='lines')\n",
    "\n",
    "fig_cumulative_tests_confirmed.data[0].name = \"Tests\"\n",
    "fig_cumulative_tests_confirmed.data[1].name = \"Positive Cases\"\n",
    "\n",
    "fig_cumulative_tests_confirmed.data[0].hovertemplate = '%{y}'\n",
    "fig_cumulative_tests_confirmed.data[1].hovertemplate = '%{y}'\n",
    "\n",
    "fig_cumulative_tests_confirmed.data[0].hoverlabel.namelength = 0\n",
    "fig_cumulative_tests_confirmed.data[1].hoverlabel.namelength = 0\n",
    "\n",
    "fig_cumulative_tests_confirmed.data[0].marker=dict(color='blue')\n",
    "fig_cumulative_tests_confirmed.data[1].marker=dict(color='firebrick')\n",
    "\n",
    "fig_cumulative_tests_confirmed.show(config = dict(displayModeBar=False))"
   ]
  },
  {
   "cell_type": "markdown",
   "metadata": {},
   "source": [
    "**Save to HTML**"
   ]
  },
  {
   "cell_type": "code",
   "execution_count": 134,
   "metadata": {},
   "outputs": [],
   "source": [
    "pio.write_html(fig_cumulative_tests_confirmed, file='date_vs_cases_tests.html',\n",
    "               config = dict(displayModeBar=False), auto_open=True)"
   ]
  },
  {
   "cell_type": "markdown",
   "metadata": {},
   "source": [
    "### Confirmed per Province "
   ]
  },
  {
   "cell_type": "code",
   "execution_count": 135,
   "metadata": {},
   "outputs": [
    {
     "data": {
      "text/html": [
       "<div>\n",
       "<style scoped>\n",
       "    .dataframe tbody tr th:only-of-type {\n",
       "        vertical-align: middle;\n",
       "    }\n",
       "\n",
       "    .dataframe tbody tr th {\n",
       "        vertical-align: top;\n",
       "    }\n",
       "\n",
       "    .dataframe thead th {\n",
       "        text-align: right;\n",
       "    }\n",
       "</style>\n",
       "<table border=\"1\" class=\"dataframe\">\n",
       "  <thead>\n",
       "    <tr style=\"text-align: right;\">\n",
       "      <th></th>\n",
       "      <th>date</th>\n",
       "      <th>province</th>\n",
       "      <th>cumulative_cases</th>\n",
       "    </tr>\n",
       "  </thead>\n",
       "  <tbody>\n",
       "    <tr>\n",
       "      <th>0</th>\n",
       "      <td>2020-03-05</td>\n",
       "      <td>EC</td>\n",
       "      <td>0.0</td>\n",
       "    </tr>\n",
       "    <tr>\n",
       "      <th>1</th>\n",
       "      <td>2020-03-07</td>\n",
       "      <td>EC</td>\n",
       "      <td>0.0</td>\n",
       "    </tr>\n",
       "    <tr>\n",
       "      <th>2</th>\n",
       "      <td>2020-03-08</td>\n",
       "      <td>EC</td>\n",
       "      <td>0.0</td>\n",
       "    </tr>\n",
       "    <tr>\n",
       "      <th>3</th>\n",
       "      <td>2020-03-09</td>\n",
       "      <td>EC</td>\n",
       "      <td>0.0</td>\n",
       "    </tr>\n",
       "    <tr>\n",
       "      <th>4</th>\n",
       "      <td>2020-03-11</td>\n",
       "      <td>EC</td>\n",
       "      <td>0.0</td>\n",
       "    </tr>\n",
       "    <tr>\n",
       "      <th>...</th>\n",
       "      <td>...</td>\n",
       "      <td>...</td>\n",
       "      <td>...</td>\n",
       "    </tr>\n",
       "    <tr>\n",
       "      <th>525</th>\n",
       "      <td>2020-04-26</td>\n",
       "      <td>UNK</td>\n",
       "      <td>0.0</td>\n",
       "    </tr>\n",
       "    <tr>\n",
       "      <th>526</th>\n",
       "      <td>2020-04-27</td>\n",
       "      <td>UNK</td>\n",
       "      <td>0.0</td>\n",
       "    </tr>\n",
       "    <tr>\n",
       "      <th>527</th>\n",
       "      <td>2020-04-28</td>\n",
       "      <td>UNK</td>\n",
       "      <td>0.0</td>\n",
       "    </tr>\n",
       "    <tr>\n",
       "      <th>528</th>\n",
       "      <td>2020-04-29</td>\n",
       "      <td>UNK</td>\n",
       "      <td>0.0</td>\n",
       "    </tr>\n",
       "    <tr>\n",
       "      <th>529</th>\n",
       "      <td>2020-04-30</td>\n",
       "      <td>UNK</td>\n",
       "      <td>0.0</td>\n",
       "    </tr>\n",
       "  </tbody>\n",
       "</table>\n",
       "<p>530 rows × 3 columns</p>\n",
       "</div>"
      ],
      "text/plain": [
       "          date province  cumulative_cases\n",
       "0   2020-03-05       EC               0.0\n",
       "1   2020-03-07       EC               0.0\n",
       "2   2020-03-08       EC               0.0\n",
       "3   2020-03-09       EC               0.0\n",
       "4   2020-03-11       EC               0.0\n",
       "..         ...      ...               ...\n",
       "525 2020-04-26      UNK               0.0\n",
       "526 2020-04-27      UNK               0.0\n",
       "527 2020-04-28      UNK               0.0\n",
       "528 2020-04-29      UNK               0.0\n",
       "529 2020-04-30      UNK               0.0\n",
       "\n",
       "[530 rows x 3 columns]"
      ]
     },
     "execution_count": 135,
     "metadata": {},
     "output_type": "execute_result"
    }
   ],
   "source": [
    "prov_cumulative = pd.read_csv('data/daily_cumulative_confirmed_prov.csv', \n",
    "                              usecols=['date','province','cumulative_cases'])\n",
    "prov_cumulative['date'] = pd.to_datetime(prov_cumulative['date'], format='%Y/%m/%d')\n",
    "prov_cumulative"
   ]
  },
  {
   "cell_type": "code",
   "execution_count": 136,
   "metadata": {},
   "outputs": [
    {
     "data": {
      "application/vnd.plotly.v1+json": {
       "config": {
        "displayModeBar": false,
        "plotlyServerURL": "https://plot.ly"
       },
       "data": [
        {
         "customdata": [
          [
           "EC"
          ],
          [
           "EC"
          ],
          [
           "EC"
          ],
          [
           "EC"
          ],
          [
           "EC"
          ],
          [
           "EC"
          ],
          [
           "EC"
          ],
          [
           "EC"
          ],
          [
           "EC"
          ],
          [
           "EC"
          ],
          [
           "EC"
          ],
          [
           "EC"
          ],
          [
           "EC"
          ],
          [
           "EC"
          ],
          [
           "EC"
          ],
          [
           "EC"
          ],
          [
           "EC"
          ],
          [
           "EC"
          ],
          [
           "EC"
          ],
          [
           "EC"
          ],
          [
           "EC"
          ],
          [
           "EC"
          ],
          [
           "EC"
          ],
          [
           "EC"
          ],
          [
           "EC"
          ],
          [
           "EC"
          ],
          [
           "EC"
          ],
          [
           "EC"
          ],
          [
           "EC"
          ],
          [
           "EC"
          ],
          [
           "EC"
          ],
          [
           "EC"
          ],
          [
           "EC"
          ],
          [
           "EC"
          ],
          [
           "EC"
          ],
          [
           "EC"
          ],
          [
           "EC"
          ],
          [
           "EC"
          ],
          [
           "EC"
          ],
          [
           "EC"
          ],
          [
           "EC"
          ],
          [
           "EC"
          ],
          [
           "EC"
          ],
          [
           "EC"
          ],
          [
           "EC"
          ],
          [
           "EC"
          ],
          [
           "EC"
          ],
          [
           "EC"
          ],
          [
           "EC"
          ],
          [
           "EC"
          ],
          [
           "EC"
          ],
          [
           "EC"
          ],
          [
           "EC"
          ]
         ],
         "hoverinfo": [
          "all"
         ],
         "hoverlabel": {
          "namelength": 0
         },
         "hovertemplate": "%{customdata[0]}<br>%{y}",
         "legendgroup": "EC",
         "line": {
          "color": "#636efa",
          "dash": "solid"
         },
         "mode": "lines",
         "name": "EC",
         "showlegend": true,
         "type": "scatter",
         "x": [
          "2020-03-05T00:00:00",
          "2020-03-07T00:00:00",
          "2020-03-08T00:00:00",
          "2020-03-09T00:00:00",
          "2020-03-11T00:00:00",
          "2020-03-12T00:00:00",
          "2020-03-13T00:00:00",
          "2020-03-14T00:00:00",
          "2020-03-15T00:00:00",
          "2020-03-16T00:00:00",
          "2020-03-17T00:00:00",
          "2020-03-18T00:00:00",
          "2020-03-19T00:00:00",
          "2020-03-20T00:00:00",
          "2020-03-21T00:00:00",
          "2020-03-22T00:00:00",
          "2020-03-23T00:00:00",
          "2020-03-24T00:00:00",
          "2020-03-25T00:00:00",
          "2020-03-26T00:00:00",
          "2020-03-28T00:00:00",
          "2020-03-29T00:00:00",
          "2020-03-30T00:00:00",
          "2020-03-31T00:00:00",
          "2020-04-01T00:00:00",
          "2020-04-02T00:00:00",
          "2020-04-03T00:00:00",
          "2020-04-04T00:00:00",
          "2020-04-05T00:00:00",
          "2020-04-06T00:00:00",
          "2020-04-08T00:00:00",
          "2020-04-09T00:00:00",
          "2020-04-10T00:00:00",
          "2020-04-11T00:00:00",
          "2020-04-12T00:00:00",
          "2020-04-13T00:00:00",
          "2020-04-14T00:00:00",
          "2020-04-15T00:00:00",
          "2020-04-16T00:00:00",
          "2020-04-17T00:00:00",
          "2020-04-18T00:00:00",
          "2020-04-19T00:00:00",
          "2020-04-20T00:00:00",
          "2020-04-21T00:00:00",
          "2020-04-22T00:00:00",
          "2020-04-23T00:00:00",
          "2020-04-24T00:00:00",
          "2020-04-25T00:00:00",
          "2020-04-26T00:00:00",
          "2020-04-27T00:00:00",
          "2020-04-28T00:00:00",
          "2020-04-29T00:00:00",
          "2020-04-30T00:00:00"
         ],
         "xaxis": "x",
         "y": [
          0,
          0,
          0,
          0,
          0,
          0,
          0,
          0,
          0,
          0,
          0,
          0,
          0,
          0,
          1,
          2,
          2,
          2,
          2,
          5,
          10,
          12,
          12,
          12,
          15,
          17,
          21,
          25,
          31,
          32,
          45,
          61,
          68,
          69,
          88,
          104,
          174,
          199,
          220,
          246,
          270,
          293,
          310,
          345,
          377,
          417,
          480,
          488,
          535,
          588,
          616,
          630,
          647
         ],
         "yaxis": "y"
        },
        {
         "customdata": [
          [
           "FS"
          ],
          [
           "FS"
          ],
          [
           "FS"
          ],
          [
           "FS"
          ],
          [
           "FS"
          ],
          [
           "FS"
          ],
          [
           "FS"
          ],
          [
           "FS"
          ],
          [
           "FS"
          ],
          [
           "FS"
          ],
          [
           "FS"
          ],
          [
           "FS"
          ],
          [
           "FS"
          ],
          [
           "FS"
          ],
          [
           "FS"
          ],
          [
           "FS"
          ],
          [
           "FS"
          ],
          [
           "FS"
          ],
          [
           "FS"
          ],
          [
           "FS"
          ],
          [
           "FS"
          ],
          [
           "FS"
          ],
          [
           "FS"
          ],
          [
           "FS"
          ],
          [
           "FS"
          ],
          [
           "FS"
          ],
          [
           "FS"
          ],
          [
           "FS"
          ],
          [
           "FS"
          ],
          [
           "FS"
          ],
          [
           "FS"
          ],
          [
           "FS"
          ],
          [
           "FS"
          ],
          [
           "FS"
          ],
          [
           "FS"
          ],
          [
           "FS"
          ],
          [
           "FS"
          ],
          [
           "FS"
          ],
          [
           "FS"
          ],
          [
           "FS"
          ],
          [
           "FS"
          ],
          [
           "FS"
          ],
          [
           "FS"
          ],
          [
           "FS"
          ],
          [
           "FS"
          ],
          [
           "FS"
          ],
          [
           "FS"
          ],
          [
           "FS"
          ],
          [
           "FS"
          ],
          [
           "FS"
          ],
          [
           "FS"
          ],
          [
           "FS"
          ],
          [
           "FS"
          ]
         ],
         "hoverinfo": [
          "all"
         ],
         "hoverlabel": {
          "namelength": 0
         },
         "hovertemplate": "%{customdata[0]}<br>%{y}",
         "legendgroup": "FS",
         "line": {
          "color": "#EF553B",
          "dash": "solid"
         },
         "mode": "lines",
         "name": "FS",
         "showlegend": true,
         "type": "scatter",
         "x": [
          "2020-03-05T00:00:00",
          "2020-03-07T00:00:00",
          "2020-03-08T00:00:00",
          "2020-03-09T00:00:00",
          "2020-03-11T00:00:00",
          "2020-03-12T00:00:00",
          "2020-03-13T00:00:00",
          "2020-03-14T00:00:00",
          "2020-03-15T00:00:00",
          "2020-03-16T00:00:00",
          "2020-03-17T00:00:00",
          "2020-03-18T00:00:00",
          "2020-03-19T00:00:00",
          "2020-03-20T00:00:00",
          "2020-03-21T00:00:00",
          "2020-03-22T00:00:00",
          "2020-03-23T00:00:00",
          "2020-03-24T00:00:00",
          "2020-03-25T00:00:00",
          "2020-03-26T00:00:00",
          "2020-03-28T00:00:00",
          "2020-03-29T00:00:00",
          "2020-03-30T00:00:00",
          "2020-03-31T00:00:00",
          "2020-04-01T00:00:00",
          "2020-04-02T00:00:00",
          "2020-04-03T00:00:00",
          "2020-04-04T00:00:00",
          "2020-04-05T00:00:00",
          "2020-04-06T00:00:00",
          "2020-04-08T00:00:00",
          "2020-04-09T00:00:00",
          "2020-04-10T00:00:00",
          "2020-04-11T00:00:00",
          "2020-04-12T00:00:00",
          "2020-04-13T00:00:00",
          "2020-04-14T00:00:00",
          "2020-04-15T00:00:00",
          "2020-04-16T00:00:00",
          "2020-04-17T00:00:00",
          "2020-04-18T00:00:00",
          "2020-04-19T00:00:00",
          "2020-04-20T00:00:00",
          "2020-04-21T00:00:00",
          "2020-04-22T00:00:00",
          "2020-04-23T00:00:00",
          "2020-04-24T00:00:00",
          "2020-04-25T00:00:00",
          "2020-04-26T00:00:00",
          "2020-04-27T00:00:00",
          "2020-04-28T00:00:00",
          "2020-04-29T00:00:00",
          "2020-04-30T00:00:00"
         ],
         "xaxis": "x",
         "y": [
          0,
          0,
          0,
          0,
          0,
          0,
          0,
          0,
          0,
          0,
          0,
          0,
          0,
          7,
          7,
          9,
          13,
          18,
          30,
          49,
          68,
          72,
          72,
          74,
          76,
          84,
          84,
          85,
          87,
          89,
          88,
          93,
          94,
          94,
          96,
          96,
          98,
          97,
          98,
          100,
          100,
          100,
          105,
          106,
          106,
          106,
          111,
          111,
          110,
          111,
          113,
          113,
          116
         ],
         "yaxis": "y"
        },
        {
         "customdata": [
          [
           "GP"
          ],
          [
           "GP"
          ],
          [
           "GP"
          ],
          [
           "GP"
          ],
          [
           "GP"
          ],
          [
           "GP"
          ],
          [
           "GP"
          ],
          [
           "GP"
          ],
          [
           "GP"
          ],
          [
           "GP"
          ],
          [
           "GP"
          ],
          [
           "GP"
          ],
          [
           "GP"
          ],
          [
           "GP"
          ],
          [
           "GP"
          ],
          [
           "GP"
          ],
          [
           "GP"
          ],
          [
           "GP"
          ],
          [
           "GP"
          ],
          [
           "GP"
          ],
          [
           "GP"
          ],
          [
           "GP"
          ],
          [
           "GP"
          ],
          [
           "GP"
          ],
          [
           "GP"
          ],
          [
           "GP"
          ],
          [
           "GP"
          ],
          [
           "GP"
          ],
          [
           "GP"
          ],
          [
           "GP"
          ],
          [
           "GP"
          ],
          [
           "GP"
          ],
          [
           "GP"
          ],
          [
           "GP"
          ],
          [
           "GP"
          ],
          [
           "GP"
          ],
          [
           "GP"
          ],
          [
           "GP"
          ],
          [
           "GP"
          ],
          [
           "GP"
          ],
          [
           "GP"
          ],
          [
           "GP"
          ],
          [
           "GP"
          ],
          [
           "GP"
          ],
          [
           "GP"
          ],
          [
           "GP"
          ],
          [
           "GP"
          ],
          [
           "GP"
          ],
          [
           "GP"
          ],
          [
           "GP"
          ],
          [
           "GP"
          ],
          [
           "GP"
          ],
          [
           "GP"
          ]
         ],
         "hoverinfo": [
          "all"
         ],
         "hoverlabel": {
          "namelength": 0
         },
         "hovertemplate": "%{customdata[0]}<br>%{y}",
         "legendgroup": "GP",
         "line": {
          "color": "#00cc96",
          "dash": "solid"
         },
         "mode": "lines",
         "name": "GP",
         "showlegend": true,
         "type": "scatter",
         "x": [
          "2020-03-05T00:00:00",
          "2020-03-07T00:00:00",
          "2020-03-08T00:00:00",
          "2020-03-09T00:00:00",
          "2020-03-11T00:00:00",
          "2020-03-12T00:00:00",
          "2020-03-13T00:00:00",
          "2020-03-14T00:00:00",
          "2020-03-15T00:00:00",
          "2020-03-16T00:00:00",
          "2020-03-17T00:00:00",
          "2020-03-18T00:00:00",
          "2020-03-19T00:00:00",
          "2020-03-20T00:00:00",
          "2020-03-21T00:00:00",
          "2020-03-22T00:00:00",
          "2020-03-23T00:00:00",
          "2020-03-24T00:00:00",
          "2020-03-25T00:00:00",
          "2020-03-26T00:00:00",
          "2020-03-28T00:00:00",
          "2020-03-29T00:00:00",
          "2020-03-30T00:00:00",
          "2020-03-31T00:00:00",
          "2020-04-01T00:00:00",
          "2020-04-02T00:00:00",
          "2020-04-03T00:00:00",
          "2020-04-04T00:00:00",
          "2020-04-05T00:00:00",
          "2020-04-06T00:00:00",
          "2020-04-08T00:00:00",
          "2020-04-09T00:00:00",
          "2020-04-10T00:00:00",
          "2020-04-11T00:00:00",
          "2020-04-12T00:00:00",
          "2020-04-13T00:00:00",
          "2020-04-14T00:00:00",
          "2020-04-15T00:00:00",
          "2020-04-16T00:00:00",
          "2020-04-17T00:00:00",
          "2020-04-18T00:00:00",
          "2020-04-19T00:00:00",
          "2020-04-20T00:00:00",
          "2020-04-21T00:00:00",
          "2020-04-22T00:00:00",
          "2020-04-23T00:00:00",
          "2020-04-24T00:00:00",
          "2020-04-25T00:00:00",
          "2020-04-26T00:00:00",
          "2020-04-27T00:00:00",
          "2020-04-28T00:00:00",
          "2020-04-29T00:00:00",
          "2020-04-30T00:00:00"
         ],
         "xaxis": "x",
         "y": [
          0,
          1,
          1,
          1,
          5,
          6,
          10,
          17,
          24,
          31,
          45,
          61,
          76,
          109,
          125,
          132,
          207,
          302,
          319,
          409,
          533,
          584,
          618,
          633,
          645,
          663,
          672,
          693,
          704,
          713,
          782,
          795,
          801,
          813,
          865,
          890,
          909,
          930,
          969,
          1018,
          1101,
          1148,
          1170,
          1199,
          1224,
          1252,
          1281,
          1304,
          1331,
          1353,
          1377,
          1408,
          1446
         ],
         "yaxis": "y"
        },
        {
         "customdata": [
          [
           "KZN"
          ],
          [
           "KZN"
          ],
          [
           "KZN"
          ],
          [
           "KZN"
          ],
          [
           "KZN"
          ],
          [
           "KZN"
          ],
          [
           "KZN"
          ],
          [
           "KZN"
          ],
          [
           "KZN"
          ],
          [
           "KZN"
          ],
          [
           "KZN"
          ],
          [
           "KZN"
          ],
          [
           "KZN"
          ],
          [
           "KZN"
          ],
          [
           "KZN"
          ],
          [
           "KZN"
          ],
          [
           "KZN"
          ],
          [
           "KZN"
          ],
          [
           "KZN"
          ],
          [
           "KZN"
          ],
          [
           "KZN"
          ],
          [
           "KZN"
          ],
          [
           "KZN"
          ],
          [
           "KZN"
          ],
          [
           "KZN"
          ],
          [
           "KZN"
          ],
          [
           "KZN"
          ],
          [
           "KZN"
          ],
          [
           "KZN"
          ],
          [
           "KZN"
          ],
          [
           "KZN"
          ],
          [
           "KZN"
          ],
          [
           "KZN"
          ],
          [
           "KZN"
          ],
          [
           "KZN"
          ],
          [
           "KZN"
          ],
          [
           "KZN"
          ],
          [
           "KZN"
          ],
          [
           "KZN"
          ],
          [
           "KZN"
          ],
          [
           "KZN"
          ],
          [
           "KZN"
          ],
          [
           "KZN"
          ],
          [
           "KZN"
          ],
          [
           "KZN"
          ],
          [
           "KZN"
          ],
          [
           "KZN"
          ],
          [
           "KZN"
          ],
          [
           "KZN"
          ],
          [
           "KZN"
          ],
          [
           "KZN"
          ],
          [
           "KZN"
          ],
          [
           "KZN"
          ]
         ],
         "hoverinfo": [
          "all"
         ],
         "hoverlabel": {
          "namelength": 0
         },
         "hovertemplate": "%{customdata[0]}<br>%{y}",
         "legendgroup": "KZN",
         "line": {
          "color": "#ab63fa",
          "dash": "solid"
         },
         "mode": "lines",
         "name": "KZN",
         "showlegend": true,
         "type": "scatter",
         "x": [
          "2020-03-05T00:00:00",
          "2020-03-07T00:00:00",
          "2020-03-08T00:00:00",
          "2020-03-09T00:00:00",
          "2020-03-11T00:00:00",
          "2020-03-12T00:00:00",
          "2020-03-13T00:00:00",
          "2020-03-14T00:00:00",
          "2020-03-15T00:00:00",
          "2020-03-16T00:00:00",
          "2020-03-17T00:00:00",
          "2020-03-18T00:00:00",
          "2020-03-19T00:00:00",
          "2020-03-20T00:00:00",
          "2020-03-21T00:00:00",
          "2020-03-22T00:00:00",
          "2020-03-23T00:00:00",
          "2020-03-24T00:00:00",
          "2020-03-25T00:00:00",
          "2020-03-26T00:00:00",
          "2020-03-28T00:00:00",
          "2020-03-29T00:00:00",
          "2020-03-30T00:00:00",
          "2020-03-31T00:00:00",
          "2020-04-01T00:00:00",
          "2020-04-02T00:00:00",
          "2020-04-03T00:00:00",
          "2020-04-04T00:00:00",
          "2020-04-05T00:00:00",
          "2020-04-06T00:00:00",
          "2020-04-08T00:00:00",
          "2020-04-09T00:00:00",
          "2020-04-10T00:00:00",
          "2020-04-11T00:00:00",
          "2020-04-12T00:00:00",
          "2020-04-13T00:00:00",
          "2020-04-14T00:00:00",
          "2020-04-15T00:00:00",
          "2020-04-16T00:00:00",
          "2020-04-17T00:00:00",
          "2020-04-18T00:00:00",
          "2020-04-19T00:00:00",
          "2020-04-20T00:00:00",
          "2020-04-21T00:00:00",
          "2020-04-22T00:00:00",
          "2020-04-23T00:00:00",
          "2020-04-24T00:00:00",
          "2020-04-25T00:00:00",
          "2020-04-26T00:00:00",
          "2020-04-27T00:00:00",
          "2020-04-28T00:00:00",
          "2020-04-29T00:00:00",
          "2020-04-30T00:00:00"
         ],
         "xaxis": "x",
         "y": [
          1,
          1,
          2,
          6,
          7,
          8,
          10,
          11,
          12,
          12,
          16,
          19,
          22,
          23,
          26,
          35,
          60,
          80,
          91,
          134,
          156,
          167,
          171,
          179,
          186,
          206,
          215,
          232,
          246,
          257,
          354,
          387,
          412,
          418,
          443,
          465,
          489,
          519,
          539,
          591,
          604,
          617,
          639,
          671,
          758,
          807,
          841,
          841,
          863,
          902,
          919,
          956,
          980
         ],
         "yaxis": "y"
        },
        {
         "customdata": [
          [
           "LP"
          ],
          [
           "LP"
          ],
          [
           "LP"
          ],
          [
           "LP"
          ],
          [
           "LP"
          ],
          [
           "LP"
          ],
          [
           "LP"
          ],
          [
           "LP"
          ],
          [
           "LP"
          ],
          [
           "LP"
          ],
          [
           "LP"
          ],
          [
           "LP"
          ],
          [
           "LP"
          ],
          [
           "LP"
          ],
          [
           "LP"
          ],
          [
           "LP"
          ],
          [
           "LP"
          ],
          [
           "LP"
          ],
          [
           "LP"
          ],
          [
           "LP"
          ],
          [
           "LP"
          ],
          [
           "LP"
          ],
          [
           "LP"
          ],
          [
           "LP"
          ],
          [
           "LP"
          ],
          [
           "LP"
          ],
          [
           "LP"
          ],
          [
           "LP"
          ],
          [
           "LP"
          ],
          [
           "LP"
          ],
          [
           "LP"
          ],
          [
           "LP"
          ],
          [
           "LP"
          ],
          [
           "LP"
          ],
          [
           "LP"
          ],
          [
           "LP"
          ],
          [
           "LP"
          ],
          [
           "LP"
          ],
          [
           "LP"
          ],
          [
           "LP"
          ],
          [
           "LP"
          ],
          [
           "LP"
          ],
          [
           "LP"
          ],
          [
           "LP"
          ],
          [
           "LP"
          ],
          [
           "LP"
          ],
          [
           "LP"
          ],
          [
           "LP"
          ],
          [
           "LP"
          ],
          [
           "LP"
          ],
          [
           "LP"
          ],
          [
           "LP"
          ],
          [
           "LP"
          ]
         ],
         "hoverinfo": [
          "all"
         ],
         "hoverlabel": {
          "namelength": 0
         },
         "hovertemplate": "%{customdata[0]}<br>%{y}",
         "legendgroup": "LP",
         "line": {
          "color": "#FFA15A",
          "dash": "solid"
         },
         "mode": "lines",
         "name": "LP",
         "showlegend": true,
         "type": "scatter",
         "x": [
          "2020-03-05T00:00:00",
          "2020-03-07T00:00:00",
          "2020-03-08T00:00:00",
          "2020-03-09T00:00:00",
          "2020-03-11T00:00:00",
          "2020-03-12T00:00:00",
          "2020-03-13T00:00:00",
          "2020-03-14T00:00:00",
          "2020-03-15T00:00:00",
          "2020-03-16T00:00:00",
          "2020-03-17T00:00:00",
          "2020-03-18T00:00:00",
          "2020-03-19T00:00:00",
          "2020-03-20T00:00:00",
          "2020-03-21T00:00:00",
          "2020-03-22T00:00:00",
          "2020-03-23T00:00:00",
          "2020-03-24T00:00:00",
          "2020-03-25T00:00:00",
          "2020-03-26T00:00:00",
          "2020-03-28T00:00:00",
          "2020-03-29T00:00:00",
          "2020-03-30T00:00:00",
          "2020-03-31T00:00:00",
          "2020-04-01T00:00:00",
          "2020-04-02T00:00:00",
          "2020-04-03T00:00:00",
          "2020-04-04T00:00:00",
          "2020-04-05T00:00:00",
          "2020-04-06T00:00:00",
          "2020-04-08T00:00:00",
          "2020-04-09T00:00:00",
          "2020-04-10T00:00:00",
          "2020-04-11T00:00:00",
          "2020-04-12T00:00:00",
          "2020-04-13T00:00:00",
          "2020-04-14T00:00:00",
          "2020-04-15T00:00:00",
          "2020-04-16T00:00:00",
          "2020-04-17T00:00:00",
          "2020-04-18T00:00:00",
          "2020-04-19T00:00:00",
          "2020-04-20T00:00:00",
          "2020-04-21T00:00:00",
          "2020-04-22T00:00:00",
          "2020-04-23T00:00:00",
          "2020-04-24T00:00:00",
          "2020-04-25T00:00:00",
          "2020-04-26T00:00:00",
          "2020-04-27T00:00:00",
          "2020-04-28T00:00:00",
          "2020-04-29T00:00:00",
          "2020-04-30T00:00:00"
         ],
         "xaxis": "x",
         "y": [
          0,
          0,
          0,
          0,
          0,
          0,
          0,
          0,
          0,
          1,
          1,
          1,
          1,
          1,
          1,
          2,
          4,
          4,
          4,
          6,
          11,
          12,
          11,
          14,
          14,
          16,
          16,
          18,
          19,
          19,
          21,
          22,
          24,
          23,
          23,
          23,
          24,
          25,
          26,
          26,
          26,
          27,
          27,
          27,
          27,
          27,
          29,
          30,
          31,
          31,
          31,
          31,
          32
         ],
         "yaxis": "y"
        },
        {
         "customdata": [
          [
           "MP"
          ],
          [
           "MP"
          ],
          [
           "MP"
          ],
          [
           "MP"
          ],
          [
           "MP"
          ],
          [
           "MP"
          ],
          [
           "MP"
          ],
          [
           "MP"
          ],
          [
           "MP"
          ],
          [
           "MP"
          ],
          [
           "MP"
          ],
          [
           "MP"
          ],
          [
           "MP"
          ],
          [
           "MP"
          ],
          [
           "MP"
          ],
          [
           "MP"
          ],
          [
           "MP"
          ],
          [
           "MP"
          ],
          [
           "MP"
          ],
          [
           "MP"
          ],
          [
           "MP"
          ],
          [
           "MP"
          ],
          [
           "MP"
          ],
          [
           "MP"
          ],
          [
           "MP"
          ],
          [
           "MP"
          ],
          [
           "MP"
          ],
          [
           "MP"
          ],
          [
           "MP"
          ],
          [
           "MP"
          ],
          [
           "MP"
          ],
          [
           "MP"
          ],
          [
           "MP"
          ],
          [
           "MP"
          ],
          [
           "MP"
          ],
          [
           "MP"
          ],
          [
           "MP"
          ],
          [
           "MP"
          ],
          [
           "MP"
          ],
          [
           "MP"
          ],
          [
           "MP"
          ],
          [
           "MP"
          ],
          [
           "MP"
          ],
          [
           "MP"
          ],
          [
           "MP"
          ],
          [
           "MP"
          ],
          [
           "MP"
          ],
          [
           "MP"
          ],
          [
           "MP"
          ],
          [
           "MP"
          ],
          [
           "MP"
          ],
          [
           "MP"
          ],
          [
           "MP"
          ]
         ],
         "hoverinfo": [
          "all"
         ],
         "hoverlabel": {
          "namelength": 0
         },
         "hovertemplate": "%{customdata[0]}<br>%{y}",
         "legendgroup": "MP",
         "line": {
          "color": "#19d3f3",
          "dash": "solid"
         },
         "mode": "lines",
         "name": "MP",
         "showlegend": true,
         "type": "scatter",
         "x": [
          "2020-03-05T00:00:00",
          "2020-03-07T00:00:00",
          "2020-03-08T00:00:00",
          "2020-03-09T00:00:00",
          "2020-03-11T00:00:00",
          "2020-03-12T00:00:00",
          "2020-03-13T00:00:00",
          "2020-03-14T00:00:00",
          "2020-03-15T00:00:00",
          "2020-03-16T00:00:00",
          "2020-03-17T00:00:00",
          "2020-03-18T00:00:00",
          "2020-03-19T00:00:00",
          "2020-03-20T00:00:00",
          "2020-03-21T00:00:00",
          "2020-03-22T00:00:00",
          "2020-03-23T00:00:00",
          "2020-03-24T00:00:00",
          "2020-03-25T00:00:00",
          "2020-03-26T00:00:00",
          "2020-03-28T00:00:00",
          "2020-03-29T00:00:00",
          "2020-03-30T00:00:00",
          "2020-03-31T00:00:00",
          "2020-04-01T00:00:00",
          "2020-04-02T00:00:00",
          "2020-04-03T00:00:00",
          "2020-04-04T00:00:00",
          "2020-04-05T00:00:00",
          "2020-04-06T00:00:00",
          "2020-04-08T00:00:00",
          "2020-04-09T00:00:00",
          "2020-04-10T00:00:00",
          "2020-04-11T00:00:00",
          "2020-04-12T00:00:00",
          "2020-04-13T00:00:00",
          "2020-04-14T00:00:00",
          "2020-04-15T00:00:00",
          "2020-04-16T00:00:00",
          "2020-04-17T00:00:00",
          "2020-04-18T00:00:00",
          "2020-04-19T00:00:00",
          "2020-04-20T00:00:00",
          "2020-04-21T00:00:00",
          "2020-04-22T00:00:00",
          "2020-04-23T00:00:00",
          "2020-04-24T00:00:00",
          "2020-04-25T00:00:00",
          "2020-04-26T00:00:00",
          "2020-04-27T00:00:00",
          "2020-04-28T00:00:00",
          "2020-04-29T00:00:00",
          "2020-04-30T00:00:00"
         ],
         "xaxis": "x",
         "y": [
          0,
          0,
          0,
          0,
          0,
          1,
          1,
          1,
          1,
          2,
          2,
          4,
          5,
          5,
          5,
          5,
          9,
          9,
          8,
          9,
          10,
          11,
          11,
          12,
          12,
          13,
          13,
          18,
          18,
          18,
          21,
          20,
          20,
          20,
          21,
          22,
          22,
          22,
          22,
          23,
          25,
          23,
          23,
          24,
          23,
          23,
          24,
          23,
          23,
          26,
          26,
          31,
          36
         ],
         "yaxis": "y"
        },
        {
         "customdata": [
          [
           "NC"
          ],
          [
           "NC"
          ],
          [
           "NC"
          ],
          [
           "NC"
          ],
          [
           "NC"
          ],
          [
           "NC"
          ],
          [
           "NC"
          ],
          [
           "NC"
          ],
          [
           "NC"
          ],
          [
           "NC"
          ],
          [
           "NC"
          ],
          [
           "NC"
          ],
          [
           "NC"
          ],
          [
           "NC"
          ],
          [
           "NC"
          ],
          [
           "NC"
          ],
          [
           "NC"
          ],
          [
           "NC"
          ],
          [
           "NC"
          ],
          [
           "NC"
          ],
          [
           "NC"
          ],
          [
           "NC"
          ],
          [
           "NC"
          ],
          [
           "NC"
          ],
          [
           "NC"
          ],
          [
           "NC"
          ],
          [
           "NC"
          ],
          [
           "NC"
          ],
          [
           "NC"
          ],
          [
           "NC"
          ],
          [
           "NC"
          ],
          [
           "NC"
          ],
          [
           "NC"
          ],
          [
           "NC"
          ],
          [
           "NC"
          ],
          [
           "NC"
          ],
          [
           "NC"
          ],
          [
           "NC"
          ],
          [
           "NC"
          ],
          [
           "NC"
          ],
          [
           "NC"
          ],
          [
           "NC"
          ],
          [
           "NC"
          ],
          [
           "NC"
          ],
          [
           "NC"
          ],
          [
           "NC"
          ],
          [
           "NC"
          ],
          [
           "NC"
          ],
          [
           "NC"
          ],
          [
           "NC"
          ],
          [
           "NC"
          ],
          [
           "NC"
          ],
          [
           "NC"
          ]
         ],
         "hoverinfo": [
          "all"
         ],
         "hoverlabel": {
          "namelength": 0
         },
         "hovertemplate": "%{customdata[0]}<br>%{y}",
         "legendgroup": "NC",
         "line": {
          "color": "#FF6692",
          "dash": "solid"
         },
         "mode": "lines",
         "name": "NC",
         "showlegend": true,
         "type": "scatter",
         "x": [
          "2020-03-05T00:00:00",
          "2020-03-07T00:00:00",
          "2020-03-08T00:00:00",
          "2020-03-09T00:00:00",
          "2020-03-11T00:00:00",
          "2020-03-12T00:00:00",
          "2020-03-13T00:00:00",
          "2020-03-14T00:00:00",
          "2020-03-15T00:00:00",
          "2020-03-16T00:00:00",
          "2020-03-17T00:00:00",
          "2020-03-18T00:00:00",
          "2020-03-19T00:00:00",
          "2020-03-20T00:00:00",
          "2020-03-21T00:00:00",
          "2020-03-22T00:00:00",
          "2020-03-23T00:00:00",
          "2020-03-24T00:00:00",
          "2020-03-25T00:00:00",
          "2020-03-26T00:00:00",
          "2020-03-28T00:00:00",
          "2020-03-29T00:00:00",
          "2020-03-30T00:00:00",
          "2020-03-31T00:00:00",
          "2020-04-01T00:00:00",
          "2020-04-02T00:00:00",
          "2020-04-03T00:00:00",
          "2020-04-04T00:00:00",
          "2020-04-05T00:00:00",
          "2020-04-06T00:00:00",
          "2020-04-08T00:00:00",
          "2020-04-09T00:00:00",
          "2020-04-10T00:00:00",
          "2020-04-11T00:00:00",
          "2020-04-12T00:00:00",
          "2020-04-13T00:00:00",
          "2020-04-14T00:00:00",
          "2020-04-15T00:00:00",
          "2020-04-16T00:00:00",
          "2020-04-17T00:00:00",
          "2020-04-18T00:00:00",
          "2020-04-19T00:00:00",
          "2020-04-20T00:00:00",
          "2020-04-21T00:00:00",
          "2020-04-22T00:00:00",
          "2020-04-23T00:00:00",
          "2020-04-24T00:00:00",
          "2020-04-25T00:00:00",
          "2020-04-26T00:00:00",
          "2020-04-27T00:00:00",
          "2020-04-28T00:00:00",
          "2020-04-29T00:00:00",
          "2020-04-30T00:00:00"
         ],
         "xaxis": "x",
         "y": [
          0,
          0,
          0,
          0,
          0,
          0,
          0,
          0,
          0,
          0,
          0,
          0,
          0,
          0,
          0,
          0,
          2,
          2,
          2,
          2,
          5,
          6,
          3,
          6,
          7,
          7,
          7,
          7,
          8,
          8,
          13,
          15,
          15,
          16,
          16,
          16,
          16,
          16,
          16,
          16,
          16,
          16,
          18,
          16,
          16,
          16,
          16,
          16,
          17,
          17,
          17,
          17,
          17
         ],
         "yaxis": "y"
        },
        {
         "customdata": [
          [
           "NW"
          ],
          [
           "NW"
          ],
          [
           "NW"
          ],
          [
           "NW"
          ],
          [
           "NW"
          ],
          [
           "NW"
          ],
          [
           "NW"
          ],
          [
           "NW"
          ],
          [
           "NW"
          ],
          [
           "NW"
          ],
          [
           "NW"
          ],
          [
           "NW"
          ],
          [
           "NW"
          ],
          [
           "NW"
          ],
          [
           "NW"
          ],
          [
           "NW"
          ],
          [
           "NW"
          ],
          [
           "NW"
          ],
          [
           "NW"
          ],
          [
           "NW"
          ],
          [
           "NW"
          ],
          [
           "NW"
          ],
          [
           "NW"
          ],
          [
           "NW"
          ],
          [
           "NW"
          ],
          [
           "NW"
          ],
          [
           "NW"
          ],
          [
           "NW"
          ],
          [
           "NW"
          ],
          [
           "NW"
          ],
          [
           "NW"
          ],
          [
           "NW"
          ],
          [
           "NW"
          ],
          [
           "NW"
          ],
          [
           "NW"
          ],
          [
           "NW"
          ],
          [
           "NW"
          ],
          [
           "NW"
          ],
          [
           "NW"
          ],
          [
           "NW"
          ],
          [
           "NW"
          ],
          [
           "NW"
          ],
          [
           "NW"
          ],
          [
           "NW"
          ],
          [
           "NW"
          ],
          [
           "NW"
          ],
          [
           "NW"
          ],
          [
           "NW"
          ],
          [
           "NW"
          ],
          [
           "NW"
          ],
          [
           "NW"
          ],
          [
           "NW"
          ],
          [
           "NW"
          ]
         ],
         "hoverinfo": [
          "all"
         ],
         "hoverlabel": {
          "namelength": 0
         },
         "hovertemplate": "%{customdata[0]}<br>%{y}",
         "legendgroup": "NW",
         "line": {
          "color": "#B6E880",
          "dash": "solid"
         },
         "mode": "lines",
         "name": "NW",
         "showlegend": true,
         "type": "scatter",
         "x": [
          "2020-03-05T00:00:00",
          "2020-03-07T00:00:00",
          "2020-03-08T00:00:00",
          "2020-03-09T00:00:00",
          "2020-03-11T00:00:00",
          "2020-03-12T00:00:00",
          "2020-03-13T00:00:00",
          "2020-03-14T00:00:00",
          "2020-03-15T00:00:00",
          "2020-03-16T00:00:00",
          "2020-03-17T00:00:00",
          "2020-03-18T00:00:00",
          "2020-03-19T00:00:00",
          "2020-03-20T00:00:00",
          "2020-03-21T00:00:00",
          "2020-03-22T00:00:00",
          "2020-03-23T00:00:00",
          "2020-03-24T00:00:00",
          "2020-03-25T00:00:00",
          "2020-03-26T00:00:00",
          "2020-03-28T00:00:00",
          "2020-03-29T00:00:00",
          "2020-03-30T00:00:00",
          "2020-03-31T00:00:00",
          "2020-04-01T00:00:00",
          "2020-04-02T00:00:00",
          "2020-04-03T00:00:00",
          "2020-04-04T00:00:00",
          "2020-04-05T00:00:00",
          "2020-04-06T00:00:00",
          "2020-04-08T00:00:00",
          "2020-04-09T00:00:00",
          "2020-04-10T00:00:00",
          "2020-04-11T00:00:00",
          "2020-04-12T00:00:00",
          "2020-04-13T00:00:00",
          "2020-04-14T00:00:00",
          "2020-04-15T00:00:00",
          "2020-04-16T00:00:00",
          "2020-04-17T00:00:00",
          "2020-04-18T00:00:00",
          "2020-04-19T00:00:00",
          "2020-04-20T00:00:00",
          "2020-04-21T00:00:00",
          "2020-04-22T00:00:00",
          "2020-04-23T00:00:00",
          "2020-04-24T00:00:00",
          "2020-04-25T00:00:00",
          "2020-04-26T00:00:00",
          "2020-04-27T00:00:00",
          "2020-04-28T00:00:00",
          "2020-04-29T00:00:00",
          "2020-04-30T00:00:00"
         ],
         "xaxis": "x",
         "y": [
          0,
          0,
          0,
          0,
          0,
          0,
          0,
          0,
          0,
          0,
          0,
          0,
          0,
          0,
          0,
          0,
          4,
          5,
          5,
          5,
          6,
          6,
          8,
          8,
          9,
          9,
          9,
          11,
          11,
          11,
          15,
          15,
          18,
          19,
          19,
          22,
          22,
          23,
          24,
          24,
          24,
          24,
          25,
          24,
          24,
          25,
          25,
          28,
          28,
          31,
          29,
          29,
          31
         ],
         "yaxis": "y"
        },
        {
         "customdata": [
          [
           "WC"
          ],
          [
           "WC"
          ],
          [
           "WC"
          ],
          [
           "WC"
          ],
          [
           "WC"
          ],
          [
           "WC"
          ],
          [
           "WC"
          ],
          [
           "WC"
          ],
          [
           "WC"
          ],
          [
           "WC"
          ],
          [
           "WC"
          ],
          [
           "WC"
          ],
          [
           "WC"
          ],
          [
           "WC"
          ],
          [
           "WC"
          ],
          [
           "WC"
          ],
          [
           "WC"
          ],
          [
           "WC"
          ],
          [
           "WC"
          ],
          [
           "WC"
          ],
          [
           "WC"
          ],
          [
           "WC"
          ],
          [
           "WC"
          ],
          [
           "WC"
          ],
          [
           "WC"
          ],
          [
           "WC"
          ],
          [
           "WC"
          ],
          [
           "WC"
          ],
          [
           "WC"
          ],
          [
           "WC"
          ],
          [
           "WC"
          ],
          [
           "WC"
          ],
          [
           "WC"
          ],
          [
           "WC"
          ],
          [
           "WC"
          ],
          [
           "WC"
          ],
          [
           "WC"
          ],
          [
           "WC"
          ],
          [
           "WC"
          ],
          [
           "WC"
          ],
          [
           "WC"
          ],
          [
           "WC"
          ],
          [
           "WC"
          ],
          [
           "WC"
          ],
          [
           "WC"
          ],
          [
           "WC"
          ],
          [
           "WC"
          ],
          [
           "WC"
          ],
          [
           "WC"
          ],
          [
           "WC"
          ],
          [
           "WC"
          ],
          [
           "WC"
          ],
          [
           "WC"
          ]
         ],
         "hoverinfo": [
          "all"
         ],
         "hoverlabel": {
          "namelength": 0
         },
         "hovertemplate": "%{customdata[0]}<br>%{y}",
         "legendgroup": "WC",
         "line": {
          "color": "#FF97FF",
          "dash": "solid"
         },
         "mode": "lines",
         "name": "WC",
         "showlegend": true,
         "type": "scatter",
         "x": [
          "2020-03-05T00:00:00",
          "2020-03-07T00:00:00",
          "2020-03-08T00:00:00",
          "2020-03-09T00:00:00",
          "2020-03-11T00:00:00",
          "2020-03-12T00:00:00",
          "2020-03-13T00:00:00",
          "2020-03-14T00:00:00",
          "2020-03-15T00:00:00",
          "2020-03-16T00:00:00",
          "2020-03-17T00:00:00",
          "2020-03-18T00:00:00",
          "2020-03-19T00:00:00",
          "2020-03-20T00:00:00",
          "2020-03-21T00:00:00",
          "2020-03-22T00:00:00",
          "2020-03-23T00:00:00",
          "2020-03-24T00:00:00",
          "2020-03-25T00:00:00",
          "2020-03-26T00:00:00",
          "2020-03-28T00:00:00",
          "2020-03-29T00:00:00",
          "2020-03-30T00:00:00",
          "2020-03-31T00:00:00",
          "2020-04-01T00:00:00",
          "2020-04-02T00:00:00",
          "2020-04-03T00:00:00",
          "2020-04-04T00:00:00",
          "2020-04-05T00:00:00",
          "2020-04-06T00:00:00",
          "2020-04-08T00:00:00",
          "2020-04-09T00:00:00",
          "2020-04-10T00:00:00",
          "2020-04-11T00:00:00",
          "2020-04-12T00:00:00",
          "2020-04-13T00:00:00",
          "2020-04-14T00:00:00",
          "2020-04-15T00:00:00",
          "2020-04-16T00:00:00",
          "2020-04-17T00:00:00",
          "2020-04-18T00:00:00",
          "2020-04-19T00:00:00",
          "2020-04-20T00:00:00",
          "2020-04-21T00:00:00",
          "2020-04-22T00:00:00",
          "2020-04-23T00:00:00",
          "2020-04-24T00:00:00",
          "2020-04-25T00:00:00",
          "2020-04-26T00:00:00",
          "2020-04-27T00:00:00",
          "2020-04-28T00:00:00",
          "2020-04-29T00:00:00",
          "2020-04-30T00:00:00"
         ],
         "xaxis": "x",
         "y": [
          0,
          0,
          0,
          0,
          1,
          1,
          3,
          9,
          14,
          16,
          21,
          31,
          46,
          57,
          75,
          89,
          100,
          113,
          183,
          229,
          271,
          310,
          324,
          325,
          326,
          353,
          374,
          433,
          454,
          462,
          495,
          515,
          541,
          546,
          587,
          617,
          643,
          657,
          675,
          717,
          836,
          868,
          940,
          1010,
          1079,
          1279,
          1413,
          1514,
          1608,
          1737,
          1870,
          2135,
          2342
         ],
         "yaxis": "y"
        },
        {
         "customdata": [
          [
           "UNK"
          ],
          [
           "UNK"
          ],
          [
           "UNK"
          ],
          [
           "UNK"
          ],
          [
           "UNK"
          ],
          [
           "UNK"
          ],
          [
           "UNK"
          ],
          [
           "UNK"
          ],
          [
           "UNK"
          ],
          [
           "UNK"
          ],
          [
           "UNK"
          ],
          [
           "UNK"
          ],
          [
           "UNK"
          ],
          [
           "UNK"
          ],
          [
           "UNK"
          ],
          [
           "UNK"
          ],
          [
           "UNK"
          ],
          [
           "UNK"
          ],
          [
           "UNK"
          ],
          [
           "UNK"
          ],
          [
           "UNK"
          ],
          [
           "UNK"
          ],
          [
           "UNK"
          ],
          [
           "UNK"
          ],
          [
           "UNK"
          ],
          [
           "UNK"
          ],
          [
           "UNK"
          ],
          [
           "UNK"
          ],
          [
           "UNK"
          ],
          [
           "UNK"
          ],
          [
           "UNK"
          ],
          [
           "UNK"
          ],
          [
           "UNK"
          ],
          [
           "UNK"
          ],
          [
           "UNK"
          ],
          [
           "UNK"
          ],
          [
           "UNK"
          ],
          [
           "UNK"
          ],
          [
           "UNK"
          ],
          [
           "UNK"
          ],
          [
           "UNK"
          ],
          [
           "UNK"
          ],
          [
           "UNK"
          ],
          [
           "UNK"
          ],
          [
           "UNK"
          ],
          [
           "UNK"
          ],
          [
           "UNK"
          ],
          [
           "UNK"
          ],
          [
           "UNK"
          ],
          [
           "UNK"
          ],
          [
           "UNK"
          ],
          [
           "UNK"
          ],
          [
           "UNK"
          ]
         ],
         "hoverinfo": [
          "all"
         ],
         "hoverlabel": {
          "namelength": 0
         },
         "hovertemplate": "%{customdata[0]}<br>%{y}",
         "legendgroup": "UNK",
         "line": {
          "color": "#FECB52",
          "dash": "solid"
         },
         "mode": "lines",
         "name": "UNK",
         "showlegend": true,
         "type": "scatter",
         "x": [
          "2020-03-05T00:00:00",
          "2020-03-07T00:00:00",
          "2020-03-08T00:00:00",
          "2020-03-09T00:00:00",
          "2020-03-11T00:00:00",
          "2020-03-12T00:00:00",
          "2020-03-13T00:00:00",
          "2020-03-14T00:00:00",
          "2020-03-15T00:00:00",
          "2020-03-16T00:00:00",
          "2020-03-17T00:00:00",
          "2020-03-18T00:00:00",
          "2020-03-19T00:00:00",
          "2020-03-20T00:00:00",
          "2020-03-21T00:00:00",
          "2020-03-22T00:00:00",
          "2020-03-23T00:00:00",
          "2020-03-24T00:00:00",
          "2020-03-25T00:00:00",
          "2020-03-26T00:00:00",
          "2020-03-28T00:00:00",
          "2020-03-29T00:00:00",
          "2020-03-30T00:00:00",
          "2020-03-31T00:00:00",
          "2020-04-01T00:00:00",
          "2020-04-02T00:00:00",
          "2020-04-03T00:00:00",
          "2020-04-04T00:00:00",
          "2020-04-05T00:00:00",
          "2020-04-06T00:00:00",
          "2020-04-08T00:00:00",
          "2020-04-09T00:00:00",
          "2020-04-10T00:00:00",
          "2020-04-11T00:00:00",
          "2020-04-12T00:00:00",
          "2020-04-13T00:00:00",
          "2020-04-14T00:00:00",
          "2020-04-15T00:00:00",
          "2020-04-16T00:00:00",
          "2020-04-17T00:00:00",
          "2020-04-18T00:00:00",
          "2020-04-19T00:00:00",
          "2020-04-20T00:00:00",
          "2020-04-21T00:00:00",
          "2020-04-22T00:00:00",
          "2020-04-23T00:00:00",
          "2020-04-24T00:00:00",
          "2020-04-25T00:00:00",
          "2020-04-26T00:00:00",
          "2020-04-27T00:00:00",
          "2020-04-28T00:00:00",
          "2020-04-29T00:00:00",
          "2020-04-30T00:00:00"
         ],
         "xaxis": "x",
         "y": [
          0,
          0,
          0,
          0,
          0,
          0,
          0,
          0,
          0,
          0,
          0,
          0,
          0,
          0,
          0,
          0,
          1,
          19,
          65,
          79,
          117,
          100,
          96,
          90,
          90,
          94,
          94,
          63,
          77,
          77,
          11,
          11,
          10,
          10,
          15,
          17,
          18,
          18,
          16,
          22,
          32,
          42,
          43,
          43,
          1,
          1,
          0,
          0,
          0,
          0,
          0,
          0,
          0
         ],
         "yaxis": "y"
        }
       ],
       "layout": {
        "hovermode": "x",
        "legend": {
         "title": {
          "text": ""
         },
         "tracegroupgap": 0,
         "x": 0.01,
         "y": 0.98
        },
        "margin": {
         "b": 0,
         "l": 0,
         "r": 0,
         "t": 0
        },
        "template": {
         "data": {
          "bar": [
           {
            "error_x": {
             "color": "#2a3f5f"
            },
            "error_y": {
             "color": "#2a3f5f"
            },
            "marker": {
             "line": {
              "color": "#E5ECF6",
              "width": 0.5
             }
            },
            "type": "bar"
           }
          ],
          "barpolar": [
           {
            "marker": {
             "line": {
              "color": "#E5ECF6",
              "width": 0.5
             }
            },
            "type": "barpolar"
           }
          ],
          "carpet": [
           {
            "aaxis": {
             "endlinecolor": "#2a3f5f",
             "gridcolor": "white",
             "linecolor": "white",
             "minorgridcolor": "white",
             "startlinecolor": "#2a3f5f"
            },
            "baxis": {
             "endlinecolor": "#2a3f5f",
             "gridcolor": "white",
             "linecolor": "white",
             "minorgridcolor": "white",
             "startlinecolor": "#2a3f5f"
            },
            "type": "carpet"
           }
          ],
          "choropleth": [
           {
            "colorbar": {
             "outlinewidth": 0,
             "ticks": ""
            },
            "type": "choropleth"
           }
          ],
          "contour": [
           {
            "colorbar": {
             "outlinewidth": 0,
             "ticks": ""
            },
            "colorscale": [
             [
              0,
              "#0d0887"
             ],
             [
              0.1111111111111111,
              "#46039f"
             ],
             [
              0.2222222222222222,
              "#7201a8"
             ],
             [
              0.3333333333333333,
              "#9c179e"
             ],
             [
              0.4444444444444444,
              "#bd3786"
             ],
             [
              0.5555555555555556,
              "#d8576b"
             ],
             [
              0.6666666666666666,
              "#ed7953"
             ],
             [
              0.7777777777777778,
              "#fb9f3a"
             ],
             [
              0.8888888888888888,
              "#fdca26"
             ],
             [
              1,
              "#f0f921"
             ]
            ],
            "type": "contour"
           }
          ],
          "contourcarpet": [
           {
            "colorbar": {
             "outlinewidth": 0,
             "ticks": ""
            },
            "type": "contourcarpet"
           }
          ],
          "heatmap": [
           {
            "colorbar": {
             "outlinewidth": 0,
             "ticks": ""
            },
            "colorscale": [
             [
              0,
              "#0d0887"
             ],
             [
              0.1111111111111111,
              "#46039f"
             ],
             [
              0.2222222222222222,
              "#7201a8"
             ],
             [
              0.3333333333333333,
              "#9c179e"
             ],
             [
              0.4444444444444444,
              "#bd3786"
             ],
             [
              0.5555555555555556,
              "#d8576b"
             ],
             [
              0.6666666666666666,
              "#ed7953"
             ],
             [
              0.7777777777777778,
              "#fb9f3a"
             ],
             [
              0.8888888888888888,
              "#fdca26"
             ],
             [
              1,
              "#f0f921"
             ]
            ],
            "type": "heatmap"
           }
          ],
          "heatmapgl": [
           {
            "colorbar": {
             "outlinewidth": 0,
             "ticks": ""
            },
            "colorscale": [
             [
              0,
              "#0d0887"
             ],
             [
              0.1111111111111111,
              "#46039f"
             ],
             [
              0.2222222222222222,
              "#7201a8"
             ],
             [
              0.3333333333333333,
              "#9c179e"
             ],
             [
              0.4444444444444444,
              "#bd3786"
             ],
             [
              0.5555555555555556,
              "#d8576b"
             ],
             [
              0.6666666666666666,
              "#ed7953"
             ],
             [
              0.7777777777777778,
              "#fb9f3a"
             ],
             [
              0.8888888888888888,
              "#fdca26"
             ],
             [
              1,
              "#f0f921"
             ]
            ],
            "type": "heatmapgl"
           }
          ],
          "histogram": [
           {
            "marker": {
             "colorbar": {
              "outlinewidth": 0,
              "ticks": ""
             }
            },
            "type": "histogram"
           }
          ],
          "histogram2d": [
           {
            "colorbar": {
             "outlinewidth": 0,
             "ticks": ""
            },
            "colorscale": [
             [
              0,
              "#0d0887"
             ],
             [
              0.1111111111111111,
              "#46039f"
             ],
             [
              0.2222222222222222,
              "#7201a8"
             ],
             [
              0.3333333333333333,
              "#9c179e"
             ],
             [
              0.4444444444444444,
              "#bd3786"
             ],
             [
              0.5555555555555556,
              "#d8576b"
             ],
             [
              0.6666666666666666,
              "#ed7953"
             ],
             [
              0.7777777777777778,
              "#fb9f3a"
             ],
             [
              0.8888888888888888,
              "#fdca26"
             ],
             [
              1,
              "#f0f921"
             ]
            ],
            "type": "histogram2d"
           }
          ],
          "histogram2dcontour": [
           {
            "colorbar": {
             "outlinewidth": 0,
             "ticks": ""
            },
            "colorscale": [
             [
              0,
              "#0d0887"
             ],
             [
              0.1111111111111111,
              "#46039f"
             ],
             [
              0.2222222222222222,
              "#7201a8"
             ],
             [
              0.3333333333333333,
              "#9c179e"
             ],
             [
              0.4444444444444444,
              "#bd3786"
             ],
             [
              0.5555555555555556,
              "#d8576b"
             ],
             [
              0.6666666666666666,
              "#ed7953"
             ],
             [
              0.7777777777777778,
              "#fb9f3a"
             ],
             [
              0.8888888888888888,
              "#fdca26"
             ],
             [
              1,
              "#f0f921"
             ]
            ],
            "type": "histogram2dcontour"
           }
          ],
          "mesh3d": [
           {
            "colorbar": {
             "outlinewidth": 0,
             "ticks": ""
            },
            "type": "mesh3d"
           }
          ],
          "parcoords": [
           {
            "line": {
             "colorbar": {
              "outlinewidth": 0,
              "ticks": ""
             }
            },
            "type": "parcoords"
           }
          ],
          "pie": [
           {
            "automargin": true,
            "type": "pie"
           }
          ],
          "scatter": [
           {
            "marker": {
             "colorbar": {
              "outlinewidth": 0,
              "ticks": ""
             }
            },
            "type": "scatter"
           }
          ],
          "scatter3d": [
           {
            "line": {
             "colorbar": {
              "outlinewidth": 0,
              "ticks": ""
             }
            },
            "marker": {
             "colorbar": {
              "outlinewidth": 0,
              "ticks": ""
             }
            },
            "type": "scatter3d"
           }
          ],
          "scattercarpet": [
           {
            "marker": {
             "colorbar": {
              "outlinewidth": 0,
              "ticks": ""
             }
            },
            "type": "scattercarpet"
           }
          ],
          "scattergeo": [
           {
            "marker": {
             "colorbar": {
              "outlinewidth": 0,
              "ticks": ""
             }
            },
            "type": "scattergeo"
           }
          ],
          "scattergl": [
           {
            "marker": {
             "colorbar": {
              "outlinewidth": 0,
              "ticks": ""
             }
            },
            "type": "scattergl"
           }
          ],
          "scattermapbox": [
           {
            "marker": {
             "colorbar": {
              "outlinewidth": 0,
              "ticks": ""
             }
            },
            "type": "scattermapbox"
           }
          ],
          "scatterpolar": [
           {
            "marker": {
             "colorbar": {
              "outlinewidth": 0,
              "ticks": ""
             }
            },
            "type": "scatterpolar"
           }
          ],
          "scatterpolargl": [
           {
            "marker": {
             "colorbar": {
              "outlinewidth": 0,
              "ticks": ""
             }
            },
            "type": "scatterpolargl"
           }
          ],
          "scatterternary": [
           {
            "marker": {
             "colorbar": {
              "outlinewidth": 0,
              "ticks": ""
             }
            },
            "type": "scatterternary"
           }
          ],
          "surface": [
           {
            "colorbar": {
             "outlinewidth": 0,
             "ticks": ""
            },
            "colorscale": [
             [
              0,
              "#0d0887"
             ],
             [
              0.1111111111111111,
              "#46039f"
             ],
             [
              0.2222222222222222,
              "#7201a8"
             ],
             [
              0.3333333333333333,
              "#9c179e"
             ],
             [
              0.4444444444444444,
              "#bd3786"
             ],
             [
              0.5555555555555556,
              "#d8576b"
             ],
             [
              0.6666666666666666,
              "#ed7953"
             ],
             [
              0.7777777777777778,
              "#fb9f3a"
             ],
             [
              0.8888888888888888,
              "#fdca26"
             ],
             [
              1,
              "#f0f921"
             ]
            ],
            "type": "surface"
           }
          ],
          "table": [
           {
            "cells": {
             "fill": {
              "color": "#EBF0F8"
             },
             "line": {
              "color": "white"
             }
            },
            "header": {
             "fill": {
              "color": "#C8D4E3"
             },
             "line": {
              "color": "white"
             }
            },
            "type": "table"
           }
          ]
         },
         "layout": {
          "annotationdefaults": {
           "arrowcolor": "#2a3f5f",
           "arrowhead": 0,
           "arrowwidth": 1
          },
          "coloraxis": {
           "colorbar": {
            "outlinewidth": 0,
            "ticks": ""
           }
          },
          "colorscale": {
           "diverging": [
            [
             0,
             "#8e0152"
            ],
            [
             0.1,
             "#c51b7d"
            ],
            [
             0.2,
             "#de77ae"
            ],
            [
             0.3,
             "#f1b6da"
            ],
            [
             0.4,
             "#fde0ef"
            ],
            [
             0.5,
             "#f7f7f7"
            ],
            [
             0.6,
             "#e6f5d0"
            ],
            [
             0.7,
             "#b8e186"
            ],
            [
             0.8,
             "#7fbc41"
            ],
            [
             0.9,
             "#4d9221"
            ],
            [
             1,
             "#276419"
            ]
           ],
           "sequential": [
            [
             0,
             "#0d0887"
            ],
            [
             0.1111111111111111,
             "#46039f"
            ],
            [
             0.2222222222222222,
             "#7201a8"
            ],
            [
             0.3333333333333333,
             "#9c179e"
            ],
            [
             0.4444444444444444,
             "#bd3786"
            ],
            [
             0.5555555555555556,
             "#d8576b"
            ],
            [
             0.6666666666666666,
             "#ed7953"
            ],
            [
             0.7777777777777778,
             "#fb9f3a"
            ],
            [
             0.8888888888888888,
             "#fdca26"
            ],
            [
             1,
             "#f0f921"
            ]
           ],
           "sequentialminus": [
            [
             0,
             "#0d0887"
            ],
            [
             0.1111111111111111,
             "#46039f"
            ],
            [
             0.2222222222222222,
             "#7201a8"
            ],
            [
             0.3333333333333333,
             "#9c179e"
            ],
            [
             0.4444444444444444,
             "#bd3786"
            ],
            [
             0.5555555555555556,
             "#d8576b"
            ],
            [
             0.6666666666666666,
             "#ed7953"
            ],
            [
             0.7777777777777778,
             "#fb9f3a"
            ],
            [
             0.8888888888888888,
             "#fdca26"
            ],
            [
             1,
             "#f0f921"
            ]
           ]
          },
          "colorway": [
           "#636efa",
           "#EF553B",
           "#00cc96",
           "#ab63fa",
           "#FFA15A",
           "#19d3f3",
           "#FF6692",
           "#B6E880",
           "#FF97FF",
           "#FECB52"
          ],
          "font": {
           "color": "#2a3f5f"
          },
          "geo": {
           "bgcolor": "white",
           "lakecolor": "white",
           "landcolor": "#E5ECF6",
           "showlakes": true,
           "showland": true,
           "subunitcolor": "white"
          },
          "hoverlabel": {
           "align": "left"
          },
          "hovermode": "closest",
          "mapbox": {
           "style": "light"
          },
          "paper_bgcolor": "white",
          "plot_bgcolor": "#E5ECF6",
          "polar": {
           "angularaxis": {
            "gridcolor": "white",
            "linecolor": "white",
            "ticks": ""
           },
           "bgcolor": "#E5ECF6",
           "radialaxis": {
            "gridcolor": "white",
            "linecolor": "white",
            "ticks": ""
           }
          },
          "scene": {
           "xaxis": {
            "backgroundcolor": "#E5ECF6",
            "gridcolor": "white",
            "gridwidth": 2,
            "linecolor": "white",
            "showbackground": true,
            "ticks": "",
            "zerolinecolor": "white"
           },
           "yaxis": {
            "backgroundcolor": "#E5ECF6",
            "gridcolor": "white",
            "gridwidth": 2,
            "linecolor": "white",
            "showbackground": true,
            "ticks": "",
            "zerolinecolor": "white"
           },
           "zaxis": {
            "backgroundcolor": "#E5ECF6",
            "gridcolor": "white",
            "gridwidth": 2,
            "linecolor": "white",
            "showbackground": true,
            "ticks": "",
            "zerolinecolor": "white"
           }
          },
          "shapedefaults": {
           "line": {
            "color": "#2a3f5f"
           }
          },
          "ternary": {
           "aaxis": {
            "gridcolor": "white",
            "linecolor": "white",
            "ticks": ""
           },
           "baxis": {
            "gridcolor": "white",
            "linecolor": "white",
            "ticks": ""
           },
           "bgcolor": "#E5ECF6",
           "caxis": {
            "gridcolor": "white",
            "linecolor": "white",
            "ticks": ""
           }
          },
          "title": {
           "x": 0.05
          },
          "xaxis": {
           "automargin": true,
           "gridcolor": "white",
           "linecolor": "white",
           "ticks": "",
           "title": {
            "standoff": 15
           },
           "zerolinecolor": "white",
           "zerolinewidth": 2
          },
          "yaxis": {
           "automargin": true,
           "gridcolor": "white",
           "linecolor": "white",
           "ticks": "",
           "title": {
            "standoff": 15
           },
           "zerolinecolor": "white",
           "zerolinewidth": 2
          }
         }
        },
        "title": {
         "text": ""
        },
        "xaxis": {
         "anchor": "y",
         "domain": [
          0,
          1
         ],
         "fixedrange": true,
         "title": {
          "text": "Date"
         }
        },
        "yaxis": {
         "anchor": "x",
         "domain": [
          0,
          1
         ],
         "fixedrange": true,
         "title": {
          "text": "Cumulative No of Positive Cases"
         }
        }
       }
      },
      "text/html": [
       "<div>\n",
       "        \n",
       "        \n",
       "            <div id=\"603702d6-8812-4080-b86d-9ab80f9edc9c\" class=\"plotly-graph-div\" style=\"height:525px; width:100%;\"></div>\n",
       "            <script type=\"text/javascript\">\n",
       "                require([\"plotly\"], function(Plotly) {\n",
       "                    window.PLOTLYENV=window.PLOTLYENV || {};\n",
       "                    \n",
       "                if (document.getElementById(\"603702d6-8812-4080-b86d-9ab80f9edc9c\")) {\n",
       "                    Plotly.newPlot(\n",
       "                        '603702d6-8812-4080-b86d-9ab80f9edc9c',\n",
       "                        [{\"customdata\": [[\"EC\"], [\"EC\"], [\"EC\"], [\"EC\"], [\"EC\"], [\"EC\"], [\"EC\"], [\"EC\"], [\"EC\"], [\"EC\"], [\"EC\"], [\"EC\"], [\"EC\"], [\"EC\"], [\"EC\"], [\"EC\"], [\"EC\"], [\"EC\"], [\"EC\"], [\"EC\"], [\"EC\"], [\"EC\"], [\"EC\"], [\"EC\"], [\"EC\"], [\"EC\"], [\"EC\"], [\"EC\"], [\"EC\"], [\"EC\"], [\"EC\"], [\"EC\"], [\"EC\"], [\"EC\"], [\"EC\"], [\"EC\"], [\"EC\"], [\"EC\"], [\"EC\"], [\"EC\"], [\"EC\"], [\"EC\"], [\"EC\"], [\"EC\"], [\"EC\"], [\"EC\"], [\"EC\"], [\"EC\"], [\"EC\"], [\"EC\"], [\"EC\"], [\"EC\"], [\"EC\"]], \"hoverinfo\": [\"all\"], \"hoverlabel\": {\"namelength\": 0}, \"hovertemplate\": \"%{customdata[0]}<br>%{y}\", \"legendgroup\": \"EC\", \"line\": {\"color\": \"#636efa\", \"dash\": \"solid\"}, \"mode\": \"lines\", \"name\": \"EC\", \"showlegend\": true, \"type\": \"scatter\", \"x\": [\"2020-03-05T00:00:00\", \"2020-03-07T00:00:00\", \"2020-03-08T00:00:00\", \"2020-03-09T00:00:00\", \"2020-03-11T00:00:00\", \"2020-03-12T00:00:00\", \"2020-03-13T00:00:00\", \"2020-03-14T00:00:00\", \"2020-03-15T00:00:00\", \"2020-03-16T00:00:00\", \"2020-03-17T00:00:00\", \"2020-03-18T00:00:00\", \"2020-03-19T00:00:00\", \"2020-03-20T00:00:00\", \"2020-03-21T00:00:00\", \"2020-03-22T00:00:00\", \"2020-03-23T00:00:00\", \"2020-03-24T00:00:00\", \"2020-03-25T00:00:00\", \"2020-03-26T00:00:00\", \"2020-03-28T00:00:00\", \"2020-03-29T00:00:00\", \"2020-03-30T00:00:00\", \"2020-03-31T00:00:00\", \"2020-04-01T00:00:00\", \"2020-04-02T00:00:00\", \"2020-04-03T00:00:00\", \"2020-04-04T00:00:00\", \"2020-04-05T00:00:00\", \"2020-04-06T00:00:00\", \"2020-04-08T00:00:00\", \"2020-04-09T00:00:00\", \"2020-04-10T00:00:00\", \"2020-04-11T00:00:00\", \"2020-04-12T00:00:00\", \"2020-04-13T00:00:00\", \"2020-04-14T00:00:00\", \"2020-04-15T00:00:00\", \"2020-04-16T00:00:00\", \"2020-04-17T00:00:00\", \"2020-04-18T00:00:00\", \"2020-04-19T00:00:00\", \"2020-04-20T00:00:00\", \"2020-04-21T00:00:00\", \"2020-04-22T00:00:00\", \"2020-04-23T00:00:00\", \"2020-04-24T00:00:00\", \"2020-04-25T00:00:00\", \"2020-04-26T00:00:00\", \"2020-04-27T00:00:00\", \"2020-04-28T00:00:00\", \"2020-04-29T00:00:00\", \"2020-04-30T00:00:00\"], \"xaxis\": \"x\", \"y\": [0.0, 0.0, 0.0, 0.0, 0.0, 0.0, 0.0, 0.0, 0.0, 0.0, 0.0, 0.0, 0.0, 0.0, 1.0, 2.0, 2.0, 2.0, 2.0, 5.0, 10.0, 12.0, 12.0, 12.0, 15.0, 17.0, 21.0, 25.0, 31.0, 32.0, 45.0, 61.0, 68.0, 69.0, 88.0, 104.0, 174.0, 199.0, 220.0, 246.0, 270.0, 293.0, 310.0, 345.0, 377.0, 417.0, 480.0, 488.0, 535.0, 588.0, 616.0, 630.0, 647.0], \"yaxis\": \"y\"}, {\"customdata\": [[\"FS\"], [\"FS\"], [\"FS\"], [\"FS\"], [\"FS\"], [\"FS\"], [\"FS\"], [\"FS\"], [\"FS\"], [\"FS\"], [\"FS\"], [\"FS\"], [\"FS\"], [\"FS\"], [\"FS\"], [\"FS\"], [\"FS\"], [\"FS\"], [\"FS\"], [\"FS\"], [\"FS\"], [\"FS\"], [\"FS\"], [\"FS\"], [\"FS\"], [\"FS\"], [\"FS\"], [\"FS\"], [\"FS\"], [\"FS\"], [\"FS\"], [\"FS\"], [\"FS\"], [\"FS\"], [\"FS\"], [\"FS\"], [\"FS\"], [\"FS\"], [\"FS\"], [\"FS\"], [\"FS\"], [\"FS\"], [\"FS\"], [\"FS\"], [\"FS\"], [\"FS\"], [\"FS\"], [\"FS\"], [\"FS\"], [\"FS\"], [\"FS\"], [\"FS\"], [\"FS\"]], \"hoverinfo\": [\"all\"], \"hoverlabel\": {\"namelength\": 0}, \"hovertemplate\": \"%{customdata[0]}<br>%{y}\", \"legendgroup\": \"FS\", \"line\": {\"color\": \"#EF553B\", \"dash\": \"solid\"}, \"mode\": \"lines\", \"name\": \"FS\", \"showlegend\": true, \"type\": \"scatter\", \"x\": [\"2020-03-05T00:00:00\", \"2020-03-07T00:00:00\", \"2020-03-08T00:00:00\", \"2020-03-09T00:00:00\", \"2020-03-11T00:00:00\", \"2020-03-12T00:00:00\", \"2020-03-13T00:00:00\", \"2020-03-14T00:00:00\", \"2020-03-15T00:00:00\", \"2020-03-16T00:00:00\", \"2020-03-17T00:00:00\", \"2020-03-18T00:00:00\", \"2020-03-19T00:00:00\", \"2020-03-20T00:00:00\", \"2020-03-21T00:00:00\", \"2020-03-22T00:00:00\", \"2020-03-23T00:00:00\", \"2020-03-24T00:00:00\", \"2020-03-25T00:00:00\", \"2020-03-26T00:00:00\", \"2020-03-28T00:00:00\", \"2020-03-29T00:00:00\", \"2020-03-30T00:00:00\", \"2020-03-31T00:00:00\", \"2020-04-01T00:00:00\", \"2020-04-02T00:00:00\", \"2020-04-03T00:00:00\", \"2020-04-04T00:00:00\", \"2020-04-05T00:00:00\", \"2020-04-06T00:00:00\", \"2020-04-08T00:00:00\", \"2020-04-09T00:00:00\", \"2020-04-10T00:00:00\", \"2020-04-11T00:00:00\", \"2020-04-12T00:00:00\", \"2020-04-13T00:00:00\", \"2020-04-14T00:00:00\", \"2020-04-15T00:00:00\", \"2020-04-16T00:00:00\", \"2020-04-17T00:00:00\", \"2020-04-18T00:00:00\", \"2020-04-19T00:00:00\", \"2020-04-20T00:00:00\", \"2020-04-21T00:00:00\", \"2020-04-22T00:00:00\", \"2020-04-23T00:00:00\", \"2020-04-24T00:00:00\", \"2020-04-25T00:00:00\", \"2020-04-26T00:00:00\", \"2020-04-27T00:00:00\", \"2020-04-28T00:00:00\", \"2020-04-29T00:00:00\", \"2020-04-30T00:00:00\"], \"xaxis\": \"x\", \"y\": [0.0, 0.0, 0.0, 0.0, 0.0, 0.0, 0.0, 0.0, 0.0, 0.0, 0.0, 0.0, 0.0, 7.0, 7.0, 9.0, 13.0, 18.0, 30.0, 49.0, 68.0, 72.0, 72.0, 74.0, 76.0, 84.0, 84.0, 85.0, 87.0, 89.0, 88.0, 93.0, 94.0, 94.0, 96.0, 96.0, 98.0, 97.0, 98.0, 100.0, 100.0, 100.0, 105.0, 106.0, 106.0, 106.0, 111.0, 111.0, 110.0, 111.0, 113.0, 113.0, 116.0], \"yaxis\": \"y\"}, {\"customdata\": [[\"GP\"], [\"GP\"], [\"GP\"], [\"GP\"], [\"GP\"], [\"GP\"], [\"GP\"], [\"GP\"], [\"GP\"], [\"GP\"], [\"GP\"], [\"GP\"], [\"GP\"], [\"GP\"], [\"GP\"], [\"GP\"], [\"GP\"], [\"GP\"], [\"GP\"], [\"GP\"], [\"GP\"], [\"GP\"], [\"GP\"], [\"GP\"], [\"GP\"], [\"GP\"], [\"GP\"], [\"GP\"], [\"GP\"], [\"GP\"], [\"GP\"], [\"GP\"], [\"GP\"], [\"GP\"], [\"GP\"], [\"GP\"], [\"GP\"], [\"GP\"], [\"GP\"], [\"GP\"], [\"GP\"], [\"GP\"], [\"GP\"], [\"GP\"], [\"GP\"], [\"GP\"], [\"GP\"], [\"GP\"], [\"GP\"], [\"GP\"], [\"GP\"], [\"GP\"], [\"GP\"]], \"hoverinfo\": [\"all\"], \"hoverlabel\": {\"namelength\": 0}, \"hovertemplate\": \"%{customdata[0]}<br>%{y}\", \"legendgroup\": \"GP\", \"line\": {\"color\": \"#00cc96\", \"dash\": \"solid\"}, \"mode\": \"lines\", \"name\": \"GP\", \"showlegend\": true, \"type\": \"scatter\", \"x\": [\"2020-03-05T00:00:00\", \"2020-03-07T00:00:00\", \"2020-03-08T00:00:00\", \"2020-03-09T00:00:00\", \"2020-03-11T00:00:00\", \"2020-03-12T00:00:00\", \"2020-03-13T00:00:00\", \"2020-03-14T00:00:00\", \"2020-03-15T00:00:00\", \"2020-03-16T00:00:00\", \"2020-03-17T00:00:00\", \"2020-03-18T00:00:00\", \"2020-03-19T00:00:00\", \"2020-03-20T00:00:00\", \"2020-03-21T00:00:00\", \"2020-03-22T00:00:00\", \"2020-03-23T00:00:00\", \"2020-03-24T00:00:00\", \"2020-03-25T00:00:00\", \"2020-03-26T00:00:00\", \"2020-03-28T00:00:00\", \"2020-03-29T00:00:00\", \"2020-03-30T00:00:00\", \"2020-03-31T00:00:00\", \"2020-04-01T00:00:00\", \"2020-04-02T00:00:00\", \"2020-04-03T00:00:00\", \"2020-04-04T00:00:00\", \"2020-04-05T00:00:00\", \"2020-04-06T00:00:00\", \"2020-04-08T00:00:00\", \"2020-04-09T00:00:00\", \"2020-04-10T00:00:00\", \"2020-04-11T00:00:00\", \"2020-04-12T00:00:00\", \"2020-04-13T00:00:00\", \"2020-04-14T00:00:00\", \"2020-04-15T00:00:00\", \"2020-04-16T00:00:00\", \"2020-04-17T00:00:00\", \"2020-04-18T00:00:00\", \"2020-04-19T00:00:00\", \"2020-04-20T00:00:00\", \"2020-04-21T00:00:00\", \"2020-04-22T00:00:00\", \"2020-04-23T00:00:00\", \"2020-04-24T00:00:00\", \"2020-04-25T00:00:00\", \"2020-04-26T00:00:00\", \"2020-04-27T00:00:00\", \"2020-04-28T00:00:00\", \"2020-04-29T00:00:00\", \"2020-04-30T00:00:00\"], \"xaxis\": \"x\", \"y\": [0.0, 1.0, 1.0, 1.0, 5.0, 6.0, 10.0, 17.0, 24.0, 31.0, 45.0, 61.0, 76.0, 109.0, 125.0, 132.0, 207.0, 302.0, 319.0, 409.0, 533.0, 584.0, 618.0, 633.0, 645.0, 663.0, 672.0, 693.0, 704.0, 713.0, 782.0, 795.0, 801.0, 813.0, 865.0, 890.0, 909.0, 930.0, 969.0, 1018.0, 1101.0, 1148.0, 1170.0, 1199.0, 1224.0, 1252.0, 1281.0, 1304.0, 1331.0, 1353.0, 1377.0, 1408.0, 1446.0], \"yaxis\": \"y\"}, {\"customdata\": [[\"KZN\"], [\"KZN\"], [\"KZN\"], [\"KZN\"], [\"KZN\"], [\"KZN\"], [\"KZN\"], [\"KZN\"], [\"KZN\"], [\"KZN\"], [\"KZN\"], [\"KZN\"], [\"KZN\"], [\"KZN\"], [\"KZN\"], [\"KZN\"], [\"KZN\"], [\"KZN\"], [\"KZN\"], [\"KZN\"], [\"KZN\"], [\"KZN\"], [\"KZN\"], [\"KZN\"], [\"KZN\"], [\"KZN\"], [\"KZN\"], [\"KZN\"], [\"KZN\"], [\"KZN\"], [\"KZN\"], [\"KZN\"], [\"KZN\"], [\"KZN\"], [\"KZN\"], [\"KZN\"], [\"KZN\"], [\"KZN\"], [\"KZN\"], [\"KZN\"], [\"KZN\"], [\"KZN\"], [\"KZN\"], [\"KZN\"], [\"KZN\"], [\"KZN\"], [\"KZN\"], [\"KZN\"], [\"KZN\"], [\"KZN\"], [\"KZN\"], [\"KZN\"], [\"KZN\"]], \"hoverinfo\": [\"all\"], \"hoverlabel\": {\"namelength\": 0}, \"hovertemplate\": \"%{customdata[0]}<br>%{y}\", \"legendgroup\": \"KZN\", \"line\": {\"color\": \"#ab63fa\", \"dash\": \"solid\"}, \"mode\": \"lines\", \"name\": \"KZN\", \"showlegend\": true, \"type\": \"scatter\", \"x\": [\"2020-03-05T00:00:00\", \"2020-03-07T00:00:00\", \"2020-03-08T00:00:00\", \"2020-03-09T00:00:00\", \"2020-03-11T00:00:00\", \"2020-03-12T00:00:00\", \"2020-03-13T00:00:00\", \"2020-03-14T00:00:00\", \"2020-03-15T00:00:00\", \"2020-03-16T00:00:00\", \"2020-03-17T00:00:00\", \"2020-03-18T00:00:00\", \"2020-03-19T00:00:00\", \"2020-03-20T00:00:00\", \"2020-03-21T00:00:00\", \"2020-03-22T00:00:00\", \"2020-03-23T00:00:00\", \"2020-03-24T00:00:00\", \"2020-03-25T00:00:00\", \"2020-03-26T00:00:00\", \"2020-03-28T00:00:00\", \"2020-03-29T00:00:00\", \"2020-03-30T00:00:00\", \"2020-03-31T00:00:00\", \"2020-04-01T00:00:00\", \"2020-04-02T00:00:00\", \"2020-04-03T00:00:00\", \"2020-04-04T00:00:00\", \"2020-04-05T00:00:00\", \"2020-04-06T00:00:00\", \"2020-04-08T00:00:00\", \"2020-04-09T00:00:00\", \"2020-04-10T00:00:00\", \"2020-04-11T00:00:00\", \"2020-04-12T00:00:00\", \"2020-04-13T00:00:00\", \"2020-04-14T00:00:00\", \"2020-04-15T00:00:00\", \"2020-04-16T00:00:00\", \"2020-04-17T00:00:00\", \"2020-04-18T00:00:00\", \"2020-04-19T00:00:00\", \"2020-04-20T00:00:00\", \"2020-04-21T00:00:00\", \"2020-04-22T00:00:00\", \"2020-04-23T00:00:00\", \"2020-04-24T00:00:00\", \"2020-04-25T00:00:00\", \"2020-04-26T00:00:00\", \"2020-04-27T00:00:00\", \"2020-04-28T00:00:00\", \"2020-04-29T00:00:00\", \"2020-04-30T00:00:00\"], \"xaxis\": \"x\", \"y\": [1.0, 1.0, 2.0, 6.0, 7.0, 8.0, 10.0, 11.0, 12.0, 12.0, 16.0, 19.0, 22.0, 23.0, 26.0, 35.0, 60.0, 80.0, 91.0, 134.0, 156.0, 167.0, 171.0, 179.0, 186.0, 206.0, 215.0, 232.0, 246.0, 257.0, 354.0, 387.0, 412.0, 418.0, 443.0, 465.0, 489.0, 519.0, 539.0, 591.0, 604.0, 617.0, 639.0, 671.0, 758.0, 807.0, 841.0, 841.0, 863.0, 902.0, 919.0, 956.0, 980.0], \"yaxis\": \"y\"}, {\"customdata\": [[\"LP\"], [\"LP\"], [\"LP\"], [\"LP\"], [\"LP\"], [\"LP\"], [\"LP\"], [\"LP\"], [\"LP\"], [\"LP\"], [\"LP\"], [\"LP\"], [\"LP\"], [\"LP\"], [\"LP\"], [\"LP\"], [\"LP\"], [\"LP\"], [\"LP\"], [\"LP\"], [\"LP\"], [\"LP\"], [\"LP\"], [\"LP\"], [\"LP\"], [\"LP\"], [\"LP\"], [\"LP\"], [\"LP\"], [\"LP\"], [\"LP\"], [\"LP\"], [\"LP\"], [\"LP\"], [\"LP\"], [\"LP\"], [\"LP\"], [\"LP\"], [\"LP\"], [\"LP\"], [\"LP\"], [\"LP\"], [\"LP\"], [\"LP\"], [\"LP\"], [\"LP\"], [\"LP\"], [\"LP\"], [\"LP\"], [\"LP\"], [\"LP\"], [\"LP\"], [\"LP\"]], \"hoverinfo\": [\"all\"], \"hoverlabel\": {\"namelength\": 0}, \"hovertemplate\": \"%{customdata[0]}<br>%{y}\", \"legendgroup\": \"LP\", \"line\": {\"color\": \"#FFA15A\", \"dash\": \"solid\"}, \"mode\": \"lines\", \"name\": \"LP\", \"showlegend\": true, \"type\": \"scatter\", \"x\": [\"2020-03-05T00:00:00\", \"2020-03-07T00:00:00\", \"2020-03-08T00:00:00\", \"2020-03-09T00:00:00\", \"2020-03-11T00:00:00\", \"2020-03-12T00:00:00\", \"2020-03-13T00:00:00\", \"2020-03-14T00:00:00\", \"2020-03-15T00:00:00\", \"2020-03-16T00:00:00\", \"2020-03-17T00:00:00\", \"2020-03-18T00:00:00\", \"2020-03-19T00:00:00\", \"2020-03-20T00:00:00\", \"2020-03-21T00:00:00\", \"2020-03-22T00:00:00\", \"2020-03-23T00:00:00\", \"2020-03-24T00:00:00\", \"2020-03-25T00:00:00\", \"2020-03-26T00:00:00\", \"2020-03-28T00:00:00\", \"2020-03-29T00:00:00\", \"2020-03-30T00:00:00\", \"2020-03-31T00:00:00\", \"2020-04-01T00:00:00\", \"2020-04-02T00:00:00\", \"2020-04-03T00:00:00\", \"2020-04-04T00:00:00\", \"2020-04-05T00:00:00\", \"2020-04-06T00:00:00\", \"2020-04-08T00:00:00\", \"2020-04-09T00:00:00\", \"2020-04-10T00:00:00\", \"2020-04-11T00:00:00\", \"2020-04-12T00:00:00\", \"2020-04-13T00:00:00\", \"2020-04-14T00:00:00\", \"2020-04-15T00:00:00\", \"2020-04-16T00:00:00\", \"2020-04-17T00:00:00\", \"2020-04-18T00:00:00\", \"2020-04-19T00:00:00\", \"2020-04-20T00:00:00\", \"2020-04-21T00:00:00\", \"2020-04-22T00:00:00\", \"2020-04-23T00:00:00\", \"2020-04-24T00:00:00\", \"2020-04-25T00:00:00\", \"2020-04-26T00:00:00\", \"2020-04-27T00:00:00\", \"2020-04-28T00:00:00\", \"2020-04-29T00:00:00\", \"2020-04-30T00:00:00\"], \"xaxis\": \"x\", \"y\": [0.0, 0.0, 0.0, 0.0, 0.0, 0.0, 0.0, 0.0, 0.0, 1.0, 1.0, 1.0, 1.0, 1.0, 1.0, 2.0, 4.0, 4.0, 4.0, 6.0, 11.0, 12.0, 11.0, 14.0, 14.0, 16.0, 16.0, 18.0, 19.0, 19.0, 21.0, 22.0, 24.0, 23.0, 23.0, 23.0, 24.0, 25.0, 26.0, 26.0, 26.0, 27.0, 27.0, 27.0, 27.0, 27.0, 29.0, 30.0, 31.0, 31.0, 31.0, 31.0, 32.0], \"yaxis\": \"y\"}, {\"customdata\": [[\"MP\"], [\"MP\"], [\"MP\"], [\"MP\"], [\"MP\"], [\"MP\"], [\"MP\"], [\"MP\"], [\"MP\"], [\"MP\"], [\"MP\"], [\"MP\"], [\"MP\"], [\"MP\"], [\"MP\"], [\"MP\"], [\"MP\"], [\"MP\"], [\"MP\"], [\"MP\"], [\"MP\"], [\"MP\"], [\"MP\"], [\"MP\"], [\"MP\"], [\"MP\"], [\"MP\"], [\"MP\"], [\"MP\"], [\"MP\"], [\"MP\"], [\"MP\"], [\"MP\"], [\"MP\"], [\"MP\"], [\"MP\"], [\"MP\"], [\"MP\"], [\"MP\"], [\"MP\"], [\"MP\"], [\"MP\"], [\"MP\"], [\"MP\"], [\"MP\"], [\"MP\"], [\"MP\"], [\"MP\"], [\"MP\"], [\"MP\"], [\"MP\"], [\"MP\"], [\"MP\"]], \"hoverinfo\": [\"all\"], \"hoverlabel\": {\"namelength\": 0}, \"hovertemplate\": \"%{customdata[0]}<br>%{y}\", \"legendgroup\": \"MP\", \"line\": {\"color\": \"#19d3f3\", \"dash\": \"solid\"}, \"mode\": \"lines\", \"name\": \"MP\", \"showlegend\": true, \"type\": \"scatter\", \"x\": [\"2020-03-05T00:00:00\", \"2020-03-07T00:00:00\", \"2020-03-08T00:00:00\", \"2020-03-09T00:00:00\", \"2020-03-11T00:00:00\", \"2020-03-12T00:00:00\", \"2020-03-13T00:00:00\", \"2020-03-14T00:00:00\", \"2020-03-15T00:00:00\", \"2020-03-16T00:00:00\", \"2020-03-17T00:00:00\", \"2020-03-18T00:00:00\", \"2020-03-19T00:00:00\", \"2020-03-20T00:00:00\", \"2020-03-21T00:00:00\", \"2020-03-22T00:00:00\", \"2020-03-23T00:00:00\", \"2020-03-24T00:00:00\", \"2020-03-25T00:00:00\", \"2020-03-26T00:00:00\", \"2020-03-28T00:00:00\", \"2020-03-29T00:00:00\", \"2020-03-30T00:00:00\", \"2020-03-31T00:00:00\", \"2020-04-01T00:00:00\", \"2020-04-02T00:00:00\", \"2020-04-03T00:00:00\", \"2020-04-04T00:00:00\", \"2020-04-05T00:00:00\", \"2020-04-06T00:00:00\", \"2020-04-08T00:00:00\", \"2020-04-09T00:00:00\", \"2020-04-10T00:00:00\", \"2020-04-11T00:00:00\", \"2020-04-12T00:00:00\", \"2020-04-13T00:00:00\", \"2020-04-14T00:00:00\", \"2020-04-15T00:00:00\", \"2020-04-16T00:00:00\", \"2020-04-17T00:00:00\", \"2020-04-18T00:00:00\", \"2020-04-19T00:00:00\", \"2020-04-20T00:00:00\", \"2020-04-21T00:00:00\", \"2020-04-22T00:00:00\", \"2020-04-23T00:00:00\", \"2020-04-24T00:00:00\", \"2020-04-25T00:00:00\", \"2020-04-26T00:00:00\", \"2020-04-27T00:00:00\", \"2020-04-28T00:00:00\", \"2020-04-29T00:00:00\", \"2020-04-30T00:00:00\"], \"xaxis\": \"x\", \"y\": [0.0, 0.0, 0.0, 0.0, 0.0, 1.0, 1.0, 1.0, 1.0, 2.0, 2.0, 4.0, 5.0, 5.0, 5.0, 5.0, 9.0, 9.0, 8.0, 9.0, 10.0, 11.0, 11.0, 12.0, 12.0, 13.0, 13.0, 18.0, 18.0, 18.0, 21.0, 20.0, 20.0, 20.0, 21.0, 22.0, 22.0, 22.0, 22.0, 23.0, 25.0, 23.0, 23.0, 24.0, 23.0, 23.0, 24.0, 23.0, 23.0, 26.0, 26.0, 31.0, 36.0], \"yaxis\": \"y\"}, {\"customdata\": [[\"NC\"], [\"NC\"], [\"NC\"], [\"NC\"], [\"NC\"], [\"NC\"], [\"NC\"], [\"NC\"], [\"NC\"], [\"NC\"], [\"NC\"], [\"NC\"], [\"NC\"], [\"NC\"], [\"NC\"], [\"NC\"], [\"NC\"], [\"NC\"], [\"NC\"], [\"NC\"], [\"NC\"], [\"NC\"], [\"NC\"], [\"NC\"], [\"NC\"], [\"NC\"], [\"NC\"], [\"NC\"], [\"NC\"], [\"NC\"], [\"NC\"], [\"NC\"], [\"NC\"], [\"NC\"], [\"NC\"], [\"NC\"], [\"NC\"], [\"NC\"], [\"NC\"], [\"NC\"], [\"NC\"], [\"NC\"], [\"NC\"], [\"NC\"], [\"NC\"], [\"NC\"], [\"NC\"], [\"NC\"], [\"NC\"], [\"NC\"], [\"NC\"], [\"NC\"], [\"NC\"]], \"hoverinfo\": [\"all\"], \"hoverlabel\": {\"namelength\": 0}, \"hovertemplate\": \"%{customdata[0]}<br>%{y}\", \"legendgroup\": \"NC\", \"line\": {\"color\": \"#FF6692\", \"dash\": \"solid\"}, \"mode\": \"lines\", \"name\": \"NC\", \"showlegend\": true, \"type\": \"scatter\", \"x\": [\"2020-03-05T00:00:00\", \"2020-03-07T00:00:00\", \"2020-03-08T00:00:00\", \"2020-03-09T00:00:00\", \"2020-03-11T00:00:00\", \"2020-03-12T00:00:00\", \"2020-03-13T00:00:00\", \"2020-03-14T00:00:00\", \"2020-03-15T00:00:00\", \"2020-03-16T00:00:00\", \"2020-03-17T00:00:00\", \"2020-03-18T00:00:00\", \"2020-03-19T00:00:00\", \"2020-03-20T00:00:00\", \"2020-03-21T00:00:00\", \"2020-03-22T00:00:00\", \"2020-03-23T00:00:00\", \"2020-03-24T00:00:00\", \"2020-03-25T00:00:00\", \"2020-03-26T00:00:00\", \"2020-03-28T00:00:00\", \"2020-03-29T00:00:00\", \"2020-03-30T00:00:00\", \"2020-03-31T00:00:00\", \"2020-04-01T00:00:00\", \"2020-04-02T00:00:00\", \"2020-04-03T00:00:00\", \"2020-04-04T00:00:00\", \"2020-04-05T00:00:00\", \"2020-04-06T00:00:00\", \"2020-04-08T00:00:00\", \"2020-04-09T00:00:00\", \"2020-04-10T00:00:00\", \"2020-04-11T00:00:00\", \"2020-04-12T00:00:00\", \"2020-04-13T00:00:00\", \"2020-04-14T00:00:00\", \"2020-04-15T00:00:00\", \"2020-04-16T00:00:00\", \"2020-04-17T00:00:00\", \"2020-04-18T00:00:00\", \"2020-04-19T00:00:00\", \"2020-04-20T00:00:00\", \"2020-04-21T00:00:00\", \"2020-04-22T00:00:00\", \"2020-04-23T00:00:00\", \"2020-04-24T00:00:00\", \"2020-04-25T00:00:00\", \"2020-04-26T00:00:00\", \"2020-04-27T00:00:00\", \"2020-04-28T00:00:00\", \"2020-04-29T00:00:00\", \"2020-04-30T00:00:00\"], \"xaxis\": \"x\", \"y\": [0.0, 0.0, 0.0, 0.0, 0.0, 0.0, 0.0, 0.0, 0.0, 0.0, 0.0, 0.0, 0.0, 0.0, 0.0, 0.0, 2.0, 2.0, 2.0, 2.0, 5.0, 6.0, 3.0, 6.0, 7.0, 7.0, 7.0, 7.0, 8.0, 8.0, 13.0, 15.0, 15.0, 16.0, 16.0, 16.0, 16.0, 16.0, 16.0, 16.0, 16.0, 16.0, 18.0, 16.0, 16.0, 16.0, 16.0, 16.0, 17.0, 17.0, 17.0, 17.0, 17.0], \"yaxis\": \"y\"}, {\"customdata\": [[\"NW\"], [\"NW\"], [\"NW\"], [\"NW\"], [\"NW\"], [\"NW\"], [\"NW\"], [\"NW\"], [\"NW\"], [\"NW\"], [\"NW\"], [\"NW\"], [\"NW\"], [\"NW\"], [\"NW\"], [\"NW\"], [\"NW\"], [\"NW\"], [\"NW\"], [\"NW\"], [\"NW\"], [\"NW\"], [\"NW\"], [\"NW\"], [\"NW\"], [\"NW\"], [\"NW\"], [\"NW\"], [\"NW\"], [\"NW\"], [\"NW\"], [\"NW\"], [\"NW\"], [\"NW\"], [\"NW\"], [\"NW\"], [\"NW\"], [\"NW\"], [\"NW\"], [\"NW\"], [\"NW\"], [\"NW\"], [\"NW\"], [\"NW\"], [\"NW\"], [\"NW\"], [\"NW\"], [\"NW\"], [\"NW\"], [\"NW\"], [\"NW\"], [\"NW\"], [\"NW\"]], \"hoverinfo\": [\"all\"], \"hoverlabel\": {\"namelength\": 0}, \"hovertemplate\": \"%{customdata[0]}<br>%{y}\", \"legendgroup\": \"NW\", \"line\": {\"color\": \"#B6E880\", \"dash\": \"solid\"}, \"mode\": \"lines\", \"name\": \"NW\", \"showlegend\": true, \"type\": \"scatter\", \"x\": [\"2020-03-05T00:00:00\", \"2020-03-07T00:00:00\", \"2020-03-08T00:00:00\", \"2020-03-09T00:00:00\", \"2020-03-11T00:00:00\", \"2020-03-12T00:00:00\", \"2020-03-13T00:00:00\", \"2020-03-14T00:00:00\", \"2020-03-15T00:00:00\", \"2020-03-16T00:00:00\", \"2020-03-17T00:00:00\", \"2020-03-18T00:00:00\", \"2020-03-19T00:00:00\", \"2020-03-20T00:00:00\", \"2020-03-21T00:00:00\", \"2020-03-22T00:00:00\", \"2020-03-23T00:00:00\", \"2020-03-24T00:00:00\", \"2020-03-25T00:00:00\", \"2020-03-26T00:00:00\", \"2020-03-28T00:00:00\", \"2020-03-29T00:00:00\", \"2020-03-30T00:00:00\", \"2020-03-31T00:00:00\", \"2020-04-01T00:00:00\", \"2020-04-02T00:00:00\", \"2020-04-03T00:00:00\", \"2020-04-04T00:00:00\", \"2020-04-05T00:00:00\", \"2020-04-06T00:00:00\", \"2020-04-08T00:00:00\", \"2020-04-09T00:00:00\", \"2020-04-10T00:00:00\", \"2020-04-11T00:00:00\", \"2020-04-12T00:00:00\", \"2020-04-13T00:00:00\", \"2020-04-14T00:00:00\", \"2020-04-15T00:00:00\", \"2020-04-16T00:00:00\", \"2020-04-17T00:00:00\", \"2020-04-18T00:00:00\", \"2020-04-19T00:00:00\", \"2020-04-20T00:00:00\", \"2020-04-21T00:00:00\", \"2020-04-22T00:00:00\", \"2020-04-23T00:00:00\", \"2020-04-24T00:00:00\", \"2020-04-25T00:00:00\", \"2020-04-26T00:00:00\", \"2020-04-27T00:00:00\", \"2020-04-28T00:00:00\", \"2020-04-29T00:00:00\", \"2020-04-30T00:00:00\"], \"xaxis\": \"x\", \"y\": [0.0, 0.0, 0.0, 0.0, 0.0, 0.0, 0.0, 0.0, 0.0, 0.0, 0.0, 0.0, 0.0, 0.0, 0.0, 0.0, 4.0, 5.0, 5.0, 5.0, 6.0, 6.0, 8.0, 8.0, 9.0, 9.0, 9.0, 11.0, 11.0, 11.0, 15.0, 15.0, 18.0, 19.0, 19.0, 22.0, 22.0, 23.0, 24.0, 24.0, 24.0, 24.0, 25.0, 24.0, 24.0, 25.0, 25.0, 28.0, 28.0, 31.0, 29.0, 29.0, 31.0], \"yaxis\": \"y\"}, {\"customdata\": [[\"WC\"], [\"WC\"], [\"WC\"], [\"WC\"], [\"WC\"], [\"WC\"], [\"WC\"], [\"WC\"], [\"WC\"], [\"WC\"], [\"WC\"], [\"WC\"], [\"WC\"], [\"WC\"], [\"WC\"], [\"WC\"], [\"WC\"], [\"WC\"], [\"WC\"], [\"WC\"], [\"WC\"], [\"WC\"], [\"WC\"], [\"WC\"], [\"WC\"], [\"WC\"], [\"WC\"], [\"WC\"], [\"WC\"], [\"WC\"], [\"WC\"], [\"WC\"], [\"WC\"], [\"WC\"], [\"WC\"], [\"WC\"], [\"WC\"], [\"WC\"], [\"WC\"], [\"WC\"], [\"WC\"], [\"WC\"], [\"WC\"], [\"WC\"], [\"WC\"], [\"WC\"], [\"WC\"], [\"WC\"], [\"WC\"], [\"WC\"], [\"WC\"], [\"WC\"], [\"WC\"]], \"hoverinfo\": [\"all\"], \"hoverlabel\": {\"namelength\": 0}, \"hovertemplate\": \"%{customdata[0]}<br>%{y}\", \"legendgroup\": \"WC\", \"line\": {\"color\": \"#FF97FF\", \"dash\": \"solid\"}, \"mode\": \"lines\", \"name\": \"WC\", \"showlegend\": true, \"type\": \"scatter\", \"x\": [\"2020-03-05T00:00:00\", \"2020-03-07T00:00:00\", \"2020-03-08T00:00:00\", \"2020-03-09T00:00:00\", \"2020-03-11T00:00:00\", \"2020-03-12T00:00:00\", \"2020-03-13T00:00:00\", \"2020-03-14T00:00:00\", \"2020-03-15T00:00:00\", \"2020-03-16T00:00:00\", \"2020-03-17T00:00:00\", \"2020-03-18T00:00:00\", \"2020-03-19T00:00:00\", \"2020-03-20T00:00:00\", \"2020-03-21T00:00:00\", \"2020-03-22T00:00:00\", \"2020-03-23T00:00:00\", \"2020-03-24T00:00:00\", \"2020-03-25T00:00:00\", \"2020-03-26T00:00:00\", \"2020-03-28T00:00:00\", \"2020-03-29T00:00:00\", \"2020-03-30T00:00:00\", \"2020-03-31T00:00:00\", \"2020-04-01T00:00:00\", \"2020-04-02T00:00:00\", \"2020-04-03T00:00:00\", \"2020-04-04T00:00:00\", \"2020-04-05T00:00:00\", \"2020-04-06T00:00:00\", \"2020-04-08T00:00:00\", \"2020-04-09T00:00:00\", \"2020-04-10T00:00:00\", \"2020-04-11T00:00:00\", \"2020-04-12T00:00:00\", \"2020-04-13T00:00:00\", \"2020-04-14T00:00:00\", \"2020-04-15T00:00:00\", \"2020-04-16T00:00:00\", \"2020-04-17T00:00:00\", \"2020-04-18T00:00:00\", \"2020-04-19T00:00:00\", \"2020-04-20T00:00:00\", \"2020-04-21T00:00:00\", \"2020-04-22T00:00:00\", \"2020-04-23T00:00:00\", \"2020-04-24T00:00:00\", \"2020-04-25T00:00:00\", \"2020-04-26T00:00:00\", \"2020-04-27T00:00:00\", \"2020-04-28T00:00:00\", \"2020-04-29T00:00:00\", \"2020-04-30T00:00:00\"], \"xaxis\": \"x\", \"y\": [0.0, 0.0, 0.0, 0.0, 1.0, 1.0, 3.0, 9.0, 14.0, 16.0, 21.0, 31.0, 46.0, 57.0, 75.0, 89.0, 100.0, 113.0, 183.0, 229.0, 271.0, 310.0, 324.0, 325.0, 326.0, 353.0, 374.0, 433.0, 454.0, 462.0, 495.0, 515.0, 541.0, 546.0, 587.0, 617.0, 643.0, 657.0, 675.0, 717.0, 836.0, 868.0, 940.0, 1010.0, 1079.0, 1279.0, 1413.0, 1514.0, 1608.0, 1737.0, 1870.0, 2135.0, 2342.0], \"yaxis\": \"y\"}, {\"customdata\": [[\"UNK\"], [\"UNK\"], [\"UNK\"], [\"UNK\"], [\"UNK\"], [\"UNK\"], [\"UNK\"], [\"UNK\"], [\"UNK\"], [\"UNK\"], [\"UNK\"], [\"UNK\"], [\"UNK\"], [\"UNK\"], [\"UNK\"], [\"UNK\"], [\"UNK\"], [\"UNK\"], [\"UNK\"], [\"UNK\"], [\"UNK\"], [\"UNK\"], [\"UNK\"], [\"UNK\"], [\"UNK\"], [\"UNK\"], [\"UNK\"], [\"UNK\"], [\"UNK\"], [\"UNK\"], [\"UNK\"], [\"UNK\"], [\"UNK\"], [\"UNK\"], [\"UNK\"], [\"UNK\"], [\"UNK\"], [\"UNK\"], [\"UNK\"], [\"UNK\"], [\"UNK\"], [\"UNK\"], [\"UNK\"], [\"UNK\"], [\"UNK\"], [\"UNK\"], [\"UNK\"], [\"UNK\"], [\"UNK\"], [\"UNK\"], [\"UNK\"], [\"UNK\"], [\"UNK\"]], \"hoverinfo\": [\"all\"], \"hoverlabel\": {\"namelength\": 0}, \"hovertemplate\": \"%{customdata[0]}<br>%{y}\", \"legendgroup\": \"UNK\", \"line\": {\"color\": \"#FECB52\", \"dash\": \"solid\"}, \"mode\": \"lines\", \"name\": \"UNK\", \"showlegend\": true, \"type\": \"scatter\", \"x\": [\"2020-03-05T00:00:00\", \"2020-03-07T00:00:00\", \"2020-03-08T00:00:00\", \"2020-03-09T00:00:00\", \"2020-03-11T00:00:00\", \"2020-03-12T00:00:00\", \"2020-03-13T00:00:00\", \"2020-03-14T00:00:00\", \"2020-03-15T00:00:00\", \"2020-03-16T00:00:00\", \"2020-03-17T00:00:00\", \"2020-03-18T00:00:00\", \"2020-03-19T00:00:00\", \"2020-03-20T00:00:00\", \"2020-03-21T00:00:00\", \"2020-03-22T00:00:00\", \"2020-03-23T00:00:00\", \"2020-03-24T00:00:00\", \"2020-03-25T00:00:00\", \"2020-03-26T00:00:00\", \"2020-03-28T00:00:00\", \"2020-03-29T00:00:00\", \"2020-03-30T00:00:00\", \"2020-03-31T00:00:00\", \"2020-04-01T00:00:00\", \"2020-04-02T00:00:00\", \"2020-04-03T00:00:00\", \"2020-04-04T00:00:00\", \"2020-04-05T00:00:00\", \"2020-04-06T00:00:00\", \"2020-04-08T00:00:00\", \"2020-04-09T00:00:00\", \"2020-04-10T00:00:00\", \"2020-04-11T00:00:00\", \"2020-04-12T00:00:00\", \"2020-04-13T00:00:00\", \"2020-04-14T00:00:00\", \"2020-04-15T00:00:00\", \"2020-04-16T00:00:00\", \"2020-04-17T00:00:00\", \"2020-04-18T00:00:00\", \"2020-04-19T00:00:00\", \"2020-04-20T00:00:00\", \"2020-04-21T00:00:00\", \"2020-04-22T00:00:00\", \"2020-04-23T00:00:00\", \"2020-04-24T00:00:00\", \"2020-04-25T00:00:00\", \"2020-04-26T00:00:00\", \"2020-04-27T00:00:00\", \"2020-04-28T00:00:00\", \"2020-04-29T00:00:00\", \"2020-04-30T00:00:00\"], \"xaxis\": \"x\", \"y\": [0.0, 0.0, 0.0, 0.0, 0.0, 0.0, 0.0, 0.0, 0.0, 0.0, 0.0, 0.0, 0.0, 0.0, 0.0, 0.0, 1.0, 19.0, 65.0, 79.0, 117.0, 100.0, 96.0, 90.0, 90.0, 94.0, 94.0, 63.0, 77.0, 77.0, 11.0, 11.0, 10.0, 10.0, 15.0, 17.0, 18.0, 18.0, 16.0, 22.0, 32.0, 42.0, 43.0, 43.0, 1.0, 1.0, 0.0, 0.0, 0.0, 0.0, 0.0, 0.0, 0.0], \"yaxis\": \"y\"}],\n",
       "                        {\"hovermode\": \"x\", \"legend\": {\"title\": {\"text\": \"\"}, \"tracegroupgap\": 0, \"x\": 0.01, \"y\": 0.98}, \"margin\": {\"b\": 0, \"l\": 0, \"r\": 0, \"t\": 0}, \"template\": {\"data\": {\"bar\": [{\"error_x\": {\"color\": \"#2a3f5f\"}, \"error_y\": {\"color\": \"#2a3f5f\"}, \"marker\": {\"line\": {\"color\": \"#E5ECF6\", \"width\": 0.5}}, \"type\": \"bar\"}], \"barpolar\": [{\"marker\": {\"line\": {\"color\": \"#E5ECF6\", \"width\": 0.5}}, \"type\": \"barpolar\"}], \"carpet\": [{\"aaxis\": {\"endlinecolor\": \"#2a3f5f\", \"gridcolor\": \"white\", \"linecolor\": \"white\", \"minorgridcolor\": \"white\", \"startlinecolor\": \"#2a3f5f\"}, \"baxis\": {\"endlinecolor\": \"#2a3f5f\", \"gridcolor\": \"white\", \"linecolor\": \"white\", \"minorgridcolor\": \"white\", \"startlinecolor\": \"#2a3f5f\"}, \"type\": \"carpet\"}], \"choropleth\": [{\"colorbar\": {\"outlinewidth\": 0, \"ticks\": \"\"}, \"type\": \"choropleth\"}], \"contour\": [{\"colorbar\": {\"outlinewidth\": 0, \"ticks\": \"\"}, \"colorscale\": [[0.0, \"#0d0887\"], [0.1111111111111111, \"#46039f\"], [0.2222222222222222, \"#7201a8\"], [0.3333333333333333, \"#9c179e\"], [0.4444444444444444, \"#bd3786\"], [0.5555555555555556, \"#d8576b\"], [0.6666666666666666, \"#ed7953\"], [0.7777777777777778, \"#fb9f3a\"], [0.8888888888888888, \"#fdca26\"], [1.0, \"#f0f921\"]], \"type\": \"contour\"}], \"contourcarpet\": [{\"colorbar\": {\"outlinewidth\": 0, \"ticks\": \"\"}, \"type\": \"contourcarpet\"}], \"heatmap\": [{\"colorbar\": {\"outlinewidth\": 0, \"ticks\": \"\"}, \"colorscale\": [[0.0, \"#0d0887\"], [0.1111111111111111, \"#46039f\"], [0.2222222222222222, \"#7201a8\"], [0.3333333333333333, \"#9c179e\"], [0.4444444444444444, \"#bd3786\"], [0.5555555555555556, \"#d8576b\"], [0.6666666666666666, \"#ed7953\"], [0.7777777777777778, \"#fb9f3a\"], [0.8888888888888888, \"#fdca26\"], [1.0, \"#f0f921\"]], \"type\": \"heatmap\"}], \"heatmapgl\": [{\"colorbar\": {\"outlinewidth\": 0, \"ticks\": \"\"}, \"colorscale\": [[0.0, \"#0d0887\"], [0.1111111111111111, \"#46039f\"], [0.2222222222222222, \"#7201a8\"], [0.3333333333333333, \"#9c179e\"], [0.4444444444444444, \"#bd3786\"], [0.5555555555555556, \"#d8576b\"], [0.6666666666666666, \"#ed7953\"], [0.7777777777777778, \"#fb9f3a\"], [0.8888888888888888, \"#fdca26\"], [1.0, \"#f0f921\"]], \"type\": \"heatmapgl\"}], \"histogram\": [{\"marker\": {\"colorbar\": {\"outlinewidth\": 0, \"ticks\": \"\"}}, \"type\": \"histogram\"}], \"histogram2d\": [{\"colorbar\": {\"outlinewidth\": 0, \"ticks\": \"\"}, \"colorscale\": [[0.0, \"#0d0887\"], [0.1111111111111111, \"#46039f\"], [0.2222222222222222, \"#7201a8\"], [0.3333333333333333, \"#9c179e\"], [0.4444444444444444, \"#bd3786\"], [0.5555555555555556, \"#d8576b\"], [0.6666666666666666, \"#ed7953\"], [0.7777777777777778, \"#fb9f3a\"], [0.8888888888888888, \"#fdca26\"], [1.0, \"#f0f921\"]], \"type\": \"histogram2d\"}], \"histogram2dcontour\": [{\"colorbar\": {\"outlinewidth\": 0, \"ticks\": \"\"}, \"colorscale\": [[0.0, \"#0d0887\"], [0.1111111111111111, \"#46039f\"], [0.2222222222222222, \"#7201a8\"], [0.3333333333333333, \"#9c179e\"], [0.4444444444444444, \"#bd3786\"], [0.5555555555555556, \"#d8576b\"], [0.6666666666666666, \"#ed7953\"], [0.7777777777777778, \"#fb9f3a\"], [0.8888888888888888, \"#fdca26\"], [1.0, \"#f0f921\"]], \"type\": \"histogram2dcontour\"}], \"mesh3d\": [{\"colorbar\": {\"outlinewidth\": 0, \"ticks\": \"\"}, \"type\": \"mesh3d\"}], \"parcoords\": [{\"line\": {\"colorbar\": {\"outlinewidth\": 0, \"ticks\": \"\"}}, \"type\": \"parcoords\"}], \"pie\": [{\"automargin\": true, \"type\": \"pie\"}], \"scatter\": [{\"marker\": {\"colorbar\": {\"outlinewidth\": 0, \"ticks\": \"\"}}, \"type\": \"scatter\"}], \"scatter3d\": [{\"line\": {\"colorbar\": {\"outlinewidth\": 0, \"ticks\": \"\"}}, \"marker\": {\"colorbar\": {\"outlinewidth\": 0, \"ticks\": \"\"}}, \"type\": \"scatter3d\"}], \"scattercarpet\": [{\"marker\": {\"colorbar\": {\"outlinewidth\": 0, \"ticks\": \"\"}}, \"type\": \"scattercarpet\"}], \"scattergeo\": [{\"marker\": {\"colorbar\": {\"outlinewidth\": 0, \"ticks\": \"\"}}, \"type\": \"scattergeo\"}], \"scattergl\": [{\"marker\": {\"colorbar\": {\"outlinewidth\": 0, \"ticks\": \"\"}}, \"type\": \"scattergl\"}], \"scattermapbox\": [{\"marker\": {\"colorbar\": {\"outlinewidth\": 0, \"ticks\": \"\"}}, \"type\": \"scattermapbox\"}], \"scatterpolar\": [{\"marker\": {\"colorbar\": {\"outlinewidth\": 0, \"ticks\": \"\"}}, \"type\": \"scatterpolar\"}], \"scatterpolargl\": [{\"marker\": {\"colorbar\": {\"outlinewidth\": 0, \"ticks\": \"\"}}, \"type\": \"scatterpolargl\"}], \"scatterternary\": [{\"marker\": {\"colorbar\": {\"outlinewidth\": 0, \"ticks\": \"\"}}, \"type\": \"scatterternary\"}], \"surface\": [{\"colorbar\": {\"outlinewidth\": 0, \"ticks\": \"\"}, \"colorscale\": [[0.0, \"#0d0887\"], [0.1111111111111111, \"#46039f\"], [0.2222222222222222, \"#7201a8\"], [0.3333333333333333, \"#9c179e\"], [0.4444444444444444, \"#bd3786\"], [0.5555555555555556, \"#d8576b\"], [0.6666666666666666, \"#ed7953\"], [0.7777777777777778, \"#fb9f3a\"], [0.8888888888888888, \"#fdca26\"], [1.0, \"#f0f921\"]], \"type\": \"surface\"}], \"table\": [{\"cells\": {\"fill\": {\"color\": \"#EBF0F8\"}, \"line\": {\"color\": \"white\"}}, \"header\": {\"fill\": {\"color\": \"#C8D4E3\"}, \"line\": {\"color\": \"white\"}}, \"type\": \"table\"}]}, \"layout\": {\"annotationdefaults\": {\"arrowcolor\": \"#2a3f5f\", \"arrowhead\": 0, \"arrowwidth\": 1}, \"coloraxis\": {\"colorbar\": {\"outlinewidth\": 0, \"ticks\": \"\"}}, \"colorscale\": {\"diverging\": [[0, \"#8e0152\"], [0.1, \"#c51b7d\"], [0.2, \"#de77ae\"], [0.3, \"#f1b6da\"], [0.4, \"#fde0ef\"], [0.5, \"#f7f7f7\"], [0.6, \"#e6f5d0\"], [0.7, \"#b8e186\"], [0.8, \"#7fbc41\"], [0.9, \"#4d9221\"], [1, \"#276419\"]], \"sequential\": [[0.0, \"#0d0887\"], [0.1111111111111111, \"#46039f\"], [0.2222222222222222, \"#7201a8\"], [0.3333333333333333, \"#9c179e\"], [0.4444444444444444, \"#bd3786\"], [0.5555555555555556, \"#d8576b\"], [0.6666666666666666, \"#ed7953\"], [0.7777777777777778, \"#fb9f3a\"], [0.8888888888888888, \"#fdca26\"], [1.0, \"#f0f921\"]], \"sequentialminus\": [[0.0, \"#0d0887\"], [0.1111111111111111, \"#46039f\"], [0.2222222222222222, \"#7201a8\"], [0.3333333333333333, \"#9c179e\"], [0.4444444444444444, \"#bd3786\"], [0.5555555555555556, \"#d8576b\"], [0.6666666666666666, \"#ed7953\"], [0.7777777777777778, \"#fb9f3a\"], [0.8888888888888888, \"#fdca26\"], [1.0, \"#f0f921\"]]}, \"colorway\": [\"#636efa\", \"#EF553B\", \"#00cc96\", \"#ab63fa\", \"#FFA15A\", \"#19d3f3\", \"#FF6692\", \"#B6E880\", \"#FF97FF\", \"#FECB52\"], \"font\": {\"color\": \"#2a3f5f\"}, \"geo\": {\"bgcolor\": \"white\", \"lakecolor\": \"white\", \"landcolor\": \"#E5ECF6\", \"showlakes\": true, \"showland\": true, \"subunitcolor\": \"white\"}, \"hoverlabel\": {\"align\": \"left\"}, \"hovermode\": \"closest\", \"mapbox\": {\"style\": \"light\"}, \"paper_bgcolor\": \"white\", \"plot_bgcolor\": \"#E5ECF6\", \"polar\": {\"angularaxis\": {\"gridcolor\": \"white\", \"linecolor\": \"white\", \"ticks\": \"\"}, \"bgcolor\": \"#E5ECF6\", \"radialaxis\": {\"gridcolor\": \"white\", \"linecolor\": \"white\", \"ticks\": \"\"}}, \"scene\": {\"xaxis\": {\"backgroundcolor\": \"#E5ECF6\", \"gridcolor\": \"white\", \"gridwidth\": 2, \"linecolor\": \"white\", \"showbackground\": true, \"ticks\": \"\", \"zerolinecolor\": \"white\"}, \"yaxis\": {\"backgroundcolor\": \"#E5ECF6\", \"gridcolor\": \"white\", \"gridwidth\": 2, \"linecolor\": \"white\", \"showbackground\": true, \"ticks\": \"\", \"zerolinecolor\": \"white\"}, \"zaxis\": {\"backgroundcolor\": \"#E5ECF6\", \"gridcolor\": \"white\", \"gridwidth\": 2, \"linecolor\": \"white\", \"showbackground\": true, \"ticks\": \"\", \"zerolinecolor\": \"white\"}}, \"shapedefaults\": {\"line\": {\"color\": \"#2a3f5f\"}}, \"ternary\": {\"aaxis\": {\"gridcolor\": \"white\", \"linecolor\": \"white\", \"ticks\": \"\"}, \"baxis\": {\"gridcolor\": \"white\", \"linecolor\": \"white\", \"ticks\": \"\"}, \"bgcolor\": \"#E5ECF6\", \"caxis\": {\"gridcolor\": \"white\", \"linecolor\": \"white\", \"ticks\": \"\"}}, \"title\": {\"x\": 0.05}, \"xaxis\": {\"automargin\": true, \"gridcolor\": \"white\", \"linecolor\": \"white\", \"ticks\": \"\", \"title\": {\"standoff\": 15}, \"zerolinecolor\": \"white\", \"zerolinewidth\": 2}, \"yaxis\": {\"automargin\": true, \"gridcolor\": \"white\", \"linecolor\": \"white\", \"ticks\": \"\", \"title\": {\"standoff\": 15}, \"zerolinecolor\": \"white\", \"zerolinewidth\": 2}}}, \"title\": {\"text\": \"\"}, \"xaxis\": {\"anchor\": \"y\", \"domain\": [0.0, 1.0], \"fixedrange\": true, \"title\": {\"text\": \"Date\"}}, \"yaxis\": {\"anchor\": \"x\", \"domain\": [0.0, 1.0], \"fixedrange\": true, \"title\": {\"text\": \"Cumulative No of Positive Cases\"}}},\n",
       "                        {\"displayModeBar\": false, \"responsive\": true}\n",
       "                    ).then(function(){\n",
       "                            \n",
       "var gd = document.getElementById('603702d6-8812-4080-b86d-9ab80f9edc9c');\n",
       "var x = new MutationObserver(function (mutations, observer) {{\n",
       "        var display = window.getComputedStyle(gd).display;\n",
       "        if (!display || display === 'none') {{\n",
       "            console.log([gd, 'removed!']);\n",
       "            Plotly.purge(gd);\n",
       "            observer.disconnect();\n",
       "        }}\n",
       "}});\n",
       "\n",
       "// Listen for the removal of the full notebook cells\n",
       "var notebookContainer = gd.closest('#notebook-container');\n",
       "if (notebookContainer) {{\n",
       "    x.observe(notebookContainer, {childList: true});\n",
       "}}\n",
       "\n",
       "// Listen for the clearing of the current output cell\n",
       "var outputEl = gd.closest('.output');\n",
       "if (outputEl) {{\n",
       "    x.observe(outputEl, {childList: true});\n",
       "}}\n",
       "\n",
       "                        })\n",
       "                };\n",
       "                });\n",
       "            </script>\n",
       "        </div>"
      ]
     },
     "metadata": {},
     "output_type": "display_data"
    }
   ],
   "source": [
    "fig_cum_prov_cases = px.line(prov_cumulative, x='date', y='cumulative_cases', color='province',\n",
    "                         hover_data=['province'])\n",
    "\n",
    "fig_cum_prov_cases.update_layout(\n",
    "    title=\"\",\n",
    "    xaxis_title=\"Date\",\n",
    "    yaxis_title=\"Cumulative No of Positive Cases\",\n",
    "    hovermode= 'x',\n",
    "    legend=dict(x=0.01, y=.98, title=dict(text=\"\")),\n",
    "    xaxis=dict(fixedrange=True),\n",
    "    yaxis=dict(fixedrange=True),\n",
    "    margin=empty_margin_dict,\n",
    "\n",
    ")\n",
    "\n",
    "for d in fig_cum_prov_cases.data:\n",
    "    d.hoverinfo = 'all',\n",
    "    d.hovertemplate = '%{customdata[0]}<br>%{y}'\n",
    "    d.hoverlabel.namelength = 0\n",
    "#     d.name = d.name[9:]\n",
    "    \n",
    "fig_cum_prov_cases.show(config = dict(displayModeBar=False))"
   ]
  },
  {
   "cell_type": "markdown",
   "metadata": {},
   "source": [
    "**Save to csv**"
   ]
  },
  {
   "cell_type": "code",
   "execution_count": 137,
   "metadata": {},
   "outputs": [],
   "source": [
    "pio.write_html(fig_cum_prov_cases, file='date_vs_cases_per_province.html',\n",
    "               config = dict(displayModeBar=False), auto_open=True)"
   ]
  },
  {
   "cell_type": "markdown",
   "metadata": {},
   "source": [
    "### Recoveries"
   ]
  },
  {
   "cell_type": "code",
   "execution_count": 138,
   "metadata": {},
   "outputs": [
    {
     "data": {
      "text/html": [
       "<div>\n",
       "<style scoped>\n",
       "    .dataframe tbody tr th:only-of-type {\n",
       "        vertical-align: middle;\n",
       "    }\n",
       "\n",
       "    .dataframe tbody tr th {\n",
       "        vertical-align: top;\n",
       "    }\n",
       "\n",
       "    .dataframe thead th {\n",
       "        text-align: right;\n",
       "    }\n",
       "</style>\n",
       "<table border=\"1\" class=\"dataframe\">\n",
       "  <thead>\n",
       "    <tr style=\"text-align: right;\">\n",
       "      <th></th>\n",
       "      <th>date</th>\n",
       "      <th>cum_recovered</th>\n",
       "    </tr>\n",
       "  </thead>\n",
       "  <tbody>\n",
       "    <tr>\n",
       "      <th>35</th>\n",
       "      <td>2020-04-26</td>\n",
       "      <td>1473</td>\n",
       "    </tr>\n",
       "    <tr>\n",
       "      <th>36</th>\n",
       "      <td>2020-04-27</td>\n",
       "      <td>1473</td>\n",
       "    </tr>\n",
       "    <tr>\n",
       "      <th>37</th>\n",
       "      <td>2020-04-28</td>\n",
       "      <td>2073</td>\n",
       "    </tr>\n",
       "    <tr>\n",
       "      <th>38</th>\n",
       "      <td>2020-04-29</td>\n",
       "      <td>2073</td>\n",
       "    </tr>\n",
       "    <tr>\n",
       "      <th>39</th>\n",
       "      <td>2020-04-30</td>\n",
       "      <td>2073</td>\n",
       "    </tr>\n",
       "  </tbody>\n",
       "</table>\n",
       "</div>"
      ],
      "text/plain": [
       "         date  cum_recovered\n",
       "35 2020-04-26           1473\n",
       "36 2020-04-27           1473\n",
       "37 2020-04-28           2073\n",
       "38 2020-04-29           2073\n",
       "39 2020-04-30           2073"
      ]
     },
     "execution_count": 138,
     "metadata": {},
     "output_type": "execute_result"
    }
   ],
   "source": [
    "cum_recovered = pd.read_csv('data/recovered_data.csv', usecols = ['date','cum_recovered'])\n",
    "cum_recovered['date'] = pd.to_datetime(cum_recovered['date'], format='%Y/%m/%d')\n",
    "cum_recovered.tail()"
   ]
  },
  {
   "cell_type": "code",
   "execution_count": 139,
   "metadata": {},
   "outputs": [
    {
     "data": {
      "application/vnd.plotly.v1+json": {
       "config": {
        "displayModeBar": false,
        "plotlyServerURL": "https://plot.ly"
       },
       "data": [
        {
         "hoverlabel": {
          "namelength": 0
         },
         "hovertemplate": "%{y}",
         "legendgroup": "",
         "line": {
          "color": "green",
          "dash": "solid"
         },
         "mode": "lines",
         "name": "Recovered",
         "showlegend": true,
         "type": "scatter",
         "x": [
          "2020-03-22T00:00:00",
          "2020-03-23T00:00:00",
          "2020-03-24T00:00:00",
          "2020-03-25T00:00:00",
          "2020-03-26T00:00:00",
          "2020-03-27T00:00:00",
          "2020-03-28T00:00:00",
          "2020-03-29T00:00:00",
          "2020-03-30T00:00:00",
          "2020-03-31T00:00:00",
          "2020-04-01T00:00:00",
          "2020-04-02T00:00:00",
          "2020-04-03T00:00:00",
          "2020-04-04T00:00:00",
          "2020-04-05T00:00:00",
          "2020-04-06T00:00:00",
          "2020-04-07T00:00:00",
          "2020-04-08T00:00:00",
          "2020-04-09T00:00:00",
          "2020-04-10T00:00:00",
          "2020-04-11T00:00:00",
          "2020-04-12T00:00:00",
          "2020-04-13T00:00:00",
          "2020-04-14T00:00:00",
          "2020-04-15T00:00:00",
          "2020-04-16T00:00:00",
          "2020-04-17T00:00:00",
          "2020-04-18T00:00:00",
          "2020-04-19T00:00:00",
          "2020-04-20T00:00:00",
          "2020-04-21T00:00:00",
          "2020-04-22T00:00:00",
          "2020-04-23T00:00:00",
          "2020-04-24T00:00:00",
          "2020-04-25T00:00:00",
          "2020-04-26T00:00:00",
          "2020-04-27T00:00:00",
          "2020-04-28T00:00:00",
          "2020-04-29T00:00:00",
          "2020-04-30T00:00:00"
         ],
         "xaxis": "x",
         "y": [
          1,
          1,
          2,
          4,
          4,
          31,
          31,
          31,
          31,
          31,
          31,
          45,
          45,
          45,
          45,
          45,
          45,
          45,
          45,
          410,
          410,
          410,
          410,
          410,
          410,
          903,
          903,
          903,
          903,
          1055,
          1055,
          1055,
          1437,
          1437,
          1437,
          1473,
          1473,
          2073,
          2073,
          2073
         ],
         "yaxis": "y"
        }
       ],
       "layout": {
        "hovermode": "x",
        "legend": {
         "tracegroupgap": 0,
         "x": 0.01,
         "y": 0.98
        },
        "margin": {
         "b": 0,
         "l": 0,
         "r": 0,
         "t": 0
        },
        "template": {
         "data": {
          "bar": [
           {
            "error_x": {
             "color": "#2a3f5f"
            },
            "error_y": {
             "color": "#2a3f5f"
            },
            "marker": {
             "line": {
              "color": "#E5ECF6",
              "width": 0.5
             }
            },
            "type": "bar"
           }
          ],
          "barpolar": [
           {
            "marker": {
             "line": {
              "color": "#E5ECF6",
              "width": 0.5
             }
            },
            "type": "barpolar"
           }
          ],
          "carpet": [
           {
            "aaxis": {
             "endlinecolor": "#2a3f5f",
             "gridcolor": "white",
             "linecolor": "white",
             "minorgridcolor": "white",
             "startlinecolor": "#2a3f5f"
            },
            "baxis": {
             "endlinecolor": "#2a3f5f",
             "gridcolor": "white",
             "linecolor": "white",
             "minorgridcolor": "white",
             "startlinecolor": "#2a3f5f"
            },
            "type": "carpet"
           }
          ],
          "choropleth": [
           {
            "colorbar": {
             "outlinewidth": 0,
             "ticks": ""
            },
            "type": "choropleth"
           }
          ],
          "contour": [
           {
            "colorbar": {
             "outlinewidth": 0,
             "ticks": ""
            },
            "colorscale": [
             [
              0,
              "#0d0887"
             ],
             [
              0.1111111111111111,
              "#46039f"
             ],
             [
              0.2222222222222222,
              "#7201a8"
             ],
             [
              0.3333333333333333,
              "#9c179e"
             ],
             [
              0.4444444444444444,
              "#bd3786"
             ],
             [
              0.5555555555555556,
              "#d8576b"
             ],
             [
              0.6666666666666666,
              "#ed7953"
             ],
             [
              0.7777777777777778,
              "#fb9f3a"
             ],
             [
              0.8888888888888888,
              "#fdca26"
             ],
             [
              1,
              "#f0f921"
             ]
            ],
            "type": "contour"
           }
          ],
          "contourcarpet": [
           {
            "colorbar": {
             "outlinewidth": 0,
             "ticks": ""
            },
            "type": "contourcarpet"
           }
          ],
          "heatmap": [
           {
            "colorbar": {
             "outlinewidth": 0,
             "ticks": ""
            },
            "colorscale": [
             [
              0,
              "#0d0887"
             ],
             [
              0.1111111111111111,
              "#46039f"
             ],
             [
              0.2222222222222222,
              "#7201a8"
             ],
             [
              0.3333333333333333,
              "#9c179e"
             ],
             [
              0.4444444444444444,
              "#bd3786"
             ],
             [
              0.5555555555555556,
              "#d8576b"
             ],
             [
              0.6666666666666666,
              "#ed7953"
             ],
             [
              0.7777777777777778,
              "#fb9f3a"
             ],
             [
              0.8888888888888888,
              "#fdca26"
             ],
             [
              1,
              "#f0f921"
             ]
            ],
            "type": "heatmap"
           }
          ],
          "heatmapgl": [
           {
            "colorbar": {
             "outlinewidth": 0,
             "ticks": ""
            },
            "colorscale": [
             [
              0,
              "#0d0887"
             ],
             [
              0.1111111111111111,
              "#46039f"
             ],
             [
              0.2222222222222222,
              "#7201a8"
             ],
             [
              0.3333333333333333,
              "#9c179e"
             ],
             [
              0.4444444444444444,
              "#bd3786"
             ],
             [
              0.5555555555555556,
              "#d8576b"
             ],
             [
              0.6666666666666666,
              "#ed7953"
             ],
             [
              0.7777777777777778,
              "#fb9f3a"
             ],
             [
              0.8888888888888888,
              "#fdca26"
             ],
             [
              1,
              "#f0f921"
             ]
            ],
            "type": "heatmapgl"
           }
          ],
          "histogram": [
           {
            "marker": {
             "colorbar": {
              "outlinewidth": 0,
              "ticks": ""
             }
            },
            "type": "histogram"
           }
          ],
          "histogram2d": [
           {
            "colorbar": {
             "outlinewidth": 0,
             "ticks": ""
            },
            "colorscale": [
             [
              0,
              "#0d0887"
             ],
             [
              0.1111111111111111,
              "#46039f"
             ],
             [
              0.2222222222222222,
              "#7201a8"
             ],
             [
              0.3333333333333333,
              "#9c179e"
             ],
             [
              0.4444444444444444,
              "#bd3786"
             ],
             [
              0.5555555555555556,
              "#d8576b"
             ],
             [
              0.6666666666666666,
              "#ed7953"
             ],
             [
              0.7777777777777778,
              "#fb9f3a"
             ],
             [
              0.8888888888888888,
              "#fdca26"
             ],
             [
              1,
              "#f0f921"
             ]
            ],
            "type": "histogram2d"
           }
          ],
          "histogram2dcontour": [
           {
            "colorbar": {
             "outlinewidth": 0,
             "ticks": ""
            },
            "colorscale": [
             [
              0,
              "#0d0887"
             ],
             [
              0.1111111111111111,
              "#46039f"
             ],
             [
              0.2222222222222222,
              "#7201a8"
             ],
             [
              0.3333333333333333,
              "#9c179e"
             ],
             [
              0.4444444444444444,
              "#bd3786"
             ],
             [
              0.5555555555555556,
              "#d8576b"
             ],
             [
              0.6666666666666666,
              "#ed7953"
             ],
             [
              0.7777777777777778,
              "#fb9f3a"
             ],
             [
              0.8888888888888888,
              "#fdca26"
             ],
             [
              1,
              "#f0f921"
             ]
            ],
            "type": "histogram2dcontour"
           }
          ],
          "mesh3d": [
           {
            "colorbar": {
             "outlinewidth": 0,
             "ticks": ""
            },
            "type": "mesh3d"
           }
          ],
          "parcoords": [
           {
            "line": {
             "colorbar": {
              "outlinewidth": 0,
              "ticks": ""
             }
            },
            "type": "parcoords"
           }
          ],
          "pie": [
           {
            "automargin": true,
            "type": "pie"
           }
          ],
          "scatter": [
           {
            "marker": {
             "colorbar": {
              "outlinewidth": 0,
              "ticks": ""
             }
            },
            "type": "scatter"
           }
          ],
          "scatter3d": [
           {
            "line": {
             "colorbar": {
              "outlinewidth": 0,
              "ticks": ""
             }
            },
            "marker": {
             "colorbar": {
              "outlinewidth": 0,
              "ticks": ""
             }
            },
            "type": "scatter3d"
           }
          ],
          "scattercarpet": [
           {
            "marker": {
             "colorbar": {
              "outlinewidth": 0,
              "ticks": ""
             }
            },
            "type": "scattercarpet"
           }
          ],
          "scattergeo": [
           {
            "marker": {
             "colorbar": {
              "outlinewidth": 0,
              "ticks": ""
             }
            },
            "type": "scattergeo"
           }
          ],
          "scattergl": [
           {
            "marker": {
             "colorbar": {
              "outlinewidth": 0,
              "ticks": ""
             }
            },
            "type": "scattergl"
           }
          ],
          "scattermapbox": [
           {
            "marker": {
             "colorbar": {
              "outlinewidth": 0,
              "ticks": ""
             }
            },
            "type": "scattermapbox"
           }
          ],
          "scatterpolar": [
           {
            "marker": {
             "colorbar": {
              "outlinewidth": 0,
              "ticks": ""
             }
            },
            "type": "scatterpolar"
           }
          ],
          "scatterpolargl": [
           {
            "marker": {
             "colorbar": {
              "outlinewidth": 0,
              "ticks": ""
             }
            },
            "type": "scatterpolargl"
           }
          ],
          "scatterternary": [
           {
            "marker": {
             "colorbar": {
              "outlinewidth": 0,
              "ticks": ""
             }
            },
            "type": "scatterternary"
           }
          ],
          "surface": [
           {
            "colorbar": {
             "outlinewidth": 0,
             "ticks": ""
            },
            "colorscale": [
             [
              0,
              "#0d0887"
             ],
             [
              0.1111111111111111,
              "#46039f"
             ],
             [
              0.2222222222222222,
              "#7201a8"
             ],
             [
              0.3333333333333333,
              "#9c179e"
             ],
             [
              0.4444444444444444,
              "#bd3786"
             ],
             [
              0.5555555555555556,
              "#d8576b"
             ],
             [
              0.6666666666666666,
              "#ed7953"
             ],
             [
              0.7777777777777778,
              "#fb9f3a"
             ],
             [
              0.8888888888888888,
              "#fdca26"
             ],
             [
              1,
              "#f0f921"
             ]
            ],
            "type": "surface"
           }
          ],
          "table": [
           {
            "cells": {
             "fill": {
              "color": "#EBF0F8"
             },
             "line": {
              "color": "white"
             }
            },
            "header": {
             "fill": {
              "color": "#C8D4E3"
             },
             "line": {
              "color": "white"
             }
            },
            "type": "table"
           }
          ]
         },
         "layout": {
          "annotationdefaults": {
           "arrowcolor": "#2a3f5f",
           "arrowhead": 0,
           "arrowwidth": 1
          },
          "coloraxis": {
           "colorbar": {
            "outlinewidth": 0,
            "ticks": ""
           }
          },
          "colorscale": {
           "diverging": [
            [
             0,
             "#8e0152"
            ],
            [
             0.1,
             "#c51b7d"
            ],
            [
             0.2,
             "#de77ae"
            ],
            [
             0.3,
             "#f1b6da"
            ],
            [
             0.4,
             "#fde0ef"
            ],
            [
             0.5,
             "#f7f7f7"
            ],
            [
             0.6,
             "#e6f5d0"
            ],
            [
             0.7,
             "#b8e186"
            ],
            [
             0.8,
             "#7fbc41"
            ],
            [
             0.9,
             "#4d9221"
            ],
            [
             1,
             "#276419"
            ]
           ],
           "sequential": [
            [
             0,
             "#0d0887"
            ],
            [
             0.1111111111111111,
             "#46039f"
            ],
            [
             0.2222222222222222,
             "#7201a8"
            ],
            [
             0.3333333333333333,
             "#9c179e"
            ],
            [
             0.4444444444444444,
             "#bd3786"
            ],
            [
             0.5555555555555556,
             "#d8576b"
            ],
            [
             0.6666666666666666,
             "#ed7953"
            ],
            [
             0.7777777777777778,
             "#fb9f3a"
            ],
            [
             0.8888888888888888,
             "#fdca26"
            ],
            [
             1,
             "#f0f921"
            ]
           ],
           "sequentialminus": [
            [
             0,
             "#0d0887"
            ],
            [
             0.1111111111111111,
             "#46039f"
            ],
            [
             0.2222222222222222,
             "#7201a8"
            ],
            [
             0.3333333333333333,
             "#9c179e"
            ],
            [
             0.4444444444444444,
             "#bd3786"
            ],
            [
             0.5555555555555556,
             "#d8576b"
            ],
            [
             0.6666666666666666,
             "#ed7953"
            ],
            [
             0.7777777777777778,
             "#fb9f3a"
            ],
            [
             0.8888888888888888,
             "#fdca26"
            ],
            [
             1,
             "#f0f921"
            ]
           ]
          },
          "colorway": [
           "#636efa",
           "#EF553B",
           "#00cc96",
           "#ab63fa",
           "#FFA15A",
           "#19d3f3",
           "#FF6692",
           "#B6E880",
           "#FF97FF",
           "#FECB52"
          ],
          "font": {
           "color": "#2a3f5f"
          },
          "geo": {
           "bgcolor": "white",
           "lakecolor": "white",
           "landcolor": "#E5ECF6",
           "showlakes": true,
           "showland": true,
           "subunitcolor": "white"
          },
          "hoverlabel": {
           "align": "left"
          },
          "hovermode": "closest",
          "mapbox": {
           "style": "light"
          },
          "paper_bgcolor": "white",
          "plot_bgcolor": "#E5ECF6",
          "polar": {
           "angularaxis": {
            "gridcolor": "white",
            "linecolor": "white",
            "ticks": ""
           },
           "bgcolor": "#E5ECF6",
           "radialaxis": {
            "gridcolor": "white",
            "linecolor": "white",
            "ticks": ""
           }
          },
          "scene": {
           "xaxis": {
            "backgroundcolor": "#E5ECF6",
            "gridcolor": "white",
            "gridwidth": 2,
            "linecolor": "white",
            "showbackground": true,
            "ticks": "",
            "zerolinecolor": "white"
           },
           "yaxis": {
            "backgroundcolor": "#E5ECF6",
            "gridcolor": "white",
            "gridwidth": 2,
            "linecolor": "white",
            "showbackground": true,
            "ticks": "",
            "zerolinecolor": "white"
           },
           "zaxis": {
            "backgroundcolor": "#E5ECF6",
            "gridcolor": "white",
            "gridwidth": 2,
            "linecolor": "white",
            "showbackground": true,
            "ticks": "",
            "zerolinecolor": "white"
           }
          },
          "shapedefaults": {
           "line": {
            "color": "#2a3f5f"
           }
          },
          "ternary": {
           "aaxis": {
            "gridcolor": "white",
            "linecolor": "white",
            "ticks": ""
           },
           "baxis": {
            "gridcolor": "white",
            "linecolor": "white",
            "ticks": ""
           },
           "bgcolor": "#E5ECF6",
           "caxis": {
            "gridcolor": "white",
            "linecolor": "white",
            "ticks": ""
           }
          },
          "title": {
           "x": 0.05
          },
          "xaxis": {
           "automargin": true,
           "gridcolor": "white",
           "linecolor": "white",
           "ticks": "",
           "title": {
            "standoff": 15
           },
           "zerolinecolor": "white",
           "zerolinewidth": 2
          },
          "yaxis": {
           "automargin": true,
           "gridcolor": "white",
           "linecolor": "white",
           "ticks": "",
           "title": {
            "standoff": 15
           },
           "zerolinecolor": "white",
           "zerolinewidth": 2
          }
         }
        },
        "title": {
         "text": ""
        },
        "xaxis": {
         "anchor": "y",
         "domain": [
          0,
          1
         ],
         "fixedrange": true,
         "title": {
          "text": "Date"
         }
        },
        "yaxis": {
         "anchor": "x",
         "domain": [
          0,
          1
         ],
         "fixedrange": true,
         "title": {
          "text": "Cumulative No"
         }
        }
       }
      },
      "text/html": [
       "<div>\n",
       "        \n",
       "        \n",
       "            <div id=\"54ef70be-e3e7-45f3-9f5c-baf67219900d\" class=\"plotly-graph-div\" style=\"height:525px; width:100%;\"></div>\n",
       "            <script type=\"text/javascript\">\n",
       "                require([\"plotly\"], function(Plotly) {\n",
       "                    window.PLOTLYENV=window.PLOTLYENV || {};\n",
       "                    \n",
       "                if (document.getElementById(\"54ef70be-e3e7-45f3-9f5c-baf67219900d\")) {\n",
       "                    Plotly.newPlot(\n",
       "                        '54ef70be-e3e7-45f3-9f5c-baf67219900d',\n",
       "                        [{\"hoverlabel\": {\"namelength\": 0}, \"hovertemplate\": \"%{y}\", \"legendgroup\": \"\", \"line\": {\"color\": \"green\", \"dash\": \"solid\"}, \"mode\": \"lines\", \"name\": \"Recovered\", \"showlegend\": true, \"type\": \"scatter\", \"x\": [\"2020-03-22T00:00:00\", \"2020-03-23T00:00:00\", \"2020-03-24T00:00:00\", \"2020-03-25T00:00:00\", \"2020-03-26T00:00:00\", \"2020-03-27T00:00:00\", \"2020-03-28T00:00:00\", \"2020-03-29T00:00:00\", \"2020-03-30T00:00:00\", \"2020-03-31T00:00:00\", \"2020-04-01T00:00:00\", \"2020-04-02T00:00:00\", \"2020-04-03T00:00:00\", \"2020-04-04T00:00:00\", \"2020-04-05T00:00:00\", \"2020-04-06T00:00:00\", \"2020-04-07T00:00:00\", \"2020-04-08T00:00:00\", \"2020-04-09T00:00:00\", \"2020-04-10T00:00:00\", \"2020-04-11T00:00:00\", \"2020-04-12T00:00:00\", \"2020-04-13T00:00:00\", \"2020-04-14T00:00:00\", \"2020-04-15T00:00:00\", \"2020-04-16T00:00:00\", \"2020-04-17T00:00:00\", \"2020-04-18T00:00:00\", \"2020-04-19T00:00:00\", \"2020-04-20T00:00:00\", \"2020-04-21T00:00:00\", \"2020-04-22T00:00:00\", \"2020-04-23T00:00:00\", \"2020-04-24T00:00:00\", \"2020-04-25T00:00:00\", \"2020-04-26T00:00:00\", \"2020-04-27T00:00:00\", \"2020-04-28T00:00:00\", \"2020-04-29T00:00:00\", \"2020-04-30T00:00:00\"], \"xaxis\": \"x\", \"y\": [1, 1, 2, 4, 4, 31, 31, 31, 31, 31, 31, 45, 45, 45, 45, 45, 45, 45, 45, 410, 410, 410, 410, 410, 410, 903, 903, 903, 903, 1055, 1055, 1055, 1437, 1437, 1437, 1473, 1473, 2073, 2073, 2073], \"yaxis\": \"y\"}],\n",
       "                        {\"hovermode\": \"x\", \"legend\": {\"tracegroupgap\": 0, \"x\": 0.01, \"y\": 0.98}, \"margin\": {\"b\": 0, \"l\": 0, \"r\": 0, \"t\": 0}, \"template\": {\"data\": {\"bar\": [{\"error_x\": {\"color\": \"#2a3f5f\"}, \"error_y\": {\"color\": \"#2a3f5f\"}, \"marker\": {\"line\": {\"color\": \"#E5ECF6\", \"width\": 0.5}}, \"type\": \"bar\"}], \"barpolar\": [{\"marker\": {\"line\": {\"color\": \"#E5ECF6\", \"width\": 0.5}}, \"type\": \"barpolar\"}], \"carpet\": [{\"aaxis\": {\"endlinecolor\": \"#2a3f5f\", \"gridcolor\": \"white\", \"linecolor\": \"white\", \"minorgridcolor\": \"white\", \"startlinecolor\": \"#2a3f5f\"}, \"baxis\": {\"endlinecolor\": \"#2a3f5f\", \"gridcolor\": \"white\", \"linecolor\": \"white\", \"minorgridcolor\": \"white\", \"startlinecolor\": \"#2a3f5f\"}, \"type\": \"carpet\"}], \"choropleth\": [{\"colorbar\": {\"outlinewidth\": 0, \"ticks\": \"\"}, \"type\": \"choropleth\"}], \"contour\": [{\"colorbar\": {\"outlinewidth\": 0, \"ticks\": \"\"}, \"colorscale\": [[0.0, \"#0d0887\"], [0.1111111111111111, \"#46039f\"], [0.2222222222222222, \"#7201a8\"], [0.3333333333333333, \"#9c179e\"], [0.4444444444444444, \"#bd3786\"], [0.5555555555555556, \"#d8576b\"], [0.6666666666666666, \"#ed7953\"], [0.7777777777777778, \"#fb9f3a\"], [0.8888888888888888, \"#fdca26\"], [1.0, \"#f0f921\"]], \"type\": \"contour\"}], \"contourcarpet\": [{\"colorbar\": {\"outlinewidth\": 0, \"ticks\": \"\"}, \"type\": \"contourcarpet\"}], \"heatmap\": [{\"colorbar\": {\"outlinewidth\": 0, \"ticks\": \"\"}, \"colorscale\": [[0.0, \"#0d0887\"], [0.1111111111111111, \"#46039f\"], [0.2222222222222222, \"#7201a8\"], [0.3333333333333333, \"#9c179e\"], [0.4444444444444444, \"#bd3786\"], [0.5555555555555556, \"#d8576b\"], [0.6666666666666666, \"#ed7953\"], [0.7777777777777778, \"#fb9f3a\"], [0.8888888888888888, \"#fdca26\"], [1.0, \"#f0f921\"]], \"type\": \"heatmap\"}], \"heatmapgl\": [{\"colorbar\": {\"outlinewidth\": 0, \"ticks\": \"\"}, \"colorscale\": [[0.0, \"#0d0887\"], [0.1111111111111111, \"#46039f\"], [0.2222222222222222, \"#7201a8\"], [0.3333333333333333, \"#9c179e\"], [0.4444444444444444, \"#bd3786\"], [0.5555555555555556, \"#d8576b\"], [0.6666666666666666, \"#ed7953\"], [0.7777777777777778, \"#fb9f3a\"], [0.8888888888888888, \"#fdca26\"], [1.0, \"#f0f921\"]], \"type\": \"heatmapgl\"}], \"histogram\": [{\"marker\": {\"colorbar\": {\"outlinewidth\": 0, \"ticks\": \"\"}}, \"type\": \"histogram\"}], \"histogram2d\": [{\"colorbar\": {\"outlinewidth\": 0, \"ticks\": \"\"}, \"colorscale\": [[0.0, \"#0d0887\"], [0.1111111111111111, \"#46039f\"], [0.2222222222222222, \"#7201a8\"], [0.3333333333333333, \"#9c179e\"], [0.4444444444444444, \"#bd3786\"], [0.5555555555555556, \"#d8576b\"], [0.6666666666666666, \"#ed7953\"], [0.7777777777777778, \"#fb9f3a\"], [0.8888888888888888, \"#fdca26\"], [1.0, \"#f0f921\"]], \"type\": \"histogram2d\"}], \"histogram2dcontour\": [{\"colorbar\": {\"outlinewidth\": 0, \"ticks\": \"\"}, \"colorscale\": [[0.0, \"#0d0887\"], [0.1111111111111111, \"#46039f\"], [0.2222222222222222, \"#7201a8\"], [0.3333333333333333, \"#9c179e\"], [0.4444444444444444, \"#bd3786\"], [0.5555555555555556, \"#d8576b\"], [0.6666666666666666, \"#ed7953\"], [0.7777777777777778, \"#fb9f3a\"], [0.8888888888888888, \"#fdca26\"], [1.0, \"#f0f921\"]], \"type\": \"histogram2dcontour\"}], \"mesh3d\": [{\"colorbar\": {\"outlinewidth\": 0, \"ticks\": \"\"}, \"type\": \"mesh3d\"}], \"parcoords\": [{\"line\": {\"colorbar\": {\"outlinewidth\": 0, \"ticks\": \"\"}}, \"type\": \"parcoords\"}], \"pie\": [{\"automargin\": true, \"type\": \"pie\"}], \"scatter\": [{\"marker\": {\"colorbar\": {\"outlinewidth\": 0, \"ticks\": \"\"}}, \"type\": \"scatter\"}], \"scatter3d\": [{\"line\": {\"colorbar\": {\"outlinewidth\": 0, \"ticks\": \"\"}}, \"marker\": {\"colorbar\": {\"outlinewidth\": 0, \"ticks\": \"\"}}, \"type\": \"scatter3d\"}], \"scattercarpet\": [{\"marker\": {\"colorbar\": {\"outlinewidth\": 0, \"ticks\": \"\"}}, \"type\": \"scattercarpet\"}], \"scattergeo\": [{\"marker\": {\"colorbar\": {\"outlinewidth\": 0, \"ticks\": \"\"}}, \"type\": \"scattergeo\"}], \"scattergl\": [{\"marker\": {\"colorbar\": {\"outlinewidth\": 0, \"ticks\": \"\"}}, \"type\": \"scattergl\"}], \"scattermapbox\": [{\"marker\": {\"colorbar\": {\"outlinewidth\": 0, \"ticks\": \"\"}}, \"type\": \"scattermapbox\"}], \"scatterpolar\": [{\"marker\": {\"colorbar\": {\"outlinewidth\": 0, \"ticks\": \"\"}}, \"type\": \"scatterpolar\"}], \"scatterpolargl\": [{\"marker\": {\"colorbar\": {\"outlinewidth\": 0, \"ticks\": \"\"}}, \"type\": \"scatterpolargl\"}], \"scatterternary\": [{\"marker\": {\"colorbar\": {\"outlinewidth\": 0, \"ticks\": \"\"}}, \"type\": \"scatterternary\"}], \"surface\": [{\"colorbar\": {\"outlinewidth\": 0, \"ticks\": \"\"}, \"colorscale\": [[0.0, \"#0d0887\"], [0.1111111111111111, \"#46039f\"], [0.2222222222222222, \"#7201a8\"], [0.3333333333333333, \"#9c179e\"], [0.4444444444444444, \"#bd3786\"], [0.5555555555555556, \"#d8576b\"], [0.6666666666666666, \"#ed7953\"], [0.7777777777777778, \"#fb9f3a\"], [0.8888888888888888, \"#fdca26\"], [1.0, \"#f0f921\"]], \"type\": \"surface\"}], \"table\": [{\"cells\": {\"fill\": {\"color\": \"#EBF0F8\"}, \"line\": {\"color\": \"white\"}}, \"header\": {\"fill\": {\"color\": \"#C8D4E3\"}, \"line\": {\"color\": \"white\"}}, \"type\": \"table\"}]}, \"layout\": {\"annotationdefaults\": {\"arrowcolor\": \"#2a3f5f\", \"arrowhead\": 0, \"arrowwidth\": 1}, \"coloraxis\": {\"colorbar\": {\"outlinewidth\": 0, \"ticks\": \"\"}}, \"colorscale\": {\"diverging\": [[0, \"#8e0152\"], [0.1, \"#c51b7d\"], [0.2, \"#de77ae\"], [0.3, \"#f1b6da\"], [0.4, \"#fde0ef\"], [0.5, \"#f7f7f7\"], [0.6, \"#e6f5d0\"], [0.7, \"#b8e186\"], [0.8, \"#7fbc41\"], [0.9, \"#4d9221\"], [1, \"#276419\"]], \"sequential\": [[0.0, \"#0d0887\"], [0.1111111111111111, \"#46039f\"], [0.2222222222222222, \"#7201a8\"], [0.3333333333333333, \"#9c179e\"], [0.4444444444444444, \"#bd3786\"], [0.5555555555555556, \"#d8576b\"], [0.6666666666666666, \"#ed7953\"], [0.7777777777777778, \"#fb9f3a\"], [0.8888888888888888, \"#fdca26\"], [1.0, \"#f0f921\"]], \"sequentialminus\": [[0.0, \"#0d0887\"], [0.1111111111111111, \"#46039f\"], [0.2222222222222222, \"#7201a8\"], [0.3333333333333333, \"#9c179e\"], [0.4444444444444444, \"#bd3786\"], [0.5555555555555556, \"#d8576b\"], [0.6666666666666666, \"#ed7953\"], [0.7777777777777778, \"#fb9f3a\"], [0.8888888888888888, \"#fdca26\"], [1.0, \"#f0f921\"]]}, \"colorway\": [\"#636efa\", \"#EF553B\", \"#00cc96\", \"#ab63fa\", \"#FFA15A\", \"#19d3f3\", \"#FF6692\", \"#B6E880\", \"#FF97FF\", \"#FECB52\"], \"font\": {\"color\": \"#2a3f5f\"}, \"geo\": {\"bgcolor\": \"white\", \"lakecolor\": \"white\", \"landcolor\": \"#E5ECF6\", \"showlakes\": true, \"showland\": true, \"subunitcolor\": \"white\"}, \"hoverlabel\": {\"align\": \"left\"}, \"hovermode\": \"closest\", \"mapbox\": {\"style\": \"light\"}, \"paper_bgcolor\": \"white\", \"plot_bgcolor\": \"#E5ECF6\", \"polar\": {\"angularaxis\": {\"gridcolor\": \"white\", \"linecolor\": \"white\", \"ticks\": \"\"}, \"bgcolor\": \"#E5ECF6\", \"radialaxis\": {\"gridcolor\": \"white\", \"linecolor\": \"white\", \"ticks\": \"\"}}, \"scene\": {\"xaxis\": {\"backgroundcolor\": \"#E5ECF6\", \"gridcolor\": \"white\", \"gridwidth\": 2, \"linecolor\": \"white\", \"showbackground\": true, \"ticks\": \"\", \"zerolinecolor\": \"white\"}, \"yaxis\": {\"backgroundcolor\": \"#E5ECF6\", \"gridcolor\": \"white\", \"gridwidth\": 2, \"linecolor\": \"white\", \"showbackground\": true, \"ticks\": \"\", \"zerolinecolor\": \"white\"}, \"zaxis\": {\"backgroundcolor\": \"#E5ECF6\", \"gridcolor\": \"white\", \"gridwidth\": 2, \"linecolor\": \"white\", \"showbackground\": true, \"ticks\": \"\", \"zerolinecolor\": \"white\"}}, \"shapedefaults\": {\"line\": {\"color\": \"#2a3f5f\"}}, \"ternary\": {\"aaxis\": {\"gridcolor\": \"white\", \"linecolor\": \"white\", \"ticks\": \"\"}, \"baxis\": {\"gridcolor\": \"white\", \"linecolor\": \"white\", \"ticks\": \"\"}, \"bgcolor\": \"#E5ECF6\", \"caxis\": {\"gridcolor\": \"white\", \"linecolor\": \"white\", \"ticks\": \"\"}}, \"title\": {\"x\": 0.05}, \"xaxis\": {\"automargin\": true, \"gridcolor\": \"white\", \"linecolor\": \"white\", \"ticks\": \"\", \"title\": {\"standoff\": 15}, \"zerolinecolor\": \"white\", \"zerolinewidth\": 2}, \"yaxis\": {\"automargin\": true, \"gridcolor\": \"white\", \"linecolor\": \"white\", \"ticks\": \"\", \"title\": {\"standoff\": 15}, \"zerolinecolor\": \"white\", \"zerolinewidth\": 2}}}, \"title\": {\"text\": \"\"}, \"xaxis\": {\"anchor\": \"y\", \"domain\": [0.0, 1.0], \"fixedrange\": true, \"title\": {\"text\": \"Date\"}}, \"yaxis\": {\"anchor\": \"x\", \"domain\": [0.0, 1.0], \"fixedrange\": true, \"title\": {\"text\": \"Cumulative No\"}}},\n",
       "                        {\"displayModeBar\": false, \"responsive\": true}\n",
       "                    ).then(function(){\n",
       "                            \n",
       "var gd = document.getElementById('54ef70be-e3e7-45f3-9f5c-baf67219900d');\n",
       "var x = new MutationObserver(function (mutations, observer) {{\n",
       "        var display = window.getComputedStyle(gd).display;\n",
       "        if (!display || display === 'none') {{\n",
       "            console.log([gd, 'removed!']);\n",
       "            Plotly.purge(gd);\n",
       "            observer.disconnect();\n",
       "        }}\n",
       "}});\n",
       "\n",
       "// Listen for the removal of the full notebook cells\n",
       "var notebookContainer = gd.closest('#notebook-container');\n",
       "if (notebookContainer) {{\n",
       "    x.observe(notebookContainer, {childList: true});\n",
       "}}\n",
       "\n",
       "// Listen for the clearing of the current output cell\n",
       "var outputEl = gd.closest('.output');\n",
       "if (outputEl) {{\n",
       "    x.observe(outputEl, {childList: true});\n",
       "}}\n",
       "\n",
       "                        })\n",
       "                };\n",
       "                });\n",
       "            </script>\n",
       "        </div>"
      ]
     },
     "metadata": {},
     "output_type": "display_data"
    }
   ],
   "source": [
    "fig_cum_recovered = px.line(cum_recovered, x='date', y='cum_recovered')\n",
    "\n",
    "fig_cum_recovered.update_layout(\n",
    "    title=\"\",\n",
    "    xaxis_title=\"Date\",\n",
    "    yaxis_title=\"Cumulative No\",\n",
    "    hovermode= 'x',\n",
    "    legend=dict(x=0.01, y=.98),\n",
    "    xaxis=dict(fixedrange=True),\n",
    "    yaxis=dict(fixedrange=True),\n",
    "    margin=empty_margin_dict,\n",
    ")\n",
    "\n",
    "fig_cum_recovered.update_traces(mode='lines', showlegend=True, line = {'color': 'green'})\n",
    "\n",
    "fig_cum_recovered.data[0].name = \"Recovered\"\n",
    "fig_cum_recovered.data[0].hoverlabel.namelength = 0\n",
    "\n",
    "fig_cum_recovered.data[0].hovertemplate = '%{y}'\n",
    "fig_cum_recovered.show(config = dict(displayModeBar=False))"
   ]
  },
  {
   "cell_type": "markdown",
   "metadata": {},
   "source": [
    "**Save to HTML**"
   ]
  },
  {
   "cell_type": "code",
   "execution_count": 140,
   "metadata": {},
   "outputs": [],
   "source": [
    "pio.write_html(fig_cum_recovered, file='cumulative_recovered.html',\n",
    "               config = dict(displayModeBar=False), auto_open=True)"
   ]
  },
  {
   "cell_type": "markdown",
   "metadata": {},
   "source": [
    "### Deaths"
   ]
  },
  {
   "cell_type": "code",
   "execution_count": 141,
   "metadata": {},
   "outputs": [
    {
     "data": {
      "text/html": [
       "<div>\n",
       "<style scoped>\n",
       "    .dataframe tbody tr th:only-of-type {\n",
       "        vertical-align: middle;\n",
       "    }\n",
       "\n",
       "    .dataframe tbody tr th {\n",
       "        vertical-align: top;\n",
       "    }\n",
       "\n",
       "    .dataframe thead th {\n",
       "        text-align: right;\n",
       "    }\n",
       "</style>\n",
       "<table border=\"1\" class=\"dataframe\">\n",
       "  <thead>\n",
       "    <tr style=\"text-align: right;\">\n",
       "      <th></th>\n",
       "      <th>date</th>\n",
       "      <th>cum_deaths</th>\n",
       "    </tr>\n",
       "  </thead>\n",
       "  <tbody>\n",
       "    <tr>\n",
       "      <th>0</th>\n",
       "      <td>2020-03-27</td>\n",
       "      <td>1</td>\n",
       "    </tr>\n",
       "    <tr>\n",
       "      <th>1</th>\n",
       "      <td>2020-03-28</td>\n",
       "      <td>2</td>\n",
       "    </tr>\n",
       "    <tr>\n",
       "      <th>2</th>\n",
       "      <td>2020-03-30</td>\n",
       "      <td>3</td>\n",
       "    </tr>\n",
       "    <tr>\n",
       "      <th>3</th>\n",
       "      <td>2020-03-31</td>\n",
       "      <td>5</td>\n",
       "    </tr>\n",
       "    <tr>\n",
       "      <th>4</th>\n",
       "      <td>2020-04-03</td>\n",
       "      <td>9</td>\n",
       "    </tr>\n",
       "    <tr>\n",
       "      <th>5</th>\n",
       "      <td>2020-04-05</td>\n",
       "      <td>11</td>\n",
       "    </tr>\n",
       "    <tr>\n",
       "      <th>6</th>\n",
       "      <td>2020-04-06</td>\n",
       "      <td>12</td>\n",
       "    </tr>\n",
       "    <tr>\n",
       "      <th>7</th>\n",
       "      <td>2020-04-07</td>\n",
       "      <td>13</td>\n",
       "    </tr>\n",
       "    <tr>\n",
       "      <th>8</th>\n",
       "      <td>2020-04-08</td>\n",
       "      <td>18</td>\n",
       "    </tr>\n",
       "    <tr>\n",
       "      <th>9</th>\n",
       "      <td>2020-04-09</td>\n",
       "      <td>18</td>\n",
       "    </tr>\n",
       "    <tr>\n",
       "      <th>10</th>\n",
       "      <td>2020-04-10</td>\n",
       "      <td>24</td>\n",
       "    </tr>\n",
       "    <tr>\n",
       "      <th>11</th>\n",
       "      <td>2020-04-11</td>\n",
       "      <td>25</td>\n",
       "    </tr>\n",
       "    <tr>\n",
       "      <th>12</th>\n",
       "      <td>2020-04-12</td>\n",
       "      <td>25</td>\n",
       "    </tr>\n",
       "    <tr>\n",
       "      <th>13</th>\n",
       "      <td>2020-04-13</td>\n",
       "      <td>27</td>\n",
       "    </tr>\n",
       "    <tr>\n",
       "      <th>14</th>\n",
       "      <td>2020-04-14</td>\n",
       "      <td>27</td>\n",
       "    </tr>\n",
       "    <tr>\n",
       "      <th>15</th>\n",
       "      <td>2020-04-15</td>\n",
       "      <td>34</td>\n",
       "    </tr>\n",
       "    <tr>\n",
       "      <th>16</th>\n",
       "      <td>2020-04-16</td>\n",
       "      <td>48</td>\n",
       "    </tr>\n",
       "    <tr>\n",
       "      <th>17</th>\n",
       "      <td>2020-04-17</td>\n",
       "      <td>50</td>\n",
       "    </tr>\n",
       "    <tr>\n",
       "      <th>18</th>\n",
       "      <td>2020-04-18</td>\n",
       "      <td>52</td>\n",
       "    </tr>\n",
       "    <tr>\n",
       "      <th>19</th>\n",
       "      <td>2020-04-19</td>\n",
       "      <td>54</td>\n",
       "    </tr>\n",
       "    <tr>\n",
       "      <th>20</th>\n",
       "      <td>2020-04-20</td>\n",
       "      <td>58</td>\n",
       "    </tr>\n",
       "    <tr>\n",
       "      <th>21</th>\n",
       "      <td>2020-04-21</td>\n",
       "      <td>58</td>\n",
       "    </tr>\n",
       "    <tr>\n",
       "      <th>22</th>\n",
       "      <td>2020-04-22</td>\n",
       "      <td>65</td>\n",
       "    </tr>\n",
       "    <tr>\n",
       "      <th>23</th>\n",
       "      <td>2020-04-23</td>\n",
       "      <td>75</td>\n",
       "    </tr>\n",
       "    <tr>\n",
       "      <th>24</th>\n",
       "      <td>2020-04-24</td>\n",
       "      <td>79</td>\n",
       "    </tr>\n",
       "    <tr>\n",
       "      <th>25</th>\n",
       "      <td>2020-04-25</td>\n",
       "      <td>86</td>\n",
       "    </tr>\n",
       "    <tr>\n",
       "      <th>26</th>\n",
       "      <td>2020-04-26</td>\n",
       "      <td>87</td>\n",
       "    </tr>\n",
       "    <tr>\n",
       "      <th>27</th>\n",
       "      <td>2020-04-27</td>\n",
       "      <td>90</td>\n",
       "    </tr>\n",
       "    <tr>\n",
       "      <th>28</th>\n",
       "      <td>2020-04-28</td>\n",
       "      <td>93</td>\n",
       "    </tr>\n",
       "    <tr>\n",
       "      <th>29</th>\n",
       "      <td>2020-04-29</td>\n",
       "      <td>103</td>\n",
       "    </tr>\n",
       "    <tr>\n",
       "      <th>30</th>\n",
       "      <td>2020-04-30</td>\n",
       "      <td>103</td>\n",
       "    </tr>\n",
       "  </tbody>\n",
       "</table>\n",
       "</div>"
      ],
      "text/plain": [
       "         date  cum_deaths\n",
       "0  2020-03-27           1\n",
       "1  2020-03-28           2\n",
       "2  2020-03-30           3\n",
       "3  2020-03-31           5\n",
       "4  2020-04-03           9\n",
       "5  2020-04-05          11\n",
       "6  2020-04-06          12\n",
       "7  2020-04-07          13\n",
       "8  2020-04-08          18\n",
       "9  2020-04-09          18\n",
       "10 2020-04-10          24\n",
       "11 2020-04-11          25\n",
       "12 2020-04-12          25\n",
       "13 2020-04-13          27\n",
       "14 2020-04-14          27\n",
       "15 2020-04-15          34\n",
       "16 2020-04-16          48\n",
       "17 2020-04-17          50\n",
       "18 2020-04-18          52\n",
       "19 2020-04-19          54\n",
       "20 2020-04-20          58\n",
       "21 2020-04-21          58\n",
       "22 2020-04-22          65\n",
       "23 2020-04-23          75\n",
       "24 2020-04-24          79\n",
       "25 2020-04-25          86\n",
       "26 2020-04-26          87\n",
       "27 2020-04-27          90\n",
       "28 2020-04-28          93\n",
       "29 2020-04-29         103\n",
       "30 2020-04-30         103"
      ]
     },
     "execution_count": 141,
     "metadata": {},
     "output_type": "execute_result"
    }
   ],
   "source": [
    "cum_deaths = pd.read_csv('data/daily_cum_deaths.csv', usecols=['date', 'cum_deaths'])\n",
    "cum_deaths['date'] = pd.to_datetime(cum_deaths['date'], format='%Y/%m/%d')\n",
    "cum_deaths"
   ]
  },
  {
   "cell_type": "code",
   "execution_count": 142,
   "metadata": {},
   "outputs": [
    {
     "data": {
      "application/vnd.plotly.v1+json": {
       "config": {
        "displayModeBar": false,
        "plotlyServerURL": "https://plot.ly"
       },
       "data": [
        {
         "hoverlabel": {
          "namelength": 0
         },
         "hovertemplate": "%{y}",
         "legendgroup": "",
         "line": {
          "color": "black",
          "dash": "solid"
         },
         "mode": "lines",
         "name": "Deaths",
         "showlegend": true,
         "type": "scatter",
         "x": [
          "2020-03-27T00:00:00",
          "2020-03-28T00:00:00",
          "2020-03-30T00:00:00",
          "2020-03-31T00:00:00",
          "2020-04-03T00:00:00",
          "2020-04-05T00:00:00",
          "2020-04-06T00:00:00",
          "2020-04-07T00:00:00",
          "2020-04-08T00:00:00",
          "2020-04-09T00:00:00",
          "2020-04-10T00:00:00",
          "2020-04-11T00:00:00",
          "2020-04-12T00:00:00",
          "2020-04-13T00:00:00",
          "2020-04-14T00:00:00",
          "2020-04-15T00:00:00",
          "2020-04-16T00:00:00",
          "2020-04-17T00:00:00",
          "2020-04-18T00:00:00",
          "2020-04-19T00:00:00",
          "2020-04-20T00:00:00",
          "2020-04-21T00:00:00",
          "2020-04-22T00:00:00",
          "2020-04-23T00:00:00",
          "2020-04-24T00:00:00",
          "2020-04-25T00:00:00",
          "2020-04-26T00:00:00",
          "2020-04-27T00:00:00",
          "2020-04-28T00:00:00",
          "2020-04-29T00:00:00",
          "2020-04-30T00:00:00"
         ],
         "xaxis": "x",
         "y": [
          1,
          2,
          3,
          5,
          9,
          11,
          12,
          13,
          18,
          18,
          24,
          25,
          25,
          27,
          27,
          34,
          48,
          50,
          52,
          54,
          58,
          58,
          65,
          75,
          79,
          86,
          87,
          90,
          93,
          103,
          103
         ],
         "yaxis": "y"
        }
       ],
       "layout": {
        "annotations": [
         {
          "arrowhead": 1,
          "arrowsize": 1.5,
          "ax": 0,
          "ay": -40,
          "showarrow": true,
          "text": "First Death",
          "x": "2020-03-27T00:00:00",
          "xref": "x",
          "y": 1,
          "yref": "y",
          "yshift": 4
         }
        ],
        "hovermode": "x",
        "legend": {
         "tracegroupgap": 0,
         "x": 0.01,
         "y": 0.98
        },
        "margin": {
         "b": 0,
         "l": 0,
         "r": 0,
         "t": 0
        },
        "template": {
         "data": {
          "bar": [
           {
            "error_x": {
             "color": "#2a3f5f"
            },
            "error_y": {
             "color": "#2a3f5f"
            },
            "marker": {
             "line": {
              "color": "#E5ECF6",
              "width": 0.5
             }
            },
            "type": "bar"
           }
          ],
          "barpolar": [
           {
            "marker": {
             "line": {
              "color": "#E5ECF6",
              "width": 0.5
             }
            },
            "type": "barpolar"
           }
          ],
          "carpet": [
           {
            "aaxis": {
             "endlinecolor": "#2a3f5f",
             "gridcolor": "white",
             "linecolor": "white",
             "minorgridcolor": "white",
             "startlinecolor": "#2a3f5f"
            },
            "baxis": {
             "endlinecolor": "#2a3f5f",
             "gridcolor": "white",
             "linecolor": "white",
             "minorgridcolor": "white",
             "startlinecolor": "#2a3f5f"
            },
            "type": "carpet"
           }
          ],
          "choropleth": [
           {
            "colorbar": {
             "outlinewidth": 0,
             "ticks": ""
            },
            "type": "choropleth"
           }
          ],
          "contour": [
           {
            "colorbar": {
             "outlinewidth": 0,
             "ticks": ""
            },
            "colorscale": [
             [
              0,
              "#0d0887"
             ],
             [
              0.1111111111111111,
              "#46039f"
             ],
             [
              0.2222222222222222,
              "#7201a8"
             ],
             [
              0.3333333333333333,
              "#9c179e"
             ],
             [
              0.4444444444444444,
              "#bd3786"
             ],
             [
              0.5555555555555556,
              "#d8576b"
             ],
             [
              0.6666666666666666,
              "#ed7953"
             ],
             [
              0.7777777777777778,
              "#fb9f3a"
             ],
             [
              0.8888888888888888,
              "#fdca26"
             ],
             [
              1,
              "#f0f921"
             ]
            ],
            "type": "contour"
           }
          ],
          "contourcarpet": [
           {
            "colorbar": {
             "outlinewidth": 0,
             "ticks": ""
            },
            "type": "contourcarpet"
           }
          ],
          "heatmap": [
           {
            "colorbar": {
             "outlinewidth": 0,
             "ticks": ""
            },
            "colorscale": [
             [
              0,
              "#0d0887"
             ],
             [
              0.1111111111111111,
              "#46039f"
             ],
             [
              0.2222222222222222,
              "#7201a8"
             ],
             [
              0.3333333333333333,
              "#9c179e"
             ],
             [
              0.4444444444444444,
              "#bd3786"
             ],
             [
              0.5555555555555556,
              "#d8576b"
             ],
             [
              0.6666666666666666,
              "#ed7953"
             ],
             [
              0.7777777777777778,
              "#fb9f3a"
             ],
             [
              0.8888888888888888,
              "#fdca26"
             ],
             [
              1,
              "#f0f921"
             ]
            ],
            "type": "heatmap"
           }
          ],
          "heatmapgl": [
           {
            "colorbar": {
             "outlinewidth": 0,
             "ticks": ""
            },
            "colorscale": [
             [
              0,
              "#0d0887"
             ],
             [
              0.1111111111111111,
              "#46039f"
             ],
             [
              0.2222222222222222,
              "#7201a8"
             ],
             [
              0.3333333333333333,
              "#9c179e"
             ],
             [
              0.4444444444444444,
              "#bd3786"
             ],
             [
              0.5555555555555556,
              "#d8576b"
             ],
             [
              0.6666666666666666,
              "#ed7953"
             ],
             [
              0.7777777777777778,
              "#fb9f3a"
             ],
             [
              0.8888888888888888,
              "#fdca26"
             ],
             [
              1,
              "#f0f921"
             ]
            ],
            "type": "heatmapgl"
           }
          ],
          "histogram": [
           {
            "marker": {
             "colorbar": {
              "outlinewidth": 0,
              "ticks": ""
             }
            },
            "type": "histogram"
           }
          ],
          "histogram2d": [
           {
            "colorbar": {
             "outlinewidth": 0,
             "ticks": ""
            },
            "colorscale": [
             [
              0,
              "#0d0887"
             ],
             [
              0.1111111111111111,
              "#46039f"
             ],
             [
              0.2222222222222222,
              "#7201a8"
             ],
             [
              0.3333333333333333,
              "#9c179e"
             ],
             [
              0.4444444444444444,
              "#bd3786"
             ],
             [
              0.5555555555555556,
              "#d8576b"
             ],
             [
              0.6666666666666666,
              "#ed7953"
             ],
             [
              0.7777777777777778,
              "#fb9f3a"
             ],
             [
              0.8888888888888888,
              "#fdca26"
             ],
             [
              1,
              "#f0f921"
             ]
            ],
            "type": "histogram2d"
           }
          ],
          "histogram2dcontour": [
           {
            "colorbar": {
             "outlinewidth": 0,
             "ticks": ""
            },
            "colorscale": [
             [
              0,
              "#0d0887"
             ],
             [
              0.1111111111111111,
              "#46039f"
             ],
             [
              0.2222222222222222,
              "#7201a8"
             ],
             [
              0.3333333333333333,
              "#9c179e"
             ],
             [
              0.4444444444444444,
              "#bd3786"
             ],
             [
              0.5555555555555556,
              "#d8576b"
             ],
             [
              0.6666666666666666,
              "#ed7953"
             ],
             [
              0.7777777777777778,
              "#fb9f3a"
             ],
             [
              0.8888888888888888,
              "#fdca26"
             ],
             [
              1,
              "#f0f921"
             ]
            ],
            "type": "histogram2dcontour"
           }
          ],
          "mesh3d": [
           {
            "colorbar": {
             "outlinewidth": 0,
             "ticks": ""
            },
            "type": "mesh3d"
           }
          ],
          "parcoords": [
           {
            "line": {
             "colorbar": {
              "outlinewidth": 0,
              "ticks": ""
             }
            },
            "type": "parcoords"
           }
          ],
          "pie": [
           {
            "automargin": true,
            "type": "pie"
           }
          ],
          "scatter": [
           {
            "marker": {
             "colorbar": {
              "outlinewidth": 0,
              "ticks": ""
             }
            },
            "type": "scatter"
           }
          ],
          "scatter3d": [
           {
            "line": {
             "colorbar": {
              "outlinewidth": 0,
              "ticks": ""
             }
            },
            "marker": {
             "colorbar": {
              "outlinewidth": 0,
              "ticks": ""
             }
            },
            "type": "scatter3d"
           }
          ],
          "scattercarpet": [
           {
            "marker": {
             "colorbar": {
              "outlinewidth": 0,
              "ticks": ""
             }
            },
            "type": "scattercarpet"
           }
          ],
          "scattergeo": [
           {
            "marker": {
             "colorbar": {
              "outlinewidth": 0,
              "ticks": ""
             }
            },
            "type": "scattergeo"
           }
          ],
          "scattergl": [
           {
            "marker": {
             "colorbar": {
              "outlinewidth": 0,
              "ticks": ""
             }
            },
            "type": "scattergl"
           }
          ],
          "scattermapbox": [
           {
            "marker": {
             "colorbar": {
              "outlinewidth": 0,
              "ticks": ""
             }
            },
            "type": "scattermapbox"
           }
          ],
          "scatterpolar": [
           {
            "marker": {
             "colorbar": {
              "outlinewidth": 0,
              "ticks": ""
             }
            },
            "type": "scatterpolar"
           }
          ],
          "scatterpolargl": [
           {
            "marker": {
             "colorbar": {
              "outlinewidth": 0,
              "ticks": ""
             }
            },
            "type": "scatterpolargl"
           }
          ],
          "scatterternary": [
           {
            "marker": {
             "colorbar": {
              "outlinewidth": 0,
              "ticks": ""
             }
            },
            "type": "scatterternary"
           }
          ],
          "surface": [
           {
            "colorbar": {
             "outlinewidth": 0,
             "ticks": ""
            },
            "colorscale": [
             [
              0,
              "#0d0887"
             ],
             [
              0.1111111111111111,
              "#46039f"
             ],
             [
              0.2222222222222222,
              "#7201a8"
             ],
             [
              0.3333333333333333,
              "#9c179e"
             ],
             [
              0.4444444444444444,
              "#bd3786"
             ],
             [
              0.5555555555555556,
              "#d8576b"
             ],
             [
              0.6666666666666666,
              "#ed7953"
             ],
             [
              0.7777777777777778,
              "#fb9f3a"
             ],
             [
              0.8888888888888888,
              "#fdca26"
             ],
             [
              1,
              "#f0f921"
             ]
            ],
            "type": "surface"
           }
          ],
          "table": [
           {
            "cells": {
             "fill": {
              "color": "#EBF0F8"
             },
             "line": {
              "color": "white"
             }
            },
            "header": {
             "fill": {
              "color": "#C8D4E3"
             },
             "line": {
              "color": "white"
             }
            },
            "type": "table"
           }
          ]
         },
         "layout": {
          "annotationdefaults": {
           "arrowcolor": "#2a3f5f",
           "arrowhead": 0,
           "arrowwidth": 1
          },
          "coloraxis": {
           "colorbar": {
            "outlinewidth": 0,
            "ticks": ""
           }
          },
          "colorscale": {
           "diverging": [
            [
             0,
             "#8e0152"
            ],
            [
             0.1,
             "#c51b7d"
            ],
            [
             0.2,
             "#de77ae"
            ],
            [
             0.3,
             "#f1b6da"
            ],
            [
             0.4,
             "#fde0ef"
            ],
            [
             0.5,
             "#f7f7f7"
            ],
            [
             0.6,
             "#e6f5d0"
            ],
            [
             0.7,
             "#b8e186"
            ],
            [
             0.8,
             "#7fbc41"
            ],
            [
             0.9,
             "#4d9221"
            ],
            [
             1,
             "#276419"
            ]
           ],
           "sequential": [
            [
             0,
             "#0d0887"
            ],
            [
             0.1111111111111111,
             "#46039f"
            ],
            [
             0.2222222222222222,
             "#7201a8"
            ],
            [
             0.3333333333333333,
             "#9c179e"
            ],
            [
             0.4444444444444444,
             "#bd3786"
            ],
            [
             0.5555555555555556,
             "#d8576b"
            ],
            [
             0.6666666666666666,
             "#ed7953"
            ],
            [
             0.7777777777777778,
             "#fb9f3a"
            ],
            [
             0.8888888888888888,
             "#fdca26"
            ],
            [
             1,
             "#f0f921"
            ]
           ],
           "sequentialminus": [
            [
             0,
             "#0d0887"
            ],
            [
             0.1111111111111111,
             "#46039f"
            ],
            [
             0.2222222222222222,
             "#7201a8"
            ],
            [
             0.3333333333333333,
             "#9c179e"
            ],
            [
             0.4444444444444444,
             "#bd3786"
            ],
            [
             0.5555555555555556,
             "#d8576b"
            ],
            [
             0.6666666666666666,
             "#ed7953"
            ],
            [
             0.7777777777777778,
             "#fb9f3a"
            ],
            [
             0.8888888888888888,
             "#fdca26"
            ],
            [
             1,
             "#f0f921"
            ]
           ]
          },
          "colorway": [
           "#636efa",
           "#EF553B",
           "#00cc96",
           "#ab63fa",
           "#FFA15A",
           "#19d3f3",
           "#FF6692",
           "#B6E880",
           "#FF97FF",
           "#FECB52"
          ],
          "font": {
           "color": "#2a3f5f"
          },
          "geo": {
           "bgcolor": "white",
           "lakecolor": "white",
           "landcolor": "#E5ECF6",
           "showlakes": true,
           "showland": true,
           "subunitcolor": "white"
          },
          "hoverlabel": {
           "align": "left"
          },
          "hovermode": "closest",
          "mapbox": {
           "style": "light"
          },
          "paper_bgcolor": "white",
          "plot_bgcolor": "#E5ECF6",
          "polar": {
           "angularaxis": {
            "gridcolor": "white",
            "linecolor": "white",
            "ticks": ""
           },
           "bgcolor": "#E5ECF6",
           "radialaxis": {
            "gridcolor": "white",
            "linecolor": "white",
            "ticks": ""
           }
          },
          "scene": {
           "xaxis": {
            "backgroundcolor": "#E5ECF6",
            "gridcolor": "white",
            "gridwidth": 2,
            "linecolor": "white",
            "showbackground": true,
            "ticks": "",
            "zerolinecolor": "white"
           },
           "yaxis": {
            "backgroundcolor": "#E5ECF6",
            "gridcolor": "white",
            "gridwidth": 2,
            "linecolor": "white",
            "showbackground": true,
            "ticks": "",
            "zerolinecolor": "white"
           },
           "zaxis": {
            "backgroundcolor": "#E5ECF6",
            "gridcolor": "white",
            "gridwidth": 2,
            "linecolor": "white",
            "showbackground": true,
            "ticks": "",
            "zerolinecolor": "white"
           }
          },
          "shapedefaults": {
           "line": {
            "color": "#2a3f5f"
           }
          },
          "ternary": {
           "aaxis": {
            "gridcolor": "white",
            "linecolor": "white",
            "ticks": ""
           },
           "baxis": {
            "gridcolor": "white",
            "linecolor": "white",
            "ticks": ""
           },
           "bgcolor": "#E5ECF6",
           "caxis": {
            "gridcolor": "white",
            "linecolor": "white",
            "ticks": ""
           }
          },
          "title": {
           "x": 0.05
          },
          "xaxis": {
           "automargin": true,
           "gridcolor": "white",
           "linecolor": "white",
           "ticks": "",
           "title": {
            "standoff": 15
           },
           "zerolinecolor": "white",
           "zerolinewidth": 2
          },
          "yaxis": {
           "automargin": true,
           "gridcolor": "white",
           "linecolor": "white",
           "ticks": "",
           "title": {
            "standoff": 15
           },
           "zerolinecolor": "white",
           "zerolinewidth": 2
          }
         }
        },
        "title": {
         "text": ""
        },
        "xaxis": {
         "anchor": "y",
         "domain": [
          0,
          1
         ],
         "fixedrange": true,
         "title": {
          "text": "Date"
         }
        },
        "yaxis": {
         "anchor": "x",
         "domain": [
          0,
          1
         ],
         "fixedrange": true,
         "title": {
          "text": "Cumulative No"
         }
        }
       }
      },
      "text/html": [
       "<div>\n",
       "        \n",
       "        \n",
       "            <div id=\"52cc2cda-0b1a-4ec9-8696-bd31475cd967\" class=\"plotly-graph-div\" style=\"height:525px; width:100%;\"></div>\n",
       "            <script type=\"text/javascript\">\n",
       "                require([\"plotly\"], function(Plotly) {\n",
       "                    window.PLOTLYENV=window.PLOTLYENV || {};\n",
       "                    \n",
       "                if (document.getElementById(\"52cc2cda-0b1a-4ec9-8696-bd31475cd967\")) {\n",
       "                    Plotly.newPlot(\n",
       "                        '52cc2cda-0b1a-4ec9-8696-bd31475cd967',\n",
       "                        [{\"hoverlabel\": {\"namelength\": 0}, \"hovertemplate\": \"%{y}\", \"legendgroup\": \"\", \"line\": {\"color\": \"black\", \"dash\": \"solid\"}, \"mode\": \"lines\", \"name\": \"Deaths\", \"showlegend\": true, \"type\": \"scatter\", \"x\": [\"2020-03-27T00:00:00\", \"2020-03-28T00:00:00\", \"2020-03-30T00:00:00\", \"2020-03-31T00:00:00\", \"2020-04-03T00:00:00\", \"2020-04-05T00:00:00\", \"2020-04-06T00:00:00\", \"2020-04-07T00:00:00\", \"2020-04-08T00:00:00\", \"2020-04-09T00:00:00\", \"2020-04-10T00:00:00\", \"2020-04-11T00:00:00\", \"2020-04-12T00:00:00\", \"2020-04-13T00:00:00\", \"2020-04-14T00:00:00\", \"2020-04-15T00:00:00\", \"2020-04-16T00:00:00\", \"2020-04-17T00:00:00\", \"2020-04-18T00:00:00\", \"2020-04-19T00:00:00\", \"2020-04-20T00:00:00\", \"2020-04-21T00:00:00\", \"2020-04-22T00:00:00\", \"2020-04-23T00:00:00\", \"2020-04-24T00:00:00\", \"2020-04-25T00:00:00\", \"2020-04-26T00:00:00\", \"2020-04-27T00:00:00\", \"2020-04-28T00:00:00\", \"2020-04-29T00:00:00\", \"2020-04-30T00:00:00\"], \"xaxis\": \"x\", \"y\": [1, 2, 3, 5, 9, 11, 12, 13, 18, 18, 24, 25, 25, 27, 27, 34, 48, 50, 52, 54, 58, 58, 65, 75, 79, 86, 87, 90, 93, 103, 103], \"yaxis\": \"y\"}],\n",
       "                        {\"annotations\": [{\"arrowhead\": 1, \"arrowsize\": 1.5, \"ax\": 0, \"ay\": -40, \"showarrow\": true, \"text\": \"First Death\", \"x\": \"2020-03-27T00:00:00\", \"xref\": \"x\", \"y\": 1, \"yref\": \"y\", \"yshift\": 4}], \"hovermode\": \"x\", \"legend\": {\"tracegroupgap\": 0, \"x\": 0.01, \"y\": 0.98}, \"margin\": {\"b\": 0, \"l\": 0, \"r\": 0, \"t\": 0}, \"template\": {\"data\": {\"bar\": [{\"error_x\": {\"color\": \"#2a3f5f\"}, \"error_y\": {\"color\": \"#2a3f5f\"}, \"marker\": {\"line\": {\"color\": \"#E5ECF6\", \"width\": 0.5}}, \"type\": \"bar\"}], \"barpolar\": [{\"marker\": {\"line\": {\"color\": \"#E5ECF6\", \"width\": 0.5}}, \"type\": \"barpolar\"}], \"carpet\": [{\"aaxis\": {\"endlinecolor\": \"#2a3f5f\", \"gridcolor\": \"white\", \"linecolor\": \"white\", \"minorgridcolor\": \"white\", \"startlinecolor\": \"#2a3f5f\"}, \"baxis\": {\"endlinecolor\": \"#2a3f5f\", \"gridcolor\": \"white\", \"linecolor\": \"white\", \"minorgridcolor\": \"white\", \"startlinecolor\": \"#2a3f5f\"}, \"type\": \"carpet\"}], \"choropleth\": [{\"colorbar\": {\"outlinewidth\": 0, \"ticks\": \"\"}, \"type\": \"choropleth\"}], \"contour\": [{\"colorbar\": {\"outlinewidth\": 0, \"ticks\": \"\"}, \"colorscale\": [[0.0, \"#0d0887\"], [0.1111111111111111, \"#46039f\"], [0.2222222222222222, \"#7201a8\"], [0.3333333333333333, \"#9c179e\"], [0.4444444444444444, \"#bd3786\"], [0.5555555555555556, \"#d8576b\"], [0.6666666666666666, \"#ed7953\"], [0.7777777777777778, \"#fb9f3a\"], [0.8888888888888888, \"#fdca26\"], [1.0, \"#f0f921\"]], \"type\": \"contour\"}], \"contourcarpet\": [{\"colorbar\": {\"outlinewidth\": 0, \"ticks\": \"\"}, \"type\": \"contourcarpet\"}], \"heatmap\": [{\"colorbar\": {\"outlinewidth\": 0, \"ticks\": \"\"}, \"colorscale\": [[0.0, \"#0d0887\"], [0.1111111111111111, \"#46039f\"], [0.2222222222222222, \"#7201a8\"], [0.3333333333333333, \"#9c179e\"], [0.4444444444444444, \"#bd3786\"], [0.5555555555555556, \"#d8576b\"], [0.6666666666666666, \"#ed7953\"], [0.7777777777777778, \"#fb9f3a\"], [0.8888888888888888, \"#fdca26\"], [1.0, \"#f0f921\"]], \"type\": \"heatmap\"}], \"heatmapgl\": [{\"colorbar\": {\"outlinewidth\": 0, \"ticks\": \"\"}, \"colorscale\": [[0.0, \"#0d0887\"], [0.1111111111111111, \"#46039f\"], [0.2222222222222222, \"#7201a8\"], [0.3333333333333333, \"#9c179e\"], [0.4444444444444444, \"#bd3786\"], [0.5555555555555556, \"#d8576b\"], [0.6666666666666666, \"#ed7953\"], [0.7777777777777778, \"#fb9f3a\"], [0.8888888888888888, \"#fdca26\"], [1.0, \"#f0f921\"]], \"type\": \"heatmapgl\"}], \"histogram\": [{\"marker\": {\"colorbar\": {\"outlinewidth\": 0, \"ticks\": \"\"}}, \"type\": \"histogram\"}], \"histogram2d\": [{\"colorbar\": {\"outlinewidth\": 0, \"ticks\": \"\"}, \"colorscale\": [[0.0, \"#0d0887\"], [0.1111111111111111, \"#46039f\"], [0.2222222222222222, \"#7201a8\"], [0.3333333333333333, \"#9c179e\"], [0.4444444444444444, \"#bd3786\"], [0.5555555555555556, \"#d8576b\"], [0.6666666666666666, \"#ed7953\"], [0.7777777777777778, \"#fb9f3a\"], [0.8888888888888888, \"#fdca26\"], [1.0, \"#f0f921\"]], \"type\": \"histogram2d\"}], \"histogram2dcontour\": [{\"colorbar\": {\"outlinewidth\": 0, \"ticks\": \"\"}, \"colorscale\": [[0.0, \"#0d0887\"], [0.1111111111111111, \"#46039f\"], [0.2222222222222222, \"#7201a8\"], [0.3333333333333333, \"#9c179e\"], [0.4444444444444444, \"#bd3786\"], [0.5555555555555556, \"#d8576b\"], [0.6666666666666666, \"#ed7953\"], [0.7777777777777778, \"#fb9f3a\"], [0.8888888888888888, \"#fdca26\"], [1.0, \"#f0f921\"]], \"type\": \"histogram2dcontour\"}], \"mesh3d\": [{\"colorbar\": {\"outlinewidth\": 0, \"ticks\": \"\"}, \"type\": \"mesh3d\"}], \"parcoords\": [{\"line\": {\"colorbar\": {\"outlinewidth\": 0, \"ticks\": \"\"}}, \"type\": \"parcoords\"}], \"pie\": [{\"automargin\": true, \"type\": \"pie\"}], \"scatter\": [{\"marker\": {\"colorbar\": {\"outlinewidth\": 0, \"ticks\": \"\"}}, \"type\": \"scatter\"}], \"scatter3d\": [{\"line\": {\"colorbar\": {\"outlinewidth\": 0, \"ticks\": \"\"}}, \"marker\": {\"colorbar\": {\"outlinewidth\": 0, \"ticks\": \"\"}}, \"type\": \"scatter3d\"}], \"scattercarpet\": [{\"marker\": {\"colorbar\": {\"outlinewidth\": 0, \"ticks\": \"\"}}, \"type\": \"scattercarpet\"}], \"scattergeo\": [{\"marker\": {\"colorbar\": {\"outlinewidth\": 0, \"ticks\": \"\"}}, \"type\": \"scattergeo\"}], \"scattergl\": [{\"marker\": {\"colorbar\": {\"outlinewidth\": 0, \"ticks\": \"\"}}, \"type\": \"scattergl\"}], \"scattermapbox\": [{\"marker\": {\"colorbar\": {\"outlinewidth\": 0, \"ticks\": \"\"}}, \"type\": \"scattermapbox\"}], \"scatterpolar\": [{\"marker\": {\"colorbar\": {\"outlinewidth\": 0, \"ticks\": \"\"}}, \"type\": \"scatterpolar\"}], \"scatterpolargl\": [{\"marker\": {\"colorbar\": {\"outlinewidth\": 0, \"ticks\": \"\"}}, \"type\": \"scatterpolargl\"}], \"scatterternary\": [{\"marker\": {\"colorbar\": {\"outlinewidth\": 0, \"ticks\": \"\"}}, \"type\": \"scatterternary\"}], \"surface\": [{\"colorbar\": {\"outlinewidth\": 0, \"ticks\": \"\"}, \"colorscale\": [[0.0, \"#0d0887\"], [0.1111111111111111, \"#46039f\"], [0.2222222222222222, \"#7201a8\"], [0.3333333333333333, \"#9c179e\"], [0.4444444444444444, \"#bd3786\"], [0.5555555555555556, \"#d8576b\"], [0.6666666666666666, \"#ed7953\"], [0.7777777777777778, \"#fb9f3a\"], [0.8888888888888888, \"#fdca26\"], [1.0, \"#f0f921\"]], \"type\": \"surface\"}], \"table\": [{\"cells\": {\"fill\": {\"color\": \"#EBF0F8\"}, \"line\": {\"color\": \"white\"}}, \"header\": {\"fill\": {\"color\": \"#C8D4E3\"}, \"line\": {\"color\": \"white\"}}, \"type\": \"table\"}]}, \"layout\": {\"annotationdefaults\": {\"arrowcolor\": \"#2a3f5f\", \"arrowhead\": 0, \"arrowwidth\": 1}, \"coloraxis\": {\"colorbar\": {\"outlinewidth\": 0, \"ticks\": \"\"}}, \"colorscale\": {\"diverging\": [[0, \"#8e0152\"], [0.1, \"#c51b7d\"], [0.2, \"#de77ae\"], [0.3, \"#f1b6da\"], [0.4, \"#fde0ef\"], [0.5, \"#f7f7f7\"], [0.6, \"#e6f5d0\"], [0.7, \"#b8e186\"], [0.8, \"#7fbc41\"], [0.9, \"#4d9221\"], [1, \"#276419\"]], \"sequential\": [[0.0, \"#0d0887\"], [0.1111111111111111, \"#46039f\"], [0.2222222222222222, \"#7201a8\"], [0.3333333333333333, \"#9c179e\"], [0.4444444444444444, \"#bd3786\"], [0.5555555555555556, \"#d8576b\"], [0.6666666666666666, \"#ed7953\"], [0.7777777777777778, \"#fb9f3a\"], [0.8888888888888888, \"#fdca26\"], [1.0, \"#f0f921\"]], \"sequentialminus\": [[0.0, \"#0d0887\"], [0.1111111111111111, \"#46039f\"], [0.2222222222222222, \"#7201a8\"], [0.3333333333333333, \"#9c179e\"], [0.4444444444444444, \"#bd3786\"], [0.5555555555555556, \"#d8576b\"], [0.6666666666666666, \"#ed7953\"], [0.7777777777777778, \"#fb9f3a\"], [0.8888888888888888, \"#fdca26\"], [1.0, \"#f0f921\"]]}, \"colorway\": [\"#636efa\", \"#EF553B\", \"#00cc96\", \"#ab63fa\", \"#FFA15A\", \"#19d3f3\", \"#FF6692\", \"#B6E880\", \"#FF97FF\", \"#FECB52\"], \"font\": {\"color\": \"#2a3f5f\"}, \"geo\": {\"bgcolor\": \"white\", \"lakecolor\": \"white\", \"landcolor\": \"#E5ECF6\", \"showlakes\": true, \"showland\": true, \"subunitcolor\": \"white\"}, \"hoverlabel\": {\"align\": \"left\"}, \"hovermode\": \"closest\", \"mapbox\": {\"style\": \"light\"}, \"paper_bgcolor\": \"white\", \"plot_bgcolor\": \"#E5ECF6\", \"polar\": {\"angularaxis\": {\"gridcolor\": \"white\", \"linecolor\": \"white\", \"ticks\": \"\"}, \"bgcolor\": \"#E5ECF6\", \"radialaxis\": {\"gridcolor\": \"white\", \"linecolor\": \"white\", \"ticks\": \"\"}}, \"scene\": {\"xaxis\": {\"backgroundcolor\": \"#E5ECF6\", \"gridcolor\": \"white\", \"gridwidth\": 2, \"linecolor\": \"white\", \"showbackground\": true, \"ticks\": \"\", \"zerolinecolor\": \"white\"}, \"yaxis\": {\"backgroundcolor\": \"#E5ECF6\", \"gridcolor\": \"white\", \"gridwidth\": 2, \"linecolor\": \"white\", \"showbackground\": true, \"ticks\": \"\", \"zerolinecolor\": \"white\"}, \"zaxis\": {\"backgroundcolor\": \"#E5ECF6\", \"gridcolor\": \"white\", \"gridwidth\": 2, \"linecolor\": \"white\", \"showbackground\": true, \"ticks\": \"\", \"zerolinecolor\": \"white\"}}, \"shapedefaults\": {\"line\": {\"color\": \"#2a3f5f\"}}, \"ternary\": {\"aaxis\": {\"gridcolor\": \"white\", \"linecolor\": \"white\", \"ticks\": \"\"}, \"baxis\": {\"gridcolor\": \"white\", \"linecolor\": \"white\", \"ticks\": \"\"}, \"bgcolor\": \"#E5ECF6\", \"caxis\": {\"gridcolor\": \"white\", \"linecolor\": \"white\", \"ticks\": \"\"}}, \"title\": {\"x\": 0.05}, \"xaxis\": {\"automargin\": true, \"gridcolor\": \"white\", \"linecolor\": \"white\", \"ticks\": \"\", \"title\": {\"standoff\": 15}, \"zerolinecolor\": \"white\", \"zerolinewidth\": 2}, \"yaxis\": {\"automargin\": true, \"gridcolor\": \"white\", \"linecolor\": \"white\", \"ticks\": \"\", \"title\": {\"standoff\": 15}, \"zerolinecolor\": \"white\", \"zerolinewidth\": 2}}}, \"title\": {\"text\": \"\"}, \"xaxis\": {\"anchor\": \"y\", \"domain\": [0.0, 1.0], \"fixedrange\": true, \"title\": {\"text\": \"Date\"}}, \"yaxis\": {\"anchor\": \"x\", \"domain\": [0.0, 1.0], \"fixedrange\": true, \"title\": {\"text\": \"Cumulative No\"}}},\n",
       "                        {\"displayModeBar\": false, \"responsive\": true}\n",
       "                    ).then(function(){\n",
       "                            \n",
       "var gd = document.getElementById('52cc2cda-0b1a-4ec9-8696-bd31475cd967');\n",
       "var x = new MutationObserver(function (mutations, observer) {{\n",
       "        var display = window.getComputedStyle(gd).display;\n",
       "        if (!display || display === 'none') {{\n",
       "            console.log([gd, 'removed!']);\n",
       "            Plotly.purge(gd);\n",
       "            observer.disconnect();\n",
       "        }}\n",
       "}});\n",
       "\n",
       "// Listen for the removal of the full notebook cells\n",
       "var notebookContainer = gd.closest('#notebook-container');\n",
       "if (notebookContainer) {{\n",
       "    x.observe(notebookContainer, {childList: true});\n",
       "}}\n",
       "\n",
       "// Listen for the clearing of the current output cell\n",
       "var outputEl = gd.closest('.output');\n",
       "if (outputEl) {{\n",
       "    x.observe(outputEl, {childList: true});\n",
       "}}\n",
       "\n",
       "                        })\n",
       "                };\n",
       "                });\n",
       "            </script>\n",
       "        </div>"
      ]
     },
     "metadata": {},
     "output_type": "display_data"
    }
   ],
   "source": [
    "fig_cum_deaths = px.line(cum_deaths, x='date', y='cum_deaths')\n",
    "\n",
    "fig_cum_deaths.update_layout(\n",
    "    title=\"\",\n",
    "    xaxis_title=\"Date\",\n",
    "    yaxis_title=\"Cumulative No\",\n",
    "    hovermode= 'x',\n",
    "    legend=dict(x=0.01, y=.98),\n",
    "    xaxis=dict(fixedrange=True),\n",
    "    yaxis=dict(fixedrange=True),\n",
    "    margin=empty_margin_dict,\n",
    "    annotations=[\n",
    "        dict(\n",
    "            x=pd.to_datetime('2020-03-27', format='%Y/%m/%d'),\n",
    "            y=1,\n",
    "            xref=\"x\",\n",
    "            yref=\"y\",\n",
    "            text=\"First Death\",\n",
    "            showarrow=True,\n",
    "            arrowsize=1.5,\n",
    "            arrowhead=1,\n",
    "            yshift=4,\n",
    "            ax=0,\n",
    "            ay=-40\n",
    "        )\n",
    "    ],\n",
    ")\n",
    "\n",
    "fig_cum_deaths.update_traces(mode='lines', showlegend=True, line = {'color': 'black'})\n",
    "\n",
    "fig_cum_deaths.data[0].name = \"Deaths\"\n",
    "\n",
    "fig_cum_deaths.data[0].hoverlabel.namelength = 0\n",
    "\n",
    "fig_cum_deaths.data[0].hovertemplate = '%{y}'\n",
    "fig_cum_deaths.show(config = dict(displayModeBar=False))"
   ]
  },
  {
   "cell_type": "markdown",
   "metadata": {},
   "source": [
    "**Save to HTML**"
   ]
  },
  {
   "cell_type": "code",
   "execution_count": 143,
   "metadata": {},
   "outputs": [],
   "source": [
    "pio.write_html(fig_cum_deaths, file='cumulative_deaths.html',\n",
    "               config = dict(displayModeBar=False), auto_open=True)"
   ]
  },
  {
   "cell_type": "markdown",
   "metadata": {},
   "source": [
    "### Recovered Vs Deaths"
   ]
  },
  {
   "cell_type": "code",
   "execution_count": 144,
   "metadata": {},
   "outputs": [
    {
     "data": {
      "text/html": [
       "<div>\n",
       "<style scoped>\n",
       "    .dataframe tbody tr th:only-of-type {\n",
       "        vertical-align: middle;\n",
       "    }\n",
       "\n",
       "    .dataframe tbody tr th {\n",
       "        vertical-align: top;\n",
       "    }\n",
       "\n",
       "    .dataframe thead th {\n",
       "        text-align: right;\n",
       "    }\n",
       "</style>\n",
       "<table border=\"1\" class=\"dataframe\">\n",
       "  <thead>\n",
       "    <tr style=\"text-align: right;\">\n",
       "      <th></th>\n",
       "      <th>date</th>\n",
       "      <th>cum_deaths</th>\n",
       "      <th>cum_recovered</th>\n",
       "    </tr>\n",
       "  </thead>\n",
       "  <tbody>\n",
       "    <tr>\n",
       "      <th>0</th>\n",
       "      <td>2020-03-22</td>\n",
       "      <td>0.0</td>\n",
       "      <td>1</td>\n",
       "    </tr>\n",
       "    <tr>\n",
       "      <th>1</th>\n",
       "      <td>2020-03-23</td>\n",
       "      <td>0.0</td>\n",
       "      <td>1</td>\n",
       "    </tr>\n",
       "    <tr>\n",
       "      <th>2</th>\n",
       "      <td>2020-03-24</td>\n",
       "      <td>0.0</td>\n",
       "      <td>2</td>\n",
       "    </tr>\n",
       "    <tr>\n",
       "      <th>3</th>\n",
       "      <td>2020-03-25</td>\n",
       "      <td>0.0</td>\n",
       "      <td>4</td>\n",
       "    </tr>\n",
       "    <tr>\n",
       "      <th>4</th>\n",
       "      <td>2020-03-26</td>\n",
       "      <td>0.0</td>\n",
       "      <td>4</td>\n",
       "    </tr>\n",
       "    <tr>\n",
       "      <th>5</th>\n",
       "      <td>2020-03-27</td>\n",
       "      <td>1.0</td>\n",
       "      <td>31</td>\n",
       "    </tr>\n",
       "    <tr>\n",
       "      <th>6</th>\n",
       "      <td>2020-03-28</td>\n",
       "      <td>2.0</td>\n",
       "      <td>31</td>\n",
       "    </tr>\n",
       "    <tr>\n",
       "      <th>7</th>\n",
       "      <td>2020-03-29</td>\n",
       "      <td>2.0</td>\n",
       "      <td>31</td>\n",
       "    </tr>\n",
       "    <tr>\n",
       "      <th>8</th>\n",
       "      <td>2020-03-30</td>\n",
       "      <td>3.0</td>\n",
       "      <td>31</td>\n",
       "    </tr>\n",
       "    <tr>\n",
       "      <th>9</th>\n",
       "      <td>2020-03-31</td>\n",
       "      <td>5.0</td>\n",
       "      <td>31</td>\n",
       "    </tr>\n",
       "    <tr>\n",
       "      <th>10</th>\n",
       "      <td>2020-04-01</td>\n",
       "      <td>5.0</td>\n",
       "      <td>31</td>\n",
       "    </tr>\n",
       "    <tr>\n",
       "      <th>11</th>\n",
       "      <td>2020-04-02</td>\n",
       "      <td>5.0</td>\n",
       "      <td>45</td>\n",
       "    </tr>\n",
       "    <tr>\n",
       "      <th>12</th>\n",
       "      <td>2020-04-03</td>\n",
       "      <td>9.0</td>\n",
       "      <td>45</td>\n",
       "    </tr>\n",
       "    <tr>\n",
       "      <th>13</th>\n",
       "      <td>2020-04-04</td>\n",
       "      <td>9.0</td>\n",
       "      <td>45</td>\n",
       "    </tr>\n",
       "    <tr>\n",
       "      <th>14</th>\n",
       "      <td>2020-04-05</td>\n",
       "      <td>11.0</td>\n",
       "      <td>45</td>\n",
       "    </tr>\n",
       "    <tr>\n",
       "      <th>15</th>\n",
       "      <td>2020-04-06</td>\n",
       "      <td>12.0</td>\n",
       "      <td>45</td>\n",
       "    </tr>\n",
       "    <tr>\n",
       "      <th>16</th>\n",
       "      <td>2020-04-07</td>\n",
       "      <td>13.0</td>\n",
       "      <td>45</td>\n",
       "    </tr>\n",
       "    <tr>\n",
       "      <th>17</th>\n",
       "      <td>2020-04-08</td>\n",
       "      <td>18.0</td>\n",
       "      <td>45</td>\n",
       "    </tr>\n",
       "    <tr>\n",
       "      <th>18</th>\n",
       "      <td>2020-04-09</td>\n",
       "      <td>18.0</td>\n",
       "      <td>45</td>\n",
       "    </tr>\n",
       "    <tr>\n",
       "      <th>19</th>\n",
       "      <td>2020-04-10</td>\n",
       "      <td>24.0</td>\n",
       "      <td>410</td>\n",
       "    </tr>\n",
       "    <tr>\n",
       "      <th>20</th>\n",
       "      <td>2020-04-11</td>\n",
       "      <td>25.0</td>\n",
       "      <td>410</td>\n",
       "    </tr>\n",
       "    <tr>\n",
       "      <th>21</th>\n",
       "      <td>2020-04-12</td>\n",
       "      <td>25.0</td>\n",
       "      <td>410</td>\n",
       "    </tr>\n",
       "    <tr>\n",
       "      <th>22</th>\n",
       "      <td>2020-04-13</td>\n",
       "      <td>27.0</td>\n",
       "      <td>410</td>\n",
       "    </tr>\n",
       "    <tr>\n",
       "      <th>23</th>\n",
       "      <td>2020-04-14</td>\n",
       "      <td>27.0</td>\n",
       "      <td>410</td>\n",
       "    </tr>\n",
       "    <tr>\n",
       "      <th>24</th>\n",
       "      <td>2020-04-15</td>\n",
       "      <td>34.0</td>\n",
       "      <td>410</td>\n",
       "    </tr>\n",
       "    <tr>\n",
       "      <th>25</th>\n",
       "      <td>2020-04-16</td>\n",
       "      <td>48.0</td>\n",
       "      <td>903</td>\n",
       "    </tr>\n",
       "    <tr>\n",
       "      <th>26</th>\n",
       "      <td>2020-04-17</td>\n",
       "      <td>50.0</td>\n",
       "      <td>903</td>\n",
       "    </tr>\n",
       "    <tr>\n",
       "      <th>27</th>\n",
       "      <td>2020-04-18</td>\n",
       "      <td>52.0</td>\n",
       "      <td>903</td>\n",
       "    </tr>\n",
       "    <tr>\n",
       "      <th>28</th>\n",
       "      <td>2020-04-19</td>\n",
       "      <td>54.0</td>\n",
       "      <td>903</td>\n",
       "    </tr>\n",
       "    <tr>\n",
       "      <th>29</th>\n",
       "      <td>2020-04-20</td>\n",
       "      <td>58.0</td>\n",
       "      <td>1055</td>\n",
       "    </tr>\n",
       "    <tr>\n",
       "      <th>30</th>\n",
       "      <td>2020-04-21</td>\n",
       "      <td>58.0</td>\n",
       "      <td>1055</td>\n",
       "    </tr>\n",
       "    <tr>\n",
       "      <th>31</th>\n",
       "      <td>2020-04-22</td>\n",
       "      <td>65.0</td>\n",
       "      <td>1055</td>\n",
       "    </tr>\n",
       "    <tr>\n",
       "      <th>32</th>\n",
       "      <td>2020-04-23</td>\n",
       "      <td>75.0</td>\n",
       "      <td>1437</td>\n",
       "    </tr>\n",
       "    <tr>\n",
       "      <th>33</th>\n",
       "      <td>2020-04-24</td>\n",
       "      <td>79.0</td>\n",
       "      <td>1437</td>\n",
       "    </tr>\n",
       "    <tr>\n",
       "      <th>34</th>\n",
       "      <td>2020-04-25</td>\n",
       "      <td>86.0</td>\n",
       "      <td>1437</td>\n",
       "    </tr>\n",
       "    <tr>\n",
       "      <th>35</th>\n",
       "      <td>2020-04-26</td>\n",
       "      <td>87.0</td>\n",
       "      <td>1473</td>\n",
       "    </tr>\n",
       "    <tr>\n",
       "      <th>36</th>\n",
       "      <td>2020-04-27</td>\n",
       "      <td>90.0</td>\n",
       "      <td>1473</td>\n",
       "    </tr>\n",
       "    <tr>\n",
       "      <th>37</th>\n",
       "      <td>2020-04-28</td>\n",
       "      <td>93.0</td>\n",
       "      <td>2073</td>\n",
       "    </tr>\n",
       "    <tr>\n",
       "      <th>38</th>\n",
       "      <td>2020-04-29</td>\n",
       "      <td>103.0</td>\n",
       "      <td>2073</td>\n",
       "    </tr>\n",
       "    <tr>\n",
       "      <th>39</th>\n",
       "      <td>2020-04-30</td>\n",
       "      <td>103.0</td>\n",
       "      <td>2073</td>\n",
       "    </tr>\n",
       "  </tbody>\n",
       "</table>\n",
       "</div>"
      ],
      "text/plain": [
       "         date  cum_deaths  cum_recovered\n",
       "0  2020-03-22         0.0              1\n",
       "1  2020-03-23         0.0              1\n",
       "2  2020-03-24         0.0              2\n",
       "3  2020-03-25         0.0              4\n",
       "4  2020-03-26         0.0              4\n",
       "5  2020-03-27         1.0             31\n",
       "6  2020-03-28         2.0             31\n",
       "7  2020-03-29         2.0             31\n",
       "8  2020-03-30         3.0             31\n",
       "9  2020-03-31         5.0             31\n",
       "10 2020-04-01         5.0             31\n",
       "11 2020-04-02         5.0             45\n",
       "12 2020-04-03         9.0             45\n",
       "13 2020-04-04         9.0             45\n",
       "14 2020-04-05        11.0             45\n",
       "15 2020-04-06        12.0             45\n",
       "16 2020-04-07        13.0             45\n",
       "17 2020-04-08        18.0             45\n",
       "18 2020-04-09        18.0             45\n",
       "19 2020-04-10        24.0            410\n",
       "20 2020-04-11        25.0            410\n",
       "21 2020-04-12        25.0            410\n",
       "22 2020-04-13        27.0            410\n",
       "23 2020-04-14        27.0            410\n",
       "24 2020-04-15        34.0            410\n",
       "25 2020-04-16        48.0            903\n",
       "26 2020-04-17        50.0            903\n",
       "27 2020-04-18        52.0            903\n",
       "28 2020-04-19        54.0            903\n",
       "29 2020-04-20        58.0           1055\n",
       "30 2020-04-21        58.0           1055\n",
       "31 2020-04-22        65.0           1055\n",
       "32 2020-04-23        75.0           1437\n",
       "33 2020-04-24        79.0           1437\n",
       "34 2020-04-25        86.0           1437\n",
       "35 2020-04-26        87.0           1473\n",
       "36 2020-04-27        90.0           1473\n",
       "37 2020-04-28        93.0           2073\n",
       "38 2020-04-29       103.0           2073\n",
       "39 2020-04-30       103.0           2073"
      ]
     },
     "execution_count": 144,
     "metadata": {},
     "output_type": "execute_result"
    }
   ],
   "source": [
    "cum_deaths_recovered = pd.read_csv('data/deaths_vs_recoveries.csv')\n",
    "cum_deaths_recovered['date'] = pd.to_datetime(cum_deaths_recovered['date'], format='%Y/%m/%d')\n",
    "cum_deaths_recovered"
   ]
  },
  {
   "cell_type": "code",
   "execution_count": 145,
   "metadata": {},
   "outputs": [
    {
     "data": {
      "application/vnd.plotly.v1+json": {
       "config": {
        "displayModeBar": false,
        "plotlyServerURL": "https://plot.ly"
       },
       "data": [
        {
         "hoverlabel": {
          "namelength": 0
         },
         "hovertemplate": "%{y}",
         "legendgroup": "cum_deaths",
         "line": {
          "color": "black",
          "dash": "solid"
         },
         "mode": "lines",
         "name": "Deaths",
         "showlegend": true,
         "type": "scatter",
         "x": [
          "2020-03-22T00:00:00",
          "2020-03-23T00:00:00",
          "2020-03-24T00:00:00",
          "2020-03-25T00:00:00",
          "2020-03-26T00:00:00",
          "2020-03-27T00:00:00",
          "2020-03-28T00:00:00",
          "2020-03-29T00:00:00",
          "2020-03-30T00:00:00",
          "2020-03-31T00:00:00",
          "2020-04-01T00:00:00",
          "2020-04-02T00:00:00",
          "2020-04-03T00:00:00",
          "2020-04-04T00:00:00",
          "2020-04-05T00:00:00",
          "2020-04-06T00:00:00",
          "2020-04-07T00:00:00",
          "2020-04-08T00:00:00",
          "2020-04-09T00:00:00",
          "2020-04-10T00:00:00",
          "2020-04-11T00:00:00",
          "2020-04-12T00:00:00",
          "2020-04-13T00:00:00",
          "2020-04-14T00:00:00",
          "2020-04-15T00:00:00",
          "2020-04-16T00:00:00",
          "2020-04-17T00:00:00",
          "2020-04-18T00:00:00",
          "2020-04-19T00:00:00",
          "2020-04-20T00:00:00",
          "2020-04-21T00:00:00",
          "2020-04-22T00:00:00",
          "2020-04-23T00:00:00",
          "2020-04-24T00:00:00",
          "2020-04-25T00:00:00",
          "2020-04-26T00:00:00",
          "2020-04-27T00:00:00",
          "2020-04-28T00:00:00",
          "2020-04-29T00:00:00",
          "2020-04-30T00:00:00"
         ],
         "xaxis": "x",
         "y": [
          0,
          0,
          0,
          0,
          0,
          1,
          2,
          2,
          3,
          5,
          5,
          5,
          9,
          9,
          11,
          12,
          13,
          18,
          18,
          24,
          25,
          25,
          27,
          27,
          34,
          48,
          50,
          52,
          54,
          58,
          58,
          65,
          75,
          79,
          86,
          87,
          90,
          93,
          103,
          103
         ],
         "yaxis": "y"
        },
        {
         "hoverlabel": {
          "namelength": 0
         },
         "hovertemplate": "%{y}",
         "legendgroup": "cum_recovered",
         "line": {
          "color": "green",
          "dash": "solid"
         },
         "mode": "lines",
         "name": "Recoveries",
         "showlegend": true,
         "type": "scatter",
         "x": [
          "2020-03-22T00:00:00",
          "2020-03-23T00:00:00",
          "2020-03-24T00:00:00",
          "2020-03-25T00:00:00",
          "2020-03-26T00:00:00",
          "2020-03-27T00:00:00",
          "2020-03-28T00:00:00",
          "2020-03-29T00:00:00",
          "2020-03-30T00:00:00",
          "2020-03-31T00:00:00",
          "2020-04-01T00:00:00",
          "2020-04-02T00:00:00",
          "2020-04-03T00:00:00",
          "2020-04-04T00:00:00",
          "2020-04-05T00:00:00",
          "2020-04-06T00:00:00",
          "2020-04-07T00:00:00",
          "2020-04-08T00:00:00",
          "2020-04-09T00:00:00",
          "2020-04-10T00:00:00",
          "2020-04-11T00:00:00",
          "2020-04-12T00:00:00",
          "2020-04-13T00:00:00",
          "2020-04-14T00:00:00",
          "2020-04-15T00:00:00",
          "2020-04-16T00:00:00",
          "2020-04-17T00:00:00",
          "2020-04-18T00:00:00",
          "2020-04-19T00:00:00",
          "2020-04-20T00:00:00",
          "2020-04-21T00:00:00",
          "2020-04-22T00:00:00",
          "2020-04-23T00:00:00",
          "2020-04-24T00:00:00",
          "2020-04-25T00:00:00",
          "2020-04-26T00:00:00",
          "2020-04-27T00:00:00",
          "2020-04-28T00:00:00",
          "2020-04-29T00:00:00",
          "2020-04-30T00:00:00"
         ],
         "xaxis": "x",
         "y": [
          1,
          1,
          2,
          4,
          4,
          31,
          31,
          31,
          31,
          31,
          31,
          45,
          45,
          45,
          45,
          45,
          45,
          45,
          45,
          410,
          410,
          410,
          410,
          410,
          410,
          903,
          903,
          903,
          903,
          1055,
          1055,
          1055,
          1437,
          1437,
          1437,
          1473,
          1473,
          2073,
          2073,
          2073
         ],
         "yaxis": "y"
        }
       ],
       "layout": {
        "hovermode": "x",
        "legend": {
         "title": {
          "text": ""
         },
         "tracegroupgap": 0,
         "x": 0.01,
         "y": 0.98
        },
        "margin": {
         "b": 0,
         "l": 0,
         "r": 0,
         "t": 0
        },
        "template": {
         "data": {
          "bar": [
           {
            "error_x": {
             "color": "#2a3f5f"
            },
            "error_y": {
             "color": "#2a3f5f"
            },
            "marker": {
             "line": {
              "color": "#E5ECF6",
              "width": 0.5
             }
            },
            "type": "bar"
           }
          ],
          "barpolar": [
           {
            "marker": {
             "line": {
              "color": "#E5ECF6",
              "width": 0.5
             }
            },
            "type": "barpolar"
           }
          ],
          "carpet": [
           {
            "aaxis": {
             "endlinecolor": "#2a3f5f",
             "gridcolor": "white",
             "linecolor": "white",
             "minorgridcolor": "white",
             "startlinecolor": "#2a3f5f"
            },
            "baxis": {
             "endlinecolor": "#2a3f5f",
             "gridcolor": "white",
             "linecolor": "white",
             "minorgridcolor": "white",
             "startlinecolor": "#2a3f5f"
            },
            "type": "carpet"
           }
          ],
          "choropleth": [
           {
            "colorbar": {
             "outlinewidth": 0,
             "ticks": ""
            },
            "type": "choropleth"
           }
          ],
          "contour": [
           {
            "colorbar": {
             "outlinewidth": 0,
             "ticks": ""
            },
            "colorscale": [
             [
              0,
              "#0d0887"
             ],
             [
              0.1111111111111111,
              "#46039f"
             ],
             [
              0.2222222222222222,
              "#7201a8"
             ],
             [
              0.3333333333333333,
              "#9c179e"
             ],
             [
              0.4444444444444444,
              "#bd3786"
             ],
             [
              0.5555555555555556,
              "#d8576b"
             ],
             [
              0.6666666666666666,
              "#ed7953"
             ],
             [
              0.7777777777777778,
              "#fb9f3a"
             ],
             [
              0.8888888888888888,
              "#fdca26"
             ],
             [
              1,
              "#f0f921"
             ]
            ],
            "type": "contour"
           }
          ],
          "contourcarpet": [
           {
            "colorbar": {
             "outlinewidth": 0,
             "ticks": ""
            },
            "type": "contourcarpet"
           }
          ],
          "heatmap": [
           {
            "colorbar": {
             "outlinewidth": 0,
             "ticks": ""
            },
            "colorscale": [
             [
              0,
              "#0d0887"
             ],
             [
              0.1111111111111111,
              "#46039f"
             ],
             [
              0.2222222222222222,
              "#7201a8"
             ],
             [
              0.3333333333333333,
              "#9c179e"
             ],
             [
              0.4444444444444444,
              "#bd3786"
             ],
             [
              0.5555555555555556,
              "#d8576b"
             ],
             [
              0.6666666666666666,
              "#ed7953"
             ],
             [
              0.7777777777777778,
              "#fb9f3a"
             ],
             [
              0.8888888888888888,
              "#fdca26"
             ],
             [
              1,
              "#f0f921"
             ]
            ],
            "type": "heatmap"
           }
          ],
          "heatmapgl": [
           {
            "colorbar": {
             "outlinewidth": 0,
             "ticks": ""
            },
            "colorscale": [
             [
              0,
              "#0d0887"
             ],
             [
              0.1111111111111111,
              "#46039f"
             ],
             [
              0.2222222222222222,
              "#7201a8"
             ],
             [
              0.3333333333333333,
              "#9c179e"
             ],
             [
              0.4444444444444444,
              "#bd3786"
             ],
             [
              0.5555555555555556,
              "#d8576b"
             ],
             [
              0.6666666666666666,
              "#ed7953"
             ],
             [
              0.7777777777777778,
              "#fb9f3a"
             ],
             [
              0.8888888888888888,
              "#fdca26"
             ],
             [
              1,
              "#f0f921"
             ]
            ],
            "type": "heatmapgl"
           }
          ],
          "histogram": [
           {
            "marker": {
             "colorbar": {
              "outlinewidth": 0,
              "ticks": ""
             }
            },
            "type": "histogram"
           }
          ],
          "histogram2d": [
           {
            "colorbar": {
             "outlinewidth": 0,
             "ticks": ""
            },
            "colorscale": [
             [
              0,
              "#0d0887"
             ],
             [
              0.1111111111111111,
              "#46039f"
             ],
             [
              0.2222222222222222,
              "#7201a8"
             ],
             [
              0.3333333333333333,
              "#9c179e"
             ],
             [
              0.4444444444444444,
              "#bd3786"
             ],
             [
              0.5555555555555556,
              "#d8576b"
             ],
             [
              0.6666666666666666,
              "#ed7953"
             ],
             [
              0.7777777777777778,
              "#fb9f3a"
             ],
             [
              0.8888888888888888,
              "#fdca26"
             ],
             [
              1,
              "#f0f921"
             ]
            ],
            "type": "histogram2d"
           }
          ],
          "histogram2dcontour": [
           {
            "colorbar": {
             "outlinewidth": 0,
             "ticks": ""
            },
            "colorscale": [
             [
              0,
              "#0d0887"
             ],
             [
              0.1111111111111111,
              "#46039f"
             ],
             [
              0.2222222222222222,
              "#7201a8"
             ],
             [
              0.3333333333333333,
              "#9c179e"
             ],
             [
              0.4444444444444444,
              "#bd3786"
             ],
             [
              0.5555555555555556,
              "#d8576b"
             ],
             [
              0.6666666666666666,
              "#ed7953"
             ],
             [
              0.7777777777777778,
              "#fb9f3a"
             ],
             [
              0.8888888888888888,
              "#fdca26"
             ],
             [
              1,
              "#f0f921"
             ]
            ],
            "type": "histogram2dcontour"
           }
          ],
          "mesh3d": [
           {
            "colorbar": {
             "outlinewidth": 0,
             "ticks": ""
            },
            "type": "mesh3d"
           }
          ],
          "parcoords": [
           {
            "line": {
             "colorbar": {
              "outlinewidth": 0,
              "ticks": ""
             }
            },
            "type": "parcoords"
           }
          ],
          "pie": [
           {
            "automargin": true,
            "type": "pie"
           }
          ],
          "scatter": [
           {
            "marker": {
             "colorbar": {
              "outlinewidth": 0,
              "ticks": ""
             }
            },
            "type": "scatter"
           }
          ],
          "scatter3d": [
           {
            "line": {
             "colorbar": {
              "outlinewidth": 0,
              "ticks": ""
             }
            },
            "marker": {
             "colorbar": {
              "outlinewidth": 0,
              "ticks": ""
             }
            },
            "type": "scatter3d"
           }
          ],
          "scattercarpet": [
           {
            "marker": {
             "colorbar": {
              "outlinewidth": 0,
              "ticks": ""
             }
            },
            "type": "scattercarpet"
           }
          ],
          "scattergeo": [
           {
            "marker": {
             "colorbar": {
              "outlinewidth": 0,
              "ticks": ""
             }
            },
            "type": "scattergeo"
           }
          ],
          "scattergl": [
           {
            "marker": {
             "colorbar": {
              "outlinewidth": 0,
              "ticks": ""
             }
            },
            "type": "scattergl"
           }
          ],
          "scattermapbox": [
           {
            "marker": {
             "colorbar": {
              "outlinewidth": 0,
              "ticks": ""
             }
            },
            "type": "scattermapbox"
           }
          ],
          "scatterpolar": [
           {
            "marker": {
             "colorbar": {
              "outlinewidth": 0,
              "ticks": ""
             }
            },
            "type": "scatterpolar"
           }
          ],
          "scatterpolargl": [
           {
            "marker": {
             "colorbar": {
              "outlinewidth": 0,
              "ticks": ""
             }
            },
            "type": "scatterpolargl"
           }
          ],
          "scatterternary": [
           {
            "marker": {
             "colorbar": {
              "outlinewidth": 0,
              "ticks": ""
             }
            },
            "type": "scatterternary"
           }
          ],
          "surface": [
           {
            "colorbar": {
             "outlinewidth": 0,
             "ticks": ""
            },
            "colorscale": [
             [
              0,
              "#0d0887"
             ],
             [
              0.1111111111111111,
              "#46039f"
             ],
             [
              0.2222222222222222,
              "#7201a8"
             ],
             [
              0.3333333333333333,
              "#9c179e"
             ],
             [
              0.4444444444444444,
              "#bd3786"
             ],
             [
              0.5555555555555556,
              "#d8576b"
             ],
             [
              0.6666666666666666,
              "#ed7953"
             ],
             [
              0.7777777777777778,
              "#fb9f3a"
             ],
             [
              0.8888888888888888,
              "#fdca26"
             ],
             [
              1,
              "#f0f921"
             ]
            ],
            "type": "surface"
           }
          ],
          "table": [
           {
            "cells": {
             "fill": {
              "color": "#EBF0F8"
             },
             "line": {
              "color": "white"
             }
            },
            "header": {
             "fill": {
              "color": "#C8D4E3"
             },
             "line": {
              "color": "white"
             }
            },
            "type": "table"
           }
          ]
         },
         "layout": {
          "annotationdefaults": {
           "arrowcolor": "#2a3f5f",
           "arrowhead": 0,
           "arrowwidth": 1
          },
          "coloraxis": {
           "colorbar": {
            "outlinewidth": 0,
            "ticks": ""
           }
          },
          "colorscale": {
           "diverging": [
            [
             0,
             "#8e0152"
            ],
            [
             0.1,
             "#c51b7d"
            ],
            [
             0.2,
             "#de77ae"
            ],
            [
             0.3,
             "#f1b6da"
            ],
            [
             0.4,
             "#fde0ef"
            ],
            [
             0.5,
             "#f7f7f7"
            ],
            [
             0.6,
             "#e6f5d0"
            ],
            [
             0.7,
             "#b8e186"
            ],
            [
             0.8,
             "#7fbc41"
            ],
            [
             0.9,
             "#4d9221"
            ],
            [
             1,
             "#276419"
            ]
           ],
           "sequential": [
            [
             0,
             "#0d0887"
            ],
            [
             0.1111111111111111,
             "#46039f"
            ],
            [
             0.2222222222222222,
             "#7201a8"
            ],
            [
             0.3333333333333333,
             "#9c179e"
            ],
            [
             0.4444444444444444,
             "#bd3786"
            ],
            [
             0.5555555555555556,
             "#d8576b"
            ],
            [
             0.6666666666666666,
             "#ed7953"
            ],
            [
             0.7777777777777778,
             "#fb9f3a"
            ],
            [
             0.8888888888888888,
             "#fdca26"
            ],
            [
             1,
             "#f0f921"
            ]
           ],
           "sequentialminus": [
            [
             0,
             "#0d0887"
            ],
            [
             0.1111111111111111,
             "#46039f"
            ],
            [
             0.2222222222222222,
             "#7201a8"
            ],
            [
             0.3333333333333333,
             "#9c179e"
            ],
            [
             0.4444444444444444,
             "#bd3786"
            ],
            [
             0.5555555555555556,
             "#d8576b"
            ],
            [
             0.6666666666666666,
             "#ed7953"
            ],
            [
             0.7777777777777778,
             "#fb9f3a"
            ],
            [
             0.8888888888888888,
             "#fdca26"
            ],
            [
             1,
             "#f0f921"
            ]
           ]
          },
          "colorway": [
           "#636efa",
           "#EF553B",
           "#00cc96",
           "#ab63fa",
           "#FFA15A",
           "#19d3f3",
           "#FF6692",
           "#B6E880",
           "#FF97FF",
           "#FECB52"
          ],
          "font": {
           "color": "#2a3f5f"
          },
          "geo": {
           "bgcolor": "white",
           "lakecolor": "white",
           "landcolor": "#E5ECF6",
           "showlakes": true,
           "showland": true,
           "subunitcolor": "white"
          },
          "hoverlabel": {
           "align": "left"
          },
          "hovermode": "closest",
          "mapbox": {
           "style": "light"
          },
          "paper_bgcolor": "white",
          "plot_bgcolor": "#E5ECF6",
          "polar": {
           "angularaxis": {
            "gridcolor": "white",
            "linecolor": "white",
            "ticks": ""
           },
           "bgcolor": "#E5ECF6",
           "radialaxis": {
            "gridcolor": "white",
            "linecolor": "white",
            "ticks": ""
           }
          },
          "scene": {
           "xaxis": {
            "backgroundcolor": "#E5ECF6",
            "gridcolor": "white",
            "gridwidth": 2,
            "linecolor": "white",
            "showbackground": true,
            "ticks": "",
            "zerolinecolor": "white"
           },
           "yaxis": {
            "backgroundcolor": "#E5ECF6",
            "gridcolor": "white",
            "gridwidth": 2,
            "linecolor": "white",
            "showbackground": true,
            "ticks": "",
            "zerolinecolor": "white"
           },
           "zaxis": {
            "backgroundcolor": "#E5ECF6",
            "gridcolor": "white",
            "gridwidth": 2,
            "linecolor": "white",
            "showbackground": true,
            "ticks": "",
            "zerolinecolor": "white"
           }
          },
          "shapedefaults": {
           "line": {
            "color": "#2a3f5f"
           }
          },
          "ternary": {
           "aaxis": {
            "gridcolor": "white",
            "linecolor": "white",
            "ticks": ""
           },
           "baxis": {
            "gridcolor": "white",
            "linecolor": "white",
            "ticks": ""
           },
           "bgcolor": "#E5ECF6",
           "caxis": {
            "gridcolor": "white",
            "linecolor": "white",
            "ticks": ""
           }
          },
          "title": {
           "x": 0.05
          },
          "xaxis": {
           "automargin": true,
           "gridcolor": "white",
           "linecolor": "white",
           "ticks": "",
           "title": {
            "standoff": 15
           },
           "zerolinecolor": "white",
           "zerolinewidth": 2
          },
          "yaxis": {
           "automargin": true,
           "gridcolor": "white",
           "linecolor": "white",
           "ticks": "",
           "title": {
            "standoff": 15
           },
           "zerolinecolor": "white",
           "zerolinewidth": 2
          }
         }
        },
        "title": {
         "text": ""
        },
        "xaxis": {
         "anchor": "y",
         "domain": [
          0,
          1
         ],
         "fixedrange": true,
         "title": {
          "text": "Date"
         }
        },
        "yaxis": {
         "anchor": "x",
         "domain": [
          0,
          1
         ],
         "fixedrange": true,
         "title": {
          "text": "Cumulative No"
         }
        }
       }
      },
      "text/html": [
       "<div>\n",
       "        \n",
       "        \n",
       "            <div id=\"eca44b7c-497e-467c-bd66-7c146c393c78\" class=\"plotly-graph-div\" style=\"height:525px; width:100%;\"></div>\n",
       "            <script type=\"text/javascript\">\n",
       "                require([\"plotly\"], function(Plotly) {\n",
       "                    window.PLOTLYENV=window.PLOTLYENV || {};\n",
       "                    \n",
       "                if (document.getElementById(\"eca44b7c-497e-467c-bd66-7c146c393c78\")) {\n",
       "                    Plotly.newPlot(\n",
       "                        'eca44b7c-497e-467c-bd66-7c146c393c78',\n",
       "                        [{\"hoverlabel\": {\"namelength\": 0}, \"hovertemplate\": \"%{y}\", \"legendgroup\": \"cum_deaths\", \"line\": {\"color\": \"black\", \"dash\": \"solid\"}, \"mode\": \"lines\", \"name\": \"Deaths\", \"showlegend\": true, \"type\": \"scatter\", \"x\": [\"2020-03-22T00:00:00\", \"2020-03-23T00:00:00\", \"2020-03-24T00:00:00\", \"2020-03-25T00:00:00\", \"2020-03-26T00:00:00\", \"2020-03-27T00:00:00\", \"2020-03-28T00:00:00\", \"2020-03-29T00:00:00\", \"2020-03-30T00:00:00\", \"2020-03-31T00:00:00\", \"2020-04-01T00:00:00\", \"2020-04-02T00:00:00\", \"2020-04-03T00:00:00\", \"2020-04-04T00:00:00\", \"2020-04-05T00:00:00\", \"2020-04-06T00:00:00\", \"2020-04-07T00:00:00\", \"2020-04-08T00:00:00\", \"2020-04-09T00:00:00\", \"2020-04-10T00:00:00\", \"2020-04-11T00:00:00\", \"2020-04-12T00:00:00\", \"2020-04-13T00:00:00\", \"2020-04-14T00:00:00\", \"2020-04-15T00:00:00\", \"2020-04-16T00:00:00\", \"2020-04-17T00:00:00\", \"2020-04-18T00:00:00\", \"2020-04-19T00:00:00\", \"2020-04-20T00:00:00\", \"2020-04-21T00:00:00\", \"2020-04-22T00:00:00\", \"2020-04-23T00:00:00\", \"2020-04-24T00:00:00\", \"2020-04-25T00:00:00\", \"2020-04-26T00:00:00\", \"2020-04-27T00:00:00\", \"2020-04-28T00:00:00\", \"2020-04-29T00:00:00\", \"2020-04-30T00:00:00\"], \"xaxis\": \"x\", \"y\": [0.0, 0.0, 0.0, 0.0, 0.0, 1.0, 2.0, 2.0, 3.0, 5.0, 5.0, 5.0, 9.0, 9.0, 11.0, 12.0, 13.0, 18.0, 18.0, 24.0, 25.0, 25.0, 27.0, 27.0, 34.0, 48.0, 50.0, 52.0, 54.0, 58.0, 58.0, 65.0, 75.0, 79.0, 86.0, 87.0, 90.0, 93.0, 103.0, 103.0], \"yaxis\": \"y\"}, {\"hoverlabel\": {\"namelength\": 0}, \"hovertemplate\": \"%{y}\", \"legendgroup\": \"cum_recovered\", \"line\": {\"color\": \"green\", \"dash\": \"solid\"}, \"mode\": \"lines\", \"name\": \"Recoveries\", \"showlegend\": true, \"type\": \"scatter\", \"x\": [\"2020-03-22T00:00:00\", \"2020-03-23T00:00:00\", \"2020-03-24T00:00:00\", \"2020-03-25T00:00:00\", \"2020-03-26T00:00:00\", \"2020-03-27T00:00:00\", \"2020-03-28T00:00:00\", \"2020-03-29T00:00:00\", \"2020-03-30T00:00:00\", \"2020-03-31T00:00:00\", \"2020-04-01T00:00:00\", \"2020-04-02T00:00:00\", \"2020-04-03T00:00:00\", \"2020-04-04T00:00:00\", \"2020-04-05T00:00:00\", \"2020-04-06T00:00:00\", \"2020-04-07T00:00:00\", \"2020-04-08T00:00:00\", \"2020-04-09T00:00:00\", \"2020-04-10T00:00:00\", \"2020-04-11T00:00:00\", \"2020-04-12T00:00:00\", \"2020-04-13T00:00:00\", \"2020-04-14T00:00:00\", \"2020-04-15T00:00:00\", \"2020-04-16T00:00:00\", \"2020-04-17T00:00:00\", \"2020-04-18T00:00:00\", \"2020-04-19T00:00:00\", \"2020-04-20T00:00:00\", \"2020-04-21T00:00:00\", \"2020-04-22T00:00:00\", \"2020-04-23T00:00:00\", \"2020-04-24T00:00:00\", \"2020-04-25T00:00:00\", \"2020-04-26T00:00:00\", \"2020-04-27T00:00:00\", \"2020-04-28T00:00:00\", \"2020-04-29T00:00:00\", \"2020-04-30T00:00:00\"], \"xaxis\": \"x\", \"y\": [1.0, 1.0, 2.0, 4.0, 4.0, 31.0, 31.0, 31.0, 31.0, 31.0, 31.0, 45.0, 45.0, 45.0, 45.0, 45.0, 45.0, 45.0, 45.0, 410.0, 410.0, 410.0, 410.0, 410.0, 410.0, 903.0, 903.0, 903.0, 903.0, 1055.0, 1055.0, 1055.0, 1437.0, 1437.0, 1437.0, 1473.0, 1473.0, 2073.0, 2073.0, 2073.0], \"yaxis\": \"y\"}],\n",
       "                        {\"hovermode\": \"x\", \"legend\": {\"title\": {\"text\": \"\"}, \"tracegroupgap\": 0, \"x\": 0.01, \"y\": 0.98}, \"margin\": {\"b\": 0, \"l\": 0, \"r\": 0, \"t\": 0}, \"template\": {\"data\": {\"bar\": [{\"error_x\": {\"color\": \"#2a3f5f\"}, \"error_y\": {\"color\": \"#2a3f5f\"}, \"marker\": {\"line\": {\"color\": \"#E5ECF6\", \"width\": 0.5}}, \"type\": \"bar\"}], \"barpolar\": [{\"marker\": {\"line\": {\"color\": \"#E5ECF6\", \"width\": 0.5}}, \"type\": \"barpolar\"}], \"carpet\": [{\"aaxis\": {\"endlinecolor\": \"#2a3f5f\", \"gridcolor\": \"white\", \"linecolor\": \"white\", \"minorgridcolor\": \"white\", \"startlinecolor\": \"#2a3f5f\"}, \"baxis\": {\"endlinecolor\": \"#2a3f5f\", \"gridcolor\": \"white\", \"linecolor\": \"white\", \"minorgridcolor\": \"white\", \"startlinecolor\": \"#2a3f5f\"}, \"type\": \"carpet\"}], \"choropleth\": [{\"colorbar\": {\"outlinewidth\": 0, \"ticks\": \"\"}, \"type\": \"choropleth\"}], \"contour\": [{\"colorbar\": {\"outlinewidth\": 0, \"ticks\": \"\"}, \"colorscale\": [[0.0, \"#0d0887\"], [0.1111111111111111, \"#46039f\"], [0.2222222222222222, \"#7201a8\"], [0.3333333333333333, \"#9c179e\"], [0.4444444444444444, \"#bd3786\"], [0.5555555555555556, \"#d8576b\"], [0.6666666666666666, \"#ed7953\"], [0.7777777777777778, \"#fb9f3a\"], [0.8888888888888888, \"#fdca26\"], [1.0, \"#f0f921\"]], \"type\": \"contour\"}], \"contourcarpet\": [{\"colorbar\": {\"outlinewidth\": 0, \"ticks\": \"\"}, \"type\": \"contourcarpet\"}], \"heatmap\": [{\"colorbar\": {\"outlinewidth\": 0, \"ticks\": \"\"}, \"colorscale\": [[0.0, \"#0d0887\"], [0.1111111111111111, \"#46039f\"], [0.2222222222222222, \"#7201a8\"], [0.3333333333333333, \"#9c179e\"], [0.4444444444444444, \"#bd3786\"], [0.5555555555555556, \"#d8576b\"], [0.6666666666666666, \"#ed7953\"], [0.7777777777777778, \"#fb9f3a\"], [0.8888888888888888, \"#fdca26\"], [1.0, \"#f0f921\"]], \"type\": \"heatmap\"}], \"heatmapgl\": [{\"colorbar\": {\"outlinewidth\": 0, \"ticks\": \"\"}, \"colorscale\": [[0.0, \"#0d0887\"], [0.1111111111111111, \"#46039f\"], [0.2222222222222222, \"#7201a8\"], [0.3333333333333333, \"#9c179e\"], [0.4444444444444444, \"#bd3786\"], [0.5555555555555556, \"#d8576b\"], [0.6666666666666666, \"#ed7953\"], [0.7777777777777778, \"#fb9f3a\"], [0.8888888888888888, \"#fdca26\"], [1.0, \"#f0f921\"]], \"type\": \"heatmapgl\"}], \"histogram\": [{\"marker\": {\"colorbar\": {\"outlinewidth\": 0, \"ticks\": \"\"}}, \"type\": \"histogram\"}], \"histogram2d\": [{\"colorbar\": {\"outlinewidth\": 0, \"ticks\": \"\"}, \"colorscale\": [[0.0, \"#0d0887\"], [0.1111111111111111, \"#46039f\"], [0.2222222222222222, \"#7201a8\"], [0.3333333333333333, \"#9c179e\"], [0.4444444444444444, \"#bd3786\"], [0.5555555555555556, \"#d8576b\"], [0.6666666666666666, \"#ed7953\"], [0.7777777777777778, \"#fb9f3a\"], [0.8888888888888888, \"#fdca26\"], [1.0, \"#f0f921\"]], \"type\": \"histogram2d\"}], \"histogram2dcontour\": [{\"colorbar\": {\"outlinewidth\": 0, \"ticks\": \"\"}, \"colorscale\": [[0.0, \"#0d0887\"], [0.1111111111111111, \"#46039f\"], [0.2222222222222222, \"#7201a8\"], [0.3333333333333333, \"#9c179e\"], [0.4444444444444444, \"#bd3786\"], [0.5555555555555556, \"#d8576b\"], [0.6666666666666666, \"#ed7953\"], [0.7777777777777778, \"#fb9f3a\"], [0.8888888888888888, \"#fdca26\"], [1.0, \"#f0f921\"]], \"type\": \"histogram2dcontour\"}], \"mesh3d\": [{\"colorbar\": {\"outlinewidth\": 0, \"ticks\": \"\"}, \"type\": \"mesh3d\"}], \"parcoords\": [{\"line\": {\"colorbar\": {\"outlinewidth\": 0, \"ticks\": \"\"}}, \"type\": \"parcoords\"}], \"pie\": [{\"automargin\": true, \"type\": \"pie\"}], \"scatter\": [{\"marker\": {\"colorbar\": {\"outlinewidth\": 0, \"ticks\": \"\"}}, \"type\": \"scatter\"}], \"scatter3d\": [{\"line\": {\"colorbar\": {\"outlinewidth\": 0, \"ticks\": \"\"}}, \"marker\": {\"colorbar\": {\"outlinewidth\": 0, \"ticks\": \"\"}}, \"type\": \"scatter3d\"}], \"scattercarpet\": [{\"marker\": {\"colorbar\": {\"outlinewidth\": 0, \"ticks\": \"\"}}, \"type\": \"scattercarpet\"}], \"scattergeo\": [{\"marker\": {\"colorbar\": {\"outlinewidth\": 0, \"ticks\": \"\"}}, \"type\": \"scattergeo\"}], \"scattergl\": [{\"marker\": {\"colorbar\": {\"outlinewidth\": 0, \"ticks\": \"\"}}, \"type\": \"scattergl\"}], \"scattermapbox\": [{\"marker\": {\"colorbar\": {\"outlinewidth\": 0, \"ticks\": \"\"}}, \"type\": \"scattermapbox\"}], \"scatterpolar\": [{\"marker\": {\"colorbar\": {\"outlinewidth\": 0, \"ticks\": \"\"}}, \"type\": \"scatterpolar\"}], \"scatterpolargl\": [{\"marker\": {\"colorbar\": {\"outlinewidth\": 0, \"ticks\": \"\"}}, \"type\": \"scatterpolargl\"}], \"scatterternary\": [{\"marker\": {\"colorbar\": {\"outlinewidth\": 0, \"ticks\": \"\"}}, \"type\": \"scatterternary\"}], \"surface\": [{\"colorbar\": {\"outlinewidth\": 0, \"ticks\": \"\"}, \"colorscale\": [[0.0, \"#0d0887\"], [0.1111111111111111, \"#46039f\"], [0.2222222222222222, \"#7201a8\"], [0.3333333333333333, \"#9c179e\"], [0.4444444444444444, \"#bd3786\"], [0.5555555555555556, \"#d8576b\"], [0.6666666666666666, \"#ed7953\"], [0.7777777777777778, \"#fb9f3a\"], [0.8888888888888888, \"#fdca26\"], [1.0, \"#f0f921\"]], \"type\": \"surface\"}], \"table\": [{\"cells\": {\"fill\": {\"color\": \"#EBF0F8\"}, \"line\": {\"color\": \"white\"}}, \"header\": {\"fill\": {\"color\": \"#C8D4E3\"}, \"line\": {\"color\": \"white\"}}, \"type\": \"table\"}]}, \"layout\": {\"annotationdefaults\": {\"arrowcolor\": \"#2a3f5f\", \"arrowhead\": 0, \"arrowwidth\": 1}, \"coloraxis\": {\"colorbar\": {\"outlinewidth\": 0, \"ticks\": \"\"}}, \"colorscale\": {\"diverging\": [[0, \"#8e0152\"], [0.1, \"#c51b7d\"], [0.2, \"#de77ae\"], [0.3, \"#f1b6da\"], [0.4, \"#fde0ef\"], [0.5, \"#f7f7f7\"], [0.6, \"#e6f5d0\"], [0.7, \"#b8e186\"], [0.8, \"#7fbc41\"], [0.9, \"#4d9221\"], [1, \"#276419\"]], \"sequential\": [[0.0, \"#0d0887\"], [0.1111111111111111, \"#46039f\"], [0.2222222222222222, \"#7201a8\"], [0.3333333333333333, \"#9c179e\"], [0.4444444444444444, \"#bd3786\"], [0.5555555555555556, \"#d8576b\"], [0.6666666666666666, \"#ed7953\"], [0.7777777777777778, \"#fb9f3a\"], [0.8888888888888888, \"#fdca26\"], [1.0, \"#f0f921\"]], \"sequentialminus\": [[0.0, \"#0d0887\"], [0.1111111111111111, \"#46039f\"], [0.2222222222222222, \"#7201a8\"], [0.3333333333333333, \"#9c179e\"], [0.4444444444444444, \"#bd3786\"], [0.5555555555555556, \"#d8576b\"], [0.6666666666666666, \"#ed7953\"], [0.7777777777777778, \"#fb9f3a\"], [0.8888888888888888, \"#fdca26\"], [1.0, \"#f0f921\"]]}, \"colorway\": [\"#636efa\", \"#EF553B\", \"#00cc96\", \"#ab63fa\", \"#FFA15A\", \"#19d3f3\", \"#FF6692\", \"#B6E880\", \"#FF97FF\", \"#FECB52\"], \"font\": {\"color\": \"#2a3f5f\"}, \"geo\": {\"bgcolor\": \"white\", \"lakecolor\": \"white\", \"landcolor\": \"#E5ECF6\", \"showlakes\": true, \"showland\": true, \"subunitcolor\": \"white\"}, \"hoverlabel\": {\"align\": \"left\"}, \"hovermode\": \"closest\", \"mapbox\": {\"style\": \"light\"}, \"paper_bgcolor\": \"white\", \"plot_bgcolor\": \"#E5ECF6\", \"polar\": {\"angularaxis\": {\"gridcolor\": \"white\", \"linecolor\": \"white\", \"ticks\": \"\"}, \"bgcolor\": \"#E5ECF6\", \"radialaxis\": {\"gridcolor\": \"white\", \"linecolor\": \"white\", \"ticks\": \"\"}}, \"scene\": {\"xaxis\": {\"backgroundcolor\": \"#E5ECF6\", \"gridcolor\": \"white\", \"gridwidth\": 2, \"linecolor\": \"white\", \"showbackground\": true, \"ticks\": \"\", \"zerolinecolor\": \"white\"}, \"yaxis\": {\"backgroundcolor\": \"#E5ECF6\", \"gridcolor\": \"white\", \"gridwidth\": 2, \"linecolor\": \"white\", \"showbackground\": true, \"ticks\": \"\", \"zerolinecolor\": \"white\"}, \"zaxis\": {\"backgroundcolor\": \"#E5ECF6\", \"gridcolor\": \"white\", \"gridwidth\": 2, \"linecolor\": \"white\", \"showbackground\": true, \"ticks\": \"\", \"zerolinecolor\": \"white\"}}, \"shapedefaults\": {\"line\": {\"color\": \"#2a3f5f\"}}, \"ternary\": {\"aaxis\": {\"gridcolor\": \"white\", \"linecolor\": \"white\", \"ticks\": \"\"}, \"baxis\": {\"gridcolor\": \"white\", \"linecolor\": \"white\", \"ticks\": \"\"}, \"bgcolor\": \"#E5ECF6\", \"caxis\": {\"gridcolor\": \"white\", \"linecolor\": \"white\", \"ticks\": \"\"}}, \"title\": {\"x\": 0.05}, \"xaxis\": {\"automargin\": true, \"gridcolor\": \"white\", \"linecolor\": \"white\", \"ticks\": \"\", \"title\": {\"standoff\": 15}, \"zerolinecolor\": \"white\", \"zerolinewidth\": 2}, \"yaxis\": {\"automargin\": true, \"gridcolor\": \"white\", \"linecolor\": \"white\", \"ticks\": \"\", \"title\": {\"standoff\": 15}, \"zerolinecolor\": \"white\", \"zerolinewidth\": 2}}}, \"title\": {\"text\": \"\"}, \"xaxis\": {\"anchor\": \"y\", \"domain\": [0.0, 1.0], \"fixedrange\": true, \"title\": {\"text\": \"Date\"}}, \"yaxis\": {\"anchor\": \"x\", \"domain\": [0.0, 1.0], \"fixedrange\": true, \"title\": {\"text\": \"Cumulative No\"}}},\n",
       "                        {\"displayModeBar\": false, \"responsive\": true}\n",
       "                    ).then(function(){\n",
       "                            \n",
       "var gd = document.getElementById('eca44b7c-497e-467c-bd66-7c146c393c78');\n",
       "var x = new MutationObserver(function (mutations, observer) {{\n",
       "        var display = window.getComputedStyle(gd).display;\n",
       "        if (!display || display === 'none') {{\n",
       "            console.log([gd, 'removed!']);\n",
       "            Plotly.purge(gd);\n",
       "            observer.disconnect();\n",
       "        }}\n",
       "}});\n",
       "\n",
       "// Listen for the removal of the full notebook cells\n",
       "var notebookContainer = gd.closest('#notebook-container');\n",
       "if (notebookContainer) {{\n",
       "    x.observe(notebookContainer, {childList: true});\n",
       "}}\n",
       "\n",
       "// Listen for the clearing of the current output cell\n",
       "var outputEl = gd.closest('.output');\n",
       "if (outputEl) {{\n",
       "    x.observe(outputEl, {childList: true});\n",
       "}}\n",
       "\n",
       "                        })\n",
       "                };\n",
       "                });\n",
       "            </script>\n",
       "        </div>"
      ]
     },
     "metadata": {},
     "output_type": "display_data"
    }
   ],
   "source": [
    "cum_deaths_recovered_long = pd.melt(cum_deaths_recovered, id_vars=['date'], value_vars=['cum_deaths',\n",
    "                                                                                        'cum_recovered'])\n",
    "cum_deaths_recovered_long.dropna(inplace=True)\n",
    "fig_cum_deaths_recovered = px.line(cum_deaths_recovered_long, x='date', y='value', color='variable',\n",
    "                                  color_discrete_sequence=['black', 'green'])\n",
    "\n",
    "fig_cum_deaths_recovered.update_layout(\n",
    "    title=\"\",\n",
    "    xaxis_title=\"Date\",\n",
    "    yaxis_title=\"Cumulative No\",\n",
    "    hovermode= 'x',\n",
    "    legend=dict(x=0.01, y=.98, title=dict(text=\"\")),\n",
    "    xaxis=dict(fixedrange=True),\n",
    "    yaxis=dict(fixedrange=True),\n",
    "    margin=empty_margin_dict,\n",
    ")\n",
    "\n",
    "fig_cum_deaths_recovered.update_traces(mode='lines')\n",
    "\n",
    "fig_cum_deaths_recovered.data[0].name = \"Deaths\"\n",
    "fig_cum_deaths_recovered.data[1].name = \"Recoveries\"\n",
    "\n",
    "fig_cum_deaths_recovered.data[0].hoverlabel.namelength = 0\n",
    "fig_cum_deaths_recovered.data[1].hoverlabel.namelength = 0\n",
    "\n",
    "fig_cum_deaths_recovered.data[0].hovertemplate = '%{y}'\n",
    "fig_cum_deaths_recovered.data[1].hovertemplate = '%{y}'\n",
    "fig_cum_deaths_recovered.show(config = dict(displayModeBar=False))"
   ]
  },
  {
   "cell_type": "code",
   "execution_count": 146,
   "metadata": {},
   "outputs": [],
   "source": [
    "pio.write_html(fig_cum_deaths_recovered, file='cumulative_deaths_recovered.html',\n",
    "               config = dict(displayModeBar=False), auto_open=True)"
   ]
  },
  {
   "cell_type": "markdown",
   "metadata": {},
   "source": [
    "## Daily\n",
    "### Confirmed Cases"
   ]
  },
  {
   "cell_type": "code",
   "execution_count": 147,
   "metadata": {},
   "outputs": [
    {
     "data": {
      "text/html": [
       "<div>\n",
       "<style scoped>\n",
       "    .dataframe tbody tr th:only-of-type {\n",
       "        vertical-align: middle;\n",
       "    }\n",
       "\n",
       "    .dataframe tbody tr th {\n",
       "        vertical-align: top;\n",
       "    }\n",
       "\n",
       "    .dataframe thead th {\n",
       "        text-align: right;\n",
       "    }\n",
       "</style>\n",
       "<table border=\"1\" class=\"dataframe\">\n",
       "  <thead>\n",
       "    <tr style=\"text-align: right;\">\n",
       "      <th></th>\n",
       "      <th>date</th>\n",
       "      <th>daily_cases</th>\n",
       "    </tr>\n",
       "  </thead>\n",
       "  <tbody>\n",
       "    <tr>\n",
       "      <th>0</th>\n",
       "      <td>2020-03-05</td>\n",
       "      <td>1.0</td>\n",
       "    </tr>\n",
       "    <tr>\n",
       "      <th>1</th>\n",
       "      <td>2020-03-07</td>\n",
       "      <td>1.0</td>\n",
       "    </tr>\n",
       "    <tr>\n",
       "      <th>2</th>\n",
       "      <td>2020-03-08</td>\n",
       "      <td>1.0</td>\n",
       "    </tr>\n",
       "    <tr>\n",
       "      <th>3</th>\n",
       "      <td>2020-03-09</td>\n",
       "      <td>4.0</td>\n",
       "    </tr>\n",
       "    <tr>\n",
       "      <th>4</th>\n",
       "      <td>2020-03-11</td>\n",
       "      <td>6.0</td>\n",
       "    </tr>\n",
       "  </tbody>\n",
       "</table>\n",
       "</div>"
      ],
      "text/plain": [
       "        date  daily_cases\n",
       "0 2020-03-05          1.0\n",
       "1 2020-03-07          1.0\n",
       "2 2020-03-08          1.0\n",
       "3 2020-03-09          4.0\n",
       "4 2020-03-11          6.0"
      ]
     },
     "execution_count": 147,
     "metadata": {},
     "output_type": "execute_result"
    }
   ],
   "source": [
    "confirmed_data_daily = pd.read_csv('data/daily_cumulative_confirmed.csv', usecols=['date','daily_cases'])\n",
    "confirmed_data_daily['date'] = pd.to_datetime(confirmed_data_daily['date'], format='%Y-%m-%d')\n",
    "confirmed_data_daily.head()"
   ]
  },
  {
   "cell_type": "code",
   "execution_count": 148,
   "metadata": {},
   "outputs": [
    {
     "data": {
      "application/vnd.plotly.v1+json": {
       "config": {
        "displayModeBar": false,
        "plotlyServerURL": "https://plot.ly"
       },
       "data": [
        {
         "hoverlabel": {
          "namelength": 0
         },
         "hovertemplate": "%{y}",
         "legendgroup": "daily_cases",
         "line": {
          "color": "firebrick",
          "dash": "solid"
         },
         "mode": "lines",
         "name": "Positive Cases",
         "showlegend": true,
         "type": "scatter",
         "x": [
          "2020-03-05T00:00:00",
          "2020-03-07T00:00:00",
          "2020-03-08T00:00:00",
          "2020-03-09T00:00:00",
          "2020-03-11T00:00:00",
          "2020-03-12T00:00:00",
          "2020-03-13T00:00:00",
          "2020-03-14T00:00:00",
          "2020-03-15T00:00:00",
          "2020-03-16T00:00:00",
          "2020-03-17T00:00:00",
          "2020-03-18T00:00:00",
          "2020-03-19T00:00:00",
          "2020-03-20T00:00:00",
          "2020-03-21T00:00:00",
          "2020-03-22T00:00:00",
          "2020-03-23T00:00:00",
          "2020-03-24T00:00:00",
          "2020-03-25T00:00:00",
          "2020-03-26T00:00:00",
          "2020-03-27T00:00:00",
          "2020-03-28T00:00:00",
          "2020-03-29T00:00:00",
          "2020-03-30T00:00:00",
          "2020-03-31T00:00:00",
          "2020-04-01T00:00:00",
          "2020-04-02T00:00:00",
          "2020-04-03T00:00:00",
          "2020-04-04T00:00:00",
          "2020-04-05T00:00:00",
          "2020-04-06T00:00:00",
          "2020-04-07T00:00:00",
          "2020-04-08T00:00:00",
          "2020-04-09T00:00:00",
          "2020-04-10T00:00:00",
          "2020-04-11T00:00:00",
          "2020-04-12T00:00:00",
          "2020-04-13T00:00:00",
          "2020-04-14T00:00:00",
          "2020-04-15T00:00:00",
          "2020-04-16T00:00:00",
          "2020-04-17T00:00:00",
          "2020-04-18T00:00:00",
          "2020-04-19T00:00:00",
          "2020-04-20T00:00:00",
          "2020-04-21T00:00:00",
          "2020-04-22T00:00:00",
          "2020-04-23T00:00:00",
          "2020-04-24T00:00:00",
          "2020-04-25T00:00:00",
          "2020-04-26T00:00:00",
          "2020-04-27T00:00:00",
          "2020-04-28T00:00:00",
          "2020-04-29T00:00:00",
          "2020-04-30T00:00:00"
         ],
         "xaxis": "x",
         "y": [
          1,
          1,
          1,
          4,
          6,
          3,
          8,
          14,
          13,
          11,
          23,
          31,
          34,
          52,
          38,
          34,
          128,
          152,
          155,
          218,
          243,
          17,
          93,
          46,
          27,
          27,
          82,
          43,
          80,
          70,
          31,
          63,
          96,
          89,
          69,
          25,
          145,
          99,
          143,
          91,
          99,
          178,
          251,
          124,
          142,
          165,
          170,
          318,
          267,
          141,
          185,
          247,
          203,
          354,
          297
         ],
         "yaxis": "y"
        }
       ],
       "layout": {
        "hovermode": "x",
        "legend": {
         "title": {
          "text": ""
         },
         "tracegroupgap": 0,
         "x": 0.01,
         "y": 0.98
        },
        "margin": {
         "b": 0,
         "l": 0,
         "r": 0,
         "t": 0
        },
        "template": {
         "data": {
          "bar": [
           {
            "error_x": {
             "color": "#2a3f5f"
            },
            "error_y": {
             "color": "#2a3f5f"
            },
            "marker": {
             "line": {
              "color": "#E5ECF6",
              "width": 0.5
             }
            },
            "type": "bar"
           }
          ],
          "barpolar": [
           {
            "marker": {
             "line": {
              "color": "#E5ECF6",
              "width": 0.5
             }
            },
            "type": "barpolar"
           }
          ],
          "carpet": [
           {
            "aaxis": {
             "endlinecolor": "#2a3f5f",
             "gridcolor": "white",
             "linecolor": "white",
             "minorgridcolor": "white",
             "startlinecolor": "#2a3f5f"
            },
            "baxis": {
             "endlinecolor": "#2a3f5f",
             "gridcolor": "white",
             "linecolor": "white",
             "minorgridcolor": "white",
             "startlinecolor": "#2a3f5f"
            },
            "type": "carpet"
           }
          ],
          "choropleth": [
           {
            "colorbar": {
             "outlinewidth": 0,
             "ticks": ""
            },
            "type": "choropleth"
           }
          ],
          "contour": [
           {
            "colorbar": {
             "outlinewidth": 0,
             "ticks": ""
            },
            "colorscale": [
             [
              0,
              "#0d0887"
             ],
             [
              0.1111111111111111,
              "#46039f"
             ],
             [
              0.2222222222222222,
              "#7201a8"
             ],
             [
              0.3333333333333333,
              "#9c179e"
             ],
             [
              0.4444444444444444,
              "#bd3786"
             ],
             [
              0.5555555555555556,
              "#d8576b"
             ],
             [
              0.6666666666666666,
              "#ed7953"
             ],
             [
              0.7777777777777778,
              "#fb9f3a"
             ],
             [
              0.8888888888888888,
              "#fdca26"
             ],
             [
              1,
              "#f0f921"
             ]
            ],
            "type": "contour"
           }
          ],
          "contourcarpet": [
           {
            "colorbar": {
             "outlinewidth": 0,
             "ticks": ""
            },
            "type": "contourcarpet"
           }
          ],
          "heatmap": [
           {
            "colorbar": {
             "outlinewidth": 0,
             "ticks": ""
            },
            "colorscale": [
             [
              0,
              "#0d0887"
             ],
             [
              0.1111111111111111,
              "#46039f"
             ],
             [
              0.2222222222222222,
              "#7201a8"
             ],
             [
              0.3333333333333333,
              "#9c179e"
             ],
             [
              0.4444444444444444,
              "#bd3786"
             ],
             [
              0.5555555555555556,
              "#d8576b"
             ],
             [
              0.6666666666666666,
              "#ed7953"
             ],
             [
              0.7777777777777778,
              "#fb9f3a"
             ],
             [
              0.8888888888888888,
              "#fdca26"
             ],
             [
              1,
              "#f0f921"
             ]
            ],
            "type": "heatmap"
           }
          ],
          "heatmapgl": [
           {
            "colorbar": {
             "outlinewidth": 0,
             "ticks": ""
            },
            "colorscale": [
             [
              0,
              "#0d0887"
             ],
             [
              0.1111111111111111,
              "#46039f"
             ],
             [
              0.2222222222222222,
              "#7201a8"
             ],
             [
              0.3333333333333333,
              "#9c179e"
             ],
             [
              0.4444444444444444,
              "#bd3786"
             ],
             [
              0.5555555555555556,
              "#d8576b"
             ],
             [
              0.6666666666666666,
              "#ed7953"
             ],
             [
              0.7777777777777778,
              "#fb9f3a"
             ],
             [
              0.8888888888888888,
              "#fdca26"
             ],
             [
              1,
              "#f0f921"
             ]
            ],
            "type": "heatmapgl"
           }
          ],
          "histogram": [
           {
            "marker": {
             "colorbar": {
              "outlinewidth": 0,
              "ticks": ""
             }
            },
            "type": "histogram"
           }
          ],
          "histogram2d": [
           {
            "colorbar": {
             "outlinewidth": 0,
             "ticks": ""
            },
            "colorscale": [
             [
              0,
              "#0d0887"
             ],
             [
              0.1111111111111111,
              "#46039f"
             ],
             [
              0.2222222222222222,
              "#7201a8"
             ],
             [
              0.3333333333333333,
              "#9c179e"
             ],
             [
              0.4444444444444444,
              "#bd3786"
             ],
             [
              0.5555555555555556,
              "#d8576b"
             ],
             [
              0.6666666666666666,
              "#ed7953"
             ],
             [
              0.7777777777777778,
              "#fb9f3a"
             ],
             [
              0.8888888888888888,
              "#fdca26"
             ],
             [
              1,
              "#f0f921"
             ]
            ],
            "type": "histogram2d"
           }
          ],
          "histogram2dcontour": [
           {
            "colorbar": {
             "outlinewidth": 0,
             "ticks": ""
            },
            "colorscale": [
             [
              0,
              "#0d0887"
             ],
             [
              0.1111111111111111,
              "#46039f"
             ],
             [
              0.2222222222222222,
              "#7201a8"
             ],
             [
              0.3333333333333333,
              "#9c179e"
             ],
             [
              0.4444444444444444,
              "#bd3786"
             ],
             [
              0.5555555555555556,
              "#d8576b"
             ],
             [
              0.6666666666666666,
              "#ed7953"
             ],
             [
              0.7777777777777778,
              "#fb9f3a"
             ],
             [
              0.8888888888888888,
              "#fdca26"
             ],
             [
              1,
              "#f0f921"
             ]
            ],
            "type": "histogram2dcontour"
           }
          ],
          "mesh3d": [
           {
            "colorbar": {
             "outlinewidth": 0,
             "ticks": ""
            },
            "type": "mesh3d"
           }
          ],
          "parcoords": [
           {
            "line": {
             "colorbar": {
              "outlinewidth": 0,
              "ticks": ""
             }
            },
            "type": "parcoords"
           }
          ],
          "pie": [
           {
            "automargin": true,
            "type": "pie"
           }
          ],
          "scatter": [
           {
            "marker": {
             "colorbar": {
              "outlinewidth": 0,
              "ticks": ""
             }
            },
            "type": "scatter"
           }
          ],
          "scatter3d": [
           {
            "line": {
             "colorbar": {
              "outlinewidth": 0,
              "ticks": ""
             }
            },
            "marker": {
             "colorbar": {
              "outlinewidth": 0,
              "ticks": ""
             }
            },
            "type": "scatter3d"
           }
          ],
          "scattercarpet": [
           {
            "marker": {
             "colorbar": {
              "outlinewidth": 0,
              "ticks": ""
             }
            },
            "type": "scattercarpet"
           }
          ],
          "scattergeo": [
           {
            "marker": {
             "colorbar": {
              "outlinewidth": 0,
              "ticks": ""
             }
            },
            "type": "scattergeo"
           }
          ],
          "scattergl": [
           {
            "marker": {
             "colorbar": {
              "outlinewidth": 0,
              "ticks": ""
             }
            },
            "type": "scattergl"
           }
          ],
          "scattermapbox": [
           {
            "marker": {
             "colorbar": {
              "outlinewidth": 0,
              "ticks": ""
             }
            },
            "type": "scattermapbox"
           }
          ],
          "scatterpolar": [
           {
            "marker": {
             "colorbar": {
              "outlinewidth": 0,
              "ticks": ""
             }
            },
            "type": "scatterpolar"
           }
          ],
          "scatterpolargl": [
           {
            "marker": {
             "colorbar": {
              "outlinewidth": 0,
              "ticks": ""
             }
            },
            "type": "scatterpolargl"
           }
          ],
          "scatterternary": [
           {
            "marker": {
             "colorbar": {
              "outlinewidth": 0,
              "ticks": ""
             }
            },
            "type": "scatterternary"
           }
          ],
          "surface": [
           {
            "colorbar": {
             "outlinewidth": 0,
             "ticks": ""
            },
            "colorscale": [
             [
              0,
              "#0d0887"
             ],
             [
              0.1111111111111111,
              "#46039f"
             ],
             [
              0.2222222222222222,
              "#7201a8"
             ],
             [
              0.3333333333333333,
              "#9c179e"
             ],
             [
              0.4444444444444444,
              "#bd3786"
             ],
             [
              0.5555555555555556,
              "#d8576b"
             ],
             [
              0.6666666666666666,
              "#ed7953"
             ],
             [
              0.7777777777777778,
              "#fb9f3a"
             ],
             [
              0.8888888888888888,
              "#fdca26"
             ],
             [
              1,
              "#f0f921"
             ]
            ],
            "type": "surface"
           }
          ],
          "table": [
           {
            "cells": {
             "fill": {
              "color": "#EBF0F8"
             },
             "line": {
              "color": "white"
             }
            },
            "header": {
             "fill": {
              "color": "#C8D4E3"
             },
             "line": {
              "color": "white"
             }
            },
            "type": "table"
           }
          ]
         },
         "layout": {
          "annotationdefaults": {
           "arrowcolor": "#2a3f5f",
           "arrowhead": 0,
           "arrowwidth": 1
          },
          "coloraxis": {
           "colorbar": {
            "outlinewidth": 0,
            "ticks": ""
           }
          },
          "colorscale": {
           "diverging": [
            [
             0,
             "#8e0152"
            ],
            [
             0.1,
             "#c51b7d"
            ],
            [
             0.2,
             "#de77ae"
            ],
            [
             0.3,
             "#f1b6da"
            ],
            [
             0.4,
             "#fde0ef"
            ],
            [
             0.5,
             "#f7f7f7"
            ],
            [
             0.6,
             "#e6f5d0"
            ],
            [
             0.7,
             "#b8e186"
            ],
            [
             0.8,
             "#7fbc41"
            ],
            [
             0.9,
             "#4d9221"
            ],
            [
             1,
             "#276419"
            ]
           ],
           "sequential": [
            [
             0,
             "#0d0887"
            ],
            [
             0.1111111111111111,
             "#46039f"
            ],
            [
             0.2222222222222222,
             "#7201a8"
            ],
            [
             0.3333333333333333,
             "#9c179e"
            ],
            [
             0.4444444444444444,
             "#bd3786"
            ],
            [
             0.5555555555555556,
             "#d8576b"
            ],
            [
             0.6666666666666666,
             "#ed7953"
            ],
            [
             0.7777777777777778,
             "#fb9f3a"
            ],
            [
             0.8888888888888888,
             "#fdca26"
            ],
            [
             1,
             "#f0f921"
            ]
           ],
           "sequentialminus": [
            [
             0,
             "#0d0887"
            ],
            [
             0.1111111111111111,
             "#46039f"
            ],
            [
             0.2222222222222222,
             "#7201a8"
            ],
            [
             0.3333333333333333,
             "#9c179e"
            ],
            [
             0.4444444444444444,
             "#bd3786"
            ],
            [
             0.5555555555555556,
             "#d8576b"
            ],
            [
             0.6666666666666666,
             "#ed7953"
            ],
            [
             0.7777777777777778,
             "#fb9f3a"
            ],
            [
             0.8888888888888888,
             "#fdca26"
            ],
            [
             1,
             "#f0f921"
            ]
           ]
          },
          "colorway": [
           "#636efa",
           "#EF553B",
           "#00cc96",
           "#ab63fa",
           "#FFA15A",
           "#19d3f3",
           "#FF6692",
           "#B6E880",
           "#FF97FF",
           "#FECB52"
          ],
          "font": {
           "color": "#2a3f5f"
          },
          "geo": {
           "bgcolor": "white",
           "lakecolor": "white",
           "landcolor": "#E5ECF6",
           "showlakes": true,
           "showland": true,
           "subunitcolor": "white"
          },
          "hoverlabel": {
           "align": "left"
          },
          "hovermode": "closest",
          "mapbox": {
           "style": "light"
          },
          "paper_bgcolor": "white",
          "plot_bgcolor": "#E5ECF6",
          "polar": {
           "angularaxis": {
            "gridcolor": "white",
            "linecolor": "white",
            "ticks": ""
           },
           "bgcolor": "#E5ECF6",
           "radialaxis": {
            "gridcolor": "white",
            "linecolor": "white",
            "ticks": ""
           }
          },
          "scene": {
           "xaxis": {
            "backgroundcolor": "#E5ECF6",
            "gridcolor": "white",
            "gridwidth": 2,
            "linecolor": "white",
            "showbackground": true,
            "ticks": "",
            "zerolinecolor": "white"
           },
           "yaxis": {
            "backgroundcolor": "#E5ECF6",
            "gridcolor": "white",
            "gridwidth": 2,
            "linecolor": "white",
            "showbackground": true,
            "ticks": "",
            "zerolinecolor": "white"
           },
           "zaxis": {
            "backgroundcolor": "#E5ECF6",
            "gridcolor": "white",
            "gridwidth": 2,
            "linecolor": "white",
            "showbackground": true,
            "ticks": "",
            "zerolinecolor": "white"
           }
          },
          "shapedefaults": {
           "line": {
            "color": "#2a3f5f"
           }
          },
          "ternary": {
           "aaxis": {
            "gridcolor": "white",
            "linecolor": "white",
            "ticks": ""
           },
           "baxis": {
            "gridcolor": "white",
            "linecolor": "white",
            "ticks": ""
           },
           "bgcolor": "#E5ECF6",
           "caxis": {
            "gridcolor": "white",
            "linecolor": "white",
            "ticks": ""
           }
          },
          "title": {
           "x": 0.05
          },
          "xaxis": {
           "automargin": true,
           "gridcolor": "white",
           "linecolor": "white",
           "ticks": "",
           "title": {
            "standoff": 15
           },
           "zerolinecolor": "white",
           "zerolinewidth": 2
          },
          "yaxis": {
           "automargin": true,
           "gridcolor": "white",
           "linecolor": "white",
           "ticks": "",
           "title": {
            "standoff": 15
           },
           "zerolinecolor": "white",
           "zerolinewidth": 2
          }
         }
        },
        "title": {
         "text": ""
        },
        "xaxis": {
         "anchor": "y",
         "domain": [
          0,
          1
         ],
         "fixedrange": true,
         "title": {
          "text": "Date"
         }
        },
        "yaxis": {
         "anchor": "x",
         "domain": [
          0,
          1
         ],
         "fixedrange": true,
         "title": {
          "text": "Postive Cases Per Day"
         }
        }
       }
      },
      "text/html": [
       "<div>\n",
       "        \n",
       "        \n",
       "            <div id=\"a5e15d65-03e8-4bf8-b6ae-132d2cdbc6d5\" class=\"plotly-graph-div\" style=\"height:525px; width:100%;\"></div>\n",
       "            <script type=\"text/javascript\">\n",
       "                require([\"plotly\"], function(Plotly) {\n",
       "                    window.PLOTLYENV=window.PLOTLYENV || {};\n",
       "                    \n",
       "                if (document.getElementById(\"a5e15d65-03e8-4bf8-b6ae-132d2cdbc6d5\")) {\n",
       "                    Plotly.newPlot(\n",
       "                        'a5e15d65-03e8-4bf8-b6ae-132d2cdbc6d5',\n",
       "                        [{\"hoverlabel\": {\"namelength\": 0}, \"hovertemplate\": \"%{y}\", \"legendgroup\": \"daily_cases\", \"line\": {\"color\": \"firebrick\", \"dash\": \"solid\"}, \"mode\": \"lines\", \"name\": \"Positive Cases\", \"showlegend\": true, \"type\": \"scatter\", \"x\": [\"2020-03-05T00:00:00\", \"2020-03-07T00:00:00\", \"2020-03-08T00:00:00\", \"2020-03-09T00:00:00\", \"2020-03-11T00:00:00\", \"2020-03-12T00:00:00\", \"2020-03-13T00:00:00\", \"2020-03-14T00:00:00\", \"2020-03-15T00:00:00\", \"2020-03-16T00:00:00\", \"2020-03-17T00:00:00\", \"2020-03-18T00:00:00\", \"2020-03-19T00:00:00\", \"2020-03-20T00:00:00\", \"2020-03-21T00:00:00\", \"2020-03-22T00:00:00\", \"2020-03-23T00:00:00\", \"2020-03-24T00:00:00\", \"2020-03-25T00:00:00\", \"2020-03-26T00:00:00\", \"2020-03-27T00:00:00\", \"2020-03-28T00:00:00\", \"2020-03-29T00:00:00\", \"2020-03-30T00:00:00\", \"2020-03-31T00:00:00\", \"2020-04-01T00:00:00\", \"2020-04-02T00:00:00\", \"2020-04-03T00:00:00\", \"2020-04-04T00:00:00\", \"2020-04-05T00:00:00\", \"2020-04-06T00:00:00\", \"2020-04-07T00:00:00\", \"2020-04-08T00:00:00\", \"2020-04-09T00:00:00\", \"2020-04-10T00:00:00\", \"2020-04-11T00:00:00\", \"2020-04-12T00:00:00\", \"2020-04-13T00:00:00\", \"2020-04-14T00:00:00\", \"2020-04-15T00:00:00\", \"2020-04-16T00:00:00\", \"2020-04-17T00:00:00\", \"2020-04-18T00:00:00\", \"2020-04-19T00:00:00\", \"2020-04-20T00:00:00\", \"2020-04-21T00:00:00\", \"2020-04-22T00:00:00\", \"2020-04-23T00:00:00\", \"2020-04-24T00:00:00\", \"2020-04-25T00:00:00\", \"2020-04-26T00:00:00\", \"2020-04-27T00:00:00\", \"2020-04-28T00:00:00\", \"2020-04-29T00:00:00\", \"2020-04-30T00:00:00\"], \"xaxis\": \"x\", \"y\": [1.0, 1.0, 1.0, 4.0, 6.0, 3.0, 8.0, 14.0, 13.0, 11.0, 23.0, 31.0, 34.0, 52.0, 38.0, 34.0, 128.0, 152.0, 155.0, 218.0, 243.0, 17.0, 93.0, 46.0, 27.0, 27.0, 82.0, 43.0, 80.0, 70.0, 31.0, 63.0, 96.0, 89.0, 69.0, 25.0, 145.0, 99.0, 143.0, 91.0, 99.0, 178.0, 251.0, 124.0, 142.0, 165.0, 170.0, 318.0, 267.0, 141.0, 185.0, 247.0, 203.0, 354.0, 297.0], \"yaxis\": \"y\"}],\n",
       "                        {\"hovermode\": \"x\", \"legend\": {\"title\": {\"text\": \"\"}, \"tracegroupgap\": 0, \"x\": 0.01, \"y\": 0.98}, \"margin\": {\"b\": 0, \"l\": 0, \"r\": 0, \"t\": 0}, \"template\": {\"data\": {\"bar\": [{\"error_x\": {\"color\": \"#2a3f5f\"}, \"error_y\": {\"color\": \"#2a3f5f\"}, \"marker\": {\"line\": {\"color\": \"#E5ECF6\", \"width\": 0.5}}, \"type\": \"bar\"}], \"barpolar\": [{\"marker\": {\"line\": {\"color\": \"#E5ECF6\", \"width\": 0.5}}, \"type\": \"barpolar\"}], \"carpet\": [{\"aaxis\": {\"endlinecolor\": \"#2a3f5f\", \"gridcolor\": \"white\", \"linecolor\": \"white\", \"minorgridcolor\": \"white\", \"startlinecolor\": \"#2a3f5f\"}, \"baxis\": {\"endlinecolor\": \"#2a3f5f\", \"gridcolor\": \"white\", \"linecolor\": \"white\", \"minorgridcolor\": \"white\", \"startlinecolor\": \"#2a3f5f\"}, \"type\": \"carpet\"}], \"choropleth\": [{\"colorbar\": {\"outlinewidth\": 0, \"ticks\": \"\"}, \"type\": \"choropleth\"}], \"contour\": [{\"colorbar\": {\"outlinewidth\": 0, \"ticks\": \"\"}, \"colorscale\": [[0.0, \"#0d0887\"], [0.1111111111111111, \"#46039f\"], [0.2222222222222222, \"#7201a8\"], [0.3333333333333333, \"#9c179e\"], [0.4444444444444444, \"#bd3786\"], [0.5555555555555556, \"#d8576b\"], [0.6666666666666666, \"#ed7953\"], [0.7777777777777778, \"#fb9f3a\"], [0.8888888888888888, \"#fdca26\"], [1.0, \"#f0f921\"]], \"type\": \"contour\"}], \"contourcarpet\": [{\"colorbar\": {\"outlinewidth\": 0, \"ticks\": \"\"}, \"type\": \"contourcarpet\"}], \"heatmap\": [{\"colorbar\": {\"outlinewidth\": 0, \"ticks\": \"\"}, \"colorscale\": [[0.0, \"#0d0887\"], [0.1111111111111111, \"#46039f\"], [0.2222222222222222, \"#7201a8\"], [0.3333333333333333, \"#9c179e\"], [0.4444444444444444, \"#bd3786\"], [0.5555555555555556, \"#d8576b\"], [0.6666666666666666, \"#ed7953\"], [0.7777777777777778, \"#fb9f3a\"], [0.8888888888888888, \"#fdca26\"], [1.0, \"#f0f921\"]], \"type\": \"heatmap\"}], \"heatmapgl\": [{\"colorbar\": {\"outlinewidth\": 0, \"ticks\": \"\"}, \"colorscale\": [[0.0, \"#0d0887\"], [0.1111111111111111, \"#46039f\"], [0.2222222222222222, \"#7201a8\"], [0.3333333333333333, \"#9c179e\"], [0.4444444444444444, \"#bd3786\"], [0.5555555555555556, \"#d8576b\"], [0.6666666666666666, \"#ed7953\"], [0.7777777777777778, \"#fb9f3a\"], [0.8888888888888888, \"#fdca26\"], [1.0, \"#f0f921\"]], \"type\": \"heatmapgl\"}], \"histogram\": [{\"marker\": {\"colorbar\": {\"outlinewidth\": 0, \"ticks\": \"\"}}, \"type\": \"histogram\"}], \"histogram2d\": [{\"colorbar\": {\"outlinewidth\": 0, \"ticks\": \"\"}, \"colorscale\": [[0.0, \"#0d0887\"], [0.1111111111111111, \"#46039f\"], [0.2222222222222222, \"#7201a8\"], [0.3333333333333333, \"#9c179e\"], [0.4444444444444444, \"#bd3786\"], [0.5555555555555556, \"#d8576b\"], [0.6666666666666666, \"#ed7953\"], [0.7777777777777778, \"#fb9f3a\"], [0.8888888888888888, \"#fdca26\"], [1.0, \"#f0f921\"]], \"type\": \"histogram2d\"}], \"histogram2dcontour\": [{\"colorbar\": {\"outlinewidth\": 0, \"ticks\": \"\"}, \"colorscale\": [[0.0, \"#0d0887\"], [0.1111111111111111, \"#46039f\"], [0.2222222222222222, \"#7201a8\"], [0.3333333333333333, \"#9c179e\"], [0.4444444444444444, \"#bd3786\"], [0.5555555555555556, \"#d8576b\"], [0.6666666666666666, \"#ed7953\"], [0.7777777777777778, \"#fb9f3a\"], [0.8888888888888888, \"#fdca26\"], [1.0, \"#f0f921\"]], \"type\": \"histogram2dcontour\"}], \"mesh3d\": [{\"colorbar\": {\"outlinewidth\": 0, \"ticks\": \"\"}, \"type\": \"mesh3d\"}], \"parcoords\": [{\"line\": {\"colorbar\": {\"outlinewidth\": 0, \"ticks\": \"\"}}, \"type\": \"parcoords\"}], \"pie\": [{\"automargin\": true, \"type\": \"pie\"}], \"scatter\": [{\"marker\": {\"colorbar\": {\"outlinewidth\": 0, \"ticks\": \"\"}}, \"type\": \"scatter\"}], \"scatter3d\": [{\"line\": {\"colorbar\": {\"outlinewidth\": 0, \"ticks\": \"\"}}, \"marker\": {\"colorbar\": {\"outlinewidth\": 0, \"ticks\": \"\"}}, \"type\": \"scatter3d\"}], \"scattercarpet\": [{\"marker\": {\"colorbar\": {\"outlinewidth\": 0, \"ticks\": \"\"}}, \"type\": \"scattercarpet\"}], \"scattergeo\": [{\"marker\": {\"colorbar\": {\"outlinewidth\": 0, \"ticks\": \"\"}}, \"type\": \"scattergeo\"}], \"scattergl\": [{\"marker\": {\"colorbar\": {\"outlinewidth\": 0, \"ticks\": \"\"}}, \"type\": \"scattergl\"}], \"scattermapbox\": [{\"marker\": {\"colorbar\": {\"outlinewidth\": 0, \"ticks\": \"\"}}, \"type\": \"scattermapbox\"}], \"scatterpolar\": [{\"marker\": {\"colorbar\": {\"outlinewidth\": 0, \"ticks\": \"\"}}, \"type\": \"scatterpolar\"}], \"scatterpolargl\": [{\"marker\": {\"colorbar\": {\"outlinewidth\": 0, \"ticks\": \"\"}}, \"type\": \"scatterpolargl\"}], \"scatterternary\": [{\"marker\": {\"colorbar\": {\"outlinewidth\": 0, \"ticks\": \"\"}}, \"type\": \"scatterternary\"}], \"surface\": [{\"colorbar\": {\"outlinewidth\": 0, \"ticks\": \"\"}, \"colorscale\": [[0.0, \"#0d0887\"], [0.1111111111111111, \"#46039f\"], [0.2222222222222222, \"#7201a8\"], [0.3333333333333333, \"#9c179e\"], [0.4444444444444444, \"#bd3786\"], [0.5555555555555556, \"#d8576b\"], [0.6666666666666666, \"#ed7953\"], [0.7777777777777778, \"#fb9f3a\"], [0.8888888888888888, \"#fdca26\"], [1.0, \"#f0f921\"]], \"type\": \"surface\"}], \"table\": [{\"cells\": {\"fill\": {\"color\": \"#EBF0F8\"}, \"line\": {\"color\": \"white\"}}, \"header\": {\"fill\": {\"color\": \"#C8D4E3\"}, \"line\": {\"color\": \"white\"}}, \"type\": \"table\"}]}, \"layout\": {\"annotationdefaults\": {\"arrowcolor\": \"#2a3f5f\", \"arrowhead\": 0, \"arrowwidth\": 1}, \"coloraxis\": {\"colorbar\": {\"outlinewidth\": 0, \"ticks\": \"\"}}, \"colorscale\": {\"diverging\": [[0, \"#8e0152\"], [0.1, \"#c51b7d\"], [0.2, \"#de77ae\"], [0.3, \"#f1b6da\"], [0.4, \"#fde0ef\"], [0.5, \"#f7f7f7\"], [0.6, \"#e6f5d0\"], [0.7, \"#b8e186\"], [0.8, \"#7fbc41\"], [0.9, \"#4d9221\"], [1, \"#276419\"]], \"sequential\": [[0.0, \"#0d0887\"], [0.1111111111111111, \"#46039f\"], [0.2222222222222222, \"#7201a8\"], [0.3333333333333333, \"#9c179e\"], [0.4444444444444444, \"#bd3786\"], [0.5555555555555556, \"#d8576b\"], [0.6666666666666666, \"#ed7953\"], [0.7777777777777778, \"#fb9f3a\"], [0.8888888888888888, \"#fdca26\"], [1.0, \"#f0f921\"]], \"sequentialminus\": [[0.0, \"#0d0887\"], [0.1111111111111111, \"#46039f\"], [0.2222222222222222, \"#7201a8\"], [0.3333333333333333, \"#9c179e\"], [0.4444444444444444, \"#bd3786\"], [0.5555555555555556, \"#d8576b\"], [0.6666666666666666, \"#ed7953\"], [0.7777777777777778, \"#fb9f3a\"], [0.8888888888888888, \"#fdca26\"], [1.0, \"#f0f921\"]]}, \"colorway\": [\"#636efa\", \"#EF553B\", \"#00cc96\", \"#ab63fa\", \"#FFA15A\", \"#19d3f3\", \"#FF6692\", \"#B6E880\", \"#FF97FF\", \"#FECB52\"], \"font\": {\"color\": \"#2a3f5f\"}, \"geo\": {\"bgcolor\": \"white\", \"lakecolor\": \"white\", \"landcolor\": \"#E5ECF6\", \"showlakes\": true, \"showland\": true, \"subunitcolor\": \"white\"}, \"hoverlabel\": {\"align\": \"left\"}, \"hovermode\": \"closest\", \"mapbox\": {\"style\": \"light\"}, \"paper_bgcolor\": \"white\", \"plot_bgcolor\": \"#E5ECF6\", \"polar\": {\"angularaxis\": {\"gridcolor\": \"white\", \"linecolor\": \"white\", \"ticks\": \"\"}, \"bgcolor\": \"#E5ECF6\", \"radialaxis\": {\"gridcolor\": \"white\", \"linecolor\": \"white\", \"ticks\": \"\"}}, \"scene\": {\"xaxis\": {\"backgroundcolor\": \"#E5ECF6\", \"gridcolor\": \"white\", \"gridwidth\": 2, \"linecolor\": \"white\", \"showbackground\": true, \"ticks\": \"\", \"zerolinecolor\": \"white\"}, \"yaxis\": {\"backgroundcolor\": \"#E5ECF6\", \"gridcolor\": \"white\", \"gridwidth\": 2, \"linecolor\": \"white\", \"showbackground\": true, \"ticks\": \"\", \"zerolinecolor\": \"white\"}, \"zaxis\": {\"backgroundcolor\": \"#E5ECF6\", \"gridcolor\": \"white\", \"gridwidth\": 2, \"linecolor\": \"white\", \"showbackground\": true, \"ticks\": \"\", \"zerolinecolor\": \"white\"}}, \"shapedefaults\": {\"line\": {\"color\": \"#2a3f5f\"}}, \"ternary\": {\"aaxis\": {\"gridcolor\": \"white\", \"linecolor\": \"white\", \"ticks\": \"\"}, \"baxis\": {\"gridcolor\": \"white\", \"linecolor\": \"white\", \"ticks\": \"\"}, \"bgcolor\": \"#E5ECF6\", \"caxis\": {\"gridcolor\": \"white\", \"linecolor\": \"white\", \"ticks\": \"\"}}, \"title\": {\"x\": 0.05}, \"xaxis\": {\"automargin\": true, \"gridcolor\": \"white\", \"linecolor\": \"white\", \"ticks\": \"\", \"title\": {\"standoff\": 15}, \"zerolinecolor\": \"white\", \"zerolinewidth\": 2}, \"yaxis\": {\"automargin\": true, \"gridcolor\": \"white\", \"linecolor\": \"white\", \"ticks\": \"\", \"title\": {\"standoff\": 15}, \"zerolinecolor\": \"white\", \"zerolinewidth\": 2}}}, \"title\": {\"text\": \"\"}, \"xaxis\": {\"anchor\": \"y\", \"domain\": [0.0, 1.0], \"fixedrange\": true, \"title\": {\"text\": \"Date\"}}, \"yaxis\": {\"anchor\": \"x\", \"domain\": [0.0, 1.0], \"fixedrange\": true, \"title\": {\"text\": \"Postive Cases Per Day\"}}},\n",
       "                        {\"displayModeBar\": false, \"responsive\": true}\n",
       "                    ).then(function(){\n",
       "                            \n",
       "var gd = document.getElementById('a5e15d65-03e8-4bf8-b6ae-132d2cdbc6d5');\n",
       "var x = new MutationObserver(function (mutations, observer) {{\n",
       "        var display = window.getComputedStyle(gd).display;\n",
       "        if (!display || display === 'none') {{\n",
       "            console.log([gd, 'removed!']);\n",
       "            Plotly.purge(gd);\n",
       "            observer.disconnect();\n",
       "        }}\n",
       "}});\n",
       "\n",
       "// Listen for the removal of the full notebook cells\n",
       "var notebookContainer = gd.closest('#notebook-container');\n",
       "if (notebookContainer) {{\n",
       "    x.observe(notebookContainer, {childList: true});\n",
       "}}\n",
       "\n",
       "// Listen for the clearing of the current output cell\n",
       "var outputEl = gd.closest('.output');\n",
       "if (outputEl) {{\n",
       "    x.observe(outputEl, {childList: true});\n",
       "}}\n",
       "\n",
       "                        })\n",
       "                };\n",
       "                });\n",
       "            </script>\n",
       "        </div>"
      ]
     },
     "metadata": {},
     "output_type": "display_data"
    }
   ],
   "source": [
    "\n",
    "# Hack to get legend to show\n",
    "confirmed_data_daily_long = pd.melt(confirmed_data_daily, id_vars=['date'], \n",
    "                                value_vars=['daily_cases'])\n",
    "fig_daily_cases = px.line(confirmed_data_daily_long, x='date', y='value', color='variable')\n",
    "\n",
    "# fig_daily_cases = px.line(daily_cases_df, x='date', y='daily_cases',)\n",
    "\n",
    "fig_daily_cases.update_layout(\n",
    "    title=\"\",\n",
    "    xaxis_title=\"Date\",\n",
    "    yaxis_title=\"Postive Cases Per Day\",\n",
    "    hovermode= 'x',\n",
    "    legend=dict(x=0.01, y=.98, title=dict(text=\"\")),\n",
    "    xaxis=dict(fixedrange=True),\n",
    "    yaxis=dict(fixedrange=True),\n",
    "    margin=empty_margin_dict,\n",
    ")\n",
    "\n",
    "fig_daily_cases.update_traces(line = {'color': 'firebrick', 'dash': 'solid'}, mode='lines')\n",
    "\n",
    "fig_daily_cases.data[0].name = \"Positive Cases\"\n",
    "\n",
    "fig_daily_cases.data[0].hoverlabel.namelength = 0\n",
    "\n",
    "fig_daily_cases.data[0].hovertemplate = '%{y}'\n",
    "fig_daily_cases.show(config = dict(displayModeBar=False))"
   ]
  },
  {
   "cell_type": "markdown",
   "metadata": {},
   "source": [
    "**Save to html**"
   ]
  },
  {
   "cell_type": "code",
   "execution_count": 149,
   "metadata": {},
   "outputs": [],
   "source": [
    "pio.write_html(fig_daily_cases, file='date_vs_daily_cases.html',\n",
    "               config = dict(displayModeBar=False), auto_open=True)"
   ]
  },
  {
   "cell_type": "markdown",
   "metadata": {},
   "source": [
    "### Tests"
   ]
  },
  {
   "cell_type": "code",
   "execution_count": 150,
   "metadata": {},
   "outputs": [
    {
     "data": {
      "text/html": [
       "<div>\n",
       "<style scoped>\n",
       "    .dataframe tbody tr th:only-of-type {\n",
       "        vertical-align: middle;\n",
       "    }\n",
       "\n",
       "    .dataframe tbody tr th {\n",
       "        vertical-align: top;\n",
       "    }\n",
       "\n",
       "    .dataframe thead th {\n",
       "        text-align: right;\n",
       "    }\n",
       "</style>\n",
       "<table border=\"1\" class=\"dataframe\">\n",
       "  <thead>\n",
       "    <tr style=\"text-align: right;\">\n",
       "      <th></th>\n",
       "      <th>date</th>\n",
       "      <th>daily_tests</th>\n",
       "    </tr>\n",
       "  </thead>\n",
       "  <tbody>\n",
       "    <tr>\n",
       "      <th>0</th>\n",
       "      <td>2020-02-11</td>\n",
       "      <td>61.0</td>\n",
       "    </tr>\n",
       "    <tr>\n",
       "      <th>1</th>\n",
       "      <td>2020-02-13</td>\n",
       "      <td>6.0</td>\n",
       "    </tr>\n",
       "    <tr>\n",
       "      <th>2</th>\n",
       "      <td>2020-02-14</td>\n",
       "      <td>4.0</td>\n",
       "    </tr>\n",
       "    <tr>\n",
       "      <th>3</th>\n",
       "      <td>2020-02-19</td>\n",
       "      <td>24.0</td>\n",
       "    </tr>\n",
       "    <tr>\n",
       "      <th>4</th>\n",
       "      <td>2020-02-20</td>\n",
       "      <td>11.0</td>\n",
       "    </tr>\n",
       "  </tbody>\n",
       "</table>\n",
       "</div>"
      ],
      "text/plain": [
       "        date  daily_tests\n",
       "0 2020-02-11         61.0\n",
       "1 2020-02-13          6.0\n",
       "2 2020-02-14          4.0\n",
       "3 2020-02-19         24.0\n",
       "4 2020-02-20         11.0"
      ]
     },
     "execution_count": 150,
     "metadata": {},
     "output_type": "execute_result"
    }
   ],
   "source": [
    "tests_data_daily = pd.read_csv('data/daily_cumulative_tests.csv', usecols=['date','daily_tests'])\n",
    "tests_data_daily['date'] = pd.to_datetime(tests_data_daily['date'], format='%d-%m-%Y')\n",
    "tests_data_daily.head()"
   ]
  },
  {
   "cell_type": "code",
   "execution_count": 151,
   "metadata": {},
   "outputs": [
    {
     "data": {
      "application/vnd.plotly.v1+json": {
       "config": {
        "displayModeBar": false,
        "plotlyServerURL": "https://plot.ly"
       },
       "data": [
        {
         "hoverlabel": {
          "namelength": 0
         },
         "hovertemplate": "%{y}",
         "legendgroup": "daily_tests",
         "line": {
          "color": "blue",
          "dash": "solid"
         },
         "mode": "lines",
         "name": "Tests",
         "showlegend": true,
         "type": "scatter",
         "x": [
          "2020-02-11T00:00:00",
          "2020-02-13T00:00:00",
          "2020-02-14T00:00:00",
          "2020-02-19T00:00:00",
          "2020-02-20T00:00:00",
          "2020-02-24T00:00:00",
          "2020-02-26T00:00:00",
          "2020-03-02T00:00:00",
          "2020-03-03T00:00:00",
          "2020-03-06T00:00:00",
          "2020-03-07T00:00:00",
          "2020-03-11T00:00:00",
          "2020-03-12T00:00:00",
          "2020-03-13T00:00:00",
          "2020-03-14T00:00:00",
          "2020-03-15T00:00:00",
          "2020-03-16T00:00:00",
          "2020-03-17T00:00:00",
          "2020-03-18T00:00:00",
          "2020-03-19T00:00:00",
          "2020-03-20T00:00:00",
          "2020-03-21T00:00:00",
          "2020-03-22T00:00:00",
          "2020-03-23T00:00:00",
          "2020-03-24T00:00:00",
          "2020-03-26T00:00:00",
          "2020-03-27T00:00:00",
          "2020-03-28T00:00:00",
          "2020-03-29T00:00:00",
          "2020-03-30T00:00:00",
          "2020-03-31T00:00:00",
          "2020-04-01T00:00:00",
          "2020-04-02T00:00:00",
          "2020-04-03T00:00:00",
          "2020-04-04T00:00:00",
          "2020-04-05T00:00:00",
          "2020-04-06T00:00:00",
          "2020-04-08T00:00:00",
          "2020-04-09T00:00:00",
          "2020-04-10T00:00:00",
          "2020-04-11T00:00:00",
          "2020-04-12T00:00:00",
          "2020-04-13T00:00:00",
          "2020-04-14T00:00:00",
          "2020-04-15T00:00:00",
          "2020-04-16T00:00:00",
          "2020-04-17T00:00:00",
          "2020-04-18T00:00:00",
          "2020-04-19T00:00:00",
          "2020-04-20T00:00:00",
          "2020-04-21T00:00:00",
          "2020-04-22T00:00:00",
          "2020-04-23T00:00:00",
          "2020-04-24T00:00:00",
          "2020-04-25T00:00:00",
          "2020-04-26T00:00:00",
          "2020-04-27T00:00:00",
          "2020-04-28T00:00:00",
          "2020-04-29T00:00:00",
          "2020-04-30T00:00:00"
         ],
         "xaxis": "x",
         "y": [
          61,
          6,
          4,
          24,
          11,
          10,
          5,
          39,
          4,
          36,
          41,
          404,
          203,
          76,
          93,
          459,
          929,
          506,
          159,
          1762,
          1606,
          987,
          1890,
          3500,
          2714,
          4942,
          8066,
          3426,
          3630,
          2816,
          2663,
          3220,
          3673,
          2396,
          3576,
          2936,
          1225,
          5678,
          5098,
          4154,
          2025,
          5032,
          3578,
          3359,
          3493,
          4545,
          5767,
          7374,
          6510,
          6799,
          5427,
          6837,
          9796,
          8820,
          8614,
          7639,
          9827,
          7027,
          11630,
          10403
         ],
         "yaxis": "y"
        }
       ],
       "layout": {
        "hovermode": "x",
        "legend": {
         "title": {
          "text": ""
         },
         "tracegroupgap": 0,
         "x": 0.01,
         "y": 0.98
        },
        "margin": {
         "b": 0,
         "l": 0,
         "r": 0,
         "t": 0
        },
        "template": {
         "data": {
          "bar": [
           {
            "error_x": {
             "color": "#2a3f5f"
            },
            "error_y": {
             "color": "#2a3f5f"
            },
            "marker": {
             "line": {
              "color": "#E5ECF6",
              "width": 0.5
             }
            },
            "type": "bar"
           }
          ],
          "barpolar": [
           {
            "marker": {
             "line": {
              "color": "#E5ECF6",
              "width": 0.5
             }
            },
            "type": "barpolar"
           }
          ],
          "carpet": [
           {
            "aaxis": {
             "endlinecolor": "#2a3f5f",
             "gridcolor": "white",
             "linecolor": "white",
             "minorgridcolor": "white",
             "startlinecolor": "#2a3f5f"
            },
            "baxis": {
             "endlinecolor": "#2a3f5f",
             "gridcolor": "white",
             "linecolor": "white",
             "minorgridcolor": "white",
             "startlinecolor": "#2a3f5f"
            },
            "type": "carpet"
           }
          ],
          "choropleth": [
           {
            "colorbar": {
             "outlinewidth": 0,
             "ticks": ""
            },
            "type": "choropleth"
           }
          ],
          "contour": [
           {
            "colorbar": {
             "outlinewidth": 0,
             "ticks": ""
            },
            "colorscale": [
             [
              0,
              "#0d0887"
             ],
             [
              0.1111111111111111,
              "#46039f"
             ],
             [
              0.2222222222222222,
              "#7201a8"
             ],
             [
              0.3333333333333333,
              "#9c179e"
             ],
             [
              0.4444444444444444,
              "#bd3786"
             ],
             [
              0.5555555555555556,
              "#d8576b"
             ],
             [
              0.6666666666666666,
              "#ed7953"
             ],
             [
              0.7777777777777778,
              "#fb9f3a"
             ],
             [
              0.8888888888888888,
              "#fdca26"
             ],
             [
              1,
              "#f0f921"
             ]
            ],
            "type": "contour"
           }
          ],
          "contourcarpet": [
           {
            "colorbar": {
             "outlinewidth": 0,
             "ticks": ""
            },
            "type": "contourcarpet"
           }
          ],
          "heatmap": [
           {
            "colorbar": {
             "outlinewidth": 0,
             "ticks": ""
            },
            "colorscale": [
             [
              0,
              "#0d0887"
             ],
             [
              0.1111111111111111,
              "#46039f"
             ],
             [
              0.2222222222222222,
              "#7201a8"
             ],
             [
              0.3333333333333333,
              "#9c179e"
             ],
             [
              0.4444444444444444,
              "#bd3786"
             ],
             [
              0.5555555555555556,
              "#d8576b"
             ],
             [
              0.6666666666666666,
              "#ed7953"
             ],
             [
              0.7777777777777778,
              "#fb9f3a"
             ],
             [
              0.8888888888888888,
              "#fdca26"
             ],
             [
              1,
              "#f0f921"
             ]
            ],
            "type": "heatmap"
           }
          ],
          "heatmapgl": [
           {
            "colorbar": {
             "outlinewidth": 0,
             "ticks": ""
            },
            "colorscale": [
             [
              0,
              "#0d0887"
             ],
             [
              0.1111111111111111,
              "#46039f"
             ],
             [
              0.2222222222222222,
              "#7201a8"
             ],
             [
              0.3333333333333333,
              "#9c179e"
             ],
             [
              0.4444444444444444,
              "#bd3786"
             ],
             [
              0.5555555555555556,
              "#d8576b"
             ],
             [
              0.6666666666666666,
              "#ed7953"
             ],
             [
              0.7777777777777778,
              "#fb9f3a"
             ],
             [
              0.8888888888888888,
              "#fdca26"
             ],
             [
              1,
              "#f0f921"
             ]
            ],
            "type": "heatmapgl"
           }
          ],
          "histogram": [
           {
            "marker": {
             "colorbar": {
              "outlinewidth": 0,
              "ticks": ""
             }
            },
            "type": "histogram"
           }
          ],
          "histogram2d": [
           {
            "colorbar": {
             "outlinewidth": 0,
             "ticks": ""
            },
            "colorscale": [
             [
              0,
              "#0d0887"
             ],
             [
              0.1111111111111111,
              "#46039f"
             ],
             [
              0.2222222222222222,
              "#7201a8"
             ],
             [
              0.3333333333333333,
              "#9c179e"
             ],
             [
              0.4444444444444444,
              "#bd3786"
             ],
             [
              0.5555555555555556,
              "#d8576b"
             ],
             [
              0.6666666666666666,
              "#ed7953"
             ],
             [
              0.7777777777777778,
              "#fb9f3a"
             ],
             [
              0.8888888888888888,
              "#fdca26"
             ],
             [
              1,
              "#f0f921"
             ]
            ],
            "type": "histogram2d"
           }
          ],
          "histogram2dcontour": [
           {
            "colorbar": {
             "outlinewidth": 0,
             "ticks": ""
            },
            "colorscale": [
             [
              0,
              "#0d0887"
             ],
             [
              0.1111111111111111,
              "#46039f"
             ],
             [
              0.2222222222222222,
              "#7201a8"
             ],
             [
              0.3333333333333333,
              "#9c179e"
             ],
             [
              0.4444444444444444,
              "#bd3786"
             ],
             [
              0.5555555555555556,
              "#d8576b"
             ],
             [
              0.6666666666666666,
              "#ed7953"
             ],
             [
              0.7777777777777778,
              "#fb9f3a"
             ],
             [
              0.8888888888888888,
              "#fdca26"
             ],
             [
              1,
              "#f0f921"
             ]
            ],
            "type": "histogram2dcontour"
           }
          ],
          "mesh3d": [
           {
            "colorbar": {
             "outlinewidth": 0,
             "ticks": ""
            },
            "type": "mesh3d"
           }
          ],
          "parcoords": [
           {
            "line": {
             "colorbar": {
              "outlinewidth": 0,
              "ticks": ""
             }
            },
            "type": "parcoords"
           }
          ],
          "pie": [
           {
            "automargin": true,
            "type": "pie"
           }
          ],
          "scatter": [
           {
            "marker": {
             "colorbar": {
              "outlinewidth": 0,
              "ticks": ""
             }
            },
            "type": "scatter"
           }
          ],
          "scatter3d": [
           {
            "line": {
             "colorbar": {
              "outlinewidth": 0,
              "ticks": ""
             }
            },
            "marker": {
             "colorbar": {
              "outlinewidth": 0,
              "ticks": ""
             }
            },
            "type": "scatter3d"
           }
          ],
          "scattercarpet": [
           {
            "marker": {
             "colorbar": {
              "outlinewidth": 0,
              "ticks": ""
             }
            },
            "type": "scattercarpet"
           }
          ],
          "scattergeo": [
           {
            "marker": {
             "colorbar": {
              "outlinewidth": 0,
              "ticks": ""
             }
            },
            "type": "scattergeo"
           }
          ],
          "scattergl": [
           {
            "marker": {
             "colorbar": {
              "outlinewidth": 0,
              "ticks": ""
             }
            },
            "type": "scattergl"
           }
          ],
          "scattermapbox": [
           {
            "marker": {
             "colorbar": {
              "outlinewidth": 0,
              "ticks": ""
             }
            },
            "type": "scattermapbox"
           }
          ],
          "scatterpolar": [
           {
            "marker": {
             "colorbar": {
              "outlinewidth": 0,
              "ticks": ""
             }
            },
            "type": "scatterpolar"
           }
          ],
          "scatterpolargl": [
           {
            "marker": {
             "colorbar": {
              "outlinewidth": 0,
              "ticks": ""
             }
            },
            "type": "scatterpolargl"
           }
          ],
          "scatterternary": [
           {
            "marker": {
             "colorbar": {
              "outlinewidth": 0,
              "ticks": ""
             }
            },
            "type": "scatterternary"
           }
          ],
          "surface": [
           {
            "colorbar": {
             "outlinewidth": 0,
             "ticks": ""
            },
            "colorscale": [
             [
              0,
              "#0d0887"
             ],
             [
              0.1111111111111111,
              "#46039f"
             ],
             [
              0.2222222222222222,
              "#7201a8"
             ],
             [
              0.3333333333333333,
              "#9c179e"
             ],
             [
              0.4444444444444444,
              "#bd3786"
             ],
             [
              0.5555555555555556,
              "#d8576b"
             ],
             [
              0.6666666666666666,
              "#ed7953"
             ],
             [
              0.7777777777777778,
              "#fb9f3a"
             ],
             [
              0.8888888888888888,
              "#fdca26"
             ],
             [
              1,
              "#f0f921"
             ]
            ],
            "type": "surface"
           }
          ],
          "table": [
           {
            "cells": {
             "fill": {
              "color": "#EBF0F8"
             },
             "line": {
              "color": "white"
             }
            },
            "header": {
             "fill": {
              "color": "#C8D4E3"
             },
             "line": {
              "color": "white"
             }
            },
            "type": "table"
           }
          ]
         },
         "layout": {
          "annotationdefaults": {
           "arrowcolor": "#2a3f5f",
           "arrowhead": 0,
           "arrowwidth": 1
          },
          "coloraxis": {
           "colorbar": {
            "outlinewidth": 0,
            "ticks": ""
           }
          },
          "colorscale": {
           "diverging": [
            [
             0,
             "#8e0152"
            ],
            [
             0.1,
             "#c51b7d"
            ],
            [
             0.2,
             "#de77ae"
            ],
            [
             0.3,
             "#f1b6da"
            ],
            [
             0.4,
             "#fde0ef"
            ],
            [
             0.5,
             "#f7f7f7"
            ],
            [
             0.6,
             "#e6f5d0"
            ],
            [
             0.7,
             "#b8e186"
            ],
            [
             0.8,
             "#7fbc41"
            ],
            [
             0.9,
             "#4d9221"
            ],
            [
             1,
             "#276419"
            ]
           ],
           "sequential": [
            [
             0,
             "#0d0887"
            ],
            [
             0.1111111111111111,
             "#46039f"
            ],
            [
             0.2222222222222222,
             "#7201a8"
            ],
            [
             0.3333333333333333,
             "#9c179e"
            ],
            [
             0.4444444444444444,
             "#bd3786"
            ],
            [
             0.5555555555555556,
             "#d8576b"
            ],
            [
             0.6666666666666666,
             "#ed7953"
            ],
            [
             0.7777777777777778,
             "#fb9f3a"
            ],
            [
             0.8888888888888888,
             "#fdca26"
            ],
            [
             1,
             "#f0f921"
            ]
           ],
           "sequentialminus": [
            [
             0,
             "#0d0887"
            ],
            [
             0.1111111111111111,
             "#46039f"
            ],
            [
             0.2222222222222222,
             "#7201a8"
            ],
            [
             0.3333333333333333,
             "#9c179e"
            ],
            [
             0.4444444444444444,
             "#bd3786"
            ],
            [
             0.5555555555555556,
             "#d8576b"
            ],
            [
             0.6666666666666666,
             "#ed7953"
            ],
            [
             0.7777777777777778,
             "#fb9f3a"
            ],
            [
             0.8888888888888888,
             "#fdca26"
            ],
            [
             1,
             "#f0f921"
            ]
           ]
          },
          "colorway": [
           "#636efa",
           "#EF553B",
           "#00cc96",
           "#ab63fa",
           "#FFA15A",
           "#19d3f3",
           "#FF6692",
           "#B6E880",
           "#FF97FF",
           "#FECB52"
          ],
          "font": {
           "color": "#2a3f5f"
          },
          "geo": {
           "bgcolor": "white",
           "lakecolor": "white",
           "landcolor": "#E5ECF6",
           "showlakes": true,
           "showland": true,
           "subunitcolor": "white"
          },
          "hoverlabel": {
           "align": "left"
          },
          "hovermode": "closest",
          "mapbox": {
           "style": "light"
          },
          "paper_bgcolor": "white",
          "plot_bgcolor": "#E5ECF6",
          "polar": {
           "angularaxis": {
            "gridcolor": "white",
            "linecolor": "white",
            "ticks": ""
           },
           "bgcolor": "#E5ECF6",
           "radialaxis": {
            "gridcolor": "white",
            "linecolor": "white",
            "ticks": ""
           }
          },
          "scene": {
           "xaxis": {
            "backgroundcolor": "#E5ECF6",
            "gridcolor": "white",
            "gridwidth": 2,
            "linecolor": "white",
            "showbackground": true,
            "ticks": "",
            "zerolinecolor": "white"
           },
           "yaxis": {
            "backgroundcolor": "#E5ECF6",
            "gridcolor": "white",
            "gridwidth": 2,
            "linecolor": "white",
            "showbackground": true,
            "ticks": "",
            "zerolinecolor": "white"
           },
           "zaxis": {
            "backgroundcolor": "#E5ECF6",
            "gridcolor": "white",
            "gridwidth": 2,
            "linecolor": "white",
            "showbackground": true,
            "ticks": "",
            "zerolinecolor": "white"
           }
          },
          "shapedefaults": {
           "line": {
            "color": "#2a3f5f"
           }
          },
          "ternary": {
           "aaxis": {
            "gridcolor": "white",
            "linecolor": "white",
            "ticks": ""
           },
           "baxis": {
            "gridcolor": "white",
            "linecolor": "white",
            "ticks": ""
           },
           "bgcolor": "#E5ECF6",
           "caxis": {
            "gridcolor": "white",
            "linecolor": "white",
            "ticks": ""
           }
          },
          "title": {
           "x": 0.05
          },
          "xaxis": {
           "automargin": true,
           "gridcolor": "white",
           "linecolor": "white",
           "ticks": "",
           "title": {
            "standoff": 15
           },
           "zerolinecolor": "white",
           "zerolinewidth": 2
          },
          "yaxis": {
           "automargin": true,
           "gridcolor": "white",
           "linecolor": "white",
           "ticks": "",
           "title": {
            "standoff": 15
           },
           "zerolinecolor": "white",
           "zerolinewidth": 2
          }
         }
        },
        "title": {
         "text": ""
        },
        "xaxis": {
         "anchor": "y",
         "domain": [
          0,
          1
         ],
         "fixedrange": true,
         "title": {
          "text": "Date"
         }
        },
        "yaxis": {
         "anchor": "x",
         "domain": [
          0,
          1
         ],
         "fixedrange": true,
         "title": {
          "text": "Tests Per Day"
         }
        }
       }
      },
      "text/html": [
       "<div>\n",
       "        \n",
       "        \n",
       "            <div id=\"73111715-5d9f-481b-a5b0-624f1cb57d30\" class=\"plotly-graph-div\" style=\"height:525px; width:100%;\"></div>\n",
       "            <script type=\"text/javascript\">\n",
       "                require([\"plotly\"], function(Plotly) {\n",
       "                    window.PLOTLYENV=window.PLOTLYENV || {};\n",
       "                    \n",
       "                if (document.getElementById(\"73111715-5d9f-481b-a5b0-624f1cb57d30\")) {\n",
       "                    Plotly.newPlot(\n",
       "                        '73111715-5d9f-481b-a5b0-624f1cb57d30',\n",
       "                        [{\"hoverlabel\": {\"namelength\": 0}, \"hovertemplate\": \"%{y}\", \"legendgroup\": \"daily_tests\", \"line\": {\"color\": \"blue\", \"dash\": \"solid\"}, \"mode\": \"lines\", \"name\": \"Tests\", \"showlegend\": true, \"type\": \"scatter\", \"x\": [\"2020-02-11T00:00:00\", \"2020-02-13T00:00:00\", \"2020-02-14T00:00:00\", \"2020-02-19T00:00:00\", \"2020-02-20T00:00:00\", \"2020-02-24T00:00:00\", \"2020-02-26T00:00:00\", \"2020-03-02T00:00:00\", \"2020-03-03T00:00:00\", \"2020-03-06T00:00:00\", \"2020-03-07T00:00:00\", \"2020-03-11T00:00:00\", \"2020-03-12T00:00:00\", \"2020-03-13T00:00:00\", \"2020-03-14T00:00:00\", \"2020-03-15T00:00:00\", \"2020-03-16T00:00:00\", \"2020-03-17T00:00:00\", \"2020-03-18T00:00:00\", \"2020-03-19T00:00:00\", \"2020-03-20T00:00:00\", \"2020-03-21T00:00:00\", \"2020-03-22T00:00:00\", \"2020-03-23T00:00:00\", \"2020-03-24T00:00:00\", \"2020-03-26T00:00:00\", \"2020-03-27T00:00:00\", \"2020-03-28T00:00:00\", \"2020-03-29T00:00:00\", \"2020-03-30T00:00:00\", \"2020-03-31T00:00:00\", \"2020-04-01T00:00:00\", \"2020-04-02T00:00:00\", \"2020-04-03T00:00:00\", \"2020-04-04T00:00:00\", \"2020-04-05T00:00:00\", \"2020-04-06T00:00:00\", \"2020-04-08T00:00:00\", \"2020-04-09T00:00:00\", \"2020-04-10T00:00:00\", \"2020-04-11T00:00:00\", \"2020-04-12T00:00:00\", \"2020-04-13T00:00:00\", \"2020-04-14T00:00:00\", \"2020-04-15T00:00:00\", \"2020-04-16T00:00:00\", \"2020-04-17T00:00:00\", \"2020-04-18T00:00:00\", \"2020-04-19T00:00:00\", \"2020-04-20T00:00:00\", \"2020-04-21T00:00:00\", \"2020-04-22T00:00:00\", \"2020-04-23T00:00:00\", \"2020-04-24T00:00:00\", \"2020-04-25T00:00:00\", \"2020-04-26T00:00:00\", \"2020-04-27T00:00:00\", \"2020-04-28T00:00:00\", \"2020-04-29T00:00:00\", \"2020-04-30T00:00:00\"], \"xaxis\": \"x\", \"y\": [61.0, 6.0, 4.0, 24.0, 11.0, 10.0, 5.0, 39.0, 4.0, 36.0, 41.0, 404.0, 203.0, 76.0, 93.0, 459.0, 929.0, 506.0, 159.0, 1762.0, 1606.0, 987.0, 1890.0, 3500.0, 2714.0, 4942.0, 8066.0, 3426.0, 3630.0, 2816.0, 2663.0, 3220.0, 3673.0, 2396.0, 3576.0, 2936.0, 1225.0, 5678.0, 5098.0, 4154.0, 2025.0, 5032.0, 3578.0, 3359.0, 3493.0, 4545.0, 5767.0, 7374.0, 6510.0, 6799.0, 5427.0, 6837.0, 9796.0, 8820.0, 8614.0, 7639.0, 9827.0, 7027.0, 11630.0, 10403.0], \"yaxis\": \"y\"}],\n",
       "                        {\"hovermode\": \"x\", \"legend\": {\"title\": {\"text\": \"\"}, \"tracegroupgap\": 0, \"x\": 0.01, \"y\": 0.98}, \"margin\": {\"b\": 0, \"l\": 0, \"r\": 0, \"t\": 0}, \"template\": {\"data\": {\"bar\": [{\"error_x\": {\"color\": \"#2a3f5f\"}, \"error_y\": {\"color\": \"#2a3f5f\"}, \"marker\": {\"line\": {\"color\": \"#E5ECF6\", \"width\": 0.5}}, \"type\": \"bar\"}], \"barpolar\": [{\"marker\": {\"line\": {\"color\": \"#E5ECF6\", \"width\": 0.5}}, \"type\": \"barpolar\"}], \"carpet\": [{\"aaxis\": {\"endlinecolor\": \"#2a3f5f\", \"gridcolor\": \"white\", \"linecolor\": \"white\", \"minorgridcolor\": \"white\", \"startlinecolor\": \"#2a3f5f\"}, \"baxis\": {\"endlinecolor\": \"#2a3f5f\", \"gridcolor\": \"white\", \"linecolor\": \"white\", \"minorgridcolor\": \"white\", \"startlinecolor\": \"#2a3f5f\"}, \"type\": \"carpet\"}], \"choropleth\": [{\"colorbar\": {\"outlinewidth\": 0, \"ticks\": \"\"}, \"type\": \"choropleth\"}], \"contour\": [{\"colorbar\": {\"outlinewidth\": 0, \"ticks\": \"\"}, \"colorscale\": [[0.0, \"#0d0887\"], [0.1111111111111111, \"#46039f\"], [0.2222222222222222, \"#7201a8\"], [0.3333333333333333, \"#9c179e\"], [0.4444444444444444, \"#bd3786\"], [0.5555555555555556, \"#d8576b\"], [0.6666666666666666, \"#ed7953\"], [0.7777777777777778, \"#fb9f3a\"], [0.8888888888888888, \"#fdca26\"], [1.0, \"#f0f921\"]], \"type\": \"contour\"}], \"contourcarpet\": [{\"colorbar\": {\"outlinewidth\": 0, \"ticks\": \"\"}, \"type\": \"contourcarpet\"}], \"heatmap\": [{\"colorbar\": {\"outlinewidth\": 0, \"ticks\": \"\"}, \"colorscale\": [[0.0, \"#0d0887\"], [0.1111111111111111, \"#46039f\"], [0.2222222222222222, \"#7201a8\"], [0.3333333333333333, \"#9c179e\"], [0.4444444444444444, \"#bd3786\"], [0.5555555555555556, \"#d8576b\"], [0.6666666666666666, \"#ed7953\"], [0.7777777777777778, \"#fb9f3a\"], [0.8888888888888888, \"#fdca26\"], [1.0, \"#f0f921\"]], \"type\": \"heatmap\"}], \"heatmapgl\": [{\"colorbar\": {\"outlinewidth\": 0, \"ticks\": \"\"}, \"colorscale\": [[0.0, \"#0d0887\"], [0.1111111111111111, \"#46039f\"], [0.2222222222222222, \"#7201a8\"], [0.3333333333333333, \"#9c179e\"], [0.4444444444444444, \"#bd3786\"], [0.5555555555555556, \"#d8576b\"], [0.6666666666666666, \"#ed7953\"], [0.7777777777777778, \"#fb9f3a\"], [0.8888888888888888, \"#fdca26\"], [1.0, \"#f0f921\"]], \"type\": \"heatmapgl\"}], \"histogram\": [{\"marker\": {\"colorbar\": {\"outlinewidth\": 0, \"ticks\": \"\"}}, \"type\": \"histogram\"}], \"histogram2d\": [{\"colorbar\": {\"outlinewidth\": 0, \"ticks\": \"\"}, \"colorscale\": [[0.0, \"#0d0887\"], [0.1111111111111111, \"#46039f\"], [0.2222222222222222, \"#7201a8\"], [0.3333333333333333, \"#9c179e\"], [0.4444444444444444, \"#bd3786\"], [0.5555555555555556, \"#d8576b\"], [0.6666666666666666, \"#ed7953\"], [0.7777777777777778, \"#fb9f3a\"], [0.8888888888888888, \"#fdca26\"], [1.0, \"#f0f921\"]], \"type\": \"histogram2d\"}], \"histogram2dcontour\": [{\"colorbar\": {\"outlinewidth\": 0, \"ticks\": \"\"}, \"colorscale\": [[0.0, \"#0d0887\"], [0.1111111111111111, \"#46039f\"], [0.2222222222222222, \"#7201a8\"], [0.3333333333333333, \"#9c179e\"], [0.4444444444444444, \"#bd3786\"], [0.5555555555555556, \"#d8576b\"], [0.6666666666666666, \"#ed7953\"], [0.7777777777777778, \"#fb9f3a\"], [0.8888888888888888, \"#fdca26\"], [1.0, \"#f0f921\"]], \"type\": \"histogram2dcontour\"}], \"mesh3d\": [{\"colorbar\": {\"outlinewidth\": 0, \"ticks\": \"\"}, \"type\": \"mesh3d\"}], \"parcoords\": [{\"line\": {\"colorbar\": {\"outlinewidth\": 0, \"ticks\": \"\"}}, \"type\": \"parcoords\"}], \"pie\": [{\"automargin\": true, \"type\": \"pie\"}], \"scatter\": [{\"marker\": {\"colorbar\": {\"outlinewidth\": 0, \"ticks\": \"\"}}, \"type\": \"scatter\"}], \"scatter3d\": [{\"line\": {\"colorbar\": {\"outlinewidth\": 0, \"ticks\": \"\"}}, \"marker\": {\"colorbar\": {\"outlinewidth\": 0, \"ticks\": \"\"}}, \"type\": \"scatter3d\"}], \"scattercarpet\": [{\"marker\": {\"colorbar\": {\"outlinewidth\": 0, \"ticks\": \"\"}}, \"type\": \"scattercarpet\"}], \"scattergeo\": [{\"marker\": {\"colorbar\": {\"outlinewidth\": 0, \"ticks\": \"\"}}, \"type\": \"scattergeo\"}], \"scattergl\": [{\"marker\": {\"colorbar\": {\"outlinewidth\": 0, \"ticks\": \"\"}}, \"type\": \"scattergl\"}], \"scattermapbox\": [{\"marker\": {\"colorbar\": {\"outlinewidth\": 0, \"ticks\": \"\"}}, \"type\": \"scattermapbox\"}], \"scatterpolar\": [{\"marker\": {\"colorbar\": {\"outlinewidth\": 0, \"ticks\": \"\"}}, \"type\": \"scatterpolar\"}], \"scatterpolargl\": [{\"marker\": {\"colorbar\": {\"outlinewidth\": 0, \"ticks\": \"\"}}, \"type\": \"scatterpolargl\"}], \"scatterternary\": [{\"marker\": {\"colorbar\": {\"outlinewidth\": 0, \"ticks\": \"\"}}, \"type\": \"scatterternary\"}], \"surface\": [{\"colorbar\": {\"outlinewidth\": 0, \"ticks\": \"\"}, \"colorscale\": [[0.0, \"#0d0887\"], [0.1111111111111111, \"#46039f\"], [0.2222222222222222, \"#7201a8\"], [0.3333333333333333, \"#9c179e\"], [0.4444444444444444, \"#bd3786\"], [0.5555555555555556, \"#d8576b\"], [0.6666666666666666, \"#ed7953\"], [0.7777777777777778, \"#fb9f3a\"], [0.8888888888888888, \"#fdca26\"], [1.0, \"#f0f921\"]], \"type\": \"surface\"}], \"table\": [{\"cells\": {\"fill\": {\"color\": \"#EBF0F8\"}, \"line\": {\"color\": \"white\"}}, \"header\": {\"fill\": {\"color\": \"#C8D4E3\"}, \"line\": {\"color\": \"white\"}}, \"type\": \"table\"}]}, \"layout\": {\"annotationdefaults\": {\"arrowcolor\": \"#2a3f5f\", \"arrowhead\": 0, \"arrowwidth\": 1}, \"coloraxis\": {\"colorbar\": {\"outlinewidth\": 0, \"ticks\": \"\"}}, \"colorscale\": {\"diverging\": [[0, \"#8e0152\"], [0.1, \"#c51b7d\"], [0.2, \"#de77ae\"], [0.3, \"#f1b6da\"], [0.4, \"#fde0ef\"], [0.5, \"#f7f7f7\"], [0.6, \"#e6f5d0\"], [0.7, \"#b8e186\"], [0.8, \"#7fbc41\"], [0.9, \"#4d9221\"], [1, \"#276419\"]], \"sequential\": [[0.0, \"#0d0887\"], [0.1111111111111111, \"#46039f\"], [0.2222222222222222, \"#7201a8\"], [0.3333333333333333, \"#9c179e\"], [0.4444444444444444, \"#bd3786\"], [0.5555555555555556, \"#d8576b\"], [0.6666666666666666, \"#ed7953\"], [0.7777777777777778, \"#fb9f3a\"], [0.8888888888888888, \"#fdca26\"], [1.0, \"#f0f921\"]], \"sequentialminus\": [[0.0, \"#0d0887\"], [0.1111111111111111, \"#46039f\"], [0.2222222222222222, \"#7201a8\"], [0.3333333333333333, \"#9c179e\"], [0.4444444444444444, \"#bd3786\"], [0.5555555555555556, \"#d8576b\"], [0.6666666666666666, \"#ed7953\"], [0.7777777777777778, \"#fb9f3a\"], [0.8888888888888888, \"#fdca26\"], [1.0, \"#f0f921\"]]}, \"colorway\": [\"#636efa\", \"#EF553B\", \"#00cc96\", \"#ab63fa\", \"#FFA15A\", \"#19d3f3\", \"#FF6692\", \"#B6E880\", \"#FF97FF\", \"#FECB52\"], \"font\": {\"color\": \"#2a3f5f\"}, \"geo\": {\"bgcolor\": \"white\", \"lakecolor\": \"white\", \"landcolor\": \"#E5ECF6\", \"showlakes\": true, \"showland\": true, \"subunitcolor\": \"white\"}, \"hoverlabel\": {\"align\": \"left\"}, \"hovermode\": \"closest\", \"mapbox\": {\"style\": \"light\"}, \"paper_bgcolor\": \"white\", \"plot_bgcolor\": \"#E5ECF6\", \"polar\": {\"angularaxis\": {\"gridcolor\": \"white\", \"linecolor\": \"white\", \"ticks\": \"\"}, \"bgcolor\": \"#E5ECF6\", \"radialaxis\": {\"gridcolor\": \"white\", \"linecolor\": \"white\", \"ticks\": \"\"}}, \"scene\": {\"xaxis\": {\"backgroundcolor\": \"#E5ECF6\", \"gridcolor\": \"white\", \"gridwidth\": 2, \"linecolor\": \"white\", \"showbackground\": true, \"ticks\": \"\", \"zerolinecolor\": \"white\"}, \"yaxis\": {\"backgroundcolor\": \"#E5ECF6\", \"gridcolor\": \"white\", \"gridwidth\": 2, \"linecolor\": \"white\", \"showbackground\": true, \"ticks\": \"\", \"zerolinecolor\": \"white\"}, \"zaxis\": {\"backgroundcolor\": \"#E5ECF6\", \"gridcolor\": \"white\", \"gridwidth\": 2, \"linecolor\": \"white\", \"showbackground\": true, \"ticks\": \"\", \"zerolinecolor\": \"white\"}}, \"shapedefaults\": {\"line\": {\"color\": \"#2a3f5f\"}}, \"ternary\": {\"aaxis\": {\"gridcolor\": \"white\", \"linecolor\": \"white\", \"ticks\": \"\"}, \"baxis\": {\"gridcolor\": \"white\", \"linecolor\": \"white\", \"ticks\": \"\"}, \"bgcolor\": \"#E5ECF6\", \"caxis\": {\"gridcolor\": \"white\", \"linecolor\": \"white\", \"ticks\": \"\"}}, \"title\": {\"x\": 0.05}, \"xaxis\": {\"automargin\": true, \"gridcolor\": \"white\", \"linecolor\": \"white\", \"ticks\": \"\", \"title\": {\"standoff\": 15}, \"zerolinecolor\": \"white\", \"zerolinewidth\": 2}, \"yaxis\": {\"automargin\": true, \"gridcolor\": \"white\", \"linecolor\": \"white\", \"ticks\": \"\", \"title\": {\"standoff\": 15}, \"zerolinecolor\": \"white\", \"zerolinewidth\": 2}}}, \"title\": {\"text\": \"\"}, \"xaxis\": {\"anchor\": \"y\", \"domain\": [0.0, 1.0], \"fixedrange\": true, \"title\": {\"text\": \"Date\"}}, \"yaxis\": {\"anchor\": \"x\", \"domain\": [0.0, 1.0], \"fixedrange\": true, \"title\": {\"text\": \"Tests Per Day\"}}},\n",
       "                        {\"displayModeBar\": false, \"responsive\": true}\n",
       "                    ).then(function(){\n",
       "                            \n",
       "var gd = document.getElementById('73111715-5d9f-481b-a5b0-624f1cb57d30');\n",
       "var x = new MutationObserver(function (mutations, observer) {{\n",
       "        var display = window.getComputedStyle(gd).display;\n",
       "        if (!display || display === 'none') {{\n",
       "            console.log([gd, 'removed!']);\n",
       "            Plotly.purge(gd);\n",
       "            observer.disconnect();\n",
       "        }}\n",
       "}});\n",
       "\n",
       "// Listen for the removal of the full notebook cells\n",
       "var notebookContainer = gd.closest('#notebook-container');\n",
       "if (notebookContainer) {{\n",
       "    x.observe(notebookContainer, {childList: true});\n",
       "}}\n",
       "\n",
       "// Listen for the clearing of the current output cell\n",
       "var outputEl = gd.closest('.output');\n",
       "if (outputEl) {{\n",
       "    x.observe(outputEl, {childList: true});\n",
       "}}\n",
       "\n",
       "                        })\n",
       "                };\n",
       "                });\n",
       "            </script>\n",
       "        </div>"
      ]
     },
     "metadata": {},
     "output_type": "display_data"
    }
   ],
   "source": [
    "# Hack to get legend to show\n",
    "tests_data_daily_long = pd.melt(tests_data_daily, id_vars=['date'], \n",
    "                                value_vars=['daily_tests'])\n",
    "fig_daily_tests = px.line(tests_data_daily_long, x='date', y='value', color='variable')\n",
    "\n",
    "# fig_daily_cases = px.line(daily_cases_df, x='date', y='daily_cases',)\n",
    "\n",
    "fig_daily_tests.update_layout(\n",
    "    title=\"\",\n",
    "    xaxis_title=\"Date\",\n",
    "    yaxis_title=\"Tests Per Day\",\n",
    "    hovermode= 'x',\n",
    "    legend=dict(x=0.01, y=.98, title=dict(text=\"\")),\n",
    "    xaxis=dict(fixedrange=True),\n",
    "    yaxis=dict(fixedrange=True),\n",
    "    margin=empty_margin_dict,\n",
    ")\n",
    "\n",
    "fig_daily_tests.update_traces(line = {'color': 'blue', 'dash': 'solid'}, mode='lines')\n",
    "\n",
    "fig_daily_tests.data[0].name = \"Tests\"\n",
    "\n",
    "fig_daily_tests.data[0].hoverlabel.namelength = 0\n",
    "\n",
    "fig_daily_tests.data[0].hovertemplate = '%{y}'\n",
    "fig_daily_tests.show(config = dict(displayModeBar=False))"
   ]
  },
  {
   "cell_type": "markdown",
   "metadata": {},
   "source": [
    "**Save to HTML**"
   ]
  },
  {
   "cell_type": "code",
   "execution_count": 152,
   "metadata": {},
   "outputs": [],
   "source": [
    "pio.write_html(fig_daily_tests, file='date_vs_daily_tests.html',\n",
    "               config = dict(displayModeBar=False), auto_open=True)"
   ]
  },
  {
   "cell_type": "markdown",
   "metadata": {},
   "source": [
    "### Confirmed Cases & Tests"
   ]
  },
  {
   "cell_type": "code",
   "execution_count": 153,
   "metadata": {},
   "outputs": [
    {
     "data": {
      "text/html": [
       "<div>\n",
       "<style scoped>\n",
       "    .dataframe tbody tr th:only-of-type {\n",
       "        vertical-align: middle;\n",
       "    }\n",
       "\n",
       "    .dataframe tbody tr th {\n",
       "        vertical-align: top;\n",
       "    }\n",
       "\n",
       "    .dataframe thead th {\n",
       "        text-align: right;\n",
       "    }\n",
       "</style>\n",
       "<table border=\"1\" class=\"dataframe\">\n",
       "  <thead>\n",
       "    <tr style=\"text-align: right;\">\n",
       "      <th></th>\n",
       "      <th>date</th>\n",
       "      <th>daily_cases</th>\n",
       "      <th>daily_tests</th>\n",
       "      <th>perc_positive</th>\n",
       "    </tr>\n",
       "  </thead>\n",
       "  <tbody>\n",
       "    <tr>\n",
       "      <th>0</th>\n",
       "      <td>2020-02-11</td>\n",
       "      <td>0.0</td>\n",
       "      <td>61.0</td>\n",
       "      <td>0.0</td>\n",
       "    </tr>\n",
       "    <tr>\n",
       "      <th>1</th>\n",
       "      <td>2020-02-13</td>\n",
       "      <td>0.0</td>\n",
       "      <td>6.0</td>\n",
       "      <td>0.0</td>\n",
       "    </tr>\n",
       "    <tr>\n",
       "      <th>2</th>\n",
       "      <td>2020-02-14</td>\n",
       "      <td>0.0</td>\n",
       "      <td>4.0</td>\n",
       "      <td>0.0</td>\n",
       "    </tr>\n",
       "    <tr>\n",
       "      <th>3</th>\n",
       "      <td>2020-02-19</td>\n",
       "      <td>0.0</td>\n",
       "      <td>24.0</td>\n",
       "      <td>0.0</td>\n",
       "    </tr>\n",
       "    <tr>\n",
       "      <th>4</th>\n",
       "      <td>2020-02-20</td>\n",
       "      <td>0.0</td>\n",
       "      <td>11.0</td>\n",
       "      <td>0.0</td>\n",
       "    </tr>\n",
       "  </tbody>\n",
       "</table>\n",
       "</div>"
      ],
      "text/plain": [
       "        date  daily_cases  daily_tests  perc_positive\n",
       "0 2020-02-11          0.0         61.0            0.0\n",
       "1 2020-02-13          0.0          6.0            0.0\n",
       "2 2020-02-14          0.0          4.0            0.0\n",
       "3 2020-02-19          0.0         24.0            0.0\n",
       "4 2020-02-20          0.0         11.0            0.0"
      ]
     },
     "execution_count": 153,
     "metadata": {},
     "output_type": "execute_result"
    }
   ],
   "source": [
    "daily_tests_confirmed = pd.read_csv('data/daily_tests_confirmed.csv')\n",
    "daily_tests_confirmed['date'] = pd.to_datetime(daily_tests_confirmed['date'], format='%Y/%m/%d')\n",
    "daily_tests_confirmed.head()"
   ]
  },
  {
   "cell_type": "code",
   "execution_count": 154,
   "metadata": {},
   "outputs": [
    {
     "data": {
      "application/vnd.plotly.v1+json": {
       "config": {
        "displayModeBar": false,
        "plotlyServerURL": "https://plot.ly"
       },
       "data": [
        {
         "hoverlabel": {
          "namelength": 0
         },
         "hovertemplate": "%{y}",
         "legendgroup": "daily_tests",
         "line": {
          "color": "#636efa",
          "dash": "solid"
         },
         "marker": {
          "color": "blue"
         },
         "mode": "lines",
         "name": "Tests",
         "showlegend": true,
         "type": "scatter",
         "x": [
          "2020-02-11T00:00:00",
          "2020-02-13T00:00:00",
          "2020-02-14T00:00:00",
          "2020-02-19T00:00:00",
          "2020-02-20T00:00:00",
          "2020-02-24T00:00:00",
          "2020-02-26T00:00:00",
          "2020-03-02T00:00:00",
          "2020-03-03T00:00:00",
          "2020-03-06T00:00:00",
          "2020-03-07T00:00:00",
          "2020-03-11T00:00:00",
          "2020-03-12T00:00:00",
          "2020-03-13T00:00:00",
          "2020-03-14T00:00:00",
          "2020-03-15T00:00:00",
          "2020-03-16T00:00:00",
          "2020-03-17T00:00:00",
          "2020-03-18T00:00:00",
          "2020-03-19T00:00:00",
          "2020-03-20T00:00:00",
          "2020-03-21T00:00:00",
          "2020-03-22T00:00:00",
          "2020-03-23T00:00:00",
          "2020-03-24T00:00:00",
          "2020-03-26T00:00:00",
          "2020-03-27T00:00:00",
          "2020-03-28T00:00:00",
          "2020-03-29T00:00:00",
          "2020-03-30T00:00:00",
          "2020-03-31T00:00:00",
          "2020-04-01T00:00:00",
          "2020-04-02T00:00:00",
          "2020-04-03T00:00:00",
          "2020-04-04T00:00:00",
          "2020-04-05T00:00:00",
          "2020-04-06T00:00:00",
          "2020-04-08T00:00:00",
          "2020-04-09T00:00:00",
          "2020-04-10T00:00:00",
          "2020-04-11T00:00:00",
          "2020-04-12T00:00:00",
          "2020-04-13T00:00:00",
          "2020-04-14T00:00:00",
          "2020-04-15T00:00:00",
          "2020-04-16T00:00:00",
          "2020-04-17T00:00:00",
          "2020-04-18T00:00:00",
          "2020-04-19T00:00:00",
          "2020-04-20T00:00:00",
          "2020-04-21T00:00:00",
          "2020-04-22T00:00:00",
          "2020-04-23T00:00:00",
          "2020-04-24T00:00:00",
          "2020-04-25T00:00:00",
          "2020-04-26T00:00:00",
          "2020-04-27T00:00:00",
          "2020-04-28T00:00:00",
          "2020-04-29T00:00:00",
          "2020-04-30T00:00:00"
         ],
         "xaxis": "x",
         "y": [
          61,
          6,
          4,
          24,
          11,
          10,
          5,
          39,
          4,
          36,
          41,
          404,
          203,
          76,
          93,
          459,
          929,
          506,
          159,
          1762,
          1606,
          987,
          1890,
          3500,
          2714,
          4942,
          8066,
          3426,
          3630,
          2816,
          2663,
          3220,
          3673,
          2396,
          3576,
          2936,
          1225,
          5678,
          5098,
          4154,
          2025,
          5032,
          3578,
          3359,
          3493,
          4545,
          5767,
          7374,
          6510,
          6799,
          5427,
          6837,
          9796,
          8820,
          8614,
          7639,
          9827,
          7027,
          11630,
          10403
         ],
         "yaxis": "y"
        },
        {
         "hoverlabel": {
          "namelength": 0
         },
         "hovertemplate": "%{y}",
         "legendgroup": "daily_cases",
         "line": {
          "color": "#EF553B",
          "dash": "solid"
         },
         "marker": {
          "color": "firebrick"
         },
         "mode": "lines",
         "name": "Positive Cases",
         "showlegend": true,
         "type": "scatter",
         "x": [
          "2020-02-11T00:00:00",
          "2020-02-13T00:00:00",
          "2020-02-14T00:00:00",
          "2020-02-19T00:00:00",
          "2020-02-20T00:00:00",
          "2020-02-24T00:00:00",
          "2020-02-26T00:00:00",
          "2020-03-02T00:00:00",
          "2020-03-03T00:00:00",
          "2020-03-05T00:00:00",
          "2020-03-06T00:00:00",
          "2020-03-07T00:00:00",
          "2020-03-08T00:00:00",
          "2020-03-09T00:00:00",
          "2020-03-11T00:00:00",
          "2020-03-12T00:00:00",
          "2020-03-13T00:00:00",
          "2020-03-14T00:00:00",
          "2020-03-15T00:00:00",
          "2020-03-16T00:00:00",
          "2020-03-17T00:00:00",
          "2020-03-18T00:00:00",
          "2020-03-19T00:00:00",
          "2020-03-20T00:00:00",
          "2020-03-21T00:00:00",
          "2020-03-22T00:00:00",
          "2020-03-23T00:00:00",
          "2020-03-24T00:00:00",
          "2020-03-25T00:00:00",
          "2020-03-26T00:00:00",
          "2020-03-27T00:00:00",
          "2020-03-28T00:00:00",
          "2020-03-29T00:00:00",
          "2020-03-30T00:00:00",
          "2020-03-31T00:00:00",
          "2020-04-01T00:00:00",
          "2020-04-02T00:00:00",
          "2020-04-03T00:00:00",
          "2020-04-04T00:00:00",
          "2020-04-05T00:00:00",
          "2020-04-06T00:00:00",
          "2020-04-07T00:00:00",
          "2020-04-08T00:00:00",
          "2020-04-09T00:00:00",
          "2020-04-10T00:00:00",
          "2020-04-11T00:00:00",
          "2020-04-12T00:00:00",
          "2020-04-13T00:00:00",
          "2020-04-14T00:00:00",
          "2020-04-15T00:00:00",
          "2020-04-16T00:00:00",
          "2020-04-17T00:00:00",
          "2020-04-18T00:00:00",
          "2020-04-19T00:00:00",
          "2020-04-20T00:00:00",
          "2020-04-21T00:00:00",
          "2020-04-22T00:00:00",
          "2020-04-23T00:00:00",
          "2020-04-24T00:00:00",
          "2020-04-25T00:00:00",
          "2020-04-26T00:00:00",
          "2020-04-27T00:00:00",
          "2020-04-28T00:00:00",
          "2020-04-29T00:00:00",
          "2020-04-30T00:00:00"
         ],
         "xaxis": "x",
         "y": [
          0,
          0,
          0,
          0,
          0,
          0,
          0,
          0,
          0,
          1,
          0,
          1,
          1,
          4,
          6,
          3,
          8,
          14,
          13,
          11,
          23,
          31,
          34,
          52,
          38,
          34,
          128,
          152,
          155,
          218,
          243,
          17,
          93,
          46,
          27,
          27,
          82,
          43,
          80,
          70,
          31,
          63,
          96,
          89,
          69,
          25,
          145,
          99,
          143,
          91,
          99,
          178,
          251,
          124,
          142,
          165,
          170,
          318,
          267,
          141,
          185,
          247,
          203,
          354,
          297
         ],
         "yaxis": "y"
        }
       ],
       "layout": {
        "hovermode": "x",
        "legend": {
         "title": {
          "text": ""
         },
         "tracegroupgap": 0,
         "x": 0.01,
         "y": 0.98
        },
        "margin": {
         "b": 0,
         "l": 0,
         "r": 0,
         "t": 0
        },
        "template": {
         "data": {
          "bar": [
           {
            "error_x": {
             "color": "#2a3f5f"
            },
            "error_y": {
             "color": "#2a3f5f"
            },
            "marker": {
             "line": {
              "color": "#E5ECF6",
              "width": 0.5
             }
            },
            "type": "bar"
           }
          ],
          "barpolar": [
           {
            "marker": {
             "line": {
              "color": "#E5ECF6",
              "width": 0.5
             }
            },
            "type": "barpolar"
           }
          ],
          "carpet": [
           {
            "aaxis": {
             "endlinecolor": "#2a3f5f",
             "gridcolor": "white",
             "linecolor": "white",
             "minorgridcolor": "white",
             "startlinecolor": "#2a3f5f"
            },
            "baxis": {
             "endlinecolor": "#2a3f5f",
             "gridcolor": "white",
             "linecolor": "white",
             "minorgridcolor": "white",
             "startlinecolor": "#2a3f5f"
            },
            "type": "carpet"
           }
          ],
          "choropleth": [
           {
            "colorbar": {
             "outlinewidth": 0,
             "ticks": ""
            },
            "type": "choropleth"
           }
          ],
          "contour": [
           {
            "colorbar": {
             "outlinewidth": 0,
             "ticks": ""
            },
            "colorscale": [
             [
              0,
              "#0d0887"
             ],
             [
              0.1111111111111111,
              "#46039f"
             ],
             [
              0.2222222222222222,
              "#7201a8"
             ],
             [
              0.3333333333333333,
              "#9c179e"
             ],
             [
              0.4444444444444444,
              "#bd3786"
             ],
             [
              0.5555555555555556,
              "#d8576b"
             ],
             [
              0.6666666666666666,
              "#ed7953"
             ],
             [
              0.7777777777777778,
              "#fb9f3a"
             ],
             [
              0.8888888888888888,
              "#fdca26"
             ],
             [
              1,
              "#f0f921"
             ]
            ],
            "type": "contour"
           }
          ],
          "contourcarpet": [
           {
            "colorbar": {
             "outlinewidth": 0,
             "ticks": ""
            },
            "type": "contourcarpet"
           }
          ],
          "heatmap": [
           {
            "colorbar": {
             "outlinewidth": 0,
             "ticks": ""
            },
            "colorscale": [
             [
              0,
              "#0d0887"
             ],
             [
              0.1111111111111111,
              "#46039f"
             ],
             [
              0.2222222222222222,
              "#7201a8"
             ],
             [
              0.3333333333333333,
              "#9c179e"
             ],
             [
              0.4444444444444444,
              "#bd3786"
             ],
             [
              0.5555555555555556,
              "#d8576b"
             ],
             [
              0.6666666666666666,
              "#ed7953"
             ],
             [
              0.7777777777777778,
              "#fb9f3a"
             ],
             [
              0.8888888888888888,
              "#fdca26"
             ],
             [
              1,
              "#f0f921"
             ]
            ],
            "type": "heatmap"
           }
          ],
          "heatmapgl": [
           {
            "colorbar": {
             "outlinewidth": 0,
             "ticks": ""
            },
            "colorscale": [
             [
              0,
              "#0d0887"
             ],
             [
              0.1111111111111111,
              "#46039f"
             ],
             [
              0.2222222222222222,
              "#7201a8"
             ],
             [
              0.3333333333333333,
              "#9c179e"
             ],
             [
              0.4444444444444444,
              "#bd3786"
             ],
             [
              0.5555555555555556,
              "#d8576b"
             ],
             [
              0.6666666666666666,
              "#ed7953"
             ],
             [
              0.7777777777777778,
              "#fb9f3a"
             ],
             [
              0.8888888888888888,
              "#fdca26"
             ],
             [
              1,
              "#f0f921"
             ]
            ],
            "type": "heatmapgl"
           }
          ],
          "histogram": [
           {
            "marker": {
             "colorbar": {
              "outlinewidth": 0,
              "ticks": ""
             }
            },
            "type": "histogram"
           }
          ],
          "histogram2d": [
           {
            "colorbar": {
             "outlinewidth": 0,
             "ticks": ""
            },
            "colorscale": [
             [
              0,
              "#0d0887"
             ],
             [
              0.1111111111111111,
              "#46039f"
             ],
             [
              0.2222222222222222,
              "#7201a8"
             ],
             [
              0.3333333333333333,
              "#9c179e"
             ],
             [
              0.4444444444444444,
              "#bd3786"
             ],
             [
              0.5555555555555556,
              "#d8576b"
             ],
             [
              0.6666666666666666,
              "#ed7953"
             ],
             [
              0.7777777777777778,
              "#fb9f3a"
             ],
             [
              0.8888888888888888,
              "#fdca26"
             ],
             [
              1,
              "#f0f921"
             ]
            ],
            "type": "histogram2d"
           }
          ],
          "histogram2dcontour": [
           {
            "colorbar": {
             "outlinewidth": 0,
             "ticks": ""
            },
            "colorscale": [
             [
              0,
              "#0d0887"
             ],
             [
              0.1111111111111111,
              "#46039f"
             ],
             [
              0.2222222222222222,
              "#7201a8"
             ],
             [
              0.3333333333333333,
              "#9c179e"
             ],
             [
              0.4444444444444444,
              "#bd3786"
             ],
             [
              0.5555555555555556,
              "#d8576b"
             ],
             [
              0.6666666666666666,
              "#ed7953"
             ],
             [
              0.7777777777777778,
              "#fb9f3a"
             ],
             [
              0.8888888888888888,
              "#fdca26"
             ],
             [
              1,
              "#f0f921"
             ]
            ],
            "type": "histogram2dcontour"
           }
          ],
          "mesh3d": [
           {
            "colorbar": {
             "outlinewidth": 0,
             "ticks": ""
            },
            "type": "mesh3d"
           }
          ],
          "parcoords": [
           {
            "line": {
             "colorbar": {
              "outlinewidth": 0,
              "ticks": ""
             }
            },
            "type": "parcoords"
           }
          ],
          "pie": [
           {
            "automargin": true,
            "type": "pie"
           }
          ],
          "scatter": [
           {
            "marker": {
             "colorbar": {
              "outlinewidth": 0,
              "ticks": ""
             }
            },
            "type": "scatter"
           }
          ],
          "scatter3d": [
           {
            "line": {
             "colorbar": {
              "outlinewidth": 0,
              "ticks": ""
             }
            },
            "marker": {
             "colorbar": {
              "outlinewidth": 0,
              "ticks": ""
             }
            },
            "type": "scatter3d"
           }
          ],
          "scattercarpet": [
           {
            "marker": {
             "colorbar": {
              "outlinewidth": 0,
              "ticks": ""
             }
            },
            "type": "scattercarpet"
           }
          ],
          "scattergeo": [
           {
            "marker": {
             "colorbar": {
              "outlinewidth": 0,
              "ticks": ""
             }
            },
            "type": "scattergeo"
           }
          ],
          "scattergl": [
           {
            "marker": {
             "colorbar": {
              "outlinewidth": 0,
              "ticks": ""
             }
            },
            "type": "scattergl"
           }
          ],
          "scattermapbox": [
           {
            "marker": {
             "colorbar": {
              "outlinewidth": 0,
              "ticks": ""
             }
            },
            "type": "scattermapbox"
           }
          ],
          "scatterpolar": [
           {
            "marker": {
             "colorbar": {
              "outlinewidth": 0,
              "ticks": ""
             }
            },
            "type": "scatterpolar"
           }
          ],
          "scatterpolargl": [
           {
            "marker": {
             "colorbar": {
              "outlinewidth": 0,
              "ticks": ""
             }
            },
            "type": "scatterpolargl"
           }
          ],
          "scatterternary": [
           {
            "marker": {
             "colorbar": {
              "outlinewidth": 0,
              "ticks": ""
             }
            },
            "type": "scatterternary"
           }
          ],
          "surface": [
           {
            "colorbar": {
             "outlinewidth": 0,
             "ticks": ""
            },
            "colorscale": [
             [
              0,
              "#0d0887"
             ],
             [
              0.1111111111111111,
              "#46039f"
             ],
             [
              0.2222222222222222,
              "#7201a8"
             ],
             [
              0.3333333333333333,
              "#9c179e"
             ],
             [
              0.4444444444444444,
              "#bd3786"
             ],
             [
              0.5555555555555556,
              "#d8576b"
             ],
             [
              0.6666666666666666,
              "#ed7953"
             ],
             [
              0.7777777777777778,
              "#fb9f3a"
             ],
             [
              0.8888888888888888,
              "#fdca26"
             ],
             [
              1,
              "#f0f921"
             ]
            ],
            "type": "surface"
           }
          ],
          "table": [
           {
            "cells": {
             "fill": {
              "color": "#EBF0F8"
             },
             "line": {
              "color": "white"
             }
            },
            "header": {
             "fill": {
              "color": "#C8D4E3"
             },
             "line": {
              "color": "white"
             }
            },
            "type": "table"
           }
          ]
         },
         "layout": {
          "annotationdefaults": {
           "arrowcolor": "#2a3f5f",
           "arrowhead": 0,
           "arrowwidth": 1
          },
          "coloraxis": {
           "colorbar": {
            "outlinewidth": 0,
            "ticks": ""
           }
          },
          "colorscale": {
           "diverging": [
            [
             0,
             "#8e0152"
            ],
            [
             0.1,
             "#c51b7d"
            ],
            [
             0.2,
             "#de77ae"
            ],
            [
             0.3,
             "#f1b6da"
            ],
            [
             0.4,
             "#fde0ef"
            ],
            [
             0.5,
             "#f7f7f7"
            ],
            [
             0.6,
             "#e6f5d0"
            ],
            [
             0.7,
             "#b8e186"
            ],
            [
             0.8,
             "#7fbc41"
            ],
            [
             0.9,
             "#4d9221"
            ],
            [
             1,
             "#276419"
            ]
           ],
           "sequential": [
            [
             0,
             "#0d0887"
            ],
            [
             0.1111111111111111,
             "#46039f"
            ],
            [
             0.2222222222222222,
             "#7201a8"
            ],
            [
             0.3333333333333333,
             "#9c179e"
            ],
            [
             0.4444444444444444,
             "#bd3786"
            ],
            [
             0.5555555555555556,
             "#d8576b"
            ],
            [
             0.6666666666666666,
             "#ed7953"
            ],
            [
             0.7777777777777778,
             "#fb9f3a"
            ],
            [
             0.8888888888888888,
             "#fdca26"
            ],
            [
             1,
             "#f0f921"
            ]
           ],
           "sequentialminus": [
            [
             0,
             "#0d0887"
            ],
            [
             0.1111111111111111,
             "#46039f"
            ],
            [
             0.2222222222222222,
             "#7201a8"
            ],
            [
             0.3333333333333333,
             "#9c179e"
            ],
            [
             0.4444444444444444,
             "#bd3786"
            ],
            [
             0.5555555555555556,
             "#d8576b"
            ],
            [
             0.6666666666666666,
             "#ed7953"
            ],
            [
             0.7777777777777778,
             "#fb9f3a"
            ],
            [
             0.8888888888888888,
             "#fdca26"
            ],
            [
             1,
             "#f0f921"
            ]
           ]
          },
          "colorway": [
           "#636efa",
           "#EF553B",
           "#00cc96",
           "#ab63fa",
           "#FFA15A",
           "#19d3f3",
           "#FF6692",
           "#B6E880",
           "#FF97FF",
           "#FECB52"
          ],
          "font": {
           "color": "#2a3f5f"
          },
          "geo": {
           "bgcolor": "white",
           "lakecolor": "white",
           "landcolor": "#E5ECF6",
           "showlakes": true,
           "showland": true,
           "subunitcolor": "white"
          },
          "hoverlabel": {
           "align": "left"
          },
          "hovermode": "closest",
          "mapbox": {
           "style": "light"
          },
          "paper_bgcolor": "white",
          "plot_bgcolor": "#E5ECF6",
          "polar": {
           "angularaxis": {
            "gridcolor": "white",
            "linecolor": "white",
            "ticks": ""
           },
           "bgcolor": "#E5ECF6",
           "radialaxis": {
            "gridcolor": "white",
            "linecolor": "white",
            "ticks": ""
           }
          },
          "scene": {
           "xaxis": {
            "backgroundcolor": "#E5ECF6",
            "gridcolor": "white",
            "gridwidth": 2,
            "linecolor": "white",
            "showbackground": true,
            "ticks": "",
            "zerolinecolor": "white"
           },
           "yaxis": {
            "backgroundcolor": "#E5ECF6",
            "gridcolor": "white",
            "gridwidth": 2,
            "linecolor": "white",
            "showbackground": true,
            "ticks": "",
            "zerolinecolor": "white"
           },
           "zaxis": {
            "backgroundcolor": "#E5ECF6",
            "gridcolor": "white",
            "gridwidth": 2,
            "linecolor": "white",
            "showbackground": true,
            "ticks": "",
            "zerolinecolor": "white"
           }
          },
          "shapedefaults": {
           "line": {
            "color": "#2a3f5f"
           }
          },
          "ternary": {
           "aaxis": {
            "gridcolor": "white",
            "linecolor": "white",
            "ticks": ""
           },
           "baxis": {
            "gridcolor": "white",
            "linecolor": "white",
            "ticks": ""
           },
           "bgcolor": "#E5ECF6",
           "caxis": {
            "gridcolor": "white",
            "linecolor": "white",
            "ticks": ""
           }
          },
          "title": {
           "x": 0.05
          },
          "xaxis": {
           "automargin": true,
           "gridcolor": "white",
           "linecolor": "white",
           "ticks": "",
           "title": {
            "standoff": 15
           },
           "zerolinecolor": "white",
           "zerolinewidth": 2
          },
          "yaxis": {
           "automargin": true,
           "gridcolor": "white",
           "linecolor": "white",
           "ticks": "",
           "title": {
            "standoff": 15
           },
           "zerolinecolor": "white",
           "zerolinewidth": 2
          }
         }
        },
        "title": {
         "text": ""
        },
        "xaxis": {
         "anchor": "y",
         "domain": [
          0,
          1
         ],
         "fixedrange": true,
         "title": {
          "text": "Date"
         }
        },
        "yaxis": {
         "anchor": "x",
         "domain": [
          0,
          1
         ],
         "fixedrange": true,
         "title": {
          "text": "Amount Per Day"
         }
        }
       }
      },
      "text/html": [
       "<div>\n",
       "        \n",
       "        \n",
       "            <div id=\"97e0fe4e-8bdf-43ea-be1f-19e18e2cb273\" class=\"plotly-graph-div\" style=\"height:525px; width:100%;\"></div>\n",
       "            <script type=\"text/javascript\">\n",
       "                require([\"plotly\"], function(Plotly) {\n",
       "                    window.PLOTLYENV=window.PLOTLYENV || {};\n",
       "                    \n",
       "                if (document.getElementById(\"97e0fe4e-8bdf-43ea-be1f-19e18e2cb273\")) {\n",
       "                    Plotly.newPlot(\n",
       "                        '97e0fe4e-8bdf-43ea-be1f-19e18e2cb273',\n",
       "                        [{\"hoverlabel\": {\"namelength\": 0}, \"hovertemplate\": \"%{y}\", \"legendgroup\": \"daily_tests\", \"line\": {\"color\": \"#636efa\", \"dash\": \"solid\"}, \"marker\": {\"color\": \"blue\"}, \"mode\": \"lines\", \"name\": \"Tests\", \"showlegend\": true, \"type\": \"scatter\", \"x\": [\"2020-02-11T00:00:00\", \"2020-02-13T00:00:00\", \"2020-02-14T00:00:00\", \"2020-02-19T00:00:00\", \"2020-02-20T00:00:00\", \"2020-02-24T00:00:00\", \"2020-02-26T00:00:00\", \"2020-03-02T00:00:00\", \"2020-03-03T00:00:00\", \"2020-03-06T00:00:00\", \"2020-03-07T00:00:00\", \"2020-03-11T00:00:00\", \"2020-03-12T00:00:00\", \"2020-03-13T00:00:00\", \"2020-03-14T00:00:00\", \"2020-03-15T00:00:00\", \"2020-03-16T00:00:00\", \"2020-03-17T00:00:00\", \"2020-03-18T00:00:00\", \"2020-03-19T00:00:00\", \"2020-03-20T00:00:00\", \"2020-03-21T00:00:00\", \"2020-03-22T00:00:00\", \"2020-03-23T00:00:00\", \"2020-03-24T00:00:00\", \"2020-03-26T00:00:00\", \"2020-03-27T00:00:00\", \"2020-03-28T00:00:00\", \"2020-03-29T00:00:00\", \"2020-03-30T00:00:00\", \"2020-03-31T00:00:00\", \"2020-04-01T00:00:00\", \"2020-04-02T00:00:00\", \"2020-04-03T00:00:00\", \"2020-04-04T00:00:00\", \"2020-04-05T00:00:00\", \"2020-04-06T00:00:00\", \"2020-04-08T00:00:00\", \"2020-04-09T00:00:00\", \"2020-04-10T00:00:00\", \"2020-04-11T00:00:00\", \"2020-04-12T00:00:00\", \"2020-04-13T00:00:00\", \"2020-04-14T00:00:00\", \"2020-04-15T00:00:00\", \"2020-04-16T00:00:00\", \"2020-04-17T00:00:00\", \"2020-04-18T00:00:00\", \"2020-04-19T00:00:00\", \"2020-04-20T00:00:00\", \"2020-04-21T00:00:00\", \"2020-04-22T00:00:00\", \"2020-04-23T00:00:00\", \"2020-04-24T00:00:00\", \"2020-04-25T00:00:00\", \"2020-04-26T00:00:00\", \"2020-04-27T00:00:00\", \"2020-04-28T00:00:00\", \"2020-04-29T00:00:00\", \"2020-04-30T00:00:00\"], \"xaxis\": \"x\", \"y\": [61.0, 6.0, 4.0, 24.0, 11.0, 10.0, 5.0, 39.0, 4.0, 36.0, 41.0, 404.0, 203.0, 76.0, 93.0, 459.0, 929.0, 506.0, 159.0, 1762.0, 1606.0, 987.0, 1890.0, 3500.0, 2714.0, 4942.0, 8066.0, 3426.0, 3630.0, 2816.0, 2663.0, 3220.0, 3673.0, 2396.0, 3576.0, 2936.0, 1225.0, 5678.0, 5098.0, 4154.0, 2025.0, 5032.0, 3578.0, 3359.0, 3493.0, 4545.0, 5767.0, 7374.0, 6510.0, 6799.0, 5427.0, 6837.0, 9796.0, 8820.0, 8614.0, 7639.0, 9827.0, 7027.0, 11630.0, 10403.0], \"yaxis\": \"y\"}, {\"hoverlabel\": {\"namelength\": 0}, \"hovertemplate\": \"%{y}\", \"legendgroup\": \"daily_cases\", \"line\": {\"color\": \"#EF553B\", \"dash\": \"solid\"}, \"marker\": {\"color\": \"firebrick\"}, \"mode\": \"lines\", \"name\": \"Positive Cases\", \"showlegend\": true, \"type\": \"scatter\", \"x\": [\"2020-02-11T00:00:00\", \"2020-02-13T00:00:00\", \"2020-02-14T00:00:00\", \"2020-02-19T00:00:00\", \"2020-02-20T00:00:00\", \"2020-02-24T00:00:00\", \"2020-02-26T00:00:00\", \"2020-03-02T00:00:00\", \"2020-03-03T00:00:00\", \"2020-03-05T00:00:00\", \"2020-03-06T00:00:00\", \"2020-03-07T00:00:00\", \"2020-03-08T00:00:00\", \"2020-03-09T00:00:00\", \"2020-03-11T00:00:00\", \"2020-03-12T00:00:00\", \"2020-03-13T00:00:00\", \"2020-03-14T00:00:00\", \"2020-03-15T00:00:00\", \"2020-03-16T00:00:00\", \"2020-03-17T00:00:00\", \"2020-03-18T00:00:00\", \"2020-03-19T00:00:00\", \"2020-03-20T00:00:00\", \"2020-03-21T00:00:00\", \"2020-03-22T00:00:00\", \"2020-03-23T00:00:00\", \"2020-03-24T00:00:00\", \"2020-03-25T00:00:00\", \"2020-03-26T00:00:00\", \"2020-03-27T00:00:00\", \"2020-03-28T00:00:00\", \"2020-03-29T00:00:00\", \"2020-03-30T00:00:00\", \"2020-03-31T00:00:00\", \"2020-04-01T00:00:00\", \"2020-04-02T00:00:00\", \"2020-04-03T00:00:00\", \"2020-04-04T00:00:00\", \"2020-04-05T00:00:00\", \"2020-04-06T00:00:00\", \"2020-04-07T00:00:00\", \"2020-04-08T00:00:00\", \"2020-04-09T00:00:00\", \"2020-04-10T00:00:00\", \"2020-04-11T00:00:00\", \"2020-04-12T00:00:00\", \"2020-04-13T00:00:00\", \"2020-04-14T00:00:00\", \"2020-04-15T00:00:00\", \"2020-04-16T00:00:00\", \"2020-04-17T00:00:00\", \"2020-04-18T00:00:00\", \"2020-04-19T00:00:00\", \"2020-04-20T00:00:00\", \"2020-04-21T00:00:00\", \"2020-04-22T00:00:00\", \"2020-04-23T00:00:00\", \"2020-04-24T00:00:00\", \"2020-04-25T00:00:00\", \"2020-04-26T00:00:00\", \"2020-04-27T00:00:00\", \"2020-04-28T00:00:00\", \"2020-04-29T00:00:00\", \"2020-04-30T00:00:00\"], \"xaxis\": \"x\", \"y\": [0.0, 0.0, 0.0, 0.0, 0.0, 0.0, 0.0, 0.0, 0.0, 1.0, 0.0, 1.0, 1.0, 4.0, 6.0, 3.0, 8.0, 14.0, 13.0, 11.0, 23.0, 31.0, 34.0, 52.0, 38.0, 34.0, 128.0, 152.0, 155.0, 218.0, 243.0, 17.0, 93.0, 46.0, 27.0, 27.0, 82.0, 43.0, 80.0, 70.0, 31.0, 63.0, 96.0, 89.0, 69.0, 25.0, 145.0, 99.0, 143.0, 91.0, 99.0, 178.0, 251.0, 124.0, 142.0, 165.0, 170.0, 318.0, 267.0, 141.0, 185.0, 247.0, 203.0, 354.0, 297.0], \"yaxis\": \"y\"}],\n",
       "                        {\"hovermode\": \"x\", \"legend\": {\"title\": {\"text\": \"\"}, \"tracegroupgap\": 0, \"x\": 0.01, \"y\": 0.98}, \"margin\": {\"b\": 0, \"l\": 0, \"r\": 0, \"t\": 0}, \"template\": {\"data\": {\"bar\": [{\"error_x\": {\"color\": \"#2a3f5f\"}, \"error_y\": {\"color\": \"#2a3f5f\"}, \"marker\": {\"line\": {\"color\": \"#E5ECF6\", \"width\": 0.5}}, \"type\": \"bar\"}], \"barpolar\": [{\"marker\": {\"line\": {\"color\": \"#E5ECF6\", \"width\": 0.5}}, \"type\": \"barpolar\"}], \"carpet\": [{\"aaxis\": {\"endlinecolor\": \"#2a3f5f\", \"gridcolor\": \"white\", \"linecolor\": \"white\", \"minorgridcolor\": \"white\", \"startlinecolor\": \"#2a3f5f\"}, \"baxis\": {\"endlinecolor\": \"#2a3f5f\", \"gridcolor\": \"white\", \"linecolor\": \"white\", \"minorgridcolor\": \"white\", \"startlinecolor\": \"#2a3f5f\"}, \"type\": \"carpet\"}], \"choropleth\": [{\"colorbar\": {\"outlinewidth\": 0, \"ticks\": \"\"}, \"type\": \"choropleth\"}], \"contour\": [{\"colorbar\": {\"outlinewidth\": 0, \"ticks\": \"\"}, \"colorscale\": [[0.0, \"#0d0887\"], [0.1111111111111111, \"#46039f\"], [0.2222222222222222, \"#7201a8\"], [0.3333333333333333, \"#9c179e\"], [0.4444444444444444, \"#bd3786\"], [0.5555555555555556, \"#d8576b\"], [0.6666666666666666, \"#ed7953\"], [0.7777777777777778, \"#fb9f3a\"], [0.8888888888888888, \"#fdca26\"], [1.0, \"#f0f921\"]], \"type\": \"contour\"}], \"contourcarpet\": [{\"colorbar\": {\"outlinewidth\": 0, \"ticks\": \"\"}, \"type\": \"contourcarpet\"}], \"heatmap\": [{\"colorbar\": {\"outlinewidth\": 0, \"ticks\": \"\"}, \"colorscale\": [[0.0, \"#0d0887\"], [0.1111111111111111, \"#46039f\"], [0.2222222222222222, \"#7201a8\"], [0.3333333333333333, \"#9c179e\"], [0.4444444444444444, \"#bd3786\"], [0.5555555555555556, \"#d8576b\"], [0.6666666666666666, \"#ed7953\"], [0.7777777777777778, \"#fb9f3a\"], [0.8888888888888888, \"#fdca26\"], [1.0, \"#f0f921\"]], \"type\": \"heatmap\"}], \"heatmapgl\": [{\"colorbar\": {\"outlinewidth\": 0, \"ticks\": \"\"}, \"colorscale\": [[0.0, \"#0d0887\"], [0.1111111111111111, \"#46039f\"], [0.2222222222222222, \"#7201a8\"], [0.3333333333333333, \"#9c179e\"], [0.4444444444444444, \"#bd3786\"], [0.5555555555555556, \"#d8576b\"], [0.6666666666666666, \"#ed7953\"], [0.7777777777777778, \"#fb9f3a\"], [0.8888888888888888, \"#fdca26\"], [1.0, \"#f0f921\"]], \"type\": \"heatmapgl\"}], \"histogram\": [{\"marker\": {\"colorbar\": {\"outlinewidth\": 0, \"ticks\": \"\"}}, \"type\": \"histogram\"}], \"histogram2d\": [{\"colorbar\": {\"outlinewidth\": 0, \"ticks\": \"\"}, \"colorscale\": [[0.0, \"#0d0887\"], [0.1111111111111111, \"#46039f\"], [0.2222222222222222, \"#7201a8\"], [0.3333333333333333, \"#9c179e\"], [0.4444444444444444, \"#bd3786\"], [0.5555555555555556, \"#d8576b\"], [0.6666666666666666, \"#ed7953\"], [0.7777777777777778, \"#fb9f3a\"], [0.8888888888888888, \"#fdca26\"], [1.0, \"#f0f921\"]], \"type\": \"histogram2d\"}], \"histogram2dcontour\": [{\"colorbar\": {\"outlinewidth\": 0, \"ticks\": \"\"}, \"colorscale\": [[0.0, \"#0d0887\"], [0.1111111111111111, \"#46039f\"], [0.2222222222222222, \"#7201a8\"], [0.3333333333333333, \"#9c179e\"], [0.4444444444444444, \"#bd3786\"], [0.5555555555555556, \"#d8576b\"], [0.6666666666666666, \"#ed7953\"], [0.7777777777777778, \"#fb9f3a\"], [0.8888888888888888, \"#fdca26\"], [1.0, \"#f0f921\"]], \"type\": \"histogram2dcontour\"}], \"mesh3d\": [{\"colorbar\": {\"outlinewidth\": 0, \"ticks\": \"\"}, \"type\": \"mesh3d\"}], \"parcoords\": [{\"line\": {\"colorbar\": {\"outlinewidth\": 0, \"ticks\": \"\"}}, \"type\": \"parcoords\"}], \"pie\": [{\"automargin\": true, \"type\": \"pie\"}], \"scatter\": [{\"marker\": {\"colorbar\": {\"outlinewidth\": 0, \"ticks\": \"\"}}, \"type\": \"scatter\"}], \"scatter3d\": [{\"line\": {\"colorbar\": {\"outlinewidth\": 0, \"ticks\": \"\"}}, \"marker\": {\"colorbar\": {\"outlinewidth\": 0, \"ticks\": \"\"}}, \"type\": \"scatter3d\"}], \"scattercarpet\": [{\"marker\": {\"colorbar\": {\"outlinewidth\": 0, \"ticks\": \"\"}}, \"type\": \"scattercarpet\"}], \"scattergeo\": [{\"marker\": {\"colorbar\": {\"outlinewidth\": 0, \"ticks\": \"\"}}, \"type\": \"scattergeo\"}], \"scattergl\": [{\"marker\": {\"colorbar\": {\"outlinewidth\": 0, \"ticks\": \"\"}}, \"type\": \"scattergl\"}], \"scattermapbox\": [{\"marker\": {\"colorbar\": {\"outlinewidth\": 0, \"ticks\": \"\"}}, \"type\": \"scattermapbox\"}], \"scatterpolar\": [{\"marker\": {\"colorbar\": {\"outlinewidth\": 0, \"ticks\": \"\"}}, \"type\": \"scatterpolar\"}], \"scatterpolargl\": [{\"marker\": {\"colorbar\": {\"outlinewidth\": 0, \"ticks\": \"\"}}, \"type\": \"scatterpolargl\"}], \"scatterternary\": [{\"marker\": {\"colorbar\": {\"outlinewidth\": 0, \"ticks\": \"\"}}, \"type\": \"scatterternary\"}], \"surface\": [{\"colorbar\": {\"outlinewidth\": 0, \"ticks\": \"\"}, \"colorscale\": [[0.0, \"#0d0887\"], [0.1111111111111111, \"#46039f\"], [0.2222222222222222, \"#7201a8\"], [0.3333333333333333, \"#9c179e\"], [0.4444444444444444, \"#bd3786\"], [0.5555555555555556, \"#d8576b\"], [0.6666666666666666, \"#ed7953\"], [0.7777777777777778, \"#fb9f3a\"], [0.8888888888888888, \"#fdca26\"], [1.0, \"#f0f921\"]], \"type\": \"surface\"}], \"table\": [{\"cells\": {\"fill\": {\"color\": \"#EBF0F8\"}, \"line\": {\"color\": \"white\"}}, \"header\": {\"fill\": {\"color\": \"#C8D4E3\"}, \"line\": {\"color\": \"white\"}}, \"type\": \"table\"}]}, \"layout\": {\"annotationdefaults\": {\"arrowcolor\": \"#2a3f5f\", \"arrowhead\": 0, \"arrowwidth\": 1}, \"coloraxis\": {\"colorbar\": {\"outlinewidth\": 0, \"ticks\": \"\"}}, \"colorscale\": {\"diverging\": [[0, \"#8e0152\"], [0.1, \"#c51b7d\"], [0.2, \"#de77ae\"], [0.3, \"#f1b6da\"], [0.4, \"#fde0ef\"], [0.5, \"#f7f7f7\"], [0.6, \"#e6f5d0\"], [0.7, \"#b8e186\"], [0.8, \"#7fbc41\"], [0.9, \"#4d9221\"], [1, \"#276419\"]], \"sequential\": [[0.0, \"#0d0887\"], [0.1111111111111111, \"#46039f\"], [0.2222222222222222, \"#7201a8\"], [0.3333333333333333, \"#9c179e\"], [0.4444444444444444, \"#bd3786\"], [0.5555555555555556, \"#d8576b\"], [0.6666666666666666, \"#ed7953\"], [0.7777777777777778, \"#fb9f3a\"], [0.8888888888888888, \"#fdca26\"], [1.0, \"#f0f921\"]], \"sequentialminus\": [[0.0, \"#0d0887\"], [0.1111111111111111, \"#46039f\"], [0.2222222222222222, \"#7201a8\"], [0.3333333333333333, \"#9c179e\"], [0.4444444444444444, \"#bd3786\"], [0.5555555555555556, \"#d8576b\"], [0.6666666666666666, \"#ed7953\"], [0.7777777777777778, \"#fb9f3a\"], [0.8888888888888888, \"#fdca26\"], [1.0, \"#f0f921\"]]}, \"colorway\": [\"#636efa\", \"#EF553B\", \"#00cc96\", \"#ab63fa\", \"#FFA15A\", \"#19d3f3\", \"#FF6692\", \"#B6E880\", \"#FF97FF\", \"#FECB52\"], \"font\": {\"color\": \"#2a3f5f\"}, \"geo\": {\"bgcolor\": \"white\", \"lakecolor\": \"white\", \"landcolor\": \"#E5ECF6\", \"showlakes\": true, \"showland\": true, \"subunitcolor\": \"white\"}, \"hoverlabel\": {\"align\": \"left\"}, \"hovermode\": \"closest\", \"mapbox\": {\"style\": \"light\"}, \"paper_bgcolor\": \"white\", \"plot_bgcolor\": \"#E5ECF6\", \"polar\": {\"angularaxis\": {\"gridcolor\": \"white\", \"linecolor\": \"white\", \"ticks\": \"\"}, \"bgcolor\": \"#E5ECF6\", \"radialaxis\": {\"gridcolor\": \"white\", \"linecolor\": \"white\", \"ticks\": \"\"}}, \"scene\": {\"xaxis\": {\"backgroundcolor\": \"#E5ECF6\", \"gridcolor\": \"white\", \"gridwidth\": 2, \"linecolor\": \"white\", \"showbackground\": true, \"ticks\": \"\", \"zerolinecolor\": \"white\"}, \"yaxis\": {\"backgroundcolor\": \"#E5ECF6\", \"gridcolor\": \"white\", \"gridwidth\": 2, \"linecolor\": \"white\", \"showbackground\": true, \"ticks\": \"\", \"zerolinecolor\": \"white\"}, \"zaxis\": {\"backgroundcolor\": \"#E5ECF6\", \"gridcolor\": \"white\", \"gridwidth\": 2, \"linecolor\": \"white\", \"showbackground\": true, \"ticks\": \"\", \"zerolinecolor\": \"white\"}}, \"shapedefaults\": {\"line\": {\"color\": \"#2a3f5f\"}}, \"ternary\": {\"aaxis\": {\"gridcolor\": \"white\", \"linecolor\": \"white\", \"ticks\": \"\"}, \"baxis\": {\"gridcolor\": \"white\", \"linecolor\": \"white\", \"ticks\": \"\"}, \"bgcolor\": \"#E5ECF6\", \"caxis\": {\"gridcolor\": \"white\", \"linecolor\": \"white\", \"ticks\": \"\"}}, \"title\": {\"x\": 0.05}, \"xaxis\": {\"automargin\": true, \"gridcolor\": \"white\", \"linecolor\": \"white\", \"ticks\": \"\", \"title\": {\"standoff\": 15}, \"zerolinecolor\": \"white\", \"zerolinewidth\": 2}, \"yaxis\": {\"automargin\": true, \"gridcolor\": \"white\", \"linecolor\": \"white\", \"ticks\": \"\", \"title\": {\"standoff\": 15}, \"zerolinecolor\": \"white\", \"zerolinewidth\": 2}}}, \"title\": {\"text\": \"\"}, \"xaxis\": {\"anchor\": \"y\", \"domain\": [0.0, 1.0], \"fixedrange\": true, \"title\": {\"text\": \"Date\"}}, \"yaxis\": {\"anchor\": \"x\", \"domain\": [0.0, 1.0], \"fixedrange\": true, \"title\": {\"text\": \"Amount Per Day\"}}},\n",
       "                        {\"displayModeBar\": false, \"responsive\": true}\n",
       "                    ).then(function(){\n",
       "                            \n",
       "var gd = document.getElementById('97e0fe4e-8bdf-43ea-be1f-19e18e2cb273');\n",
       "var x = new MutationObserver(function (mutations, observer) {{\n",
       "        var display = window.getComputedStyle(gd).display;\n",
       "        if (!display || display === 'none') {{\n",
       "            console.log([gd, 'removed!']);\n",
       "            Plotly.purge(gd);\n",
       "            observer.disconnect();\n",
       "        }}\n",
       "}});\n",
       "\n",
       "// Listen for the removal of the full notebook cells\n",
       "var notebookContainer = gd.closest('#notebook-container');\n",
       "if (notebookContainer) {{\n",
       "    x.observe(notebookContainer, {childList: true});\n",
       "}}\n",
       "\n",
       "// Listen for the clearing of the current output cell\n",
       "var outputEl = gd.closest('.output');\n",
       "if (outputEl) {{\n",
       "    x.observe(outputEl, {childList: true});\n",
       "}}\n",
       "\n",
       "                        })\n",
       "                };\n",
       "                });\n",
       "            </script>\n",
       "        </div>"
      ]
     },
     "metadata": {},
     "output_type": "display_data"
    }
   ],
   "source": [
    "daily_tc_long = pd.melt(daily_tests_confirmed, id_vars=['date'], \n",
    "                                value_vars=['daily_tests','daily_cases'])\n",
    "daily_tc_long.dropna(inplace=True)\n",
    "fig_daily_tc = px.line(daily_tc_long, x='date', y='value', color='variable')\n",
    "\n",
    "fig_daily_tc.update_layout(\n",
    "    title=\"\",\n",
    "    xaxis_title=\"Date\",\n",
    "    yaxis_title=\"Amount Per Day\",\n",
    "    hovermode= 'x',\n",
    "    legend=dict(x=0.01, y=.98, title=dict(text=\"\")),\n",
    "    xaxis=dict(fixedrange=True),\n",
    "    yaxis=dict(fixedrange=True),\n",
    "    margin=empty_margin_dict,\n",
    ")\n",
    "\n",
    "fig_daily_tc.update_traces(mode='lines')\n",
    "\n",
    "fig_daily_tc.data[0].name = \"Tests\"\n",
    "fig_daily_tc.data[1].name = \"Positive Cases\"\n",
    "\n",
    "fig_daily_tc.data[0].hoverlabel.namelength = 0\n",
    "fig_daily_tc.data[1].hoverlabel.namelength = 0\n",
    "\n",
    "\n",
    "fig_daily_tc.data[0].hovertemplate = '%{y}'\n",
    "fig_daily_tc.data[1].hovertemplate = '%{y}'\n",
    "\n",
    "fig_daily_tc.data[0].marker=dict(color='blue')\n",
    "fig_daily_tc.data[1].marker=dict(color='firebrick')\n",
    "\n",
    "fig_daily_tc.show(config = dict(displayModeBar=False))"
   ]
  },
  {
   "cell_type": "markdown",
   "metadata": {},
   "source": [
    "**Save to HTML**"
   ]
  },
  {
   "cell_type": "code",
   "execution_count": 155,
   "metadata": {},
   "outputs": [],
   "source": [
    "pio.write_html(fig_daily_tc, file='date_vs_daily_tests_cases.html',\n",
    "               config = dict(displayModeBar=False), auto_open=True)"
   ]
  },
  {
   "cell_type": "markdown",
   "metadata": {},
   "source": [
    "### Confirmed per Province"
   ]
  },
  {
   "cell_type": "code",
   "execution_count": 156,
   "metadata": {},
   "outputs": [],
   "source": [
    "prov_daily = pd.read_csv('data/daily_cumulative_confirmed_prov.csv', \n",
    "                              usecols=['date','province','daily_cases'])\n",
    "prov_daily['date'] = pd.to_datetime(prov_daily['date'], format='%Y/%m/%d')\n",
    "# prov_daily.dropna()"
   ]
  },
  {
   "cell_type": "code",
   "execution_count": 157,
   "metadata": {
    "scrolled": false
   },
   "outputs": [
    {
     "data": {
      "application/vnd.plotly.v1+json": {
       "config": {
        "displayModeBar": false,
        "plotlyServerURL": "https://plot.ly"
       },
       "data": [
        {
         "customdata": [
          [
           "EC"
          ],
          [
           "EC"
          ],
          [
           "EC"
          ],
          [
           "EC"
          ],
          [
           "EC"
          ],
          [
           "EC"
          ],
          [
           "EC"
          ],
          [
           "EC"
          ],
          [
           "EC"
          ],
          [
           "EC"
          ],
          [
           "EC"
          ],
          [
           "EC"
          ],
          [
           "EC"
          ],
          [
           "EC"
          ],
          [
           "EC"
          ],
          [
           "EC"
          ],
          [
           "EC"
          ],
          [
           "EC"
          ],
          [
           "EC"
          ],
          [
           "EC"
          ],
          [
           "EC"
          ],
          [
           "EC"
          ],
          [
           "EC"
          ],
          [
           "EC"
          ],
          [
           "EC"
          ],
          [
           "EC"
          ],
          [
           "EC"
          ],
          [
           "EC"
          ],
          [
           "EC"
          ],
          [
           "EC"
          ],
          [
           "EC"
          ],
          [
           "EC"
          ],
          [
           "EC"
          ],
          [
           "EC"
          ],
          [
           "EC"
          ],
          [
           "EC"
          ],
          [
           "EC"
          ],
          [
           "EC"
          ],
          [
           "EC"
          ],
          [
           "EC"
          ],
          [
           "EC"
          ],
          [
           "EC"
          ],
          [
           "EC"
          ],
          [
           "EC"
          ],
          [
           "EC"
          ],
          [
           "EC"
          ],
          [
           "EC"
          ],
          [
           "EC"
          ],
          [
           "EC"
          ],
          [
           "EC"
          ],
          [
           "EC"
          ],
          [
           "EC"
          ],
          [
           "EC"
          ]
         ],
         "hoverinfo": [
          "all"
         ],
         "hoverlabel": {
          "namelength": 0
         },
         "hovertemplate": "%{customdata[0]}<br>%{y}",
         "legendgroup": "EC",
         "line": {
          "color": "#636efa",
          "dash": "solid"
         },
         "mode": "lines",
         "name": "EC",
         "showlegend": true,
         "type": "scatter",
         "x": [
          "2020-03-05T00:00:00",
          "2020-03-07T00:00:00",
          "2020-03-08T00:00:00",
          "2020-03-09T00:00:00",
          "2020-03-11T00:00:00",
          "2020-03-12T00:00:00",
          "2020-03-13T00:00:00",
          "2020-03-14T00:00:00",
          "2020-03-15T00:00:00",
          "2020-03-16T00:00:00",
          "2020-03-17T00:00:00",
          "2020-03-18T00:00:00",
          "2020-03-19T00:00:00",
          "2020-03-20T00:00:00",
          "2020-03-21T00:00:00",
          "2020-03-22T00:00:00",
          "2020-03-23T00:00:00",
          "2020-03-24T00:00:00",
          "2020-03-25T00:00:00",
          "2020-03-26T00:00:00",
          "2020-03-28T00:00:00",
          "2020-03-29T00:00:00",
          "2020-03-30T00:00:00",
          "2020-03-31T00:00:00",
          "2020-04-01T00:00:00",
          "2020-04-02T00:00:00",
          "2020-04-03T00:00:00",
          "2020-04-04T00:00:00",
          "2020-04-05T00:00:00",
          "2020-04-06T00:00:00",
          "2020-04-08T00:00:00",
          "2020-04-09T00:00:00",
          "2020-04-10T00:00:00",
          "2020-04-11T00:00:00",
          "2020-04-12T00:00:00",
          "2020-04-13T00:00:00",
          "2020-04-14T00:00:00",
          "2020-04-15T00:00:00",
          "2020-04-16T00:00:00",
          "2020-04-17T00:00:00",
          "2020-04-18T00:00:00",
          "2020-04-19T00:00:00",
          "2020-04-20T00:00:00",
          "2020-04-21T00:00:00",
          "2020-04-22T00:00:00",
          "2020-04-23T00:00:00",
          "2020-04-24T00:00:00",
          "2020-04-25T00:00:00",
          "2020-04-26T00:00:00",
          "2020-04-27T00:00:00",
          "2020-04-28T00:00:00",
          "2020-04-29T00:00:00",
          "2020-04-30T00:00:00"
         ],
         "xaxis": "x",
         "y": [
          0,
          0,
          0,
          0,
          0,
          0,
          0,
          0,
          0,
          0,
          0,
          0,
          0,
          0,
          1,
          1,
          0,
          0,
          0,
          3,
          5,
          2,
          0,
          0,
          3,
          2,
          4,
          4,
          6,
          1,
          13,
          16,
          7,
          1,
          19,
          16,
          70,
          25,
          21,
          26,
          24,
          23,
          17,
          35,
          32,
          40,
          63,
          8,
          47,
          53,
          28,
          14,
          17
         ],
         "yaxis": "y"
        },
        {
         "customdata": [
          [
           "FS"
          ],
          [
           "FS"
          ],
          [
           "FS"
          ],
          [
           "FS"
          ],
          [
           "FS"
          ],
          [
           "FS"
          ],
          [
           "FS"
          ],
          [
           "FS"
          ],
          [
           "FS"
          ],
          [
           "FS"
          ],
          [
           "FS"
          ],
          [
           "FS"
          ],
          [
           "FS"
          ],
          [
           "FS"
          ],
          [
           "FS"
          ],
          [
           "FS"
          ],
          [
           "FS"
          ],
          [
           "FS"
          ],
          [
           "FS"
          ],
          [
           "FS"
          ],
          [
           "FS"
          ],
          [
           "FS"
          ],
          [
           "FS"
          ],
          [
           "FS"
          ],
          [
           "FS"
          ],
          [
           "FS"
          ],
          [
           "FS"
          ],
          [
           "FS"
          ],
          [
           "FS"
          ],
          [
           "FS"
          ],
          [
           "FS"
          ],
          [
           "FS"
          ],
          [
           "FS"
          ],
          [
           "FS"
          ],
          [
           "FS"
          ],
          [
           "FS"
          ],
          [
           "FS"
          ],
          [
           "FS"
          ],
          [
           "FS"
          ],
          [
           "FS"
          ],
          [
           "FS"
          ],
          [
           "FS"
          ],
          [
           "FS"
          ],
          [
           "FS"
          ],
          [
           "FS"
          ],
          [
           "FS"
          ],
          [
           "FS"
          ],
          [
           "FS"
          ],
          [
           "FS"
          ],
          [
           "FS"
          ],
          [
           "FS"
          ],
          [
           "FS"
          ],
          [
           "FS"
          ]
         ],
         "hoverinfo": [
          "all"
         ],
         "hoverlabel": {
          "namelength": 0
         },
         "hovertemplate": "%{customdata[0]}<br>%{y}",
         "legendgroup": "FS",
         "line": {
          "color": "#EF553B",
          "dash": "solid"
         },
         "mode": "lines",
         "name": "FS",
         "showlegend": true,
         "type": "scatter",
         "x": [
          "2020-03-05T00:00:00",
          "2020-03-07T00:00:00",
          "2020-03-08T00:00:00",
          "2020-03-09T00:00:00",
          "2020-03-11T00:00:00",
          "2020-03-12T00:00:00",
          "2020-03-13T00:00:00",
          "2020-03-14T00:00:00",
          "2020-03-15T00:00:00",
          "2020-03-16T00:00:00",
          "2020-03-17T00:00:00",
          "2020-03-18T00:00:00",
          "2020-03-19T00:00:00",
          "2020-03-20T00:00:00",
          "2020-03-21T00:00:00",
          "2020-03-22T00:00:00",
          "2020-03-23T00:00:00",
          "2020-03-24T00:00:00",
          "2020-03-25T00:00:00",
          "2020-03-26T00:00:00",
          "2020-03-28T00:00:00",
          "2020-03-29T00:00:00",
          "2020-03-30T00:00:00",
          "2020-03-31T00:00:00",
          "2020-04-01T00:00:00",
          "2020-04-02T00:00:00",
          "2020-04-03T00:00:00",
          "2020-04-04T00:00:00",
          "2020-04-05T00:00:00",
          "2020-04-06T00:00:00",
          "2020-04-08T00:00:00",
          "2020-04-09T00:00:00",
          "2020-04-10T00:00:00",
          "2020-04-11T00:00:00",
          "2020-04-12T00:00:00",
          "2020-04-13T00:00:00",
          "2020-04-14T00:00:00",
          "2020-04-15T00:00:00",
          "2020-04-16T00:00:00",
          "2020-04-17T00:00:00",
          "2020-04-18T00:00:00",
          "2020-04-19T00:00:00",
          "2020-04-20T00:00:00",
          "2020-04-21T00:00:00",
          "2020-04-22T00:00:00",
          "2020-04-23T00:00:00",
          "2020-04-24T00:00:00",
          "2020-04-25T00:00:00",
          "2020-04-26T00:00:00",
          "2020-04-27T00:00:00",
          "2020-04-28T00:00:00",
          "2020-04-29T00:00:00",
          "2020-04-30T00:00:00"
         ],
         "xaxis": "x",
         "y": [
          0,
          0,
          0,
          0,
          0,
          0,
          0,
          0,
          0,
          0,
          0,
          0,
          0,
          7,
          0,
          2,
          4,
          5,
          12,
          19,
          19,
          4,
          0,
          2,
          2,
          8,
          0,
          1,
          2,
          2,
          -1,
          5,
          1,
          0,
          2,
          0,
          2,
          -1,
          1,
          2,
          0,
          0,
          5,
          1,
          0,
          0,
          5,
          0,
          -1,
          1,
          2,
          0,
          3
         ],
         "yaxis": "y"
        },
        {
         "customdata": [
          [
           "GP"
          ],
          [
           "GP"
          ],
          [
           "GP"
          ],
          [
           "GP"
          ],
          [
           "GP"
          ],
          [
           "GP"
          ],
          [
           "GP"
          ],
          [
           "GP"
          ],
          [
           "GP"
          ],
          [
           "GP"
          ],
          [
           "GP"
          ],
          [
           "GP"
          ],
          [
           "GP"
          ],
          [
           "GP"
          ],
          [
           "GP"
          ],
          [
           "GP"
          ],
          [
           "GP"
          ],
          [
           "GP"
          ],
          [
           "GP"
          ],
          [
           "GP"
          ],
          [
           "GP"
          ],
          [
           "GP"
          ],
          [
           "GP"
          ],
          [
           "GP"
          ],
          [
           "GP"
          ],
          [
           "GP"
          ],
          [
           "GP"
          ],
          [
           "GP"
          ],
          [
           "GP"
          ],
          [
           "GP"
          ],
          [
           "GP"
          ],
          [
           "GP"
          ],
          [
           "GP"
          ],
          [
           "GP"
          ],
          [
           "GP"
          ],
          [
           "GP"
          ],
          [
           "GP"
          ],
          [
           "GP"
          ],
          [
           "GP"
          ],
          [
           "GP"
          ],
          [
           "GP"
          ],
          [
           "GP"
          ],
          [
           "GP"
          ],
          [
           "GP"
          ],
          [
           "GP"
          ],
          [
           "GP"
          ],
          [
           "GP"
          ],
          [
           "GP"
          ],
          [
           "GP"
          ],
          [
           "GP"
          ],
          [
           "GP"
          ],
          [
           "GP"
          ],
          [
           "GP"
          ]
         ],
         "hoverinfo": [
          "all"
         ],
         "hoverlabel": {
          "namelength": 0
         },
         "hovertemplate": "%{customdata[0]}<br>%{y}",
         "legendgroup": "GP",
         "line": {
          "color": "#00cc96",
          "dash": "solid"
         },
         "mode": "lines",
         "name": "GP",
         "showlegend": true,
         "type": "scatter",
         "x": [
          "2020-03-05T00:00:00",
          "2020-03-07T00:00:00",
          "2020-03-08T00:00:00",
          "2020-03-09T00:00:00",
          "2020-03-11T00:00:00",
          "2020-03-12T00:00:00",
          "2020-03-13T00:00:00",
          "2020-03-14T00:00:00",
          "2020-03-15T00:00:00",
          "2020-03-16T00:00:00",
          "2020-03-17T00:00:00",
          "2020-03-18T00:00:00",
          "2020-03-19T00:00:00",
          "2020-03-20T00:00:00",
          "2020-03-21T00:00:00",
          "2020-03-22T00:00:00",
          "2020-03-23T00:00:00",
          "2020-03-24T00:00:00",
          "2020-03-25T00:00:00",
          "2020-03-26T00:00:00",
          "2020-03-28T00:00:00",
          "2020-03-29T00:00:00",
          "2020-03-30T00:00:00",
          "2020-03-31T00:00:00",
          "2020-04-01T00:00:00",
          "2020-04-02T00:00:00",
          "2020-04-03T00:00:00",
          "2020-04-04T00:00:00",
          "2020-04-05T00:00:00",
          "2020-04-06T00:00:00",
          "2020-04-08T00:00:00",
          "2020-04-09T00:00:00",
          "2020-04-10T00:00:00",
          "2020-04-11T00:00:00",
          "2020-04-12T00:00:00",
          "2020-04-13T00:00:00",
          "2020-04-14T00:00:00",
          "2020-04-15T00:00:00",
          "2020-04-16T00:00:00",
          "2020-04-17T00:00:00",
          "2020-04-18T00:00:00",
          "2020-04-19T00:00:00",
          "2020-04-20T00:00:00",
          "2020-04-21T00:00:00",
          "2020-04-22T00:00:00",
          "2020-04-23T00:00:00",
          "2020-04-24T00:00:00",
          "2020-04-25T00:00:00",
          "2020-04-26T00:00:00",
          "2020-04-27T00:00:00",
          "2020-04-28T00:00:00",
          "2020-04-29T00:00:00",
          "2020-04-30T00:00:00"
         ],
         "xaxis": "x",
         "y": [
          0,
          1,
          0,
          0,
          4,
          1,
          4,
          7,
          7,
          7,
          14,
          16,
          15,
          33,
          16,
          7,
          75,
          95,
          17,
          90,
          124,
          51,
          34,
          15,
          12,
          18,
          9,
          21,
          11,
          9,
          69,
          13,
          6,
          12,
          52,
          25,
          19,
          21,
          39,
          49,
          83,
          47,
          22,
          29,
          25,
          28,
          29,
          23,
          27,
          22,
          24,
          31,
          38
         ],
         "yaxis": "y"
        },
        {
         "customdata": [
          [
           "KZN"
          ],
          [
           "KZN"
          ],
          [
           "KZN"
          ],
          [
           "KZN"
          ],
          [
           "KZN"
          ],
          [
           "KZN"
          ],
          [
           "KZN"
          ],
          [
           "KZN"
          ],
          [
           "KZN"
          ],
          [
           "KZN"
          ],
          [
           "KZN"
          ],
          [
           "KZN"
          ],
          [
           "KZN"
          ],
          [
           "KZN"
          ],
          [
           "KZN"
          ],
          [
           "KZN"
          ],
          [
           "KZN"
          ],
          [
           "KZN"
          ],
          [
           "KZN"
          ],
          [
           "KZN"
          ],
          [
           "KZN"
          ],
          [
           "KZN"
          ],
          [
           "KZN"
          ],
          [
           "KZN"
          ],
          [
           "KZN"
          ],
          [
           "KZN"
          ],
          [
           "KZN"
          ],
          [
           "KZN"
          ],
          [
           "KZN"
          ],
          [
           "KZN"
          ],
          [
           "KZN"
          ],
          [
           "KZN"
          ],
          [
           "KZN"
          ],
          [
           "KZN"
          ],
          [
           "KZN"
          ],
          [
           "KZN"
          ],
          [
           "KZN"
          ],
          [
           "KZN"
          ],
          [
           "KZN"
          ],
          [
           "KZN"
          ],
          [
           "KZN"
          ],
          [
           "KZN"
          ],
          [
           "KZN"
          ],
          [
           "KZN"
          ],
          [
           "KZN"
          ],
          [
           "KZN"
          ],
          [
           "KZN"
          ],
          [
           "KZN"
          ],
          [
           "KZN"
          ],
          [
           "KZN"
          ],
          [
           "KZN"
          ],
          [
           "KZN"
          ],
          [
           "KZN"
          ]
         ],
         "hoverinfo": [
          "all"
         ],
         "hoverlabel": {
          "namelength": 0
         },
         "hovertemplate": "%{customdata[0]}<br>%{y}",
         "legendgroup": "KZN",
         "line": {
          "color": "#ab63fa",
          "dash": "solid"
         },
         "mode": "lines",
         "name": "KZN",
         "showlegend": true,
         "type": "scatter",
         "x": [
          "2020-03-05T00:00:00",
          "2020-03-07T00:00:00",
          "2020-03-08T00:00:00",
          "2020-03-09T00:00:00",
          "2020-03-11T00:00:00",
          "2020-03-12T00:00:00",
          "2020-03-13T00:00:00",
          "2020-03-14T00:00:00",
          "2020-03-15T00:00:00",
          "2020-03-16T00:00:00",
          "2020-03-17T00:00:00",
          "2020-03-18T00:00:00",
          "2020-03-19T00:00:00",
          "2020-03-20T00:00:00",
          "2020-03-21T00:00:00",
          "2020-03-22T00:00:00",
          "2020-03-23T00:00:00",
          "2020-03-24T00:00:00",
          "2020-03-25T00:00:00",
          "2020-03-26T00:00:00",
          "2020-03-28T00:00:00",
          "2020-03-29T00:00:00",
          "2020-03-30T00:00:00",
          "2020-03-31T00:00:00",
          "2020-04-01T00:00:00",
          "2020-04-02T00:00:00",
          "2020-04-03T00:00:00",
          "2020-04-04T00:00:00",
          "2020-04-05T00:00:00",
          "2020-04-06T00:00:00",
          "2020-04-08T00:00:00",
          "2020-04-09T00:00:00",
          "2020-04-10T00:00:00",
          "2020-04-11T00:00:00",
          "2020-04-12T00:00:00",
          "2020-04-13T00:00:00",
          "2020-04-14T00:00:00",
          "2020-04-15T00:00:00",
          "2020-04-16T00:00:00",
          "2020-04-17T00:00:00",
          "2020-04-18T00:00:00",
          "2020-04-19T00:00:00",
          "2020-04-20T00:00:00",
          "2020-04-21T00:00:00",
          "2020-04-22T00:00:00",
          "2020-04-23T00:00:00",
          "2020-04-24T00:00:00",
          "2020-04-25T00:00:00",
          "2020-04-26T00:00:00",
          "2020-04-27T00:00:00",
          "2020-04-28T00:00:00",
          "2020-04-29T00:00:00",
          "2020-04-30T00:00:00"
         ],
         "xaxis": "x",
         "y": [
          1,
          0,
          1,
          4,
          1,
          1,
          2,
          1,
          1,
          0,
          4,
          3,
          3,
          1,
          3,
          9,
          25,
          20,
          11,
          43,
          22,
          11,
          4,
          8,
          7,
          20,
          9,
          17,
          14,
          11,
          97,
          33,
          25,
          6,
          25,
          22,
          24,
          30,
          20,
          52,
          13,
          13,
          22,
          32,
          87,
          49,
          34,
          0,
          22,
          39,
          17,
          37,
          24
         ],
         "yaxis": "y"
        },
        {
         "customdata": [
          [
           "LP"
          ],
          [
           "LP"
          ],
          [
           "LP"
          ],
          [
           "LP"
          ],
          [
           "LP"
          ],
          [
           "LP"
          ],
          [
           "LP"
          ],
          [
           "LP"
          ],
          [
           "LP"
          ],
          [
           "LP"
          ],
          [
           "LP"
          ],
          [
           "LP"
          ],
          [
           "LP"
          ],
          [
           "LP"
          ],
          [
           "LP"
          ],
          [
           "LP"
          ],
          [
           "LP"
          ],
          [
           "LP"
          ],
          [
           "LP"
          ],
          [
           "LP"
          ],
          [
           "LP"
          ],
          [
           "LP"
          ],
          [
           "LP"
          ],
          [
           "LP"
          ],
          [
           "LP"
          ],
          [
           "LP"
          ],
          [
           "LP"
          ],
          [
           "LP"
          ],
          [
           "LP"
          ],
          [
           "LP"
          ],
          [
           "LP"
          ],
          [
           "LP"
          ],
          [
           "LP"
          ],
          [
           "LP"
          ],
          [
           "LP"
          ],
          [
           "LP"
          ],
          [
           "LP"
          ],
          [
           "LP"
          ],
          [
           "LP"
          ],
          [
           "LP"
          ],
          [
           "LP"
          ],
          [
           "LP"
          ],
          [
           "LP"
          ],
          [
           "LP"
          ],
          [
           "LP"
          ],
          [
           "LP"
          ],
          [
           "LP"
          ],
          [
           "LP"
          ],
          [
           "LP"
          ],
          [
           "LP"
          ],
          [
           "LP"
          ],
          [
           "LP"
          ],
          [
           "LP"
          ]
         ],
         "hoverinfo": [
          "all"
         ],
         "hoverlabel": {
          "namelength": 0
         },
         "hovertemplate": "%{customdata[0]}<br>%{y}",
         "legendgroup": "LP",
         "line": {
          "color": "#FFA15A",
          "dash": "solid"
         },
         "mode": "lines",
         "name": "LP",
         "showlegend": true,
         "type": "scatter",
         "x": [
          "2020-03-05T00:00:00",
          "2020-03-07T00:00:00",
          "2020-03-08T00:00:00",
          "2020-03-09T00:00:00",
          "2020-03-11T00:00:00",
          "2020-03-12T00:00:00",
          "2020-03-13T00:00:00",
          "2020-03-14T00:00:00",
          "2020-03-15T00:00:00",
          "2020-03-16T00:00:00",
          "2020-03-17T00:00:00",
          "2020-03-18T00:00:00",
          "2020-03-19T00:00:00",
          "2020-03-20T00:00:00",
          "2020-03-21T00:00:00",
          "2020-03-22T00:00:00",
          "2020-03-23T00:00:00",
          "2020-03-24T00:00:00",
          "2020-03-25T00:00:00",
          "2020-03-26T00:00:00",
          "2020-03-28T00:00:00",
          "2020-03-29T00:00:00",
          "2020-03-30T00:00:00",
          "2020-03-31T00:00:00",
          "2020-04-01T00:00:00",
          "2020-04-02T00:00:00",
          "2020-04-03T00:00:00",
          "2020-04-04T00:00:00",
          "2020-04-05T00:00:00",
          "2020-04-06T00:00:00",
          "2020-04-08T00:00:00",
          "2020-04-09T00:00:00",
          "2020-04-10T00:00:00",
          "2020-04-11T00:00:00",
          "2020-04-12T00:00:00",
          "2020-04-13T00:00:00",
          "2020-04-14T00:00:00",
          "2020-04-15T00:00:00",
          "2020-04-16T00:00:00",
          "2020-04-17T00:00:00",
          "2020-04-18T00:00:00",
          "2020-04-19T00:00:00",
          "2020-04-20T00:00:00",
          "2020-04-21T00:00:00",
          "2020-04-22T00:00:00",
          "2020-04-23T00:00:00",
          "2020-04-24T00:00:00",
          "2020-04-25T00:00:00",
          "2020-04-26T00:00:00",
          "2020-04-27T00:00:00",
          "2020-04-28T00:00:00",
          "2020-04-29T00:00:00",
          "2020-04-30T00:00:00"
         ],
         "xaxis": "x",
         "y": [
          0,
          0,
          0,
          0,
          0,
          0,
          0,
          0,
          0,
          1,
          0,
          0,
          0,
          0,
          0,
          1,
          2,
          0,
          0,
          2,
          5,
          1,
          -1,
          3,
          0,
          2,
          0,
          2,
          1,
          0,
          2,
          1,
          2,
          -1,
          0,
          0,
          1,
          1,
          1,
          0,
          0,
          1,
          0,
          0,
          0,
          0,
          2,
          1,
          1,
          0,
          0,
          0,
          1
         ],
         "yaxis": "y"
        },
        {
         "customdata": [
          [
           "MP"
          ],
          [
           "MP"
          ],
          [
           "MP"
          ],
          [
           "MP"
          ],
          [
           "MP"
          ],
          [
           "MP"
          ],
          [
           "MP"
          ],
          [
           "MP"
          ],
          [
           "MP"
          ],
          [
           "MP"
          ],
          [
           "MP"
          ],
          [
           "MP"
          ],
          [
           "MP"
          ],
          [
           "MP"
          ],
          [
           "MP"
          ],
          [
           "MP"
          ],
          [
           "MP"
          ],
          [
           "MP"
          ],
          [
           "MP"
          ],
          [
           "MP"
          ],
          [
           "MP"
          ],
          [
           "MP"
          ],
          [
           "MP"
          ],
          [
           "MP"
          ],
          [
           "MP"
          ],
          [
           "MP"
          ],
          [
           "MP"
          ],
          [
           "MP"
          ],
          [
           "MP"
          ],
          [
           "MP"
          ],
          [
           "MP"
          ],
          [
           "MP"
          ],
          [
           "MP"
          ],
          [
           "MP"
          ],
          [
           "MP"
          ],
          [
           "MP"
          ],
          [
           "MP"
          ],
          [
           "MP"
          ],
          [
           "MP"
          ],
          [
           "MP"
          ],
          [
           "MP"
          ],
          [
           "MP"
          ],
          [
           "MP"
          ],
          [
           "MP"
          ],
          [
           "MP"
          ],
          [
           "MP"
          ],
          [
           "MP"
          ],
          [
           "MP"
          ],
          [
           "MP"
          ],
          [
           "MP"
          ],
          [
           "MP"
          ],
          [
           "MP"
          ],
          [
           "MP"
          ]
         ],
         "hoverinfo": [
          "all"
         ],
         "hoverlabel": {
          "namelength": 0
         },
         "hovertemplate": "%{customdata[0]}<br>%{y}",
         "legendgroup": "MP",
         "line": {
          "color": "#19d3f3",
          "dash": "solid"
         },
         "mode": "lines",
         "name": "MP",
         "showlegend": true,
         "type": "scatter",
         "x": [
          "2020-03-05T00:00:00",
          "2020-03-07T00:00:00",
          "2020-03-08T00:00:00",
          "2020-03-09T00:00:00",
          "2020-03-11T00:00:00",
          "2020-03-12T00:00:00",
          "2020-03-13T00:00:00",
          "2020-03-14T00:00:00",
          "2020-03-15T00:00:00",
          "2020-03-16T00:00:00",
          "2020-03-17T00:00:00",
          "2020-03-18T00:00:00",
          "2020-03-19T00:00:00",
          "2020-03-20T00:00:00",
          "2020-03-21T00:00:00",
          "2020-03-22T00:00:00",
          "2020-03-23T00:00:00",
          "2020-03-24T00:00:00",
          "2020-03-25T00:00:00",
          "2020-03-26T00:00:00",
          "2020-03-28T00:00:00",
          "2020-03-29T00:00:00",
          "2020-03-30T00:00:00",
          "2020-03-31T00:00:00",
          "2020-04-01T00:00:00",
          "2020-04-02T00:00:00",
          "2020-04-03T00:00:00",
          "2020-04-04T00:00:00",
          "2020-04-05T00:00:00",
          "2020-04-06T00:00:00",
          "2020-04-08T00:00:00",
          "2020-04-09T00:00:00",
          "2020-04-10T00:00:00",
          "2020-04-11T00:00:00",
          "2020-04-12T00:00:00",
          "2020-04-13T00:00:00",
          "2020-04-14T00:00:00",
          "2020-04-15T00:00:00",
          "2020-04-16T00:00:00",
          "2020-04-17T00:00:00",
          "2020-04-18T00:00:00",
          "2020-04-19T00:00:00",
          "2020-04-20T00:00:00",
          "2020-04-21T00:00:00",
          "2020-04-22T00:00:00",
          "2020-04-23T00:00:00",
          "2020-04-24T00:00:00",
          "2020-04-25T00:00:00",
          "2020-04-26T00:00:00",
          "2020-04-27T00:00:00",
          "2020-04-28T00:00:00",
          "2020-04-29T00:00:00",
          "2020-04-30T00:00:00"
         ],
         "xaxis": "x",
         "y": [
          0,
          0,
          0,
          0,
          0,
          1,
          0,
          0,
          0,
          1,
          0,
          2,
          1,
          0,
          0,
          0,
          4,
          0,
          -1,
          1,
          1,
          1,
          0,
          1,
          0,
          1,
          0,
          5,
          0,
          0,
          3,
          -1,
          0,
          0,
          1,
          1,
          0,
          0,
          0,
          1,
          2,
          -2,
          0,
          1,
          -1,
          0,
          1,
          -1,
          0,
          3,
          0,
          5,
          5
         ],
         "yaxis": "y"
        },
        {
         "customdata": [
          [
           "NC"
          ],
          [
           "NC"
          ],
          [
           "NC"
          ],
          [
           "NC"
          ],
          [
           "NC"
          ],
          [
           "NC"
          ],
          [
           "NC"
          ],
          [
           "NC"
          ],
          [
           "NC"
          ],
          [
           "NC"
          ],
          [
           "NC"
          ],
          [
           "NC"
          ],
          [
           "NC"
          ],
          [
           "NC"
          ],
          [
           "NC"
          ],
          [
           "NC"
          ],
          [
           "NC"
          ],
          [
           "NC"
          ],
          [
           "NC"
          ],
          [
           "NC"
          ],
          [
           "NC"
          ],
          [
           "NC"
          ],
          [
           "NC"
          ],
          [
           "NC"
          ],
          [
           "NC"
          ],
          [
           "NC"
          ],
          [
           "NC"
          ],
          [
           "NC"
          ],
          [
           "NC"
          ],
          [
           "NC"
          ],
          [
           "NC"
          ],
          [
           "NC"
          ],
          [
           "NC"
          ],
          [
           "NC"
          ],
          [
           "NC"
          ],
          [
           "NC"
          ],
          [
           "NC"
          ],
          [
           "NC"
          ],
          [
           "NC"
          ],
          [
           "NC"
          ],
          [
           "NC"
          ],
          [
           "NC"
          ],
          [
           "NC"
          ],
          [
           "NC"
          ],
          [
           "NC"
          ],
          [
           "NC"
          ],
          [
           "NC"
          ],
          [
           "NC"
          ],
          [
           "NC"
          ],
          [
           "NC"
          ],
          [
           "NC"
          ],
          [
           "NC"
          ],
          [
           "NC"
          ]
         ],
         "hoverinfo": [
          "all"
         ],
         "hoverlabel": {
          "namelength": 0
         },
         "hovertemplate": "%{customdata[0]}<br>%{y}",
         "legendgroup": "NC",
         "line": {
          "color": "#FF6692",
          "dash": "solid"
         },
         "mode": "lines",
         "name": "NC",
         "showlegend": true,
         "type": "scatter",
         "x": [
          "2020-03-05T00:00:00",
          "2020-03-07T00:00:00",
          "2020-03-08T00:00:00",
          "2020-03-09T00:00:00",
          "2020-03-11T00:00:00",
          "2020-03-12T00:00:00",
          "2020-03-13T00:00:00",
          "2020-03-14T00:00:00",
          "2020-03-15T00:00:00",
          "2020-03-16T00:00:00",
          "2020-03-17T00:00:00",
          "2020-03-18T00:00:00",
          "2020-03-19T00:00:00",
          "2020-03-20T00:00:00",
          "2020-03-21T00:00:00",
          "2020-03-22T00:00:00",
          "2020-03-23T00:00:00",
          "2020-03-24T00:00:00",
          "2020-03-25T00:00:00",
          "2020-03-26T00:00:00",
          "2020-03-28T00:00:00",
          "2020-03-29T00:00:00",
          "2020-03-30T00:00:00",
          "2020-03-31T00:00:00",
          "2020-04-01T00:00:00",
          "2020-04-02T00:00:00",
          "2020-04-03T00:00:00",
          "2020-04-04T00:00:00",
          "2020-04-05T00:00:00",
          "2020-04-06T00:00:00",
          "2020-04-08T00:00:00",
          "2020-04-09T00:00:00",
          "2020-04-10T00:00:00",
          "2020-04-11T00:00:00",
          "2020-04-12T00:00:00",
          "2020-04-13T00:00:00",
          "2020-04-14T00:00:00",
          "2020-04-15T00:00:00",
          "2020-04-16T00:00:00",
          "2020-04-17T00:00:00",
          "2020-04-18T00:00:00",
          "2020-04-19T00:00:00",
          "2020-04-20T00:00:00",
          "2020-04-21T00:00:00",
          "2020-04-22T00:00:00",
          "2020-04-23T00:00:00",
          "2020-04-24T00:00:00",
          "2020-04-25T00:00:00",
          "2020-04-26T00:00:00",
          "2020-04-27T00:00:00",
          "2020-04-28T00:00:00",
          "2020-04-29T00:00:00",
          "2020-04-30T00:00:00"
         ],
         "xaxis": "x",
         "y": [
          0,
          0,
          0,
          0,
          0,
          0,
          0,
          0,
          0,
          0,
          0,
          0,
          0,
          0,
          0,
          0,
          2,
          0,
          0,
          0,
          3,
          1,
          -3,
          3,
          1,
          0,
          0,
          0,
          1,
          0,
          5,
          2,
          0,
          1,
          0,
          0,
          0,
          0,
          0,
          0,
          0,
          0,
          2,
          -2,
          0,
          0,
          0,
          0,
          1,
          0,
          0,
          0,
          0
         ],
         "yaxis": "y"
        },
        {
         "customdata": [
          [
           "NW"
          ],
          [
           "NW"
          ],
          [
           "NW"
          ],
          [
           "NW"
          ],
          [
           "NW"
          ],
          [
           "NW"
          ],
          [
           "NW"
          ],
          [
           "NW"
          ],
          [
           "NW"
          ],
          [
           "NW"
          ],
          [
           "NW"
          ],
          [
           "NW"
          ],
          [
           "NW"
          ],
          [
           "NW"
          ],
          [
           "NW"
          ],
          [
           "NW"
          ],
          [
           "NW"
          ],
          [
           "NW"
          ],
          [
           "NW"
          ],
          [
           "NW"
          ],
          [
           "NW"
          ],
          [
           "NW"
          ],
          [
           "NW"
          ],
          [
           "NW"
          ],
          [
           "NW"
          ],
          [
           "NW"
          ],
          [
           "NW"
          ],
          [
           "NW"
          ],
          [
           "NW"
          ],
          [
           "NW"
          ],
          [
           "NW"
          ],
          [
           "NW"
          ],
          [
           "NW"
          ],
          [
           "NW"
          ],
          [
           "NW"
          ],
          [
           "NW"
          ],
          [
           "NW"
          ],
          [
           "NW"
          ],
          [
           "NW"
          ],
          [
           "NW"
          ],
          [
           "NW"
          ],
          [
           "NW"
          ],
          [
           "NW"
          ],
          [
           "NW"
          ],
          [
           "NW"
          ],
          [
           "NW"
          ],
          [
           "NW"
          ],
          [
           "NW"
          ],
          [
           "NW"
          ],
          [
           "NW"
          ],
          [
           "NW"
          ],
          [
           "NW"
          ],
          [
           "NW"
          ]
         ],
         "hoverinfo": [
          "all"
         ],
         "hoverlabel": {
          "namelength": 0
         },
         "hovertemplate": "%{customdata[0]}<br>%{y}",
         "legendgroup": "NW",
         "line": {
          "color": "#B6E880",
          "dash": "solid"
         },
         "mode": "lines",
         "name": "NW",
         "showlegend": true,
         "type": "scatter",
         "x": [
          "2020-03-05T00:00:00",
          "2020-03-07T00:00:00",
          "2020-03-08T00:00:00",
          "2020-03-09T00:00:00",
          "2020-03-11T00:00:00",
          "2020-03-12T00:00:00",
          "2020-03-13T00:00:00",
          "2020-03-14T00:00:00",
          "2020-03-15T00:00:00",
          "2020-03-16T00:00:00",
          "2020-03-17T00:00:00",
          "2020-03-18T00:00:00",
          "2020-03-19T00:00:00",
          "2020-03-20T00:00:00",
          "2020-03-21T00:00:00",
          "2020-03-22T00:00:00",
          "2020-03-23T00:00:00",
          "2020-03-24T00:00:00",
          "2020-03-25T00:00:00",
          "2020-03-26T00:00:00",
          "2020-03-28T00:00:00",
          "2020-03-29T00:00:00",
          "2020-03-30T00:00:00",
          "2020-03-31T00:00:00",
          "2020-04-01T00:00:00",
          "2020-04-02T00:00:00",
          "2020-04-03T00:00:00",
          "2020-04-04T00:00:00",
          "2020-04-05T00:00:00",
          "2020-04-06T00:00:00",
          "2020-04-08T00:00:00",
          "2020-04-09T00:00:00",
          "2020-04-10T00:00:00",
          "2020-04-11T00:00:00",
          "2020-04-12T00:00:00",
          "2020-04-13T00:00:00",
          "2020-04-14T00:00:00",
          "2020-04-15T00:00:00",
          "2020-04-16T00:00:00",
          "2020-04-17T00:00:00",
          "2020-04-18T00:00:00",
          "2020-04-19T00:00:00",
          "2020-04-20T00:00:00",
          "2020-04-21T00:00:00",
          "2020-04-22T00:00:00",
          "2020-04-23T00:00:00",
          "2020-04-24T00:00:00",
          "2020-04-25T00:00:00",
          "2020-04-26T00:00:00",
          "2020-04-27T00:00:00",
          "2020-04-28T00:00:00",
          "2020-04-29T00:00:00",
          "2020-04-30T00:00:00"
         ],
         "xaxis": "x",
         "y": [
          0,
          0,
          0,
          0,
          0,
          0,
          0,
          0,
          0,
          0,
          0,
          0,
          0,
          0,
          0,
          0,
          4,
          1,
          0,
          0,
          1,
          0,
          2,
          0,
          1,
          0,
          0,
          2,
          0,
          0,
          4,
          0,
          3,
          1,
          0,
          3,
          0,
          1,
          1,
          0,
          0,
          0,
          1,
          -1,
          0,
          1,
          0,
          3,
          0,
          3,
          -2,
          0,
          2
         ],
         "yaxis": "y"
        },
        {
         "customdata": [
          [
           "WC"
          ],
          [
           "WC"
          ],
          [
           "WC"
          ],
          [
           "WC"
          ],
          [
           "WC"
          ],
          [
           "WC"
          ],
          [
           "WC"
          ],
          [
           "WC"
          ],
          [
           "WC"
          ],
          [
           "WC"
          ],
          [
           "WC"
          ],
          [
           "WC"
          ],
          [
           "WC"
          ],
          [
           "WC"
          ],
          [
           "WC"
          ],
          [
           "WC"
          ],
          [
           "WC"
          ],
          [
           "WC"
          ],
          [
           "WC"
          ],
          [
           "WC"
          ],
          [
           "WC"
          ],
          [
           "WC"
          ],
          [
           "WC"
          ],
          [
           "WC"
          ],
          [
           "WC"
          ],
          [
           "WC"
          ],
          [
           "WC"
          ],
          [
           "WC"
          ],
          [
           "WC"
          ],
          [
           "WC"
          ],
          [
           "WC"
          ],
          [
           "WC"
          ],
          [
           "WC"
          ],
          [
           "WC"
          ],
          [
           "WC"
          ],
          [
           "WC"
          ],
          [
           "WC"
          ],
          [
           "WC"
          ],
          [
           "WC"
          ],
          [
           "WC"
          ],
          [
           "WC"
          ],
          [
           "WC"
          ],
          [
           "WC"
          ],
          [
           "WC"
          ],
          [
           "WC"
          ],
          [
           "WC"
          ],
          [
           "WC"
          ],
          [
           "WC"
          ],
          [
           "WC"
          ],
          [
           "WC"
          ],
          [
           "WC"
          ],
          [
           "WC"
          ],
          [
           "WC"
          ]
         ],
         "hoverinfo": [
          "all"
         ],
         "hoverlabel": {
          "namelength": 0
         },
         "hovertemplate": "%{customdata[0]}<br>%{y}",
         "legendgroup": "WC",
         "line": {
          "color": "#FF97FF",
          "dash": "solid"
         },
         "mode": "lines",
         "name": "WC",
         "showlegend": true,
         "type": "scatter",
         "x": [
          "2020-03-05T00:00:00",
          "2020-03-07T00:00:00",
          "2020-03-08T00:00:00",
          "2020-03-09T00:00:00",
          "2020-03-11T00:00:00",
          "2020-03-12T00:00:00",
          "2020-03-13T00:00:00",
          "2020-03-14T00:00:00",
          "2020-03-15T00:00:00",
          "2020-03-16T00:00:00",
          "2020-03-17T00:00:00",
          "2020-03-18T00:00:00",
          "2020-03-19T00:00:00",
          "2020-03-20T00:00:00",
          "2020-03-21T00:00:00",
          "2020-03-22T00:00:00",
          "2020-03-23T00:00:00",
          "2020-03-24T00:00:00",
          "2020-03-25T00:00:00",
          "2020-03-26T00:00:00",
          "2020-03-28T00:00:00",
          "2020-03-29T00:00:00",
          "2020-03-30T00:00:00",
          "2020-03-31T00:00:00",
          "2020-04-01T00:00:00",
          "2020-04-02T00:00:00",
          "2020-04-03T00:00:00",
          "2020-04-04T00:00:00",
          "2020-04-05T00:00:00",
          "2020-04-06T00:00:00",
          "2020-04-08T00:00:00",
          "2020-04-09T00:00:00",
          "2020-04-10T00:00:00",
          "2020-04-11T00:00:00",
          "2020-04-12T00:00:00",
          "2020-04-13T00:00:00",
          "2020-04-14T00:00:00",
          "2020-04-15T00:00:00",
          "2020-04-16T00:00:00",
          "2020-04-17T00:00:00",
          "2020-04-18T00:00:00",
          "2020-04-19T00:00:00",
          "2020-04-20T00:00:00",
          "2020-04-21T00:00:00",
          "2020-04-22T00:00:00",
          "2020-04-23T00:00:00",
          "2020-04-24T00:00:00",
          "2020-04-25T00:00:00",
          "2020-04-26T00:00:00",
          "2020-04-27T00:00:00",
          "2020-04-28T00:00:00",
          "2020-04-29T00:00:00",
          "2020-04-30T00:00:00"
         ],
         "xaxis": "x",
         "y": [
          0,
          0,
          0,
          0,
          1,
          0,
          2,
          6,
          5,
          2,
          5,
          10,
          15,
          11,
          18,
          14,
          11,
          13,
          70,
          46,
          42,
          39,
          14,
          1,
          1,
          27,
          21,
          59,
          21,
          8,
          33,
          20,
          26,
          5,
          41,
          30,
          26,
          14,
          18,
          42,
          119,
          32,
          72,
          70,
          69,
          200,
          134,
          101,
          94,
          129,
          133,
          265,
          207
         ],
         "yaxis": "y"
        },
        {
         "customdata": [
          [
           "UNK"
          ],
          [
           "UNK"
          ],
          [
           "UNK"
          ],
          [
           "UNK"
          ],
          [
           "UNK"
          ],
          [
           "UNK"
          ],
          [
           "UNK"
          ],
          [
           "UNK"
          ],
          [
           "UNK"
          ],
          [
           "UNK"
          ],
          [
           "UNK"
          ],
          [
           "UNK"
          ],
          [
           "UNK"
          ],
          [
           "UNK"
          ],
          [
           "UNK"
          ],
          [
           "UNK"
          ],
          [
           "UNK"
          ],
          [
           "UNK"
          ],
          [
           "UNK"
          ],
          [
           "UNK"
          ],
          [
           "UNK"
          ],
          [
           "UNK"
          ],
          [
           "UNK"
          ],
          [
           "UNK"
          ],
          [
           "UNK"
          ],
          [
           "UNK"
          ],
          [
           "UNK"
          ],
          [
           "UNK"
          ],
          [
           "UNK"
          ],
          [
           "UNK"
          ],
          [
           "UNK"
          ],
          [
           "UNK"
          ],
          [
           "UNK"
          ],
          [
           "UNK"
          ],
          [
           "UNK"
          ],
          [
           "UNK"
          ],
          [
           "UNK"
          ],
          [
           "UNK"
          ],
          [
           "UNK"
          ],
          [
           "UNK"
          ],
          [
           "UNK"
          ],
          [
           "UNK"
          ],
          [
           "UNK"
          ],
          [
           "UNK"
          ],
          [
           "UNK"
          ],
          [
           "UNK"
          ],
          [
           "UNK"
          ],
          [
           "UNK"
          ],
          [
           "UNK"
          ],
          [
           "UNK"
          ],
          [
           "UNK"
          ],
          [
           "UNK"
          ],
          [
           "UNK"
          ]
         ],
         "hoverinfo": [
          "all"
         ],
         "hoverlabel": {
          "namelength": 0
         },
         "hovertemplate": "%{customdata[0]}<br>%{y}",
         "legendgroup": "UNK",
         "line": {
          "color": "#FECB52",
          "dash": "solid"
         },
         "mode": "lines",
         "name": "UNK",
         "showlegend": true,
         "type": "scatter",
         "x": [
          "2020-03-05T00:00:00",
          "2020-03-07T00:00:00",
          "2020-03-08T00:00:00",
          "2020-03-09T00:00:00",
          "2020-03-11T00:00:00",
          "2020-03-12T00:00:00",
          "2020-03-13T00:00:00",
          "2020-03-14T00:00:00",
          "2020-03-15T00:00:00",
          "2020-03-16T00:00:00",
          "2020-03-17T00:00:00",
          "2020-03-18T00:00:00",
          "2020-03-19T00:00:00",
          "2020-03-20T00:00:00",
          "2020-03-21T00:00:00",
          "2020-03-22T00:00:00",
          "2020-03-23T00:00:00",
          "2020-03-24T00:00:00",
          "2020-03-25T00:00:00",
          "2020-03-26T00:00:00",
          "2020-03-28T00:00:00",
          "2020-03-29T00:00:00",
          "2020-03-30T00:00:00",
          "2020-03-31T00:00:00",
          "2020-04-01T00:00:00",
          "2020-04-02T00:00:00",
          "2020-04-03T00:00:00",
          "2020-04-04T00:00:00",
          "2020-04-05T00:00:00",
          "2020-04-06T00:00:00",
          "2020-04-08T00:00:00",
          "2020-04-09T00:00:00",
          "2020-04-10T00:00:00",
          "2020-04-11T00:00:00",
          "2020-04-12T00:00:00",
          "2020-04-13T00:00:00",
          "2020-04-14T00:00:00",
          "2020-04-15T00:00:00",
          "2020-04-16T00:00:00",
          "2020-04-17T00:00:00",
          "2020-04-18T00:00:00",
          "2020-04-19T00:00:00",
          "2020-04-20T00:00:00",
          "2020-04-21T00:00:00",
          "2020-04-22T00:00:00",
          "2020-04-23T00:00:00",
          "2020-04-24T00:00:00",
          "2020-04-25T00:00:00",
          "2020-04-26T00:00:00",
          "2020-04-27T00:00:00",
          "2020-04-28T00:00:00",
          "2020-04-29T00:00:00",
          "2020-04-30T00:00:00"
         ],
         "xaxis": "x",
         "y": [
          0,
          0,
          0,
          0,
          0,
          0,
          0,
          0,
          0,
          0,
          0,
          0,
          0,
          0,
          0,
          0,
          1,
          18,
          46,
          14,
          38,
          -17,
          -4,
          -6,
          0,
          4,
          0,
          -31,
          14,
          0,
          -66,
          0,
          -1,
          0,
          5,
          2,
          1,
          0,
          -2,
          6,
          10,
          10,
          1,
          0,
          -42,
          0,
          -1,
          0,
          0,
          0,
          0,
          0,
          0
         ],
         "yaxis": "y"
        }
       ],
       "layout": {
        "hovermode": "x",
        "legend": {
         "title": {
          "text": ""
         },
         "tracegroupgap": 0,
         "x": 0.01,
         "y": 0.98
        },
        "margin": {
         "b": 0,
         "l": 0,
         "r": 0,
         "t": 0
        },
        "template": {
         "data": {
          "bar": [
           {
            "error_x": {
             "color": "#2a3f5f"
            },
            "error_y": {
             "color": "#2a3f5f"
            },
            "marker": {
             "line": {
              "color": "#E5ECF6",
              "width": 0.5
             }
            },
            "type": "bar"
           }
          ],
          "barpolar": [
           {
            "marker": {
             "line": {
              "color": "#E5ECF6",
              "width": 0.5
             }
            },
            "type": "barpolar"
           }
          ],
          "carpet": [
           {
            "aaxis": {
             "endlinecolor": "#2a3f5f",
             "gridcolor": "white",
             "linecolor": "white",
             "minorgridcolor": "white",
             "startlinecolor": "#2a3f5f"
            },
            "baxis": {
             "endlinecolor": "#2a3f5f",
             "gridcolor": "white",
             "linecolor": "white",
             "minorgridcolor": "white",
             "startlinecolor": "#2a3f5f"
            },
            "type": "carpet"
           }
          ],
          "choropleth": [
           {
            "colorbar": {
             "outlinewidth": 0,
             "ticks": ""
            },
            "type": "choropleth"
           }
          ],
          "contour": [
           {
            "colorbar": {
             "outlinewidth": 0,
             "ticks": ""
            },
            "colorscale": [
             [
              0,
              "#0d0887"
             ],
             [
              0.1111111111111111,
              "#46039f"
             ],
             [
              0.2222222222222222,
              "#7201a8"
             ],
             [
              0.3333333333333333,
              "#9c179e"
             ],
             [
              0.4444444444444444,
              "#bd3786"
             ],
             [
              0.5555555555555556,
              "#d8576b"
             ],
             [
              0.6666666666666666,
              "#ed7953"
             ],
             [
              0.7777777777777778,
              "#fb9f3a"
             ],
             [
              0.8888888888888888,
              "#fdca26"
             ],
             [
              1,
              "#f0f921"
             ]
            ],
            "type": "contour"
           }
          ],
          "contourcarpet": [
           {
            "colorbar": {
             "outlinewidth": 0,
             "ticks": ""
            },
            "type": "contourcarpet"
           }
          ],
          "heatmap": [
           {
            "colorbar": {
             "outlinewidth": 0,
             "ticks": ""
            },
            "colorscale": [
             [
              0,
              "#0d0887"
             ],
             [
              0.1111111111111111,
              "#46039f"
             ],
             [
              0.2222222222222222,
              "#7201a8"
             ],
             [
              0.3333333333333333,
              "#9c179e"
             ],
             [
              0.4444444444444444,
              "#bd3786"
             ],
             [
              0.5555555555555556,
              "#d8576b"
             ],
             [
              0.6666666666666666,
              "#ed7953"
             ],
             [
              0.7777777777777778,
              "#fb9f3a"
             ],
             [
              0.8888888888888888,
              "#fdca26"
             ],
             [
              1,
              "#f0f921"
             ]
            ],
            "type": "heatmap"
           }
          ],
          "heatmapgl": [
           {
            "colorbar": {
             "outlinewidth": 0,
             "ticks": ""
            },
            "colorscale": [
             [
              0,
              "#0d0887"
             ],
             [
              0.1111111111111111,
              "#46039f"
             ],
             [
              0.2222222222222222,
              "#7201a8"
             ],
             [
              0.3333333333333333,
              "#9c179e"
             ],
             [
              0.4444444444444444,
              "#bd3786"
             ],
             [
              0.5555555555555556,
              "#d8576b"
             ],
             [
              0.6666666666666666,
              "#ed7953"
             ],
             [
              0.7777777777777778,
              "#fb9f3a"
             ],
             [
              0.8888888888888888,
              "#fdca26"
             ],
             [
              1,
              "#f0f921"
             ]
            ],
            "type": "heatmapgl"
           }
          ],
          "histogram": [
           {
            "marker": {
             "colorbar": {
              "outlinewidth": 0,
              "ticks": ""
             }
            },
            "type": "histogram"
           }
          ],
          "histogram2d": [
           {
            "colorbar": {
             "outlinewidth": 0,
             "ticks": ""
            },
            "colorscale": [
             [
              0,
              "#0d0887"
             ],
             [
              0.1111111111111111,
              "#46039f"
             ],
             [
              0.2222222222222222,
              "#7201a8"
             ],
             [
              0.3333333333333333,
              "#9c179e"
             ],
             [
              0.4444444444444444,
              "#bd3786"
             ],
             [
              0.5555555555555556,
              "#d8576b"
             ],
             [
              0.6666666666666666,
              "#ed7953"
             ],
             [
              0.7777777777777778,
              "#fb9f3a"
             ],
             [
              0.8888888888888888,
              "#fdca26"
             ],
             [
              1,
              "#f0f921"
             ]
            ],
            "type": "histogram2d"
           }
          ],
          "histogram2dcontour": [
           {
            "colorbar": {
             "outlinewidth": 0,
             "ticks": ""
            },
            "colorscale": [
             [
              0,
              "#0d0887"
             ],
             [
              0.1111111111111111,
              "#46039f"
             ],
             [
              0.2222222222222222,
              "#7201a8"
             ],
             [
              0.3333333333333333,
              "#9c179e"
             ],
             [
              0.4444444444444444,
              "#bd3786"
             ],
             [
              0.5555555555555556,
              "#d8576b"
             ],
             [
              0.6666666666666666,
              "#ed7953"
             ],
             [
              0.7777777777777778,
              "#fb9f3a"
             ],
             [
              0.8888888888888888,
              "#fdca26"
             ],
             [
              1,
              "#f0f921"
             ]
            ],
            "type": "histogram2dcontour"
           }
          ],
          "mesh3d": [
           {
            "colorbar": {
             "outlinewidth": 0,
             "ticks": ""
            },
            "type": "mesh3d"
           }
          ],
          "parcoords": [
           {
            "line": {
             "colorbar": {
              "outlinewidth": 0,
              "ticks": ""
             }
            },
            "type": "parcoords"
           }
          ],
          "pie": [
           {
            "automargin": true,
            "type": "pie"
           }
          ],
          "scatter": [
           {
            "marker": {
             "colorbar": {
              "outlinewidth": 0,
              "ticks": ""
             }
            },
            "type": "scatter"
           }
          ],
          "scatter3d": [
           {
            "line": {
             "colorbar": {
              "outlinewidth": 0,
              "ticks": ""
             }
            },
            "marker": {
             "colorbar": {
              "outlinewidth": 0,
              "ticks": ""
             }
            },
            "type": "scatter3d"
           }
          ],
          "scattercarpet": [
           {
            "marker": {
             "colorbar": {
              "outlinewidth": 0,
              "ticks": ""
             }
            },
            "type": "scattercarpet"
           }
          ],
          "scattergeo": [
           {
            "marker": {
             "colorbar": {
              "outlinewidth": 0,
              "ticks": ""
             }
            },
            "type": "scattergeo"
           }
          ],
          "scattergl": [
           {
            "marker": {
             "colorbar": {
              "outlinewidth": 0,
              "ticks": ""
             }
            },
            "type": "scattergl"
           }
          ],
          "scattermapbox": [
           {
            "marker": {
             "colorbar": {
              "outlinewidth": 0,
              "ticks": ""
             }
            },
            "type": "scattermapbox"
           }
          ],
          "scatterpolar": [
           {
            "marker": {
             "colorbar": {
              "outlinewidth": 0,
              "ticks": ""
             }
            },
            "type": "scatterpolar"
           }
          ],
          "scatterpolargl": [
           {
            "marker": {
             "colorbar": {
              "outlinewidth": 0,
              "ticks": ""
             }
            },
            "type": "scatterpolargl"
           }
          ],
          "scatterternary": [
           {
            "marker": {
             "colorbar": {
              "outlinewidth": 0,
              "ticks": ""
             }
            },
            "type": "scatterternary"
           }
          ],
          "surface": [
           {
            "colorbar": {
             "outlinewidth": 0,
             "ticks": ""
            },
            "colorscale": [
             [
              0,
              "#0d0887"
             ],
             [
              0.1111111111111111,
              "#46039f"
             ],
             [
              0.2222222222222222,
              "#7201a8"
             ],
             [
              0.3333333333333333,
              "#9c179e"
             ],
             [
              0.4444444444444444,
              "#bd3786"
             ],
             [
              0.5555555555555556,
              "#d8576b"
             ],
             [
              0.6666666666666666,
              "#ed7953"
             ],
             [
              0.7777777777777778,
              "#fb9f3a"
             ],
             [
              0.8888888888888888,
              "#fdca26"
             ],
             [
              1,
              "#f0f921"
             ]
            ],
            "type": "surface"
           }
          ],
          "table": [
           {
            "cells": {
             "fill": {
              "color": "#EBF0F8"
             },
             "line": {
              "color": "white"
             }
            },
            "header": {
             "fill": {
              "color": "#C8D4E3"
             },
             "line": {
              "color": "white"
             }
            },
            "type": "table"
           }
          ]
         },
         "layout": {
          "annotationdefaults": {
           "arrowcolor": "#2a3f5f",
           "arrowhead": 0,
           "arrowwidth": 1
          },
          "coloraxis": {
           "colorbar": {
            "outlinewidth": 0,
            "ticks": ""
           }
          },
          "colorscale": {
           "diverging": [
            [
             0,
             "#8e0152"
            ],
            [
             0.1,
             "#c51b7d"
            ],
            [
             0.2,
             "#de77ae"
            ],
            [
             0.3,
             "#f1b6da"
            ],
            [
             0.4,
             "#fde0ef"
            ],
            [
             0.5,
             "#f7f7f7"
            ],
            [
             0.6,
             "#e6f5d0"
            ],
            [
             0.7,
             "#b8e186"
            ],
            [
             0.8,
             "#7fbc41"
            ],
            [
             0.9,
             "#4d9221"
            ],
            [
             1,
             "#276419"
            ]
           ],
           "sequential": [
            [
             0,
             "#0d0887"
            ],
            [
             0.1111111111111111,
             "#46039f"
            ],
            [
             0.2222222222222222,
             "#7201a8"
            ],
            [
             0.3333333333333333,
             "#9c179e"
            ],
            [
             0.4444444444444444,
             "#bd3786"
            ],
            [
             0.5555555555555556,
             "#d8576b"
            ],
            [
             0.6666666666666666,
             "#ed7953"
            ],
            [
             0.7777777777777778,
             "#fb9f3a"
            ],
            [
             0.8888888888888888,
             "#fdca26"
            ],
            [
             1,
             "#f0f921"
            ]
           ],
           "sequentialminus": [
            [
             0,
             "#0d0887"
            ],
            [
             0.1111111111111111,
             "#46039f"
            ],
            [
             0.2222222222222222,
             "#7201a8"
            ],
            [
             0.3333333333333333,
             "#9c179e"
            ],
            [
             0.4444444444444444,
             "#bd3786"
            ],
            [
             0.5555555555555556,
             "#d8576b"
            ],
            [
             0.6666666666666666,
             "#ed7953"
            ],
            [
             0.7777777777777778,
             "#fb9f3a"
            ],
            [
             0.8888888888888888,
             "#fdca26"
            ],
            [
             1,
             "#f0f921"
            ]
           ]
          },
          "colorway": [
           "#636efa",
           "#EF553B",
           "#00cc96",
           "#ab63fa",
           "#FFA15A",
           "#19d3f3",
           "#FF6692",
           "#B6E880",
           "#FF97FF",
           "#FECB52"
          ],
          "font": {
           "color": "#2a3f5f"
          },
          "geo": {
           "bgcolor": "white",
           "lakecolor": "white",
           "landcolor": "#E5ECF6",
           "showlakes": true,
           "showland": true,
           "subunitcolor": "white"
          },
          "hoverlabel": {
           "align": "left"
          },
          "hovermode": "closest",
          "mapbox": {
           "style": "light"
          },
          "paper_bgcolor": "white",
          "plot_bgcolor": "#E5ECF6",
          "polar": {
           "angularaxis": {
            "gridcolor": "white",
            "linecolor": "white",
            "ticks": ""
           },
           "bgcolor": "#E5ECF6",
           "radialaxis": {
            "gridcolor": "white",
            "linecolor": "white",
            "ticks": ""
           }
          },
          "scene": {
           "xaxis": {
            "backgroundcolor": "#E5ECF6",
            "gridcolor": "white",
            "gridwidth": 2,
            "linecolor": "white",
            "showbackground": true,
            "ticks": "",
            "zerolinecolor": "white"
           },
           "yaxis": {
            "backgroundcolor": "#E5ECF6",
            "gridcolor": "white",
            "gridwidth": 2,
            "linecolor": "white",
            "showbackground": true,
            "ticks": "",
            "zerolinecolor": "white"
           },
           "zaxis": {
            "backgroundcolor": "#E5ECF6",
            "gridcolor": "white",
            "gridwidth": 2,
            "linecolor": "white",
            "showbackground": true,
            "ticks": "",
            "zerolinecolor": "white"
           }
          },
          "shapedefaults": {
           "line": {
            "color": "#2a3f5f"
           }
          },
          "ternary": {
           "aaxis": {
            "gridcolor": "white",
            "linecolor": "white",
            "ticks": ""
           },
           "baxis": {
            "gridcolor": "white",
            "linecolor": "white",
            "ticks": ""
           },
           "bgcolor": "#E5ECF6",
           "caxis": {
            "gridcolor": "white",
            "linecolor": "white",
            "ticks": ""
           }
          },
          "title": {
           "x": 0.05
          },
          "xaxis": {
           "automargin": true,
           "gridcolor": "white",
           "linecolor": "white",
           "ticks": "",
           "title": {
            "standoff": 15
           },
           "zerolinecolor": "white",
           "zerolinewidth": 2
          },
          "yaxis": {
           "automargin": true,
           "gridcolor": "white",
           "linecolor": "white",
           "ticks": "",
           "title": {
            "standoff": 15
           },
           "zerolinecolor": "white",
           "zerolinewidth": 2
          }
         }
        },
        "title": {
         "text": ""
        },
        "xaxis": {
         "anchor": "y",
         "domain": [
          0,
          1
         ],
         "fixedrange": true,
         "title": {
          "text": "Date"
         }
        },
        "yaxis": {
         "anchor": "x",
         "domain": [
          0,
          1
         ],
         "fixedrange": true,
         "title": {
          "text": "Positive Cases Per Day"
         }
        }
       }
      },
      "text/html": [
       "<div>\n",
       "        \n",
       "        \n",
       "            <div id=\"1ac482b7-08a0-40b1-bddf-3e4e5272be75\" class=\"plotly-graph-div\" style=\"height:525px; width:100%;\"></div>\n",
       "            <script type=\"text/javascript\">\n",
       "                require([\"plotly\"], function(Plotly) {\n",
       "                    window.PLOTLYENV=window.PLOTLYENV || {};\n",
       "                    \n",
       "                if (document.getElementById(\"1ac482b7-08a0-40b1-bddf-3e4e5272be75\")) {\n",
       "                    Plotly.newPlot(\n",
       "                        '1ac482b7-08a0-40b1-bddf-3e4e5272be75',\n",
       "                        [{\"customdata\": [[\"EC\"], [\"EC\"], [\"EC\"], [\"EC\"], [\"EC\"], [\"EC\"], [\"EC\"], [\"EC\"], [\"EC\"], [\"EC\"], [\"EC\"], [\"EC\"], [\"EC\"], [\"EC\"], [\"EC\"], [\"EC\"], [\"EC\"], [\"EC\"], [\"EC\"], [\"EC\"], [\"EC\"], [\"EC\"], [\"EC\"], [\"EC\"], [\"EC\"], [\"EC\"], [\"EC\"], [\"EC\"], [\"EC\"], [\"EC\"], [\"EC\"], [\"EC\"], [\"EC\"], [\"EC\"], [\"EC\"], [\"EC\"], [\"EC\"], [\"EC\"], [\"EC\"], [\"EC\"], [\"EC\"], [\"EC\"], [\"EC\"], [\"EC\"], [\"EC\"], [\"EC\"], [\"EC\"], [\"EC\"], [\"EC\"], [\"EC\"], [\"EC\"], [\"EC\"], [\"EC\"]], \"hoverinfo\": [\"all\"], \"hoverlabel\": {\"namelength\": 0}, \"hovertemplate\": \"%{customdata[0]}<br>%{y}\", \"legendgroup\": \"EC\", \"line\": {\"color\": \"#636efa\", \"dash\": \"solid\"}, \"mode\": \"lines\", \"name\": \"EC\", \"showlegend\": true, \"type\": \"scatter\", \"x\": [\"2020-03-05T00:00:00\", \"2020-03-07T00:00:00\", \"2020-03-08T00:00:00\", \"2020-03-09T00:00:00\", \"2020-03-11T00:00:00\", \"2020-03-12T00:00:00\", \"2020-03-13T00:00:00\", \"2020-03-14T00:00:00\", \"2020-03-15T00:00:00\", \"2020-03-16T00:00:00\", \"2020-03-17T00:00:00\", \"2020-03-18T00:00:00\", \"2020-03-19T00:00:00\", \"2020-03-20T00:00:00\", \"2020-03-21T00:00:00\", \"2020-03-22T00:00:00\", \"2020-03-23T00:00:00\", \"2020-03-24T00:00:00\", \"2020-03-25T00:00:00\", \"2020-03-26T00:00:00\", \"2020-03-28T00:00:00\", \"2020-03-29T00:00:00\", \"2020-03-30T00:00:00\", \"2020-03-31T00:00:00\", \"2020-04-01T00:00:00\", \"2020-04-02T00:00:00\", \"2020-04-03T00:00:00\", \"2020-04-04T00:00:00\", \"2020-04-05T00:00:00\", \"2020-04-06T00:00:00\", \"2020-04-08T00:00:00\", \"2020-04-09T00:00:00\", \"2020-04-10T00:00:00\", \"2020-04-11T00:00:00\", \"2020-04-12T00:00:00\", \"2020-04-13T00:00:00\", \"2020-04-14T00:00:00\", \"2020-04-15T00:00:00\", \"2020-04-16T00:00:00\", \"2020-04-17T00:00:00\", \"2020-04-18T00:00:00\", \"2020-04-19T00:00:00\", \"2020-04-20T00:00:00\", \"2020-04-21T00:00:00\", \"2020-04-22T00:00:00\", \"2020-04-23T00:00:00\", \"2020-04-24T00:00:00\", \"2020-04-25T00:00:00\", \"2020-04-26T00:00:00\", \"2020-04-27T00:00:00\", \"2020-04-28T00:00:00\", \"2020-04-29T00:00:00\", \"2020-04-30T00:00:00\"], \"xaxis\": \"x\", \"y\": [0.0, 0.0, 0.0, 0.0, 0.0, 0.0, 0.0, 0.0, 0.0, 0.0, 0.0, 0.0, 0.0, 0.0, 1.0, 1.0, 0.0, 0.0, 0.0, 3.0, 5.0, 2.0, 0.0, 0.0, 3.0, 2.0, 4.0, 4.0, 6.0, 1.0, 13.0, 16.0, 7.0, 1.0, 19.0, 16.0, 70.0, 25.0, 21.0, 26.0, 24.0, 23.0, 17.0, 35.0, 32.0, 40.0, 63.0, 8.0, 47.0, 53.0, 28.0, 14.0, 17.0], \"yaxis\": \"y\"}, {\"customdata\": [[\"FS\"], [\"FS\"], [\"FS\"], [\"FS\"], [\"FS\"], [\"FS\"], [\"FS\"], [\"FS\"], [\"FS\"], [\"FS\"], [\"FS\"], [\"FS\"], [\"FS\"], [\"FS\"], [\"FS\"], [\"FS\"], [\"FS\"], [\"FS\"], [\"FS\"], [\"FS\"], [\"FS\"], [\"FS\"], [\"FS\"], [\"FS\"], [\"FS\"], [\"FS\"], [\"FS\"], [\"FS\"], [\"FS\"], [\"FS\"], [\"FS\"], [\"FS\"], [\"FS\"], [\"FS\"], [\"FS\"], [\"FS\"], [\"FS\"], [\"FS\"], [\"FS\"], [\"FS\"], [\"FS\"], [\"FS\"], [\"FS\"], [\"FS\"], [\"FS\"], [\"FS\"], [\"FS\"], [\"FS\"], [\"FS\"], [\"FS\"], [\"FS\"], [\"FS\"], [\"FS\"]], \"hoverinfo\": [\"all\"], \"hoverlabel\": {\"namelength\": 0}, \"hovertemplate\": \"%{customdata[0]}<br>%{y}\", \"legendgroup\": \"FS\", \"line\": {\"color\": \"#EF553B\", \"dash\": \"solid\"}, \"mode\": \"lines\", \"name\": \"FS\", \"showlegend\": true, \"type\": \"scatter\", \"x\": [\"2020-03-05T00:00:00\", \"2020-03-07T00:00:00\", \"2020-03-08T00:00:00\", \"2020-03-09T00:00:00\", \"2020-03-11T00:00:00\", \"2020-03-12T00:00:00\", \"2020-03-13T00:00:00\", \"2020-03-14T00:00:00\", \"2020-03-15T00:00:00\", \"2020-03-16T00:00:00\", \"2020-03-17T00:00:00\", \"2020-03-18T00:00:00\", \"2020-03-19T00:00:00\", \"2020-03-20T00:00:00\", \"2020-03-21T00:00:00\", \"2020-03-22T00:00:00\", \"2020-03-23T00:00:00\", \"2020-03-24T00:00:00\", \"2020-03-25T00:00:00\", \"2020-03-26T00:00:00\", \"2020-03-28T00:00:00\", \"2020-03-29T00:00:00\", \"2020-03-30T00:00:00\", \"2020-03-31T00:00:00\", \"2020-04-01T00:00:00\", \"2020-04-02T00:00:00\", \"2020-04-03T00:00:00\", \"2020-04-04T00:00:00\", \"2020-04-05T00:00:00\", \"2020-04-06T00:00:00\", \"2020-04-08T00:00:00\", \"2020-04-09T00:00:00\", \"2020-04-10T00:00:00\", \"2020-04-11T00:00:00\", \"2020-04-12T00:00:00\", \"2020-04-13T00:00:00\", \"2020-04-14T00:00:00\", \"2020-04-15T00:00:00\", \"2020-04-16T00:00:00\", \"2020-04-17T00:00:00\", \"2020-04-18T00:00:00\", \"2020-04-19T00:00:00\", \"2020-04-20T00:00:00\", \"2020-04-21T00:00:00\", \"2020-04-22T00:00:00\", \"2020-04-23T00:00:00\", \"2020-04-24T00:00:00\", \"2020-04-25T00:00:00\", \"2020-04-26T00:00:00\", \"2020-04-27T00:00:00\", \"2020-04-28T00:00:00\", \"2020-04-29T00:00:00\", \"2020-04-30T00:00:00\"], \"xaxis\": \"x\", \"y\": [0.0, 0.0, 0.0, 0.0, 0.0, 0.0, 0.0, 0.0, 0.0, 0.0, 0.0, 0.0, 0.0, 7.0, 0.0, 2.0, 4.0, 5.0, 12.0, 19.0, 19.0, 4.0, 0.0, 2.0, 2.0, 8.0, 0.0, 1.0, 2.0, 2.0, -1.0, 5.0, 1.0, 0.0, 2.0, 0.0, 2.0, -1.0, 1.0, 2.0, 0.0, 0.0, 5.0, 1.0, 0.0, 0.0, 5.0, 0.0, -1.0, 1.0, 2.0, 0.0, 3.0], \"yaxis\": \"y\"}, {\"customdata\": [[\"GP\"], [\"GP\"], [\"GP\"], [\"GP\"], [\"GP\"], [\"GP\"], [\"GP\"], [\"GP\"], [\"GP\"], [\"GP\"], [\"GP\"], [\"GP\"], [\"GP\"], [\"GP\"], [\"GP\"], [\"GP\"], [\"GP\"], [\"GP\"], [\"GP\"], [\"GP\"], [\"GP\"], [\"GP\"], [\"GP\"], [\"GP\"], [\"GP\"], [\"GP\"], [\"GP\"], [\"GP\"], [\"GP\"], [\"GP\"], [\"GP\"], [\"GP\"], [\"GP\"], [\"GP\"], [\"GP\"], [\"GP\"], [\"GP\"], [\"GP\"], [\"GP\"], [\"GP\"], [\"GP\"], [\"GP\"], [\"GP\"], [\"GP\"], [\"GP\"], [\"GP\"], [\"GP\"], [\"GP\"], [\"GP\"], [\"GP\"], [\"GP\"], [\"GP\"], [\"GP\"]], \"hoverinfo\": [\"all\"], \"hoverlabel\": {\"namelength\": 0}, \"hovertemplate\": \"%{customdata[0]}<br>%{y}\", \"legendgroup\": \"GP\", \"line\": {\"color\": \"#00cc96\", \"dash\": \"solid\"}, \"mode\": \"lines\", \"name\": \"GP\", \"showlegend\": true, \"type\": \"scatter\", \"x\": [\"2020-03-05T00:00:00\", \"2020-03-07T00:00:00\", \"2020-03-08T00:00:00\", \"2020-03-09T00:00:00\", \"2020-03-11T00:00:00\", \"2020-03-12T00:00:00\", \"2020-03-13T00:00:00\", \"2020-03-14T00:00:00\", \"2020-03-15T00:00:00\", \"2020-03-16T00:00:00\", \"2020-03-17T00:00:00\", \"2020-03-18T00:00:00\", \"2020-03-19T00:00:00\", \"2020-03-20T00:00:00\", \"2020-03-21T00:00:00\", \"2020-03-22T00:00:00\", \"2020-03-23T00:00:00\", \"2020-03-24T00:00:00\", \"2020-03-25T00:00:00\", \"2020-03-26T00:00:00\", \"2020-03-28T00:00:00\", \"2020-03-29T00:00:00\", \"2020-03-30T00:00:00\", \"2020-03-31T00:00:00\", \"2020-04-01T00:00:00\", \"2020-04-02T00:00:00\", \"2020-04-03T00:00:00\", \"2020-04-04T00:00:00\", \"2020-04-05T00:00:00\", \"2020-04-06T00:00:00\", \"2020-04-08T00:00:00\", \"2020-04-09T00:00:00\", \"2020-04-10T00:00:00\", \"2020-04-11T00:00:00\", \"2020-04-12T00:00:00\", \"2020-04-13T00:00:00\", \"2020-04-14T00:00:00\", \"2020-04-15T00:00:00\", \"2020-04-16T00:00:00\", \"2020-04-17T00:00:00\", \"2020-04-18T00:00:00\", \"2020-04-19T00:00:00\", \"2020-04-20T00:00:00\", \"2020-04-21T00:00:00\", \"2020-04-22T00:00:00\", \"2020-04-23T00:00:00\", \"2020-04-24T00:00:00\", \"2020-04-25T00:00:00\", \"2020-04-26T00:00:00\", \"2020-04-27T00:00:00\", \"2020-04-28T00:00:00\", \"2020-04-29T00:00:00\", \"2020-04-30T00:00:00\"], \"xaxis\": \"x\", \"y\": [0.0, 1.0, 0.0, 0.0, 4.0, 1.0, 4.0, 7.0, 7.0, 7.0, 14.0, 16.0, 15.0, 33.0, 16.0, 7.0, 75.0, 95.0, 17.0, 90.0, 124.0, 51.0, 34.0, 15.0, 12.0, 18.0, 9.0, 21.0, 11.0, 9.0, 69.0, 13.0, 6.0, 12.0, 52.0, 25.0, 19.0, 21.0, 39.0, 49.0, 83.0, 47.0, 22.0, 29.0, 25.0, 28.0, 29.0, 23.0, 27.0, 22.0, 24.0, 31.0, 38.0], \"yaxis\": \"y\"}, {\"customdata\": [[\"KZN\"], [\"KZN\"], [\"KZN\"], [\"KZN\"], [\"KZN\"], [\"KZN\"], [\"KZN\"], [\"KZN\"], [\"KZN\"], [\"KZN\"], [\"KZN\"], [\"KZN\"], [\"KZN\"], [\"KZN\"], [\"KZN\"], [\"KZN\"], [\"KZN\"], [\"KZN\"], [\"KZN\"], [\"KZN\"], [\"KZN\"], [\"KZN\"], [\"KZN\"], [\"KZN\"], [\"KZN\"], [\"KZN\"], [\"KZN\"], [\"KZN\"], [\"KZN\"], [\"KZN\"], [\"KZN\"], [\"KZN\"], [\"KZN\"], [\"KZN\"], [\"KZN\"], [\"KZN\"], [\"KZN\"], [\"KZN\"], [\"KZN\"], [\"KZN\"], [\"KZN\"], [\"KZN\"], [\"KZN\"], [\"KZN\"], [\"KZN\"], [\"KZN\"], [\"KZN\"], [\"KZN\"], [\"KZN\"], [\"KZN\"], [\"KZN\"], [\"KZN\"], [\"KZN\"]], \"hoverinfo\": [\"all\"], \"hoverlabel\": {\"namelength\": 0}, \"hovertemplate\": \"%{customdata[0]}<br>%{y}\", \"legendgroup\": \"KZN\", \"line\": {\"color\": \"#ab63fa\", \"dash\": \"solid\"}, \"mode\": \"lines\", \"name\": \"KZN\", \"showlegend\": true, \"type\": \"scatter\", \"x\": [\"2020-03-05T00:00:00\", \"2020-03-07T00:00:00\", \"2020-03-08T00:00:00\", \"2020-03-09T00:00:00\", \"2020-03-11T00:00:00\", \"2020-03-12T00:00:00\", \"2020-03-13T00:00:00\", \"2020-03-14T00:00:00\", \"2020-03-15T00:00:00\", \"2020-03-16T00:00:00\", \"2020-03-17T00:00:00\", \"2020-03-18T00:00:00\", \"2020-03-19T00:00:00\", \"2020-03-20T00:00:00\", \"2020-03-21T00:00:00\", \"2020-03-22T00:00:00\", \"2020-03-23T00:00:00\", \"2020-03-24T00:00:00\", \"2020-03-25T00:00:00\", \"2020-03-26T00:00:00\", \"2020-03-28T00:00:00\", \"2020-03-29T00:00:00\", \"2020-03-30T00:00:00\", \"2020-03-31T00:00:00\", \"2020-04-01T00:00:00\", \"2020-04-02T00:00:00\", \"2020-04-03T00:00:00\", \"2020-04-04T00:00:00\", \"2020-04-05T00:00:00\", \"2020-04-06T00:00:00\", \"2020-04-08T00:00:00\", \"2020-04-09T00:00:00\", \"2020-04-10T00:00:00\", \"2020-04-11T00:00:00\", \"2020-04-12T00:00:00\", \"2020-04-13T00:00:00\", \"2020-04-14T00:00:00\", \"2020-04-15T00:00:00\", \"2020-04-16T00:00:00\", \"2020-04-17T00:00:00\", \"2020-04-18T00:00:00\", \"2020-04-19T00:00:00\", \"2020-04-20T00:00:00\", \"2020-04-21T00:00:00\", \"2020-04-22T00:00:00\", \"2020-04-23T00:00:00\", \"2020-04-24T00:00:00\", \"2020-04-25T00:00:00\", \"2020-04-26T00:00:00\", \"2020-04-27T00:00:00\", \"2020-04-28T00:00:00\", \"2020-04-29T00:00:00\", \"2020-04-30T00:00:00\"], \"xaxis\": \"x\", \"y\": [1.0, 0.0, 1.0, 4.0, 1.0, 1.0, 2.0, 1.0, 1.0, 0.0, 4.0, 3.0, 3.0, 1.0, 3.0, 9.0, 25.0, 20.0, 11.0, 43.0, 22.0, 11.0, 4.0, 8.0, 7.0, 20.0, 9.0, 17.0, 14.0, 11.0, 97.0, 33.0, 25.0, 6.0, 25.0, 22.0, 24.0, 30.0, 20.0, 52.0, 13.0, 13.0, 22.0, 32.0, 87.0, 49.0, 34.0, 0.0, 22.0, 39.0, 17.0, 37.0, 24.0], \"yaxis\": \"y\"}, {\"customdata\": [[\"LP\"], [\"LP\"], [\"LP\"], [\"LP\"], [\"LP\"], [\"LP\"], [\"LP\"], [\"LP\"], [\"LP\"], [\"LP\"], [\"LP\"], [\"LP\"], [\"LP\"], [\"LP\"], [\"LP\"], [\"LP\"], [\"LP\"], [\"LP\"], [\"LP\"], [\"LP\"], [\"LP\"], [\"LP\"], [\"LP\"], [\"LP\"], [\"LP\"], [\"LP\"], [\"LP\"], [\"LP\"], [\"LP\"], [\"LP\"], [\"LP\"], [\"LP\"], [\"LP\"], [\"LP\"], [\"LP\"], [\"LP\"], [\"LP\"], [\"LP\"], [\"LP\"], [\"LP\"], [\"LP\"], [\"LP\"], [\"LP\"], [\"LP\"], [\"LP\"], [\"LP\"], [\"LP\"], [\"LP\"], [\"LP\"], [\"LP\"], [\"LP\"], [\"LP\"], [\"LP\"]], \"hoverinfo\": [\"all\"], \"hoverlabel\": {\"namelength\": 0}, \"hovertemplate\": \"%{customdata[0]}<br>%{y}\", \"legendgroup\": \"LP\", \"line\": {\"color\": \"#FFA15A\", \"dash\": \"solid\"}, \"mode\": \"lines\", \"name\": \"LP\", \"showlegend\": true, \"type\": \"scatter\", \"x\": [\"2020-03-05T00:00:00\", \"2020-03-07T00:00:00\", \"2020-03-08T00:00:00\", \"2020-03-09T00:00:00\", \"2020-03-11T00:00:00\", \"2020-03-12T00:00:00\", \"2020-03-13T00:00:00\", \"2020-03-14T00:00:00\", \"2020-03-15T00:00:00\", \"2020-03-16T00:00:00\", \"2020-03-17T00:00:00\", \"2020-03-18T00:00:00\", \"2020-03-19T00:00:00\", \"2020-03-20T00:00:00\", \"2020-03-21T00:00:00\", \"2020-03-22T00:00:00\", \"2020-03-23T00:00:00\", \"2020-03-24T00:00:00\", \"2020-03-25T00:00:00\", \"2020-03-26T00:00:00\", \"2020-03-28T00:00:00\", \"2020-03-29T00:00:00\", \"2020-03-30T00:00:00\", \"2020-03-31T00:00:00\", \"2020-04-01T00:00:00\", \"2020-04-02T00:00:00\", \"2020-04-03T00:00:00\", \"2020-04-04T00:00:00\", \"2020-04-05T00:00:00\", \"2020-04-06T00:00:00\", \"2020-04-08T00:00:00\", \"2020-04-09T00:00:00\", \"2020-04-10T00:00:00\", \"2020-04-11T00:00:00\", \"2020-04-12T00:00:00\", \"2020-04-13T00:00:00\", \"2020-04-14T00:00:00\", \"2020-04-15T00:00:00\", \"2020-04-16T00:00:00\", \"2020-04-17T00:00:00\", \"2020-04-18T00:00:00\", \"2020-04-19T00:00:00\", \"2020-04-20T00:00:00\", \"2020-04-21T00:00:00\", \"2020-04-22T00:00:00\", \"2020-04-23T00:00:00\", \"2020-04-24T00:00:00\", \"2020-04-25T00:00:00\", \"2020-04-26T00:00:00\", \"2020-04-27T00:00:00\", \"2020-04-28T00:00:00\", \"2020-04-29T00:00:00\", \"2020-04-30T00:00:00\"], \"xaxis\": \"x\", \"y\": [0.0, 0.0, 0.0, 0.0, 0.0, 0.0, 0.0, 0.0, 0.0, 1.0, 0.0, 0.0, 0.0, 0.0, 0.0, 1.0, 2.0, 0.0, 0.0, 2.0, 5.0, 1.0, -1.0, 3.0, 0.0, 2.0, 0.0, 2.0, 1.0, 0.0, 2.0, 1.0, 2.0, -1.0, 0.0, 0.0, 1.0, 1.0, 1.0, 0.0, 0.0, 1.0, 0.0, 0.0, 0.0, 0.0, 2.0, 1.0, 1.0, 0.0, 0.0, 0.0, 1.0], \"yaxis\": \"y\"}, {\"customdata\": [[\"MP\"], [\"MP\"], [\"MP\"], [\"MP\"], [\"MP\"], [\"MP\"], [\"MP\"], [\"MP\"], [\"MP\"], [\"MP\"], [\"MP\"], [\"MP\"], [\"MP\"], [\"MP\"], [\"MP\"], [\"MP\"], [\"MP\"], [\"MP\"], [\"MP\"], [\"MP\"], [\"MP\"], [\"MP\"], [\"MP\"], [\"MP\"], [\"MP\"], [\"MP\"], [\"MP\"], [\"MP\"], [\"MP\"], [\"MP\"], [\"MP\"], [\"MP\"], [\"MP\"], [\"MP\"], [\"MP\"], [\"MP\"], [\"MP\"], [\"MP\"], [\"MP\"], [\"MP\"], [\"MP\"], [\"MP\"], [\"MP\"], [\"MP\"], [\"MP\"], [\"MP\"], [\"MP\"], [\"MP\"], [\"MP\"], [\"MP\"], [\"MP\"], [\"MP\"], [\"MP\"]], \"hoverinfo\": [\"all\"], \"hoverlabel\": {\"namelength\": 0}, \"hovertemplate\": \"%{customdata[0]}<br>%{y}\", \"legendgroup\": \"MP\", \"line\": {\"color\": \"#19d3f3\", \"dash\": \"solid\"}, \"mode\": \"lines\", \"name\": \"MP\", \"showlegend\": true, \"type\": \"scatter\", \"x\": [\"2020-03-05T00:00:00\", \"2020-03-07T00:00:00\", \"2020-03-08T00:00:00\", \"2020-03-09T00:00:00\", \"2020-03-11T00:00:00\", \"2020-03-12T00:00:00\", \"2020-03-13T00:00:00\", \"2020-03-14T00:00:00\", \"2020-03-15T00:00:00\", \"2020-03-16T00:00:00\", \"2020-03-17T00:00:00\", \"2020-03-18T00:00:00\", \"2020-03-19T00:00:00\", \"2020-03-20T00:00:00\", \"2020-03-21T00:00:00\", \"2020-03-22T00:00:00\", \"2020-03-23T00:00:00\", \"2020-03-24T00:00:00\", \"2020-03-25T00:00:00\", \"2020-03-26T00:00:00\", \"2020-03-28T00:00:00\", \"2020-03-29T00:00:00\", \"2020-03-30T00:00:00\", \"2020-03-31T00:00:00\", \"2020-04-01T00:00:00\", \"2020-04-02T00:00:00\", \"2020-04-03T00:00:00\", \"2020-04-04T00:00:00\", \"2020-04-05T00:00:00\", \"2020-04-06T00:00:00\", \"2020-04-08T00:00:00\", \"2020-04-09T00:00:00\", \"2020-04-10T00:00:00\", \"2020-04-11T00:00:00\", \"2020-04-12T00:00:00\", \"2020-04-13T00:00:00\", \"2020-04-14T00:00:00\", \"2020-04-15T00:00:00\", \"2020-04-16T00:00:00\", \"2020-04-17T00:00:00\", \"2020-04-18T00:00:00\", \"2020-04-19T00:00:00\", \"2020-04-20T00:00:00\", \"2020-04-21T00:00:00\", \"2020-04-22T00:00:00\", \"2020-04-23T00:00:00\", \"2020-04-24T00:00:00\", \"2020-04-25T00:00:00\", \"2020-04-26T00:00:00\", \"2020-04-27T00:00:00\", \"2020-04-28T00:00:00\", \"2020-04-29T00:00:00\", \"2020-04-30T00:00:00\"], \"xaxis\": \"x\", \"y\": [0.0, 0.0, 0.0, 0.0, 0.0, 1.0, 0.0, 0.0, 0.0, 1.0, 0.0, 2.0, 1.0, 0.0, 0.0, 0.0, 4.0, 0.0, -1.0, 1.0, 1.0, 1.0, 0.0, 1.0, 0.0, 1.0, 0.0, 5.0, 0.0, 0.0, 3.0, -1.0, 0.0, 0.0, 1.0, 1.0, 0.0, 0.0, 0.0, 1.0, 2.0, -2.0, 0.0, 1.0, -1.0, 0.0, 1.0, -1.0, 0.0, 3.0, 0.0, 5.0, 5.0], \"yaxis\": \"y\"}, {\"customdata\": [[\"NC\"], [\"NC\"], [\"NC\"], [\"NC\"], [\"NC\"], [\"NC\"], [\"NC\"], [\"NC\"], [\"NC\"], [\"NC\"], [\"NC\"], [\"NC\"], [\"NC\"], [\"NC\"], [\"NC\"], [\"NC\"], [\"NC\"], [\"NC\"], [\"NC\"], [\"NC\"], [\"NC\"], [\"NC\"], [\"NC\"], [\"NC\"], [\"NC\"], [\"NC\"], [\"NC\"], [\"NC\"], [\"NC\"], [\"NC\"], [\"NC\"], [\"NC\"], [\"NC\"], [\"NC\"], [\"NC\"], [\"NC\"], [\"NC\"], [\"NC\"], [\"NC\"], [\"NC\"], [\"NC\"], [\"NC\"], [\"NC\"], [\"NC\"], [\"NC\"], [\"NC\"], [\"NC\"], [\"NC\"], [\"NC\"], [\"NC\"], [\"NC\"], [\"NC\"], [\"NC\"]], \"hoverinfo\": [\"all\"], \"hoverlabel\": {\"namelength\": 0}, \"hovertemplate\": \"%{customdata[0]}<br>%{y}\", \"legendgroup\": \"NC\", \"line\": {\"color\": \"#FF6692\", \"dash\": \"solid\"}, \"mode\": \"lines\", \"name\": \"NC\", \"showlegend\": true, \"type\": \"scatter\", \"x\": [\"2020-03-05T00:00:00\", \"2020-03-07T00:00:00\", \"2020-03-08T00:00:00\", \"2020-03-09T00:00:00\", \"2020-03-11T00:00:00\", \"2020-03-12T00:00:00\", \"2020-03-13T00:00:00\", \"2020-03-14T00:00:00\", \"2020-03-15T00:00:00\", \"2020-03-16T00:00:00\", \"2020-03-17T00:00:00\", \"2020-03-18T00:00:00\", \"2020-03-19T00:00:00\", \"2020-03-20T00:00:00\", \"2020-03-21T00:00:00\", \"2020-03-22T00:00:00\", \"2020-03-23T00:00:00\", \"2020-03-24T00:00:00\", \"2020-03-25T00:00:00\", \"2020-03-26T00:00:00\", \"2020-03-28T00:00:00\", \"2020-03-29T00:00:00\", \"2020-03-30T00:00:00\", \"2020-03-31T00:00:00\", \"2020-04-01T00:00:00\", \"2020-04-02T00:00:00\", \"2020-04-03T00:00:00\", \"2020-04-04T00:00:00\", \"2020-04-05T00:00:00\", \"2020-04-06T00:00:00\", \"2020-04-08T00:00:00\", \"2020-04-09T00:00:00\", \"2020-04-10T00:00:00\", \"2020-04-11T00:00:00\", \"2020-04-12T00:00:00\", \"2020-04-13T00:00:00\", \"2020-04-14T00:00:00\", \"2020-04-15T00:00:00\", \"2020-04-16T00:00:00\", \"2020-04-17T00:00:00\", \"2020-04-18T00:00:00\", \"2020-04-19T00:00:00\", \"2020-04-20T00:00:00\", \"2020-04-21T00:00:00\", \"2020-04-22T00:00:00\", \"2020-04-23T00:00:00\", \"2020-04-24T00:00:00\", \"2020-04-25T00:00:00\", \"2020-04-26T00:00:00\", \"2020-04-27T00:00:00\", \"2020-04-28T00:00:00\", \"2020-04-29T00:00:00\", \"2020-04-30T00:00:00\"], \"xaxis\": \"x\", \"y\": [0.0, 0.0, 0.0, 0.0, 0.0, 0.0, 0.0, 0.0, 0.0, 0.0, 0.0, 0.0, 0.0, 0.0, 0.0, 0.0, 2.0, 0.0, 0.0, 0.0, 3.0, 1.0, -3.0, 3.0, 1.0, 0.0, 0.0, 0.0, 1.0, 0.0, 5.0, 2.0, 0.0, 1.0, 0.0, 0.0, 0.0, 0.0, 0.0, 0.0, 0.0, 0.0, 2.0, -2.0, 0.0, 0.0, 0.0, 0.0, 1.0, 0.0, 0.0, 0.0, 0.0], \"yaxis\": \"y\"}, {\"customdata\": [[\"NW\"], [\"NW\"], [\"NW\"], [\"NW\"], [\"NW\"], [\"NW\"], [\"NW\"], [\"NW\"], [\"NW\"], [\"NW\"], [\"NW\"], [\"NW\"], [\"NW\"], [\"NW\"], [\"NW\"], [\"NW\"], [\"NW\"], [\"NW\"], [\"NW\"], [\"NW\"], [\"NW\"], [\"NW\"], [\"NW\"], [\"NW\"], [\"NW\"], [\"NW\"], [\"NW\"], [\"NW\"], [\"NW\"], [\"NW\"], [\"NW\"], [\"NW\"], [\"NW\"], [\"NW\"], [\"NW\"], [\"NW\"], [\"NW\"], [\"NW\"], [\"NW\"], [\"NW\"], [\"NW\"], [\"NW\"], [\"NW\"], [\"NW\"], [\"NW\"], [\"NW\"], [\"NW\"], [\"NW\"], [\"NW\"], [\"NW\"], [\"NW\"], [\"NW\"], [\"NW\"]], \"hoverinfo\": [\"all\"], \"hoverlabel\": {\"namelength\": 0}, \"hovertemplate\": \"%{customdata[0]}<br>%{y}\", \"legendgroup\": \"NW\", \"line\": {\"color\": \"#B6E880\", \"dash\": \"solid\"}, \"mode\": \"lines\", \"name\": \"NW\", \"showlegend\": true, \"type\": \"scatter\", \"x\": [\"2020-03-05T00:00:00\", \"2020-03-07T00:00:00\", \"2020-03-08T00:00:00\", \"2020-03-09T00:00:00\", \"2020-03-11T00:00:00\", \"2020-03-12T00:00:00\", \"2020-03-13T00:00:00\", \"2020-03-14T00:00:00\", \"2020-03-15T00:00:00\", \"2020-03-16T00:00:00\", \"2020-03-17T00:00:00\", \"2020-03-18T00:00:00\", \"2020-03-19T00:00:00\", \"2020-03-20T00:00:00\", \"2020-03-21T00:00:00\", \"2020-03-22T00:00:00\", \"2020-03-23T00:00:00\", \"2020-03-24T00:00:00\", \"2020-03-25T00:00:00\", \"2020-03-26T00:00:00\", \"2020-03-28T00:00:00\", \"2020-03-29T00:00:00\", \"2020-03-30T00:00:00\", \"2020-03-31T00:00:00\", \"2020-04-01T00:00:00\", \"2020-04-02T00:00:00\", \"2020-04-03T00:00:00\", \"2020-04-04T00:00:00\", \"2020-04-05T00:00:00\", \"2020-04-06T00:00:00\", \"2020-04-08T00:00:00\", \"2020-04-09T00:00:00\", \"2020-04-10T00:00:00\", \"2020-04-11T00:00:00\", \"2020-04-12T00:00:00\", \"2020-04-13T00:00:00\", \"2020-04-14T00:00:00\", \"2020-04-15T00:00:00\", \"2020-04-16T00:00:00\", \"2020-04-17T00:00:00\", \"2020-04-18T00:00:00\", \"2020-04-19T00:00:00\", \"2020-04-20T00:00:00\", \"2020-04-21T00:00:00\", \"2020-04-22T00:00:00\", \"2020-04-23T00:00:00\", \"2020-04-24T00:00:00\", \"2020-04-25T00:00:00\", \"2020-04-26T00:00:00\", \"2020-04-27T00:00:00\", \"2020-04-28T00:00:00\", \"2020-04-29T00:00:00\", \"2020-04-30T00:00:00\"], \"xaxis\": \"x\", \"y\": [0.0, 0.0, 0.0, 0.0, 0.0, 0.0, 0.0, 0.0, 0.0, 0.0, 0.0, 0.0, 0.0, 0.0, 0.0, 0.0, 4.0, 1.0, 0.0, 0.0, 1.0, 0.0, 2.0, 0.0, 1.0, 0.0, 0.0, 2.0, 0.0, 0.0, 4.0, 0.0, 3.0, 1.0, 0.0, 3.0, 0.0, 1.0, 1.0, 0.0, 0.0, 0.0, 1.0, -1.0, 0.0, 1.0, 0.0, 3.0, 0.0, 3.0, -2.0, 0.0, 2.0], \"yaxis\": \"y\"}, {\"customdata\": [[\"WC\"], [\"WC\"], [\"WC\"], [\"WC\"], [\"WC\"], [\"WC\"], [\"WC\"], [\"WC\"], [\"WC\"], [\"WC\"], [\"WC\"], [\"WC\"], [\"WC\"], [\"WC\"], [\"WC\"], [\"WC\"], [\"WC\"], [\"WC\"], [\"WC\"], [\"WC\"], [\"WC\"], [\"WC\"], [\"WC\"], [\"WC\"], [\"WC\"], [\"WC\"], [\"WC\"], [\"WC\"], [\"WC\"], [\"WC\"], [\"WC\"], [\"WC\"], [\"WC\"], [\"WC\"], [\"WC\"], [\"WC\"], [\"WC\"], [\"WC\"], [\"WC\"], [\"WC\"], [\"WC\"], [\"WC\"], [\"WC\"], [\"WC\"], [\"WC\"], [\"WC\"], [\"WC\"], [\"WC\"], [\"WC\"], [\"WC\"], [\"WC\"], [\"WC\"], [\"WC\"]], \"hoverinfo\": [\"all\"], \"hoverlabel\": {\"namelength\": 0}, \"hovertemplate\": \"%{customdata[0]}<br>%{y}\", \"legendgroup\": \"WC\", \"line\": {\"color\": \"#FF97FF\", \"dash\": \"solid\"}, \"mode\": \"lines\", \"name\": \"WC\", \"showlegend\": true, \"type\": \"scatter\", \"x\": [\"2020-03-05T00:00:00\", \"2020-03-07T00:00:00\", \"2020-03-08T00:00:00\", \"2020-03-09T00:00:00\", \"2020-03-11T00:00:00\", \"2020-03-12T00:00:00\", \"2020-03-13T00:00:00\", \"2020-03-14T00:00:00\", \"2020-03-15T00:00:00\", \"2020-03-16T00:00:00\", \"2020-03-17T00:00:00\", \"2020-03-18T00:00:00\", \"2020-03-19T00:00:00\", \"2020-03-20T00:00:00\", \"2020-03-21T00:00:00\", \"2020-03-22T00:00:00\", \"2020-03-23T00:00:00\", \"2020-03-24T00:00:00\", \"2020-03-25T00:00:00\", \"2020-03-26T00:00:00\", \"2020-03-28T00:00:00\", \"2020-03-29T00:00:00\", \"2020-03-30T00:00:00\", \"2020-03-31T00:00:00\", \"2020-04-01T00:00:00\", \"2020-04-02T00:00:00\", \"2020-04-03T00:00:00\", \"2020-04-04T00:00:00\", \"2020-04-05T00:00:00\", \"2020-04-06T00:00:00\", \"2020-04-08T00:00:00\", \"2020-04-09T00:00:00\", \"2020-04-10T00:00:00\", \"2020-04-11T00:00:00\", \"2020-04-12T00:00:00\", \"2020-04-13T00:00:00\", \"2020-04-14T00:00:00\", \"2020-04-15T00:00:00\", \"2020-04-16T00:00:00\", \"2020-04-17T00:00:00\", \"2020-04-18T00:00:00\", \"2020-04-19T00:00:00\", \"2020-04-20T00:00:00\", \"2020-04-21T00:00:00\", \"2020-04-22T00:00:00\", \"2020-04-23T00:00:00\", \"2020-04-24T00:00:00\", \"2020-04-25T00:00:00\", \"2020-04-26T00:00:00\", \"2020-04-27T00:00:00\", \"2020-04-28T00:00:00\", \"2020-04-29T00:00:00\", \"2020-04-30T00:00:00\"], \"xaxis\": \"x\", \"y\": [0.0, 0.0, 0.0, 0.0, 1.0, 0.0, 2.0, 6.0, 5.0, 2.0, 5.0, 10.0, 15.0, 11.0, 18.0, 14.0, 11.0, 13.0, 70.0, 46.0, 42.0, 39.0, 14.0, 1.0, 1.0, 27.0, 21.0, 59.0, 21.0, 8.0, 33.0, 20.0, 26.0, 5.0, 41.0, 30.0, 26.0, 14.0, 18.0, 42.0, 119.0, 32.0, 72.0, 70.0, 69.0, 200.0, 134.0, 101.0, 94.0, 129.0, 133.0, 265.0, 207.0], \"yaxis\": \"y\"}, {\"customdata\": [[\"UNK\"], [\"UNK\"], [\"UNK\"], [\"UNK\"], [\"UNK\"], [\"UNK\"], [\"UNK\"], [\"UNK\"], [\"UNK\"], [\"UNK\"], [\"UNK\"], [\"UNK\"], [\"UNK\"], [\"UNK\"], [\"UNK\"], [\"UNK\"], [\"UNK\"], [\"UNK\"], [\"UNK\"], [\"UNK\"], [\"UNK\"], [\"UNK\"], [\"UNK\"], [\"UNK\"], [\"UNK\"], [\"UNK\"], [\"UNK\"], [\"UNK\"], [\"UNK\"], [\"UNK\"], [\"UNK\"], [\"UNK\"], [\"UNK\"], [\"UNK\"], [\"UNK\"], [\"UNK\"], [\"UNK\"], [\"UNK\"], [\"UNK\"], [\"UNK\"], [\"UNK\"], [\"UNK\"], [\"UNK\"], [\"UNK\"], [\"UNK\"], [\"UNK\"], [\"UNK\"], [\"UNK\"], [\"UNK\"], [\"UNK\"], [\"UNK\"], [\"UNK\"], [\"UNK\"]], \"hoverinfo\": [\"all\"], \"hoverlabel\": {\"namelength\": 0}, \"hovertemplate\": \"%{customdata[0]}<br>%{y}\", \"legendgroup\": \"UNK\", \"line\": {\"color\": \"#FECB52\", \"dash\": \"solid\"}, \"mode\": \"lines\", \"name\": \"UNK\", \"showlegend\": true, \"type\": \"scatter\", \"x\": [\"2020-03-05T00:00:00\", \"2020-03-07T00:00:00\", \"2020-03-08T00:00:00\", \"2020-03-09T00:00:00\", \"2020-03-11T00:00:00\", \"2020-03-12T00:00:00\", \"2020-03-13T00:00:00\", \"2020-03-14T00:00:00\", \"2020-03-15T00:00:00\", \"2020-03-16T00:00:00\", \"2020-03-17T00:00:00\", \"2020-03-18T00:00:00\", \"2020-03-19T00:00:00\", \"2020-03-20T00:00:00\", \"2020-03-21T00:00:00\", \"2020-03-22T00:00:00\", \"2020-03-23T00:00:00\", \"2020-03-24T00:00:00\", \"2020-03-25T00:00:00\", \"2020-03-26T00:00:00\", \"2020-03-28T00:00:00\", \"2020-03-29T00:00:00\", \"2020-03-30T00:00:00\", \"2020-03-31T00:00:00\", \"2020-04-01T00:00:00\", \"2020-04-02T00:00:00\", \"2020-04-03T00:00:00\", \"2020-04-04T00:00:00\", \"2020-04-05T00:00:00\", \"2020-04-06T00:00:00\", \"2020-04-08T00:00:00\", \"2020-04-09T00:00:00\", \"2020-04-10T00:00:00\", \"2020-04-11T00:00:00\", \"2020-04-12T00:00:00\", \"2020-04-13T00:00:00\", \"2020-04-14T00:00:00\", \"2020-04-15T00:00:00\", \"2020-04-16T00:00:00\", \"2020-04-17T00:00:00\", \"2020-04-18T00:00:00\", \"2020-04-19T00:00:00\", \"2020-04-20T00:00:00\", \"2020-04-21T00:00:00\", \"2020-04-22T00:00:00\", \"2020-04-23T00:00:00\", \"2020-04-24T00:00:00\", \"2020-04-25T00:00:00\", \"2020-04-26T00:00:00\", \"2020-04-27T00:00:00\", \"2020-04-28T00:00:00\", \"2020-04-29T00:00:00\", \"2020-04-30T00:00:00\"], \"xaxis\": \"x\", \"y\": [0.0, 0.0, 0.0, 0.0, 0.0, 0.0, 0.0, 0.0, 0.0, 0.0, 0.0, 0.0, 0.0, 0.0, 0.0, 0.0, 1.0, 18.0, 46.0, 14.0, 38.0, -17.0, -4.0, -6.0, 0.0, 4.0, 0.0, -31.0, 14.0, 0.0, -66.0, 0.0, -1.0, 0.0, 5.0, 2.0, 1.0, 0.0, -2.0, 6.0, 10.0, 10.0, 1.0, 0.0, -42.0, 0.0, -1.0, 0.0, 0.0, 0.0, 0.0, 0.0, 0.0], \"yaxis\": \"y\"}],\n",
       "                        {\"hovermode\": \"x\", \"legend\": {\"title\": {\"text\": \"\"}, \"tracegroupgap\": 0, \"x\": 0.01, \"y\": 0.98}, \"margin\": {\"b\": 0, \"l\": 0, \"r\": 0, \"t\": 0}, \"template\": {\"data\": {\"bar\": [{\"error_x\": {\"color\": \"#2a3f5f\"}, \"error_y\": {\"color\": \"#2a3f5f\"}, \"marker\": {\"line\": {\"color\": \"#E5ECF6\", \"width\": 0.5}}, \"type\": \"bar\"}], \"barpolar\": [{\"marker\": {\"line\": {\"color\": \"#E5ECF6\", \"width\": 0.5}}, \"type\": \"barpolar\"}], \"carpet\": [{\"aaxis\": {\"endlinecolor\": \"#2a3f5f\", \"gridcolor\": \"white\", \"linecolor\": \"white\", \"minorgridcolor\": \"white\", \"startlinecolor\": \"#2a3f5f\"}, \"baxis\": {\"endlinecolor\": \"#2a3f5f\", \"gridcolor\": \"white\", \"linecolor\": \"white\", \"minorgridcolor\": \"white\", \"startlinecolor\": \"#2a3f5f\"}, \"type\": \"carpet\"}], \"choropleth\": [{\"colorbar\": {\"outlinewidth\": 0, \"ticks\": \"\"}, \"type\": \"choropleth\"}], \"contour\": [{\"colorbar\": {\"outlinewidth\": 0, \"ticks\": \"\"}, \"colorscale\": [[0.0, \"#0d0887\"], [0.1111111111111111, \"#46039f\"], [0.2222222222222222, \"#7201a8\"], [0.3333333333333333, \"#9c179e\"], [0.4444444444444444, \"#bd3786\"], [0.5555555555555556, \"#d8576b\"], [0.6666666666666666, \"#ed7953\"], [0.7777777777777778, \"#fb9f3a\"], [0.8888888888888888, \"#fdca26\"], [1.0, \"#f0f921\"]], \"type\": \"contour\"}], \"contourcarpet\": [{\"colorbar\": {\"outlinewidth\": 0, \"ticks\": \"\"}, \"type\": \"contourcarpet\"}], \"heatmap\": [{\"colorbar\": {\"outlinewidth\": 0, \"ticks\": \"\"}, \"colorscale\": [[0.0, \"#0d0887\"], [0.1111111111111111, \"#46039f\"], [0.2222222222222222, \"#7201a8\"], [0.3333333333333333, \"#9c179e\"], [0.4444444444444444, \"#bd3786\"], [0.5555555555555556, \"#d8576b\"], [0.6666666666666666, \"#ed7953\"], [0.7777777777777778, \"#fb9f3a\"], [0.8888888888888888, \"#fdca26\"], [1.0, \"#f0f921\"]], \"type\": \"heatmap\"}], \"heatmapgl\": [{\"colorbar\": {\"outlinewidth\": 0, \"ticks\": \"\"}, \"colorscale\": [[0.0, \"#0d0887\"], [0.1111111111111111, \"#46039f\"], [0.2222222222222222, \"#7201a8\"], [0.3333333333333333, \"#9c179e\"], [0.4444444444444444, \"#bd3786\"], [0.5555555555555556, \"#d8576b\"], [0.6666666666666666, \"#ed7953\"], [0.7777777777777778, \"#fb9f3a\"], [0.8888888888888888, \"#fdca26\"], [1.0, \"#f0f921\"]], \"type\": \"heatmapgl\"}], \"histogram\": [{\"marker\": {\"colorbar\": {\"outlinewidth\": 0, \"ticks\": \"\"}}, \"type\": \"histogram\"}], \"histogram2d\": [{\"colorbar\": {\"outlinewidth\": 0, \"ticks\": \"\"}, \"colorscale\": [[0.0, \"#0d0887\"], [0.1111111111111111, \"#46039f\"], [0.2222222222222222, \"#7201a8\"], [0.3333333333333333, \"#9c179e\"], [0.4444444444444444, \"#bd3786\"], [0.5555555555555556, \"#d8576b\"], [0.6666666666666666, \"#ed7953\"], [0.7777777777777778, \"#fb9f3a\"], [0.8888888888888888, \"#fdca26\"], [1.0, \"#f0f921\"]], \"type\": \"histogram2d\"}], \"histogram2dcontour\": [{\"colorbar\": {\"outlinewidth\": 0, \"ticks\": \"\"}, \"colorscale\": [[0.0, \"#0d0887\"], [0.1111111111111111, \"#46039f\"], [0.2222222222222222, \"#7201a8\"], [0.3333333333333333, \"#9c179e\"], [0.4444444444444444, \"#bd3786\"], [0.5555555555555556, \"#d8576b\"], [0.6666666666666666, \"#ed7953\"], [0.7777777777777778, \"#fb9f3a\"], [0.8888888888888888, \"#fdca26\"], [1.0, \"#f0f921\"]], \"type\": \"histogram2dcontour\"}], \"mesh3d\": [{\"colorbar\": {\"outlinewidth\": 0, \"ticks\": \"\"}, \"type\": \"mesh3d\"}], \"parcoords\": [{\"line\": {\"colorbar\": {\"outlinewidth\": 0, \"ticks\": \"\"}}, \"type\": \"parcoords\"}], \"pie\": [{\"automargin\": true, \"type\": \"pie\"}], \"scatter\": [{\"marker\": {\"colorbar\": {\"outlinewidth\": 0, \"ticks\": \"\"}}, \"type\": \"scatter\"}], \"scatter3d\": [{\"line\": {\"colorbar\": {\"outlinewidth\": 0, \"ticks\": \"\"}}, \"marker\": {\"colorbar\": {\"outlinewidth\": 0, \"ticks\": \"\"}}, \"type\": \"scatter3d\"}], \"scattercarpet\": [{\"marker\": {\"colorbar\": {\"outlinewidth\": 0, \"ticks\": \"\"}}, \"type\": \"scattercarpet\"}], \"scattergeo\": [{\"marker\": {\"colorbar\": {\"outlinewidth\": 0, \"ticks\": \"\"}}, \"type\": \"scattergeo\"}], \"scattergl\": [{\"marker\": {\"colorbar\": {\"outlinewidth\": 0, \"ticks\": \"\"}}, \"type\": \"scattergl\"}], \"scattermapbox\": [{\"marker\": {\"colorbar\": {\"outlinewidth\": 0, \"ticks\": \"\"}}, \"type\": \"scattermapbox\"}], \"scatterpolar\": [{\"marker\": {\"colorbar\": {\"outlinewidth\": 0, \"ticks\": \"\"}}, \"type\": \"scatterpolar\"}], \"scatterpolargl\": [{\"marker\": {\"colorbar\": {\"outlinewidth\": 0, \"ticks\": \"\"}}, \"type\": \"scatterpolargl\"}], \"scatterternary\": [{\"marker\": {\"colorbar\": {\"outlinewidth\": 0, \"ticks\": \"\"}}, \"type\": \"scatterternary\"}], \"surface\": [{\"colorbar\": {\"outlinewidth\": 0, \"ticks\": \"\"}, \"colorscale\": [[0.0, \"#0d0887\"], [0.1111111111111111, \"#46039f\"], [0.2222222222222222, \"#7201a8\"], [0.3333333333333333, \"#9c179e\"], [0.4444444444444444, \"#bd3786\"], [0.5555555555555556, \"#d8576b\"], [0.6666666666666666, \"#ed7953\"], [0.7777777777777778, \"#fb9f3a\"], [0.8888888888888888, \"#fdca26\"], [1.0, \"#f0f921\"]], \"type\": \"surface\"}], \"table\": [{\"cells\": {\"fill\": {\"color\": \"#EBF0F8\"}, \"line\": {\"color\": \"white\"}}, \"header\": {\"fill\": {\"color\": \"#C8D4E3\"}, \"line\": {\"color\": \"white\"}}, \"type\": \"table\"}]}, \"layout\": {\"annotationdefaults\": {\"arrowcolor\": \"#2a3f5f\", \"arrowhead\": 0, \"arrowwidth\": 1}, \"coloraxis\": {\"colorbar\": {\"outlinewidth\": 0, \"ticks\": \"\"}}, \"colorscale\": {\"diverging\": [[0, \"#8e0152\"], [0.1, \"#c51b7d\"], [0.2, \"#de77ae\"], [0.3, \"#f1b6da\"], [0.4, \"#fde0ef\"], [0.5, \"#f7f7f7\"], [0.6, \"#e6f5d0\"], [0.7, \"#b8e186\"], [0.8, \"#7fbc41\"], [0.9, \"#4d9221\"], [1, \"#276419\"]], \"sequential\": [[0.0, \"#0d0887\"], [0.1111111111111111, \"#46039f\"], [0.2222222222222222, \"#7201a8\"], [0.3333333333333333, \"#9c179e\"], [0.4444444444444444, \"#bd3786\"], [0.5555555555555556, \"#d8576b\"], [0.6666666666666666, \"#ed7953\"], [0.7777777777777778, \"#fb9f3a\"], [0.8888888888888888, \"#fdca26\"], [1.0, \"#f0f921\"]], \"sequentialminus\": [[0.0, \"#0d0887\"], [0.1111111111111111, \"#46039f\"], [0.2222222222222222, \"#7201a8\"], [0.3333333333333333, \"#9c179e\"], [0.4444444444444444, \"#bd3786\"], [0.5555555555555556, \"#d8576b\"], [0.6666666666666666, \"#ed7953\"], [0.7777777777777778, \"#fb9f3a\"], [0.8888888888888888, \"#fdca26\"], [1.0, \"#f0f921\"]]}, \"colorway\": [\"#636efa\", \"#EF553B\", \"#00cc96\", \"#ab63fa\", \"#FFA15A\", \"#19d3f3\", \"#FF6692\", \"#B6E880\", \"#FF97FF\", \"#FECB52\"], \"font\": {\"color\": \"#2a3f5f\"}, \"geo\": {\"bgcolor\": \"white\", \"lakecolor\": \"white\", \"landcolor\": \"#E5ECF6\", \"showlakes\": true, \"showland\": true, \"subunitcolor\": \"white\"}, \"hoverlabel\": {\"align\": \"left\"}, \"hovermode\": \"closest\", \"mapbox\": {\"style\": \"light\"}, \"paper_bgcolor\": \"white\", \"plot_bgcolor\": \"#E5ECF6\", \"polar\": {\"angularaxis\": {\"gridcolor\": \"white\", \"linecolor\": \"white\", \"ticks\": \"\"}, \"bgcolor\": \"#E5ECF6\", \"radialaxis\": {\"gridcolor\": \"white\", \"linecolor\": \"white\", \"ticks\": \"\"}}, \"scene\": {\"xaxis\": {\"backgroundcolor\": \"#E5ECF6\", \"gridcolor\": \"white\", \"gridwidth\": 2, \"linecolor\": \"white\", \"showbackground\": true, \"ticks\": \"\", \"zerolinecolor\": \"white\"}, \"yaxis\": {\"backgroundcolor\": \"#E5ECF6\", \"gridcolor\": \"white\", \"gridwidth\": 2, \"linecolor\": \"white\", \"showbackground\": true, \"ticks\": \"\", \"zerolinecolor\": \"white\"}, \"zaxis\": {\"backgroundcolor\": \"#E5ECF6\", \"gridcolor\": \"white\", \"gridwidth\": 2, \"linecolor\": \"white\", \"showbackground\": true, \"ticks\": \"\", \"zerolinecolor\": \"white\"}}, \"shapedefaults\": {\"line\": {\"color\": \"#2a3f5f\"}}, \"ternary\": {\"aaxis\": {\"gridcolor\": \"white\", \"linecolor\": \"white\", \"ticks\": \"\"}, \"baxis\": {\"gridcolor\": \"white\", \"linecolor\": \"white\", \"ticks\": \"\"}, \"bgcolor\": \"#E5ECF6\", \"caxis\": {\"gridcolor\": \"white\", \"linecolor\": \"white\", \"ticks\": \"\"}}, \"title\": {\"x\": 0.05}, \"xaxis\": {\"automargin\": true, \"gridcolor\": \"white\", \"linecolor\": \"white\", \"ticks\": \"\", \"title\": {\"standoff\": 15}, \"zerolinecolor\": \"white\", \"zerolinewidth\": 2}, \"yaxis\": {\"automargin\": true, \"gridcolor\": \"white\", \"linecolor\": \"white\", \"ticks\": \"\", \"title\": {\"standoff\": 15}, \"zerolinecolor\": \"white\", \"zerolinewidth\": 2}}}, \"title\": {\"text\": \"\"}, \"xaxis\": {\"anchor\": \"y\", \"domain\": [0.0, 1.0], \"fixedrange\": true, \"title\": {\"text\": \"Date\"}}, \"yaxis\": {\"anchor\": \"x\", \"domain\": [0.0, 1.0], \"fixedrange\": true, \"title\": {\"text\": \"Positive Cases Per Day\"}}},\n",
       "                        {\"displayModeBar\": false, \"responsive\": true}\n",
       "                    ).then(function(){\n",
       "                            \n",
       "var gd = document.getElementById('1ac482b7-08a0-40b1-bddf-3e4e5272be75');\n",
       "var x = new MutationObserver(function (mutations, observer) {{\n",
       "        var display = window.getComputedStyle(gd).display;\n",
       "        if (!display || display === 'none') {{\n",
       "            console.log([gd, 'removed!']);\n",
       "            Plotly.purge(gd);\n",
       "            observer.disconnect();\n",
       "        }}\n",
       "}});\n",
       "\n",
       "// Listen for the removal of the full notebook cells\n",
       "var notebookContainer = gd.closest('#notebook-container');\n",
       "if (notebookContainer) {{\n",
       "    x.observe(notebookContainer, {childList: true});\n",
       "}}\n",
       "\n",
       "// Listen for the clearing of the current output cell\n",
       "var outputEl = gd.closest('.output');\n",
       "if (outputEl) {{\n",
       "    x.observe(outputEl, {childList: true});\n",
       "}}\n",
       "\n",
       "                        })\n",
       "                };\n",
       "                });\n",
       "            </script>\n",
       "        </div>"
      ]
     },
     "metadata": {},
     "output_type": "display_data"
    }
   ],
   "source": [
    "fig_daily_prov_cases = px.line(prov_daily, x='date', y='daily_cases', color='province',\n",
    "                         hover_data=['province'])\n",
    "\n",
    "fig_daily_prov_cases.update_layout(\n",
    "    title=\"\",\n",
    "    xaxis_title=\"Date\",\n",
    "    yaxis_title=\"Positive Cases Per Day\",\n",
    "    hovermode= 'x',\n",
    "    legend=dict(x=0.01, y=.98, title=dict(text=\"\")),\n",
    "    xaxis=dict(fixedrange=True),\n",
    "    yaxis=dict(fixedrange=True),\n",
    "    margin=empty_margin_dict,\n",
    ")\n",
    "\n",
    "for d in fig_daily_prov_cases.data:\n",
    "    d.hoverinfo = 'all',\n",
    "    d.hovertemplate = '%{customdata[0]}<br>%{y}'\n",
    "    d.hoverlabel.namelength = 0\n",
    "    # d.name = d.name[9:]\n",
    "    \n",
    "fig_daily_prov_cases.show(config = dict(displayModeBar=False))"
   ]
  },
  {
   "cell_type": "markdown",
   "metadata": {},
   "source": [
    "**Save to HTML**\n"
   ]
  },
  {
   "cell_type": "code",
   "execution_count": 158,
   "metadata": {},
   "outputs": [],
   "source": [
    "pio.write_html(fig_daily_prov_cases, file='date_vs_daily_cases_per_province.html',\n",
    "               config = dict(displayModeBar=False), auto_open=True)"
   ]
  },
  {
   "cell_type": "code",
   "execution_count": null,
   "metadata": {},
   "outputs": [],
   "source": []
  }
 ],
 "metadata": {
  "kernelspec": {
   "display_name": "Python 3",
   "language": "python",
   "name": "python3"
  },
  "language_info": {
   "codemirror_mode": {
    "name": "ipython",
    "version": 3
   },
   "file_extension": ".py",
   "mimetype": "text/x-python",
   "name": "python",
   "nbconvert_exporter": "python",
   "pygments_lexer": "ipython3",
   "version": "3.7.6"
  }
 },
 "nbformat": 4,
 "nbformat_minor": 2
}
