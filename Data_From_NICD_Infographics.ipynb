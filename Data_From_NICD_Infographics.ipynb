{
 "cells": [
  {
   "cell_type": "markdown",
   "metadata": {},
   "source": [
    "## Data from Images Using Computer Vision"
   ]
  },
  {
   "cell_type": "code",
   "execution_count": 11,
   "metadata": {},
   "outputs": [],
   "source": [
    "import pandas as pd"
   ]
  },
  {
   "cell_type": "code",
   "execution_count": 1,
   "metadata": {},
   "outputs": [],
   "source": [
    "import data_from_img"
   ]
  },
  {
   "cell_type": "code",
   "execution_count": 8,
   "metadata": {},
   "outputs": [
    {
     "data": {
      "text/plain": [
       "['04_17',\n",
       " '04_18',\n",
       " '04_19',\n",
       " '04_20',\n",
       " '04_21',\n",
       " '04_22',\n",
       " '04_23',\n",
       " '04_24',\n",
       " '04_25',\n",
       " '04_26',\n",
       " '04_27',\n",
       " '04_28']"
      ]
     },
     "execution_count": 8,
     "metadata": {},
     "output_type": "execute_result"
    }
   ],
   "source": [
    "common_img_path = \"NICD_updates/NICD_Updates_\"\n",
    "img_dates = [\"04_\"+str(i) for i in  range(17,29)] # 29\n",
    "img_dates"
   ]
  },
  {
   "cell_type": "code",
   "execution_count": 9,
   "metadata": {},
   "outputs": [
    {
     "name": "stdout",
     "output_type": "stream",
     "text": [
      "Date done - 17-04-2020\n",
      "prov_recovered_totals done\n",
      "17-04-2020 done\n",
      "Date done - 18-04-2020\n",
      "prov_recovered_totals done\n",
      "18-04-2020 done\n",
      "Date done - 19-04-2020\n",
      "prov_recovered_totals done\n",
      "19-04-2020 done\n",
      "Date done - 20-04-2020\n",
      "prov_recovered_totals done\n",
      "20-04-2020 done\n",
      "Date done - 21-04-2020\n",
      "prov_recovered_totals done\n",
      "21-04-2020 done\n",
      "Date done - 22-04-2020\n",
      "prov_recovered_totals done\n",
      "22-04-2020 done\n",
      "Date done - 23-04-2020\n",
      "prov_recovered_totals done\n",
      "23-04-2020 done\n",
      "Date done - 24-04-2020\n",
      "prov_recovered_totals done\n",
      "24-04-2020 done\n",
      "Date done - 25-04-2020\n",
      "prov_recovered_totals done\n",
      "25-04-2020 done\n",
      "Date done - 26-04-2020\n",
      "prov_recovered_totals done\n",
      "26-04-2020 done\n",
      "Date done - 27-04-2020\n",
      "prov_recovered_totals done\n",
      "27-04-2020 done\n",
      "Date done - 28-04-2020\n",
      "prov_recovered_totals done\n",
      "28-04-2020 done\n"
     ]
    }
   ],
   "source": [
    "all_data_dict = dict()\n",
    "tup = ()\n",
    "for img_date in img_dates:\n",
    "    full_path = common_img_path + img_date + \".jpg\"\n",
    "    curr_date, recovered_data = data_from_img.get_tot_data(full_path, load_recovered=True)\n",
    "#     print(tup)\n",
    "    all_data_dict.update({curr_date:recovered_data})\n",
    "    print(curr_date + \" done\\n\")"
   ]
  },
  {
   "cell_type": "code",
   "execution_count": 4,
   "metadata": {},
   "outputs": [
    {
     "data": {
      "text/plain": [
       "2"
      ]
     },
     "execution_count": 4,
     "metadata": {},
     "output_type": "execute_result"
    }
   ],
   "source": [
    "len(tup)"
   ]
  },
  {
   "cell_type": "code",
   "execution_count": 10,
   "metadata": {},
   "outputs": [
    {
     "data": {
      "text/plain": [
       "{'17-04-2020': {'EC': '',\n",
       "  'FS': '71',\n",
       "  'GP': '479',\n",
       "  'KZN': '96',\n",
       "  'LP': '18',\n",
       "  'MP': '9',\n",
       "  'NW': '10',\n",
       "  'NC': '6',\n",
       "  'WC': '205'},\n",
       " '18-04-2020': {'EC': '',\n",
       "  'FS': '71',\n",
       "  'GP': '479',\n",
       "  'KZN': '96',\n",
       "  'LP': '18',\n",
       "  'MP': '9',\n",
       "  'NW': '10',\n",
       "  'NC': '6',\n",
       "  'WC': '205'},\n",
       " '19-04-2020': {'EC': '',\n",
       "  'FS': '71',\n",
       "  'GP': '479',\n",
       "  'KZN': '96',\n",
       "  'LP': '18',\n",
       "  'MP': '9',\n",
       "  'NW': '10',\n",
       "  'NC': '6',\n",
       "  'WC': '205'},\n",
       " '20-04-2020': {'EC': '15',\n",
       "  'FS': '74',\n",
       "  'GP': '545',\n",
       "  'KZN': '151',\n",
       "  'LP': '21',\n",
       "  'MP': '14',\n",
       "  'NW': '13',\n",
       "  'NC': '6',\n",
       "  'WC': '216'},\n",
       " '21-04-2020': {'EC': '15',\n",
       "  'FS': '74',\n",
       "  'GP': '545',\n",
       "  'KZN': '151',\n",
       "  'LP': '21',\n",
       "  'MP': '14',\n",
       "  'NW': '13',\n",
       "  'NC': '6',\n",
       "  'WC': '216'},\n",
       " '22-04-2020': {'EC': '15',\n",
       "  'FS': '74',\n",
       "  'GP': '545',\n",
       "  'KZN': '151',\n",
       "  'LP': '21',\n",
       "  'MP': '14',\n",
       "  'NW': '13',\n",
       "  'NC': '6',\n",
       "  'WC': '216'},\n",
       " '23-04-2020': {'EC': '9',\n",
       "  'FS': '76',\n",
       "  'GP': '843',\n",
       "  'KZN': '241',\n",
       "  'LP': '240',\n",
       "  'MP': '1',\n",
       "  'NW': '13',\n",
       "  'NC': '6',\n",
       "  'WC': '236'},\n",
       " '24-04-2020': {'EC': '19',\n",
       "  'FS': '76',\n",
       "  'GP': '843',\n",
       "  'KZN': '241',\n",
       "  'LP': '24',\n",
       "  'MP': '15',\n",
       "  'NW': '13',\n",
       "  'NC': '6',\n",
       "  'WC': '236'},\n",
       " '25-04-2020': {'EC': '19',\n",
       "  'FS': '76',\n",
       "  'GP': '843',\n",
       "  'KZN': '241',\n",
       "  'LP': '24',\n",
       "  'MP': '15',\n",
       "  'NW': '13',\n",
       "  'NC': '6',\n",
       "  'WC': '236'},\n",
       " '26-04-2020': {'EC': '19',\n",
       "  'FS': '76',\n",
       "  'GP': '843',\n",
       "  'KZN': '241',\n",
       "  'LP': '24',\n",
       "  'MP': '15',\n",
       "  'NW': '13',\n",
       "  'NC': '6',\n",
       "  'WC': '236'},\n",
       " '27-04-2020': {'EC': '19',\n",
       "  'FS': '76',\n",
       "  'GP': '843',\n",
       "  'KZN': '241',\n",
       "  'LP': '24',\n",
       "  'MP': '15',\n",
       "  'NW': '13',\n",
       "  'NC': '6',\n",
       "  'WC': '236'},\n",
       " '28-04-2020': {'EC': '19',\n",
       "  'FS': '76',\n",
       "  'GP': '843',\n",
       "  'KZN': '241',\n",
       "  'LP': '24',\n",
       "  'MP': '15',\n",
       "  'NW': '13',\n",
       "  'NC': '6',\n",
       "  'WC': '236'}}"
      ]
     },
     "execution_count": 10,
     "metadata": {},
     "output_type": "execute_result"
    }
   ],
   "source": [
    "all_data_dict"
   ]
  },
  {
   "cell_type": "code",
   "execution_count": null,
   "metadata": {},
   "outputs": [],
   "source": []
  }
 ],
 "metadata": {
  "kernelspec": {
   "display_name": "Python 3",
   "language": "python",
   "name": "python3"
  },
  "language_info": {
   "codemirror_mode": {
    "name": "ipython",
    "version": 3
   },
   "file_extension": ".py",
   "mimetype": "text/x-python",
   "name": "python",
   "nbconvert_exporter": "python",
   "pygments_lexer": "ipython3",
   "version": "3.7.6"
  }
 },
 "nbformat": 4,
 "nbformat_minor": 2
}
